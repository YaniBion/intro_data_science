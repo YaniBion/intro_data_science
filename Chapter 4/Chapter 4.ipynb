{
 "cells": [
  {
   "cell_type": "code",
   "execution_count": 1,
   "metadata": {},
   "outputs": [
    {
     "data": {
      "text/html": [
       "<style>.container { width:95% !important; }</style>"
      ],
      "text/plain": [
       "<IPython.core.display.HTML object>"
      ]
     },
     "metadata": {},
     "output_type": "display_data"
    },
    {
     "data": {
      "text/html": [
       "<link href=\"https://fonts.googleapis.com/css?family=Fira+Sans:300,300i,600,600i\" rel=\"stylesheet\">\n",
       "<link href=\"https://fonts.googleapis.com/css?family=Inconsolata\" rel=\"stylesheet\">\n",
       "<link href=\"https://fonts.googleapis.com/css?family=Titillium+Web:400,400i,700,700i\" rel=\"stylesheet\">\n",
       "\n",
       "\n",
       "<style>\n",
       "\n",
       ".text_cell_render p {\n",
       "font-style: regular;\n",
       "font-family: 'Fira Sans', sans-serif;\n",
       "display: block;\n",
       "text-align: justify;\n",
       "}\n",
       "/*font-weight: 200;*/\n",
       "/*text-align: left;\n",
       "line-height: 100%;\n",
       "display: block;\n",
       "}*/\n",
       "a {\n",
       "color:#377bb5;\n",
       "}\n",
       ".text_cell_render h1 {\n",
       "/*font-size: 24pt;*/\n",
       "font-family: 'Titillium Web', sans-serif;\n",
       "font-weight: bold;\n",
       "margin-bottom: 0.1em;\n",
       "margin-top: 0.5em;\n",
       "color:#4a4a4a;\n",
       "}\n",
       ".text_cell_render h2 {\n",
       "/*font-size: 21pt;*/\n",
       "    font-family: 'Titillium Web', sans-serif;\n",
       "margin-bottom: 0.1em;\n",
       "margin-top: 0.3em;\n",
       "color:#595959;\n",
       "}\n",
       ".text_cell_render h3 {\n",
       "    font-family: 'Titillium Web', sans-serif;\n",
       "/*font-size: 19pt;*/\n",
       "margin-bottom: 0.1em;\n",
       "margin-top: 0.3em;\n",
       "color:#595959;\n",
       "}\n",
       ".text_cell_render h4 {\n",
       "    font-family: 'Titillium Web', sans-serif;\n",
       "/*font-size: 17pt;*/\n",
       "margin-bottom: 0.1em;\n",
       "margin-top: 0.3em;\n",
       "color:#595959;\n",
       "}\n",
       ".text_cell_render h5 {\n",
       "    font-family: 'Titillium Web', sans-serif;\n",
       "/*font-size: 15pt;*/\n",
       "margin-bottom: 0.1em;\n",
       "margin-top: 0.3em;\n",
       "color:#595959;\n",
       "}\n",
       "div.text_cell_render{\n",
       "font-style: regular;\n",
       "font-family: 'Fira Sans', sans-serif;\n",
       "line-height: 120%;\n",
       "font-size: 100%;\n",
       "font-weight: 400;\n",
       "text-align: justify;\n",
       "margin-left:0em;\n",
       "margin-right:0em;\n",
       "}\n",
       "code {\n",
       "font-family: 'Inconsolata', monospace;\n",
       "}\n",
       "pre {\n",
       "font-family: 'Inconsolata', monospace;\n",
       "}\n",
       "\n",
       "div.example {\n",
       "    font-family: 'Titillium Web', sans-serif;\n",
       "/*font-size: 15pt;*/\n",
       "font-weight: bold;\n",
       "font-variant: small-caps;\n",
       "text-decoration: underline;\n",
       "margin-bottom: 0.1em;\n",
       "margin-top: 0.3em;\n",
       "color:#595959;\n",
       "}\n",
       "\n",
       "div.queue {\n",
       "font-size: x-large;\n",
       "font-variant: small-caps;\n",
       "font-family: 'Titillium Web', sans-serif;\n",
       "font-weight: bold;\n",
       "/*margin-bottom: 0.1em;*/\n",
       "/*margin-top: 0.5em;*/\n",
       "margin: 10px;\n",
       "padding: 10px;\n",
       "color:#cc0000;\n",
       "border-style: solid none solid none;\n",
       "border-width: 2px;\n",
       "border-color:#cc0000;\n",
       "border-spacing: 10px;\n",
       "}\n",
       "\n",
       ".reveal h1 {\n",
       "font-family: 'Titillium Web', sans-serif;\n",
       "/*font-size: 24pt;*/\n",
       "font-weight: bold;\n",
       "margin-bottom: 0.1em;\n",
       "margin-top: 0.5em;\n",
       "color:#4a4a4a;\n",
       "}\n",
       ".reveal h2 {\n",
       "font-family: 'Titillium Web', sans-serif;\n",
       "/*font-size: 24pt;*/\n",
       "font-weight: bold;\n",
       "margin-bottom: 0.1em;\n",
       "margin-top: 0.5em;\n",
       "color:#595959;\n",
       "}\n",
       ".reveal h3 {\n",
       "font-family: 'Titillium Web', sans-serif;\n",
       "/*font-size: 24pt;*/\n",
       "font-weight: bold;\n",
       "margin-bottom: 0.1em;\n",
       "margin-top: 0.5em;\n",
       "color:#595959;\n",
       "}\n",
       ".reveal h4 {\n",
       "font-family: 'Titillium Web', sans-serif;\n",
       "font-weight: bold;\n",
       "margin-bottom: 0.1em;\n",
       "margin-top: 0.5em;\n",
       "color:#595959;\n",
       "}\n",
       ".reveal div.text_cell_render{\n",
       "line-height: 120%;\n",
       "font-size: 74%;\n",
       "font-weight: 400;\n",
       "text-align: justify;\n",
       "margin-left:0em;\n",
       "margin-right:0em;\n",
       "}\n",
       ".reveal .code_cell {\n",
       "    font-size: 92%;\n",
       "}\n",
       ".reveal code {\n",
       "font-family: 'Inconsolata', monospace;\n",
       "}\n",
       ".reveal pre {\n",
       "font-family: 'Inconsolata', monospace;\n",
       "}\n",
       "\n",
       ".CodeMirror{\n",
       "font-family: \"Inconsolata\", monospace;\n",
       "}\n",
       "\n",
       "</style>"
      ],
      "text/plain": [
       "<IPython.core.display.HTML object>"
      ]
     },
     "execution_count": 1,
     "metadata": {},
     "output_type": "execute_result"
    }
   ],
   "source": [
    "## Import required Python modules\n",
    "%matplotlib inline\n",
    "import matplotlib.pyplot as plt\n",
    "import numpy as np\n",
    "import scipy, scipy.stats\n",
    "import io\n",
    "import base64\n",
    "#from IPython.core.display import display\n",
    "from IPython.display import display, HTML, Image\n",
    "from urllib.request import urlopen\n",
    "\n",
    "try:\n",
    "    import astropy as apy\n",
    "    import astropy.table\n",
    "    _apy = True\n",
    "    #print('Loaded astropy')\n",
    "except:\n",
    "    _apy = False\n",
    "    #print('Could not load astropy')\n",
    "\n",
    "## Customising the font size of figures\n",
    "plt.rcParams.update({'font.size': 14})\n",
    "\n",
    "## Customising the look of the notebook\n",
    "display(HTML(\"<style>.container { width:95% !important; }</style>\"))\n",
    "## This custom file is adapted from https://github.com/lmarti/jupyter_custom/blob/master/custom.include\n",
    "HTML('custom.css')\n",
    "#HTML(urlopen('https://raw.githubusercontent.com/bretonr/intro_data_science/master/custom.css').read().decode('utf-8'))"
   ]
  },
  {
   "cell_type": "code",
   "execution_count": 2,
   "metadata": {},
   "outputs": [
    {
     "data": {
      "text/html": [
       "<script>\n",
       "code_show=true;\n",
       "function code_toggle() {\n",
       " if (code_show){\n",
       " $('div.input').hide();\n",
       " } else {\n",
       " $('div.input').show();\n",
       " }\n",
       " code_show = !code_show\n",
       "} \n",
       "$( document ).ready(code_toggle);\n",
       "</script>\n",
       "<form action=\"javascript:code_toggle()\"><input type=\"submit\" value=\"Click here to toggle on/off the Python code.\"></form>"
      ],
      "text/plain": [
       "<IPython.core.display.HTML object>"
      ]
     },
     "execution_count": 2,
     "metadata": {},
     "output_type": "execute_result"
    }
   ],
   "source": [
    "## Adding a button to hide the Python source code\n",
    "HTML('''<script>\n",
    "code_show=true;\n",
    "function code_toggle() {\n",
    " if (code_show){\n",
    " $('div.input').hide();\n",
    " } else {\n",
    " $('div.input').show();\n",
    " }\n",
    " code_show = !code_show\n",
    "} \n",
    "$( document ).ready(code_toggle);\n",
    "</script>\n",
    "<form action=\"javascript:code_toggle()\"><input type=\"submit\" value=\"Click here to toggle on/off the Python code.\"></form>''')"
   ]
  },
  {
   "cell_type": "markdown",
   "metadata": {},
   "source": [
    "<div class=\"container-fluid\">\n",
    "    <div class=\"row\">\n",
    "        <div class=\"col-md-8\" align=\"center\">\n",
    "            <h1>PHYS 10791: Introduction to Data Science</h1>\n",
    "            <!--<h3>2019-2020 Academic Year</h3><br>-->\n",
    "        </div>\n",
    "        <div class=\"col-md-3\">\n",
    "            <img align='center' style=\"border-width:0\" src=\"images/UoM_logo.png\"/>\n",
    "        </div>\n",
    "    </div>\n",
    "</div>\n",
    "\n",
    "<div class=\"container-fluid\">\n",
    "    <div class=\"row\">\n",
    "        <div class=\"col-md-2\" align=\"right\">\n",
    "            <b>Course instructors:&nbsp;&nbsp;</b>\n",
    "        </div>\n",
    "        <div class=\"col-md-9\" align=\"left\">\n",
    "            <a href=\"http://www.renebreton.org\">Prof. Rene Breton</a> - Twitter <a href=\"https://twitter.com/BretonRene\">@BretonRene</a><br>\n",
    "            <a href=\"http://www.hep.manchester.ac.uk/u/gersabec\">Dr. Marco Gersabeck</a> - Twitter <a href=\"https://twitter.com/MarcoGersabeck\">@MarcoGersabeck</a>\n",
    "        </div>\n",
    "    </div>\n",
    "</div>"
   ]
  },
  {
   "cell_type": "markdown",
   "metadata": {},
   "source": [
    "## Syllabus\n",
    "\n",
    "1. Probabilities and interpretations\n",
    "2. Probability distributions\n",
    "3. Parameter estimation\n",
    "4. **Maximum likelihood**\n",
    "5. Least square, chi2, correlations\n",
    "6. Monte Carlo basics\n",
    "7. Goodness of fit tests\n",
    "8. Hypothesis testing\n",
    "9. Probability and confidence level\n",
    "10. Limit setting\n",
    "11. Introduction to multivariate analysis techniques"
   ]
  },
  {
   "cell_type": "markdown",
   "metadata": {},
   "source": [
    "# Chapter 4\n",
    "\n",
    "## Topics\n",
    "\n",
    "**[4.1 Bayesian inference and likelihood function](#4.1-Bayesian-inference-and-likelihood-function)**\n",
    "- 4.1.1 Recap and likelihood function\n",
    "- 4.1.2 Maximum a posteriori and maximum likelihood\n",
    "\n",
    "**[4.2 Maximum likelihood as an estimator](#4.2-Maximum-likelihood-as-an-estimator)**\n",
    "- 4.2.1 Maximum likelihood invariance\n",
    "- 4.2.2 Efficiency of the maximum likelihood\n",
    "- 4.2.3 Variance on maximum likelihood estimators"
   ]
  },
  {
   "cell_type": "markdown",
   "metadata": {},
   "source": [
    "## Further Reading Material\n",
    "\n",
    "- **Barlow**: Chapter 5.1.2 - *The likelihood function*\n",
    "- **Barlow**: Chapter 5.1.3 - *Minimum variance bound*\n",
    "- **Barlow**: Chapter 5.3 - *Maximum likelihood*\n",
    "- **Cowan**: Chapter 6 (sections 6.1 to 6.8) - *Maximum likelihood and minimum variance bound*"
   ]
  },
  {
   "cell_type": "markdown",
   "metadata": {},
   "source": [
    "## 4.1 Bayesian inference and likelihood function"
   ]
  },
  {
   "cell_type": "markdown",
   "metadata": {},
   "source": [
    "### 4.1.1 Recap and likelihood function"
   ]
  },
  {
   "cell_type": "markdown",
   "metadata": {},
   "source": [
    "_[This section follows from some of Barlow, Chapter 5, and Cowan, Chapter 6]_\n",
    "\n",
    "We have seen earlier in this course the derivation of **Bayes' theorem**, which is a method in statistical inference to update the probability of a hypothesis as more prior evidence become available. Let us recall the equation:\n",
    "\n",
    "\\begin{eqnarray}\n",
    "  P(a \\mid x) &=& \\frac{I(a) \\mathcal{L}(x \\mid a)}{E(x)} \\\\\n",
    "         &=& \\frac{I(a) \\mathcal{L}(x \\mid a)}{\\sum_i \\mathcal{L}(x \\mid a_i) I(a_i)}\n",
    "\\end{eqnarray}\n",
    "\n",
    "with:\n",
    "\n",
    "- $P(a \\mid x)$: the posterior probability\n",
    "- $I(a)$: the prior probability\n",
    "- $\\mathcal{L}(x \\mid a)$: the likelihood probability\n",
    "- $E(x)$: the evidence\n",
    "\n",
    "Knowing every component of the right hand side of the equation allows one to test a hypothesis and fitt a model to data. This is called *statistical inference*. In the above equation, $x$ typically refers to the data while $a$ denotes a certain parameter or a model.\n",
    "\n",
    "In many instances, the data $x$ refers to a dataset comprising multiple invidual elements $x = \\{x_1, x_2, \\dots, x_N\\}$ that are all drawn from the same probability distribution $\\mathcal{L}(x_i \\mid a)$ which depends on a certain parameter $a$. In this case, it is useful to extend the concept of individual likelihood probability to the joint likelihood probability. Assuming that the individual elements are independent, we can the joint probability as the product of the individual probabilities:\n",
    "\n",
    "\\begin{eqnarray}\n",
    "  \\mathcal{L}(x \\mid a) &=& \\mathcal{L}(x_1 \\mid a) \\mathcal{L}(x_2 \\mid a) \\dots \\mathcal{L}(x_N \\mid a) \\\\\n",
    "        &=& \\prod \\mathcal{L}(x_i \\mid a)\n",
    "\\end{eqnarray}\n",
    "\n",
    "The above is often just called the **likelihood function**.\n",
    "\n",
    "In such a situation we can rewrite the posterior probability as:\n",
    "\n",
    "\\begin{equation}\n",
    "  P(a \\mid x) = \\frac{I(a) \\mathcal{L}(x \\mid a)}{E(x)} = \\frac{I(a) \\prod \\mathcal{L}(x_i \\mid a)}{E(x)} \\,.\n",
    "\\end{equation}"
   ]
  },
  {
   "cell_type": "markdown",
   "metadata": {},
   "source": [
    "### 4.1.2 Maximum a posteriori and maximum likelihood"
   ]
  },
  {
   "cell_type": "markdown",
   "metadata": {},
   "source": [
    "In practical situations it may be difficult to know precisely the value of $E(x)$. It is often the case anyway that we are only interested in the relative value of $a$. One such example is for determining the most likely outcome of $a$, something we call the **maximum a posteriori (MAP)**. In which case we will see that the value of $E(x)$ is not essential.\n",
    "\n",
    "Trying to identify the MAP corresponds to determining the value of $\\widehat{a}_{\\rm MAP}$ such that:\n",
    "\n",
    "\\begin{eqnarray}\n",
    "  \\widehat{a}_{\\rm MAP} &=& \\arg \\max_{\\substack a} P(a \\mid x) &\\equiv& \\left[ \\frac{\\partial P(a \\mid x)}{\\partial a} \\right]_{a = \\widehat{a}} = 0\\\\\n",
    "              &=& \\arg \\max_{\\substack a} \\ln P(a \\mid x) &\\equiv& \\left[ \\frac{\\partial \\ln P(a \\mid x)}{\\partial a} \\right]_{a = \\widehat{a}} = 0 \\,.\n",
    "\\end{eqnarray}\n",
    "\n",
    "The last line from above is possible due to the nature of the logarithm being a monotically increasing function of its argument. If we take previous expression for the posterior:\n",
    "\n",
    "\\begin{eqnarray}\n",
    "  \\ln P(a \\mid x) &=& \\ln \\left( \\frac{I(a) \\prod \\mathcal{L}(x_i \\mid a)}{E(x)} \\right) \\\\\n",
    "             &=& \\ln I(a) + \\ln \\prod \\mathcal{L}(x_i \\mid a) - \\ln E(x) \\\\\n",
    "             &=& \\ln I(a) + \\sum \\ln \\mathcal{L}(x_i \\mid a) - \\ln E(x) \\,.\n",
    "\\end{eqnarray}\n",
    "\n",
    "The above result is very important for a number of reasons. For instance it is far more convenient to deal with summations than products, especially when it comes to the numerical precision of computations (e.g. think about multiplying very small numbers with very large numbers). Combining the above two results we obtain:\n",
    "\n",
    "\\begin{eqnarray}\n",
    "  \\left[ \\frac{\\partial \\ln P(a \\mid x)}{\\partial a} \\right]_{a = \\widehat{a}} = \\left[ \\frac{\\partial \\ln I(a)}{\\partial a} + \\sum \\frac{\\partial \\ln \\mathcal{L}(x_i \\mid a)}{\\partial a} \\right]_{a = \\widehat{a}} = 0 \\,.\n",
    "\\end{eqnarray}\n",
    "\n",
    "As we can see, in the case where we are interesting in the MAP, the value of $E(x)$ is irrelevant as it is independent of $a$."
   ]
  },
  {
   "cell_type": "markdown",
   "metadata": {},
   "source": [
    "#### Maximum likelihood estimation (MLE)\n",
    "\n",
    "An interesting situation arises if the prior probability $I(a)$ is independent of $a$, in which case the above equation simplifies further:\n",
    "\n",
    "\\begin{eqnarray}\n",
    "  \\left[ \\frac{\\partial \\ln P(a \\mid x)}{\\partial a} \\right]_{a = \\widehat{a}} = \\left[ \\sum \\frac{\\partial \\ln \\mathcal{L}(x_i \\mid a)}{\\partial a} \\right]_{a = \\widehat{a}} = 0 \\,.\n",
    "\\end{eqnarray}\n",
    "\n",
    "We commonly refer to this situation as having _flat priors_. Dealing with $a$ being constant is very typical as often there is no reason to favour a specific value of the parameter over another. In this case, the maximum a posteriori (MAP) simply reduces to a **maximum likelihood estimation (MLE)**:\n",
    "\n",
    "\\begin{equation}\n",
    "  \\widehat{a}_{\\rm MAP} = \\arg \\max_{\\substack a} P(a \\mid x) = \\arg \\max_{\\substack a} \\mathcal{L}(x \\mid a) = \\widehat{a}_{\\rm MLE} \\,.\n",
    "\\end{equation}"
   ]
  },
  {
   "cell_type": "markdown",
   "metadata": {},
   "source": [
    "<div class=\"example\">Example 1: maximum likelihood for a simple function</div>\n",
    "\n",
    "Consider a simple problem where we have the data sample $x = \\{0.89, 0.03, 0.50, 0.36, 0.49\\}$, which were obtained from a distribution having the form $\\mathcal{L}(x_i \\mid a) = 1 + a(x_i - 0.5)$ valid for $x_i \\in [0,1]$. Let us calculate the log likelihood for two cases:\n",
    "\n",
    "\\begin{eqnarray}\n",
    "  \\ln \\mathcal{L}(x \\mid a=+1.0) &=& \\ln 1.39 + \\ln 0.53 + \\ln 1.0 + \\ln 0.86 + \\ln 0.99 = -0.47 \\\\\n",
    "  \\ln \\mathcal{L}(x \\mid a=-1.0) &=& \\ln 0.61 + \\ln 1.47 + \\ln 1.0 + \\ln 1.14 + \\ln 1.01 = 0.03 \\\\\n",
    "\\end{eqnarray}\n",
    "\n",
    "We can try other values of $a$ and display them on a plot."
   ]
  },
  {
   "cell_type": "code",
   "execution_count": 3,
   "metadata": {},
   "outputs": [
    {
     "data": {
      "image/png": "[encoded data removed]",
      "text/plain": [
       "<Figure size 864x576 with 1 Axes>"
      ]
     },
     "metadata": {
      "needs_background": "light"
     },
     "output_type": "display_data"
    }
   ],
   "source": [
    "x = np.r_[0.89, 0.03, 0.50, 0.36, 0.49]\n",
    "\n",
    "P = lambda a_: 1 + a_*(x - 0.5)\n",
    "\n",
    "a = np.linspace(-1,1,21)\n",
    "calc_ln_L = []\n",
    "for ai in a:\n",
    "    calc_ln_L.append( np.log(P(ai)).sum() )\n",
    "\n",
    "fig, ax = plt.subplots(figsize=(12,8))\n",
    "ax.plot(a, calc_ln_L)\n",
    "ax.vlines(-0.6, -0.4, 0.1, linestyles='--')\n",
    "ax.set_xlabel('a')\n",
    "ax.set_ylabel('ln(L)');"
   ]
  },
  {
   "cell_type": "markdown",
   "metadata": {},
   "source": [
    "We can see from the above figure that the maximum likelihood occurs for a value which is roughly $a = -0.6$, so this is the maximum likelihood estimate $\\widehat{a}$."
   ]
  },
  {
   "cell_type": "markdown",
   "metadata": {},
   "source": [
    "<div class=\"example\">Example 2: MLE of a simple lifetime</div>\n",
    "\n",
    "Supppose that we study the decay of a radioactive nucleus. The probability of decay is given by the exponential function:\n",
    "\n",
    "\\begin{equation}\n",
    "  \\mathcal{L}(t_i \\mid \\tau) = \\frac{1}{\\tau} e^{-t_i/\\tau} \\,,\n",
    "\\end{equation}\n",
    "\n",
    "where $\\tau$ is the characteristic decay lifetime. Let us imagine that we observe N events with recorded decay times $\\left\\{t_i\\right\\}$ and try to work out the most likely decay rate, $\\widehat{\\tau}$. We can calculate this by differentiating the logarithm of the likelihood:\n",
    "\n",
    "\\begin{eqnarray}\n",
    "  \\frac{\\partial \\ln \\mathcal{L}}{\\partial \\tau} &=& \\sum \\frac{\\partial}{\\partial \\tau} \\ln{\\left( \\frac{1}{\\tau} e^{-t_i/\\tau} \\right)} \\\\\n",
    "                                   &=& \\sum \\left( \\frac{t_i}{\\tau^2} - \\frac{1}{\\tau} \\right) \\,.\n",
    "\\end{eqnarray}\n",
    "\n",
    "Setting the above equation to zero and solving for $\\tau$ allows us to obtain the MLE $\\widehat{\\tau}$:\n",
    "\n",
    "\\begin{equation}\n",
    "  \\widehat{\\tau} = \\frac{1}{N} \\sum t_i \\,.\n",
    "\\end{equation}\n",
    "\n",
    "In this case, we conclude that the MLE is equal to the sample mean, $\\widehat{\\tau} = \\langle t \\rangle$."
   ]
  },
  {
   "cell_type": "markdown",
   "metadata": {},
   "source": [
    "## 4.2 Maximum likelihood as an estimator"
   ]
  },
  {
   "cell_type": "markdown",
   "metadata": {},
   "source": [
    "The last example allows us to draw some comparisons with the concept of estimator that we have seen in the previous chapter. For instance we can highlight two facts:\n",
    "\n",
    "1. $\\widehat{\\mu}$ being equal to the sample mean suggests that the maximum likelihood is consistent\n",
    "2. $\\widehat{\\sigma}$ being equal to the uncorrected standard deviation implies that the maximum likelihood is biased, but this vanishes in the limit of large $N$\n",
    "\n",
    "Without going into the full details, we will state the following properties of MLEs [see Barlow, Chapter 5, for more details]:\n",
    "\n",
    "> 1. Generally (though not strictly always) consistent\n",
    "> 2. Generally biased, but this disappears in the limit of large $N$ for any consistent estimator\n",
    "> 3. Generally invariant\n",
    "> 4. Generally efficient\n",
    "\n",
    "We therefore conclude that the MLE can be thought of as a good estimator in most cases. The invariance is in itself a very useful property."
   ]
  },
  {
   "cell_type": "markdown",
   "metadata": {},
   "source": [
    "### 4.2.1 Maximum likelihood invariance"
   ]
  },
  {
   "cell_type": "markdown",
   "metadata": {},
   "source": [
    "We have stated that the invariance of the MLE without any justification. Let us assume that instead of considering a specific parameter $a$ we are interested in a function of that parameter $f(a)$. The invariance tells us that:\n",
    "\n",
    "\\begin{equation}\n",
    "  \\widehat{f(a)} = f(\\widehat{a}) \\,,\n",
    "\\end{equation}\n",
    "which means that the MLE of $f(a)$ is the same as the MLE of $a$ itself.\n",
    "\n",
    "It is possible to understand this principle by applying the chain rule:\n",
    "\n",
    "\\begin{equation}\n",
    "  \\left[ \\frac{\\partial \\mathcal{L}}{\\partial a} \\right]_\\widehat{a} = \\left[ \\frac{\\partial \\mathcal{L}}{\\partial f(a)} \\frac{\\partial f(a)}{\\partial a} \\right]_\\widehat{a} = 0 \\,.\n",
    "\\end{equation}\n",
    "\n",
    "Therefore, this implies that $\\partial \\mathcal{L}/\\partial f(a) = 0$, unless $\\partial f(a)/\\partial a = 0$. The latter would happend if $f(a)$ does not depend on $a$, but this would be a trivial case.\n",
    "\n",
    "_Note, however, that functions of unbiased estimators do not necessarily yield unbiased estimators._"
   ]
  },
  {
   "cell_type": "markdown",
   "metadata": {},
   "source": [
    "### 4.2.2 Efficiency of the maximum likelihood"
   ]
  },
  {
   "cell_type": "markdown",
   "metadata": {},
   "source": [
    "If we are interested to look at the efficiency of the maximum likelihood, we must consider the variance of a given estimator, $V(\\widehat{a})$. It is in fact possible to derive a minimum bound, known as the **Rao-Cramér-Frechet (RCF) inequality** (also called **information inequality**):\n",
    "\n",
    "\\begin{equation}\n",
    "  V(\\widehat{a}) \\ge \\frac{\\left( 1 + \\frac{\\partial b}{\\partial a} \\right)^2}{\\left< -\\frac{\\partial^2 \\ln \\mathcal{L}}{\\partial a^2} \\right>} \\,,\n",
    "\\end{equation}\n",
    "\n",
    "where $b \\equiv \\left<\\widehat{a}\\right> - a$ is the bias. (_It is beyond the scope of this course to derive the RCF inequality, but more information can be found in Barlow, Chapter 5, and Cowan, Chapter 6._)\n",
    "\n",
    "In the case of an unbiased estimator ($b = 0$), the RCF inequality becomes known as the **minimum variance bound (MVB)**:\n",
    "\n",
    "\\begin{equation}\n",
    "  V(\\widehat{a})_{\\rm MVB} \\ge \\frac{1}{\\left< -\\frac{\\partial^2 \\ln \\mathcal{L}}{\\partial a^2} \\right>} \\,.\n",
    "\\end{equation}"
   ]
  },
  {
   "cell_type": "markdown",
   "metadata": {},
   "source": [
    "<div class=\"example\">Example 1: variance of a simple lifetime</div>\n",
    "\n",
    "Recall the previous example in which we calculated the MLE of a simple lifetime experiment. The log-likelihood is given by:\n",
    "\n",
    "\\begin{equation}\n",
    "  \\ln \\mathcal{L} = \\sum \\ln{\\left( \\frac{1}{\\tau} e^{-t_i/\\tau} \\right)} \\\\\n",
    "\\end{equation}\n",
    "\n",
    "Differentiative twice yields:\n",
    "\n",
    "\\begin{eqnarray}\n",
    "  \\frac{\\partial^2 \\ln \\mathcal{L}}{\\partial \\tau^2} &=& \\frac{N}{\\tau^2} \\left( 1 - \\frac{2}{N \\tau} \\sum t_i \\right) \\\\\n",
    "  &=& \\frac{N}{\\tau^2} \\left( 1 - \\frac{2\\widehat{\\tau}}{\\tau} \\right) \\,.\n",
    "\\end{eqnarray}\n",
    "\n",
    "It is possible to show that $\\widehat{\\tau}$ is unbiased (i.e. $b = \\langle\\widehat{\\tau}\\rangle - \\tau = 0$) so that the RCF inequality reduces to the MVB. We can therefore calculate the inequality:\n",
    "\n",
    "\\begin{eqnarray}\n",
    "  V(\\widehat{\\tau}) &\\ge& \\frac{1}{\\left< -\\frac{N}{\\tau^2} \\left( 1 - \\frac{2\\widehat{\\tau}}{\\tau} \\right) \\right>} \\\\\n",
    "  &\\ge& \\frac{1}{-\\frac{N}{\\tau^2} \\left( 1 - \\frac{2\\left<\\widehat{\\tau}\\right>}{\\tau} \\right)} \\\\\n",
    "  &\\ge& \\frac{\\tau^2}{N} \\,,\n",
    "\\end{eqnarray}\n",
    "where we have use the fact that $\\widehat{\\tau} = \\tau$ in order to get to the last line.\n",
    "\n",
    "In specific cases one can directly calculate the variance of the estimator. This is the case for this problem, and one finds that $V(\\widehat{\\tau}) = \\frac{\\tau^2}{N}$. This means that the MVB is in fact the variance itself, and thus the maximum likelihood is maximally efficient."
   ]
  },
  {
   "cell_type": "markdown",
   "metadata": {},
   "source": [
    "### 4.2.3 Variance on maximum likelihood estimators"
   ]
  },
  {
   "cell_type": "markdown",
   "metadata": {},
   "source": [
    "The RCF inequality already gives us a minimum bound on the variance of a maximum likelihood estimator. As we mentioned earlier the bias on the estimator vanishes at large $N$ and so it is often justified to use the MVB instead. If we drop the inequality, as it is done with the uncertainty principle in quantum mechanics for instance, we can write the variance on the estimator as:\n",
    "\n",
    "\\begin{equation}\n",
    "  V(\\widehat{a}) = \\sigma^2_\\widehat{a} = \\left[ \\left( -\\frac{\\partial^2 \\ln \\mathcal{L}}{\\partial a^2} \\right)^{-1} \\right]_\\widehat{a} \\,.\n",
    "\\end{equation}\n",
    "\n",
    "With multiple parameters, the above equation can be generalised to the following relation:\n",
    "\n",
    "\\begin{equation}\n",
    "  V(\\widehat{a}_{ij}) = \\left[ -\\frac{\\partial^2 \\ln \\mathcal{L}}{\\partial a_i \\partial a_j} \\right]^{-1}_\\widehat{a} \\,.\n",
    "\\end{equation}\n",
    "\n",
    "The above equation applies to every possible pair of parameters. As we did for the covariance in Chapter 1, it is useful to represent them as a matrix. In this case, it is usually called the **Fisher information matrix**. Interestingly, its (matrix) inverse is in fact the covariance matrix of the estimated parameters.\n",
    "\n",
    "One further way to understand the variance on MLE is to consider small variations around its maximum. Let us expand the log-likelihod around the estimator using a Taylor series:\n",
    "\n",
    "\\begin{equation}\n",
    "  \\ln \\mathcal{L}(a) = \\ln \\mathcal{L}(\\widehat{a}) + \\left[ \\frac{\\partial \\ln \\mathcal{L}}{\\partial a} \\right]_\\widehat{a} (a - \\widehat{a}) + \\frac{1}{2} \\left[ \\frac{\\partial^2 \\ln \\mathcal{L}}{\\partial a^2} \\right]_\\widehat{a} (a - \\widehat{a})^2 + \\dots \\,.\n",
    "\\end{equation}\n",
    "\n",
    "By definition of $\\widehat{a}$, $\\ln \\mathcal{L}(\\widehat{a}) = \\ln \\mathcal{L}_{\\rm max}$ and the first derivative is equal to zero. If we express the second derivative in terms of $\\sigma^2_\\widehat{a}$, we find that to second order:\n",
    "\n",
    "\\begin{equation}\n",
    "  \\ln \\mathcal{L}(a) \\approx \\ln \\mathcal{L}_{\\rm max} - \\frac{(a - \\widehat{a})^2}{2 \\sigma^2_\\widehat{a}} \\,.\n",
    "\\end{equation}\n",
    "\n",
    "This is essentially the equation of a Gaussian with mean $\\widehat{a}$ and standard deviation $\\widehat{\\sigma_\\widehat{a}}$:\n",
    "\n",
    "\\begin{equation}\n",
    "  \\mathcal{L}(a) \\approx \\mathcal{L}_{\\rm max} \\exp\\left(\\frac{-(a - \\widehat{a})^2}{2 \\sigma^2_\\widehat{a}}\\right) \\,.\n",
    "\\end{equation}\n",
    "\n",
    "Therefore:\n",
    "\n",
    "\\begin{equation}\n",
    "  \\ln \\mathcal{L}(\\widehat{a} \\pm \\sigma_\\widehat{a}) = \\ln \\mathcal{L}_{\\rm max} - \\frac{1}{2} \\,.\n",
    "\\end{equation}\n",
    "\n",
    "We should highlight the important implications of what we have just derived:\n",
    "\n",
    "> 1. The log-likelihood near the MLE can be approximated with a parabola, which means that the likelihood itself is a Gaussian in the MLE region.\n",
    "> 2. The standard deviation on the MLE can be found by finding the value of the parameter for which the likelihood change by $\\frac{1}{2}$ with respect to the MLE."
   ]
  },
  {
   "cell_type": "markdown",
   "metadata": {},
   "source": [
    "<div class=\"example\">Example 1: maximum likelihood for a simple function</div>\n",
    "\n",
    "Here we take again the earlier example of the maximum likelihood of a simple function and evaluate the uncertainty on the best-fit parameter by looking for the parameter value at which the log-likelihood decreases by $\\frac{1}{2}$ with respect to the maximum value.\n",
    "\n",
    "_Note: Sometimes, as is the case here, the log-likelihood function is not perfectly symmetrical. This means that the uncertainty needs to be evaluated for each side individually or otherwise approximated with a parabola if the problem was solved analytically._"
   ]
  },
  {
   "cell_type": "code",
   "execution_count": 4,
   "metadata": {},
   "outputs": [
    {
     "name": "stdout",
     "output_type": "stream",
     "text": [
      "Optimization terminated successfully.\n",
      "         Current function value: -0.068503\n",
      "         Iterations: 10\n",
      "         Function evaluations: 20\n",
      "ln_L_max: 0.068503\n",
      "a_max: -0.59162\n",
      "sigma_a_left: 1.2844\n",
      "sigma_a_right: 1.5456\n"
     ]
    },
    {
     "data": {
      "image/png": "[encoded data removed]",
      "text/plain": [
       "<Figure size 864x576 with 1 Axes>"
      ]
     },
     "metadata": {
      "needs_background": "light"
     },
     "output_type": "display_data"
    }
   ],
   "source": [
    "## The data\n",
    "x = np.r_[0.89, 0.03, 0.50, 0.36, 0.49]\n",
    "\n",
    "## The model\n",
    "P = lambda a_: 1 + a_*(x - 0.5)\n",
    "ln_L = lambda a_: np.log(P(a_)).sum()\n",
    "\n",
    "## Finding the maximum likelihood\n",
    "a_max = scipy.optimize.fmin(lambda a_: -ln_L(a_), -0.6)[0]\n",
    "ln_L_max = ln_L(a_max)\n",
    "print('ln_L_max: {:.5}'.format(ln_L_max))\n",
    "print('a_max: {:.5}'.format(a_max))\n",
    "\n",
    "## Finding the 1-sigma on the left\n",
    "sigma_a_left = a_max - scipy.optimize.bisect(lambda a_: ln_L(a_)-ln_L_max+0.5, -2.0, a_max)\n",
    "print('sigma_a_left: {:.5}'.format(sigma_a_left))\n",
    "\n",
    "## Finding the 1-sigma on the left\n",
    "sigma_a_right = -a_max + scipy.optimize.bisect(lambda a_: ln_L(a_)-ln_L_max+0.5, a_max, 1.0)\n",
    "print('sigma_a_right: {:.5}'.format(sigma_a_right))\n",
    "\n",
    "## Evaluating the model at a \n",
    "a = np.linspace(-2.1,1.2,241)\n",
    "calc_ln_L = []\n",
    "for ai in a:\n",
    "    calc_ln_L.append( ln_L(ai) )\n",
    "\n",
    "fig, ax = plt.subplots(figsize=(12,8))\n",
    "ax.plot(a, calc_ln_L, lw=3)\n",
    "ax.vlines(a_max,               ln_L_max-0.5, ln_L_max, linestyles='--', lw=1)\n",
    "ax.vlines(a_max-sigma_a_left,  ln_L_max-0.5, ln_L_max, linestyles='--', lw=1)\n",
    "ax.vlines(a_max+sigma_a_right, ln_L_max-0.5, ln_L_max, linestyles='--', lw=1)\n",
    "ax.hlines(ln_L_max, a_max-sigma_a_left, a_max+sigma_a_right, linestyles='--', lw=1)\n",
    "ax.hlines(ln_L_max-0.5, a_max-sigma_a_left, a_max+sigma_a_right, linestyles='--', lw=1)\n",
    "ax.plot([a_max, a_max-sigma_a_left, a_max+sigma_a_right], [ln_L_max, ln_L_max-0.5, ln_L_max-0.5], 'o', ms=20)\n",
    "ax.text(a_max, ln_L_max+0.02, '($a_{max}$, $ln\\,L_{max}$)', ha='center', va='bottom')\n",
    "ax.text(a_max-sigma_a_left+0.1, ln_L_max-0.5, '($a_{max}-\\sigma_a$, $ln\\,L_{max}-0.5$)', ha='left', va='bottom')\n",
    "ax.text(a_max+sigma_a_right-0.1, ln_L_max-0.5, '($a_{max}+\\sigma_a$, $ln\\,L_{max}-0.5$)', ha='right', va='bottom')\n",
    "ax.set_xlabel('a')\n",
    "ax.set_ylabel('ln(L)')\n",
    "ax.set_xlim(-2.5,1.6)\n",
    "ax.set_ylim(-0.6,0.2);"
   ]
  },
  {
   "cell_type": "markdown",
   "metadata": {},
   "source": [
    "<div class=\"well\" align=\"center\">\n",
    "    <div class=\"container-fluid\">\n",
    "        <div class=\"row\">\n",
    "            <div class=\"col-md-3\" align=\"center\">\n",
    "                <img align=\"center\" alt=\"Creative Commons License\" style=\"border-width:0\" src=\"https://i.creativecommons.org/l/by-nc-sa/4.0/88x31.png\" width=\"60%\">\n",
    "            </div>\n",
    "            <div class=\"col-md-8\">\n",
    "            This work is licensed under a <a href=\"http://creativecommons.org/licenses/by-nc-sa/4.0/\">Creative Commons Attribution-NonCommercial-ShareAlike 4.0 International License</a>).\n",
    "            </div>\n",
    "        </div>\n",
    "    </div>\n",
    "    <br>\n",
    "    <br>\n",
    "    <i>Note: The content of this Jupyter Notebook is provided for educational purposes only.</i>\n",
    "</div>"
   ]
  }
 ],
 "metadata": {
  "kernelspec": {
   "display_name": "Python 3",
   "language": "python",
   "name": "python3"
  },
  "language_info": {
   "codemirror_mode": {
    "name": "ipython",
    "version": 3
   },
   "file_extension": ".py",
   "mimetype": "text/x-python",
   "name": "python",
   "nbconvert_exporter": "python",
   "pygments_lexer": "ipython3",
   "version": "3.8.3"
  },
  "latex_envs": {
   "LaTeX_envs_menu_present": true,
   "autocomplete": true,
   "bibliofile": "biblio.bib",
   "cite_by": "apalike",
   "current_citInitial": 1,
   "eqLabelWithNumbers": true,
   "eqNumInitial": 1,
   "hotkeys": {
    "equation": "Ctrl-E",
    "itemize": "Ctrl-I"
   },
   "labels_anchors": false,
   "latex_user_defs": false,
   "report_style_numbering": false,
   "user_envs_cfg": false
  }
 },
 "nbformat": 4,
 "nbformat_minor": 4
}
