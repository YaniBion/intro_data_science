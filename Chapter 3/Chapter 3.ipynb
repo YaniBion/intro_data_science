{
 "cells": [
  {
   "cell_type": "code",
   "execution_count": 1,
   "metadata": {},
   "outputs": [
    {
     "data": {
      "text/html": [
       "<style>.container { width:95% !important; }</style>"
      ],
      "text/plain": [
       "<IPython.core.display.HTML object>"
      ]
     },
     "metadata": {},
     "output_type": "display_data"
    },
    {
     "data": {
      "text/html": [
       "<link href=\"https://fonts.googleapis.com/css?family=Fira+Sans:300,300i,600,600i\" rel=\"stylesheet\">\n",
       "<link href=\"https://fonts.googleapis.com/css?family=Inconsolata\" rel=\"stylesheet\">\n",
       "<link href=\"https://fonts.googleapis.com/css?family=Titillium+Web:400,400i,700,700i\" rel=\"stylesheet\">\n",
       "\n",
       "\n",
       "<style>\n",
       "\n",
       ".text_cell_render p {\n",
       "font-style: regular;\n",
       "font-family: 'Fira Sans', sans-serif;\n",
       "display: block;\n",
       "text-align: justify;\n",
       "}\n",
       "/*font-weight: 200;*/\n",
       "/*text-align: left;\n",
       "line-height: 100%;\n",
       "display: block;\n",
       "}*/\n",
       "a {\n",
       "color:#377bb5;\n",
       "}\n",
       ".text_cell_render h1 {\n",
       "/*font-size: 24pt;*/\n",
       "font-family: 'Titillium Web', sans-serif;\n",
       "font-weight: bold;\n",
       "margin-bottom: 0.1em;\n",
       "margin-top: 0.5em;\n",
       "color:#4a4a4a;\n",
       "}\n",
       ".text_cell_render h2 {\n",
       "/*font-size: 21pt;*/\n",
       "    font-family: 'Titillium Web', sans-serif;\n",
       "margin-bottom: 0.1em;\n",
       "margin-top: 0.3em;\n",
       "color:#595959;\n",
       "}\n",
       ".text_cell_render h3 {\n",
       "    font-family: 'Titillium Web', sans-serif;\n",
       "/*font-size: 19pt;*/\n",
       "margin-bottom: 0.1em;\n",
       "margin-top: 0.3em;\n",
       "color:#595959;\n",
       "}\n",
       ".text_cell_render h4 {\n",
       "    font-family: 'Titillium Web', sans-serif;\n",
       "/*font-size: 17pt;*/\n",
       "margin-bottom: 0.1em;\n",
       "margin-top: 0.3em;\n",
       "color:#595959;\n",
       "}\n",
       ".text_cell_render h5 {\n",
       "    font-family: 'Titillium Web', sans-serif;\n",
       "/*font-size: 15pt;*/\n",
       "margin-bottom: 0.1em;\n",
       "margin-top: 0.3em;\n",
       "color:#595959;\n",
       "}\n",
       "div.text_cell_render{\n",
       "font-style: regular;\n",
       "font-family: 'Fira Sans', sans-serif;\n",
       "line-height: 120%;\n",
       "font-size: 100%;\n",
       "font-weight: 400;\n",
       "text-align: justify;\n",
       "margin-left:0em;\n",
       "margin-right:0em;\n",
       "}\n",
       "code {\n",
       "font-family: 'Inconsolata', monospace;\n",
       "}\n",
       "pre {\n",
       "font-family: 'Inconsolata', monospace;\n",
       "}\n",
       "\n",
       "div.example {\n",
       "    font-family: 'Titillium Web', sans-serif;\n",
       "/*font-size: 15pt;*/\n",
       "font-weight: bold;\n",
       "font-variant: small-caps;\n",
       "text-decoration: underline;\n",
       "margin-bottom: 0.1em;\n",
       "margin-top: 0.3em;\n",
       "color:#595959;\n",
       "}\n",
       "\n",
       "div.queue {\n",
       "font-size: x-large;\n",
       "font-variant: small-caps;\n",
       "font-family: 'Titillium Web', sans-serif;\n",
       "font-weight: bold;\n",
       "/*margin-bottom: 0.1em;*/\n",
       "/*margin-top: 0.5em;*/\n",
       "margin: 10px;\n",
       "padding: 10px;\n",
       "color:#cc0000;\n",
       "border-style: solid none solid none;\n",
       "border-width: 2px;\n",
       "border-color:#cc0000;\n",
       "border-spacing: 10px;\n",
       "}\n",
       "\n",
       ".reveal h1 {\n",
       "font-family: 'Titillium Web', sans-serif;\n",
       "/*font-size: 24pt;*/\n",
       "font-weight: bold;\n",
       "margin-bottom: 0.1em;\n",
       "margin-top: 0.5em;\n",
       "color:#4a4a4a;\n",
       "}\n",
       ".reveal h2 {\n",
       "font-family: 'Titillium Web', sans-serif;\n",
       "/*font-size: 24pt;*/\n",
       "font-weight: bold;\n",
       "margin-bottom: 0.1em;\n",
       "margin-top: 0.5em;\n",
       "color:#595959;\n",
       "}\n",
       ".reveal h3 {\n",
       "font-family: 'Titillium Web', sans-serif;\n",
       "/*font-size: 24pt;*/\n",
       "font-weight: bold;\n",
       "margin-bottom: 0.1em;\n",
       "margin-top: 0.5em;\n",
       "color:#595959;\n",
       "}\n",
       ".reveal h4 {\n",
       "font-family: 'Titillium Web', sans-serif;\n",
       "font-weight: bold;\n",
       "margin-bottom: 0.1em;\n",
       "margin-top: 0.5em;\n",
       "color:#595959;\n",
       "}\n",
       ".reveal div.text_cell_render{\n",
       "line-height: 120%;\n",
       "font-size: 74%;\n",
       "font-weight: 400;\n",
       "text-align: justify;\n",
       "margin-left:0em;\n",
       "margin-right:0em;\n",
       "}\n",
       ".reveal .code_cell {\n",
       "    font-size: 92%;\n",
       "}\n",
       ".reveal code {\n",
       "font-family: 'Inconsolata', monospace;\n",
       "}\n",
       ".reveal pre {\n",
       "font-family: 'Inconsolata', monospace;\n",
       "}\n",
       "\n",
       ".CodeMirror{\n",
       "font-family: \"Inconsolata\", monospace;\n",
       "}\n",
       "\n",
       "</style>"
      ],
      "text/plain": [
       "<IPython.core.display.HTML object>"
      ]
     },
     "execution_count": 1,
     "metadata": {},
     "output_type": "execute_result"
    }
   ],
   "source": [
    "## Import required Python modules\n",
    "%matplotlib inline\n",
    "import matplotlib.pyplot as plt\n",
    "import numpy as np\n",
    "import scipy, scipy.stats\n",
    "import io\n",
    "import base64\n",
    "#from IPython.core.display import display\n",
    "from IPython.display import display, HTML, Image\n",
    "from urllib.request import urlopen\n",
    "\n",
    "try:\n",
    "    import astropy as apy\n",
    "    import astropy.table\n",
    "    _apy = True\n",
    "    #print('Loaded astropy')\n",
    "except:\n",
    "    _apy = False\n",
    "    #print('Could not load astropy')\n",
    "\n",
    "## Customising the font size of figures\n",
    "plt.rcParams.update({'font.size': 14})\n",
    "\n",
    "## Customising the look of the notebook\n",
    "display(HTML(\"<style>.container { width:95% !important; }</style>\"))\n",
    "## This custom file is adapted from https://github.com/lmarti/jupyter_custom/blob/master/custom.include\n",
    "HTML('custom.css')\n",
    "#HTML(urlopen('https://raw.githubusercontent.com/bretonr/intro_data_science/master/custom.css').read().decode('utf-8'))"
   ]
  },
  {
   "cell_type": "code",
   "execution_count": 2,
   "metadata": {},
   "outputs": [
    {
     "data": {
      "text/html": [
       "<script>\n",
       "code_show=true;\n",
       "function code_toggle() {\n",
       " if (code_show){\n",
       " $('div.input').hide();\n",
       " } else {\n",
       " $('div.input').show();\n",
       " }\n",
       " code_show = !code_show\n",
       "} \n",
       "$( document ).ready(code_toggle);\n",
       "</script>\n",
       "<form action=\"javascript:code_toggle()\"><input type=\"submit\" value=\"Click here to toggle on/off the Python code.\"></form>"
      ],
      "text/plain": [
       "<IPython.core.display.HTML object>"
      ]
     },
     "execution_count": 2,
     "metadata": {},
     "output_type": "execute_result"
    }
   ],
   "source": [
    "## Adding a button to hide the Python source code\n",
    "HTML('''<script>\n",
    "code_show=true;\n",
    "function code_toggle() {\n",
    " if (code_show){\n",
    " $('div.input').hide();\n",
    " } else {\n",
    " $('div.input').show();\n",
    " }\n",
    " code_show = !code_show\n",
    "} \n",
    "$( document ).ready(code_toggle);\n",
    "</script>\n",
    "<form action=\"javascript:code_toggle()\"><input type=\"submit\" value=\"Click here to toggle on/off the Python code.\"></form>''')"
   ]
  },
  {
   "cell_type": "markdown",
   "metadata": {},
   "source": [
    "<div class=\"container-fluid\">\n",
    "    <div class=\"row\">\n",
    "        <div class=\"col-md-8\" align=\"center\">\n",
    "            <h1>PHYS 10791: Introduction to Data Science</h1>\n",
    "            <!--<h3>2019-2020 Academic Year</h3><br>-->\n",
    "        </div>\n",
    "        <div class=\"col-md-3\">\n",
    "            <img align='center' style=\"border-width:0\" src=\"images/UoM_logo.png\"/>\n",
    "        </div>\n",
    "    </div>\n",
    "</div>\n",
    "\n",
    "<div class=\"container-fluid\">\n",
    "    <div class=\"row\">\n",
    "        <div class=\"col-md-2\" align=\"right\">\n",
    "            <b>Course instructors:&nbsp;&nbsp;</b>\n",
    "        </div>\n",
    "        <div class=\"col-md-9\" align=\"left\">\n",
    "            <a href=\"http://www.renebreton.org\">Prof. Rene Breton</a> - Twitter <a href=\"https://twitter.com/BretonRene\">@BretonRene</a><br>\n",
    "            <a href=\"http://www.hep.manchester.ac.uk/u/gersabec\">Dr. Marco Gersabeck</a> - Twitter <a href=\"https://twitter.com/MarcoGersabeck\">@MarcoGersabeck</a>\n",
    "        </div>\n",
    "    </div>\n",
    "</div>"
   ]
  },
  {
   "cell_type": "markdown",
   "metadata": {},
   "source": [
    "## Syllabus\n",
    "\n",
    "1. Probabilities and interpretations\n",
    "2. Probability distributions\n",
    "3. **Parameter estimation**\n",
    "4. Maximum likelihood\n",
    "5. Least square, chi2, correlations\n",
    "6. Monte Carlo basics\n",
    "7. Goodness of fit tests\n",
    "8. Hypothesis testing\n",
    "9. Probability and confidence level\n",
    "10. Limit setting\n",
    "11. Introduction to multivariate analysis techniques"
   ]
  },
  {
   "cell_type": "markdown",
   "metadata": {},
   "source": [
    "# Chapter 3\n",
    "\n",
    "## Topics\n",
    "\n",
    "**[3.1 Law of large numbers and central limit theorem](#3.1-Law-of-large-numbers-and-central-limit-theorem)**\n",
    "- 3.1.1 The law of large numbers\n",
    "- 3.1.2 The central limit theorem\n",
    "- **Case study**: Wizard trick\n",
    "\n",
    "**[3.2 Parameter estimation](#3.2-Parameter-estimation)**\n",
    "- 3.2.1 Definition\n",
    "- 3.2.2 Properties\n",
    "- 3.2.3 Some basic estimators"
   ]
  },
  {
   "cell_type": "markdown",
   "metadata": {},
   "source": [
    "## Further Reading Material\n",
    "\n",
    "- **Cowan**: Chapter 2.5 - *Central limit theorem*\n",
    "- **Barlow**: Chapter 4.1 - *Central limit theorem*\n",
    "- **Cowan**: Chapter 5 - *General concepts of parameter estimation and law of large numbers*\n",
    "- **Barlow**: Chapter 5.1.1 - *Properties of estimators*"
   ]
  },
  {
   "cell_type": "markdown",
   "metadata": {},
   "source": [
    "## 3.1 Law of large numbers and central limit theorem"
   ]
  },
  {
   "cell_type": "markdown",
   "metadata": {},
   "source": [
    "### 3.1.1 The law of large numbers"
   ]
  },
  {
   "cell_type": "markdown",
   "metadata": {},
   "source": [
    "_[This subsection follows from Cowan, Section 5.2]_\n",
    "\n",
    "```\n",
    "In probability theory, the law of large numbers (LLN) is a theorem that describes the result of performing the same experiment a large number of times. According to the law, the average of the results obtained from a large number of trials should be close to the expected value, and will tend to become closer as more trials are performed.\n",
    "```\n",
    "<div style=\"text-align: right\">(<a href=\"https://en.wikipedia.org/wiki/Law_of_large_numbers\">Wikipedia - Law of large numbers</a>)</div>"
   ]
  },
  {
   "cell_type": "markdown",
   "metadata": {},
   "source": [
    "The law of large numbers essentially says that:\n",
    "\n",
    "\\begin{equation}\n",
    "  \\langle X_N \\rangle = \\frac{1}{N} \\sum_{i=1}^{N} X_i \\to \\mu \\quad {\\rm for} \\quad N \\to \\infty\n",
    "\\end{equation}\n",
    "\n",
    "There are two versions of the law. We state them below, but will not attempt to prove them in this course.\n",
    "\n",
    "##### Weak law of large numbers\n",
    "\n",
    "\\begin{equation}\n",
    "    \\lim_{N \\to \\infty} P\\left( \\left| \\langle X_N \\rangle - \\mu \\right| > \\epsilon \\right) = 0 \\,.\n",
    "\\end{equation}\n",
    "\n",
    "##### Strong law of large numbers\n",
    "\n",
    "\\begin{equation}\n",
    "    P\\left( \\lim_{N \\to \\infty} \\langle X_N \\rangle = \\mu \\right) = 1 \\,.\n",
    "\\end{equation}\n",
    "\n"
   ]
  },
  {
   "cell_type": "markdown",
   "metadata": {},
   "source": [
    "### 3.1.2 The central limit theorem"
   ]
  },
  {
   "cell_type": "markdown",
   "metadata": {},
   "source": [
    "_[This subsection follows from Cowan, Section 10.3, Barlow, Section 4.1 and Appendix 2]_\n",
    "\n",
    "```\n",
    "In probability theory, the central limit theorem (CLT) establishes that, in some situations, when independent random variables are added, their properly normalized sum tends toward a normal distribution (informally a \"bell curve\") even if the original variables themselves are not normally distributed.\n",
    "```\n",
    "<div style=\"text-align: right\">(<a href=\"https://en.wikipedia.org/wiki/Central_limit_theorem\">Wikipedia - Central limit theorem</a>)</div>"
   ]
  },
  {
   "cell_type": "markdown",
   "metadata": {},
   "source": [
    "The central limit theory essentially says that:\n",
    "\n",
    "\\begin{equation}\n",
    "    \\lim_{N \\to \\infty} \\frac{1}{s_N} \\sum_{i=1}^N \\left( X_i - \\mu_i \\right) \\xrightarrow{d} \\mathcal{N}(0,1) \\quad ,\n",
    "\\end{equation}\n",
    "\n",
    "where the symbol $\\xrightarrow{d}$ means *convergence in distribution*, and with\n",
    "\n",
    "\\begin{equation}\n",
    "    s_N^2 = \\sum_{i=1}^N \\sigma_i^2 \\quad .\n",
    "\\end{equation}"
   ]
  },
  {
   "cell_type": "markdown",
   "metadata": {},
   "source": [
    "Proving the CLT theorem is beyond the scope of this course and we refer to the aforementioned material for more information. However, it is useful to analyse the implication of this theorem in more details.\n",
    "\n",
    "The case of independent, identically distributed random variables having the same mean and variance (i.e. $\\mu_i = \\mu$ and $\\sigma_i^2 = \\sigma^2$) is particularly insightful to consider as the above equation becomes:\n",
    "\n",
    "\\begin{equation}\n",
    "    \\lim_{N \\to \\infty} \\frac{1}{\\sqrt{N}} \\sum_{i=1}^N \\frac{\\left( X_i - \\mu \\right)}{\\sigma} \\xrightarrow{d} \\mathcal{N}(0,1) \\quad .\n",
    "\\end{equation}\n",
    "\n",
    "We note that the term in the sum is nothing else than a change of variable, $Z_i = \\frac{X_i-\\mu}{\\sigma}$, for which the random variable has a zero mean and standard deviation normalised to unity. When this sum is further divided by a factor $\\sqrt{N}$ it converges to $\\mathcal{N}(0,1)$. This implies that if we sum the original random variables without zero-meaning and standardisation, i.e. summing the $X_i$, it will distribute as $\\mathcal{N}(N\\mu, N\\sigma^2)$, i.e. mean $\\mu$ and variance $N\\sigma^2$. For the more general case where random variables are drawn from distributions having different means and variances, i.e. $\\mu_i$ and $\\sigma_i^2$, the sum of these random variables will converge to $\\mathcal{N}(\\sum \\mu_i, \\sum \\sigma_i^2) = \\mathcal{N}(\\sum \\mu_i, s_N^2)$.\n",
    "\n",
    "The CLT is a fundamental concept as it justifies the use of the normal distribution to deal with a wide range of problems when the number of random variables is large. As we will see, for example, with posterior estimation and Bayesian inference, the mathematical properties of the Gaussian function (differentiability and integrability, Fourier transform, etc) become extremely useful.\n",
    "\n",
    "For more about the CLT, have a look at this nice illustrated article and video on [Introduction to Statistics for Data Science](https://medium.com/diogo-menezes-borges/introduction-to-statistics-for-data-science-a67a3199dcd4)."
   ]
  },
  {
   "cell_type": "markdown",
   "metadata": {},
   "source": [
    "### Case study: Wizard trick"
   ]
  },
  {
   "cell_type": "markdown",
   "metadata": {},
   "source": [
    "Is it possible to turn random numbers drawn from a uniform distribution into a normal distribution?\n",
    "\n",
    "<span style=\"text-decoration: underline\">Case 1:</span> Imagine you draw 10,000 numbers from a uniform distribution in the range $[0,1[$.\n",
    "\n",
    "<span style=\"text-decoration: underline\">Case 2:</span> Imagine you draw another 10,000 uniform numbers just like above and add pairs together.\n",
    "\n",
    "<span style=\"text-decoration: underline\">Case 3:</span> Imagine you draw another 10,000 uniform numbers and add them to the previous pairs.\n",
    "\n",
    "<span style=\"text-decoration: underline\">Case 4:</span> Imagine you draw another 7 sets of 10,000 uniform numbers just like above and add them to the tripplets in order to have the sum of 10 uniform numbers.\n",
    "\n",
    "What does the distribution of each case look like?"
   ]
  },
  {
   "cell_type": "code",
   "execution_count": 3,
   "metadata": {},
   "outputs": [
    {
     "data": {
      "image/png": "[encoded data removed]",
      "text/plain": [
       "<Figure size 1152x720 with 4 Axes>"
      ]
     },
     "metadata": {
      "needs_background": "light"
     },
     "output_type": "display_data"
    }
   ],
   "source": [
    "## We generate sets of random numbers drawn from a uniform distribution in the range [0,1[.\n",
    "uniform_sets = np.random.uniform(size=(10,10000))\n",
    "\n",
    "mu1 = uniform_sets[0].mean()\n",
    "mu2 = uniform_sets[:2].sum(0).mean()\n",
    "mu3 = uniform_sets[:3].sum(0).mean()\n",
    "mu10 = uniform_sets.sum(0).mean()\n",
    "std1 = uniform_sets[0].std()\n",
    "std2 = uniform_sets[:2].sum(0).std()\n",
    "std3 = uniform_sets[:3].sum(0).std()\n",
    "std10 = uniform_sets.sum(0).std()\n",
    "\n",
    "fig,ax = plt.subplots(2, 2, figsize=[16,10])\n",
    "_ = ax[0,0].hist(uniform_sets[0], bins=20, range=[0,1])\n",
    "_ = ax[0,1].hist(uniform_sets[:2].sum(0), bins=40, range=[0,2])\n",
    "_ = ax[1,0].hist(uniform_sets[:3].sum(0), bins=60, range=[0,3])\n",
    "_ = ax[1,1].hist(uniform_sets.sum(0), bins=200, range=[0,10])\n",
    "_ = ax[0,0].set_title('Case 1 ($x_i$)'.format(mu1, std1))\n",
    "_ = ax[0,1].set_title('Case 2 ($x_i + x_j$)'.format(mu2, std2))\n",
    "_ = ax[1,0].set_title('Case 3 ($x_i + x_j + x_k$)'.format(mu3, std3))\n",
    "_ = ax[1,1].set_title('Case 4 ($x_i + ...$)'.format(mu10, std10))\n",
    "_ = ax[0,0].text(0.02, 0.9, 'Observed\\n  mean: {:.3f}\\n  std: {:.3f}'.format(mu1 , std1 ), transform=ax[0,0].transAxes, size=14, verticalalignment='top')\n",
    "_ = ax[0,1].text(0.02, 0.9, 'Observed\\n  mean: {:.3f}\\n  std: {:.3f}'.format(mu2 , std2 ), transform=ax[0,1].transAxes, size=14, verticalalignment='top')\n",
    "_ = ax[1,0].text(0.02, 0.9, 'Observed\\n  mean: {:.3f}\\n  std: {:.3f}'.format(mu3 , std3 ), transform=ax[1,0].transAxes, size=14, verticalalignment='top')\n",
    "_ = ax[1,1].text(0.02, 0.9, 'Observed\\n  mean: {:.3f}\\n  std: {:.3f}'.format(mu10, std10), transform=ax[1,1].transAxes, size=14, verticalalignment='top')\n",
    "_ = ax[0,0].text(0.7, 0.9, 'Expected\\n  mean: {:.3f}\\n  std: {:.3f}'.format(0.5 , 1/np.sqrt(12)), transform=ax[0,0].transAxes, size=14, verticalalignment='top')\n",
    "_ = ax[0,1].text(0.7, 0.9, 'Expected\\n  mean: {:.3f}\\n  std: {:.3f}'.format(1.0 , np.sqrt(2/12)), transform=ax[0,1].transAxes, size=14, verticalalignment='top')\n",
    "_ = ax[1,0].text(0.7, 0.9, 'Expected\\n  mean: {:.3f}\\n  std: {:.3f}'.format(1.5 , np.sqrt(3/12)), transform=ax[1,0].transAxes, size=14, verticalalignment='top')\n",
    "_ = ax[1,1].text(0.7, 0.9, 'Expected\\n  mean: {:.3f}\\n  std: {:.3f}'.format(5.0 , np.sqrt(10/12)), transform=ax[1,1].transAxes, size=14, verticalalignment='top')\n",
    "_ = ax[0,0].set_ylim(0,900)\n",
    "_ = fig.subplots_adjust(0.125, 0.2, 0.9, 0.9, 0.2, 0.4)\n"
   ]
  },
  {
   "cell_type": "markdown",
   "metadata": {},
   "source": [
    "<span style=\"text-decoration: underline\">Lesson 1:</span>\n",
    "> As expected, the Case 1 scenario is just a flat distribution with mean $0.5$ and variance equal to $1/12$ (_can you calculate them?_). For the other cases, according to the CLT, the predicted mean should be $N\\mu = N/2$ and the variance $N\\sigma = N/12$. The experiment agrees remarkably well with the prediction.\n",
    "\n",
    "<span style=\"text-decoration: underline\">Lesson 2:</span>\n",
    "> The other important prediction of CLT is that the distribution will increasingly resemble a Gaussian as the number of summed random variables increases. This is clearly the case as we go from a uniform distribution in Case 1, to a triangular distribution in Case 2, to something more rounded in Case 3, to a very Gaussian looking one in Case 4. _As a side note, each distribution can be computed exactly: they are the convolution of $N$ top-hat functions. Something to remember when you do convolutions..._\n",
    "\n",
    "<span style=\"text-decoration: underline\">Lesson 3:</span>\n",
    "> The mean and standard deviations only depend on the number of random variables that are summed. However, how close the observed values agree with the expected values relies on another principle... the law of large numbers.\n",
    "\n",
    "It is almost magical... we have have turned flat numbers into a normal distribution."
   ]
  },
  {
   "cell_type": "markdown",
   "metadata": {},
   "source": [
    "## 3.2 Parameter estimation"
   ]
  },
  {
   "cell_type": "markdown",
   "metadata": {},
   "source": [
    "_[This section follows from Barlow, Chapter 5, and Cowen, Chapter 5.]_\n",
    "\n",
    "_'Estimator'_ in the context of statistics means a precise, accurate procedure to calculate a given quantity based on observed data. This is not to be confused with _'approximation'_.\n",
    "\n",
    "Estimation means that you have a data sample, from which you want to draw a conclusion and produce a 'best' value for one or more numerical quantities."
   ]
  },
  {
   "cell_type": "markdown",
   "metadata": {},
   "source": [
    "#### Expectation values\n",
    "\n",
    "Central to estimation is the concept of expectation of a function $a(x)$ (or value) under a certain normalised probability distribution $\\mathcal{L}(x)$. In the continuous case:\n",
    "\n",
    "\\begin{equation}\n",
    "  E\\left[ a(x) \\right] = \\int_\\Omega a(x) \\mathcal{L}(x) {\\rm d}x \\,.\n",
    "\\end{equation}\n",
    "\n",
    "In the discrete case:\n",
    "\n",
    "\\begin{equation}\n",
    "  E\\left[ a(x) \\right] = \\sum_i^N a(x_i) \\mathcal{L}(x_i) \\,.\n",
    "\\end{equation}\n",
    "\n",
    "_Note: In the current context the expectation value is synonym to the mean and so for all intents and purposes $\\langle a \\rangle = E \\left[a\\right]$._"
   ]
  },
  {
   "cell_type": "markdown",
   "metadata": {},
   "source": [
    "#### Common formulas involving expectation values\n",
    "\n",
    "Here are some basic properties involving the expectation value and variance. We define $X$ and $Y$ as _independent and uncorrelated_ random variables, $\\alpha$ as a constant, and recalling $V(X)$ the variance of $X$:\n",
    "\n",
    "- $E\\left[\\alpha+X\\right] = \\alpha + E\\left[X\\right]$\n",
    "- $E\\left[\\alpha X\\right] = \\alpha E\\left[X\\right]$\n",
    "- $E\\left[X+Y\\right] = E\\left[X\\right] + E\\left[Y\\right]$\n",
    "- $E\\left[XY\\right] = E\\left[X\\right] E\\left[Y\\right]$\n",
    "\n",
    "\n",
    "- $V(X) = E\\left[\\left(X - E\\left[X\\right]\\right)^2\\right] = E\\left[X^2\\right] - E\\left[X\\right]^2$\n",
    "- $V(\\alpha + X) = V(X)$\n",
    "- $V(\\alpha X) = \\alpha^2 V(X)$\n",
    "- $V(X+Y) = V(X-Y) = V(X)+V(Y)$\n",
    "- $V(XY) = E\\left[X^2\\right] E\\left[Y^2\\right] - E\\left[X\\right]^2 E\\left[Y\\right]^2$"
   ]
  },
  {
   "cell_type": "markdown",
   "metadata": {},
   "source": [
    "### 3.2.1 Definition\n",
    "\n",
    "**Estimator**: procedure that is applied to the data sample and gives a numerical value for a parameter and/or a property of a parent population/distribution function. _[Barlow, Chapter 5]_"
   ]
  },
  {
   "cell_type": "markdown",
   "metadata": {},
   "source": [
    "<div class=\"example\">Example 1</div>\n",
    "\n",
    "Suppose you want to find the average height of Physics and Astronomy students at Manchester. Here are 8 possibles options:\n",
    "\n",
    "1. Add up all the heights and divide by N.\n",
    "2. Add up a set of 10 heights and divide by 10.\n",
    "3. Add all the heights and divide by N - 1.\n",
    "4. Throw away the data and give the answer as 180 cm.\n",
    "5. Multiply all the heights and take the Nth root (i.e. geometric mean).\n",
    "6. Choose the most common height (i.e. the mode).\n",
    "7. Add the tallest and shortest heights, and divide by 2.\n",
    "8. Add up the second, fourth, sixth, etc., heights and divide by N/2 for N even, and (N-1)/2 for N odd."
   ]
  },
  {
   "cell_type": "markdown",
   "metadata": {},
   "source": [
    "### 3.2.2 Properties\n",
    "\n",
    "An estimator can be 'good' or 'bad'. The difference between them is that a good estimator fulfills the following criteria:\n",
    "\n",
    "1. Consistent\n",
    "2. Unbiased\n",
    "3. Efficient"
   ]
  },
  {
   "cell_type": "markdown",
   "metadata": {},
   "source": [
    "#### Consistent\n",
    "\n",
    "_An estimator is consistent_ if it tends to the true value as the number of data values tends to infinity:\n",
    "\n",
    "\\begin{equation}\n",
    "  \\lim_{N \\to \\infty} \\widehat{a} = a \\,.\n",
    "\\end{equation}\n",
    "\n",
    "In light of this, the other way to consider the consistent requirement is that the variance of the estimator must tend to zero as $N$ tends to infinity, i.e. the error on measuring the mean becomes null:\n",
    "\n",
    "\\begin{equation}\n",
    "  \\lim_{N \\to \\infty} V(\\widehat{a}) = 0 \\,.\n",
    "\\end{equation}"
   ]
  },
  {
   "cell_type": "markdown",
   "metadata": {},
   "source": [
    "<div class=\"example\">Example 1</div>\n",
    "\n",
    "From the previous example, we can show that Option 1 is consistent:\n",
    "\n",
    "\\begin{equation}\n",
    "  \\widehat{\\mu} = \\frac{X_1 + X_2 + X_3 + \\dots + X_N}{N} = \\langle X \\rangle \\,,\n",
    "\\end{equation}\n",
    "\n",
    "since for $N \\to \\infty$ the law of large unmbers ensures that $\\langle X \\rangle \\to \\mu$."
   ]
  },
  {
   "cell_type": "markdown",
   "metadata": {},
   "source": [
    "#### Unbiased\n",
    "\n",
    "_An estimator is unbiased_ if its expectation value is equal to the true value:\n",
    "\n",
    "\\begin{equation}\n",
    "  E\\left[ \\widehat{a} \\right] = a \\,.\n",
    "\\end{equation}"
   ]
  },
  {
   "cell_type": "markdown",
   "metadata": {},
   "source": [
    "<div class=\"example\">Example 1</div>\n",
    "\n",
    "From the previous example, we can show that Option 1 is unbiased:\n",
    "\n",
    "\\begin{eqnarray}\n",
    "  E \\left[ \\widehat{\\mu} \\right] &=& E\\left[ \\frac{X_1 + X_2 + X_3 + \\dots + X_N}{N} \\right] \\\\\n",
    "                               &=& \\frac{E\\left[X_1\\right] + E\\left[X_2\\right] + E\\left[X_3\\right] + \\dots + E\\left[X_N\\right]}{N} \\\\\n",
    "                               &=& \\frac{N E\\left[X\\right]}{N} \\\\\n",
    "                               &=& \\mu \\,.\n",
    "\\end{eqnarray}"
   ]
  },
  {
   "cell_type": "markdown",
   "metadata": {},
   "source": [
    "#### Efficient\n",
    "\n",
    "_An estimator is efficient_ if its variance is small.\n",
    "\n",
    "Given two estimators that are both consistent and unbiased, the one that produced the variance that is smaller is most likely closer to the true value and therefore better."
   ]
  },
  {
   "cell_type": "markdown",
   "metadata": {},
   "source": [
    "<div class=\"example\">Example 1</div>\n",
    "\n",
    "From the previous example, we can show that Option 1 is efficent using the variance:\n",
    "\n",
    "\\begin{equation}\n",
    "  V(\\widehat{\\mu}) = \\frac{\\sigma^2}{N} \\,.\n",
    "\\end{equation}\n",
    "\n",
    "This directly follows from the central limit theorem. Note that here $\\sigma$ is the standard deviation of a single measurement, while $V(\\widehat{\\mu})$ is the variance of the mean; the square root of which is known as the standard deviation of the mean."
   ]
  },
  {
   "cell_type": "markdown",
   "metadata": {},
   "source": [
    "### 3.2.3 Some basic estimators"
   ]
  },
  {
   "cell_type": "markdown",
   "metadata": {},
   "source": [
    "<div class=\"example\">Example 1: Variance with known mean</div>\n",
    "\n",
    "Let us first consider the _estimate of the variance_ as an estimator, with the case where the true mean $\\mu$ is known:\n",
    "\\begin{equation}\n",
    "  \\widehat{V(X)} \\equiv \\widehat{\\sigma^2} = \\frac{1}{N} \\sum (X_i - \\mu)^2 \\,.\n",
    "\\end{equation}\n",
    "\n",
    "We can show that this is an **unbiased estimator**.\n",
    "\n",
    "First, we should recall the definition of the variance from the list of identities above: $V(X) = E\\left[X^2\\right] - E\\left[X\\right]^2$. Since the true mean is known we also have the fact that $E\\left[ X \\right] = \\mu$. This enables use to rewrite this estimator as:\n",
    "\\begin{equation}\n",
    "  \\widehat{\\sigma^2} = E\\left[ X^2 \\right] - \\mu^2 \\,.\n",
    "\\end{equation}\n",
    "\n",
    "To show that this estimator is unbiased implies that $E\\left[ \\widehat{\\sigma^2} \\right] = \\sigma^2$. We can verify that this is the case:\n",
    "\\begin{eqnarray}\n",
    "  E\\left[ \\widehat{\\sigma^2} \\right] &=& E\\left[ E\\left[X^2 \\right] - \\mu^2 \\right] \\\\\n",
    "                                     &=& E\\left[ E\\left[X^2 \\right] \\right] - E\\left[ \\mu^2 \\right] \\\\\n",
    "                                     &=& E\\left[X^2 \\right] - \\mu^2 \\\\\n",
    "                                     &=& \\sigma^2 \\,.\n",
    "\\end{eqnarray}\n",
    "\n",
    "In the above, we have used the fact that the expectation of an expectation value is the expectation value itself, hence $E\\left[ E\\left[ X^2 \\right] \\right] = E\\left[ X^2 \\right]$. Also, the expectation of a constant is the constant itself, hence $E\\left[ \\mu^2 \\right] = \\mu$. Note that the second to last line is simply the definition of the population variance itself.\n",
    "\n",
    "We can also show that this is a **consistent estimator**:\n",
    "\n",
    "\\begin{equation}\n",
    "  V(\\widehat{\\sigma^2}) = 2 \\frac{\\sigma^4}{N}\n",
    "\\end{equation}\n",
    "\n",
    "The above can be derived by using the common formulas for expectation values and some handy approximations. We will not attempt to demonstrate it (*see Barlow Section 2.2.2 for the derivation*) and will simply use the result. In the limit of $N \\to \\infty$, this equation will clearly go to zero."
   ]
  },
  {
   "cell_type": "markdown",
   "metadata": {},
   "source": [
    "<div class=\"example\">Example 2: Variance with unknown mean</div>\n",
    "\n",
    "Let us now consider the variance for the case where the true mean $\\mu$ is unknown and instead replaced by the sample mean, i.e. the estimate $\\widehat{\\mu} = \\langle x \\rangle$. This is in fact the uncorrected sample variance:\n",
    "\n",
    "\\begin{equation}\n",
    "  \\widehat{V(x)} \\equiv \\widehat{s^2_{\\rm uncorr}} = \\frac{1}{N} \\sum \\left(X_i - \\langle X \\rangle\\right)^2 \\,.\n",
    "\\end{equation}\n",
    "\n",
    "We can show that this is a **biased estimator** as:\n",
    "\n",
    "\\begin{eqnarray}\n",
    "  E\\left[ \\widehat{s^2_{\\rm uncorr}} \\right] &=& \\frac{N-1}{N} V(X) \\neq V(X) \\,.\n",
    "\\end{eqnarray}\n",
    "\n",
    "This result demonstrates that the variance (as defined in the problem with a $1/N$ factor) is biased if the true mean is unknown. We could however redefine it using a $N/(N-1)$ correction factor, which would enable us to obtain a satisfactory estimator:\n",
    "\n",
    "\\begin{equation}\n",
    "  \\widehat{V(X)} \\equiv \\widehat{s^2_{\\rm corr}} = \\frac{1}{N-1} \\sum (X_i - \\langle X \\rangle)^2 \\,.\n",
    "\\end{equation}\n",
    "\n",
    "This is the unbiased sample variance that we have seen in the first week! The correction factor is known as **Bessel's correction**.\n",
    "\n",
    "_Note: Using the same argument as above one can show that both biased and unbiased sample variances are **consistent estimators**._"
   ]
  },
  {
   "cell_type": "markdown",
   "metadata": {},
   "source": [
    "<div class=\"well\" align=\"center\">\n",
    "    <div class=\"container-fluid\">\n",
    "        <div class=\"row\">\n",
    "            <div class=\"col-md-3\" align=\"center\">\n",
    "                <img align=\"center\" alt=\"Creative Commons License\" style=\"border-width:0\" src=\"https://i.creativecommons.org/l/by-nc-sa/4.0/88x31.png\" width=\"60%\">\n",
    "            </div>\n",
    "            <div class=\"col-md-8\">\n",
    "            This work is licensed under a <a href=\"http://creativecommons.org/licenses/by-nc-sa/4.0/\">Creative Commons Attribution-NonCommercial-ShareAlike 4.0 International License</a>).\n",
    "            </div>\n",
    "        </div>\n",
    "    </div>\n",
    "    <br>\n",
    "    <br>\n",
    "    <i>Note: The content of this Jupyter Notebook is provided for educational purposes only.</i>\n",
    "</div>"
   ]
  }
 ],
 "metadata": {
  "kernelspec": {
   "display_name": "Python 3",
   "language": "python",
   "name": "python3"
  },
  "language_info": {
   "codemirror_mode": {
    "name": "ipython",
    "version": 3
   },
   "file_extension": ".py",
   "mimetype": "text/x-python",
   "name": "python",
   "nbconvert_exporter": "python",
   "pygments_lexer": "ipython3",
   "version": "3.8.3"
  },
  "latex_envs": {
   "LaTeX_envs_menu_present": true,
   "autocomplete": true,
   "bibliofile": "biblio.bib",
   "cite_by": "apalike",
   "current_citInitial": 1,
   "eqLabelWithNumbers": true,
   "eqNumInitial": 1,
   "hotkeys": {
    "equation": "Ctrl-E",
    "itemize": "Ctrl-I"
   },
   "labels_anchors": false,
   "latex_user_defs": false,
   "report_style_numbering": false,
   "user_envs_cfg": false
  }
 },
 "nbformat": 4,
 "nbformat_minor": 4
}
