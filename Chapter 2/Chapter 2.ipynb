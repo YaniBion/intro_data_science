{
 "cells": [
  {
   "cell_type": "code",
   "execution_count": 1,
   "metadata": {
    "scrolled": false
   },
   "outputs": [
    {
     "data": {
      "text/html": [
       "<style>.container { width:95% !important; }</style>"
      ],
      "text/plain": [
       "<IPython.core.display.HTML object>"
      ]
     },
     "metadata": {},
     "output_type": "display_data"
    },
    {
     "data": {
      "text/html": [
       "<link href=\"https://fonts.googleapis.com/css?family=Fira+Sans:300,300i,600,600i\" rel=\"stylesheet\">\n",
       "<link href=\"https://fonts.googleapis.com/css?family=Inconsolata\" rel=\"stylesheet\">\n",
       "<link href=\"https://fonts.googleapis.com/css?family=Titillium+Web:400,400i,700,700i\" rel=\"stylesheet\">\n",
       "\n",
       "\n",
       "<style>\n",
       "\n",
       ".text_cell_render p {\n",
       "font-style: regular;\n",
       "font-family: 'Fira Sans', sans-serif;\n",
       "display: block;\n",
       "text-align: justify;\n",
       "}\n",
       "/*font-weight: 200;*/\n",
       "/*text-align: left;\n",
       "line-height: 100%;\n",
       "display: block;\n",
       "}*/\n",
       "a {\n",
       "color:#377bb5;\n",
       "}\n",
       ".text_cell_render h1 {\n",
       "/*font-size: 24pt;*/\n",
       "font-family: 'Titillium Web', sans-serif;\n",
       "font-weight: bold;\n",
       "margin-bottom: 0.1em;\n",
       "margin-top: 0.5em;\n",
       "color:#4a4a4a;\n",
       "}\n",
       ".text_cell_render h2 {\n",
       "/*font-size: 21pt;*/\n",
       "    font-family: 'Titillium Web', sans-serif;\n",
       "margin-bottom: 0.1em;\n",
       "margin-top: 0.3em;\n",
       "color:#595959;\n",
       "}\n",
       ".text_cell_render h3 {\n",
       "    font-family: 'Titillium Web', sans-serif;\n",
       "/*font-size: 19pt;*/\n",
       "margin-bottom: 0.1em;\n",
       "margin-top: 0.3em;\n",
       "color:#595959;\n",
       "}\n",
       ".text_cell_render h4 {\n",
       "    font-family: 'Titillium Web', sans-serif;\n",
       "/*font-size: 17pt;*/\n",
       "margin-bottom: 0.1em;\n",
       "margin-top: 0.3em;\n",
       "color:#595959;\n",
       "}\n",
       ".text_cell_render h5 {\n",
       "    font-family: 'Titillium Web', sans-serif;\n",
       "/*font-size: 15pt;*/\n",
       "margin-bottom: 0.1em;\n",
       "margin-top: 0.3em;\n",
       "color:#595959;\n",
       "}\n",
       "div.text_cell_render{\n",
       "font-style: regular;\n",
       "font-family: 'Fira Sans', sans-serif;\n",
       "line-height: 120%;\n",
       "font-size: 100%;\n",
       "font-weight: 400;\n",
       "text-align: justify;\n",
       "margin-left:0em;\n",
       "margin-right:0em;\n",
       "}\n",
       "code {\n",
       "font-family: 'Inconsolata', monospace;\n",
       "}\n",
       "pre {\n",
       "font-family: 'Inconsolata', monospace;\n",
       "}\n",
       "\n",
       "div.example {\n",
       "    font-family: 'Titillium Web', sans-serif;\n",
       "/*font-size: 15pt;*/\n",
       "font-weight: bold;\n",
       "font-variant: small-caps;\n",
       "text-decoration: underline;\n",
       "margin-bottom: 0.1em;\n",
       "margin-top: 0.3em;\n",
       "color:#595959;\n",
       "}\n",
       "\n",
       "div.queue {\n",
       "font-size: x-large;\n",
       "font-variant: small-caps;\n",
       "font-family: 'Titillium Web', sans-serif;\n",
       "font-weight: bold;\n",
       "/*margin-bottom: 0.1em;*/\n",
       "/*margin-top: 0.5em;*/\n",
       "margin: 10px;\n",
       "padding: 10px;\n",
       "color:#cc0000;\n",
       "border-style: solid none solid none;\n",
       "border-width: 2px;\n",
       "border-color:#cc0000;\n",
       "border-spacing: 10px;\n",
       "}\n",
       "\n",
       ".reveal h1 {\n",
       "font-family: 'Titillium Web', sans-serif;\n",
       "/*font-size: 24pt;*/\n",
       "font-weight: bold;\n",
       "margin-bottom: 0.1em;\n",
       "margin-top: 0.5em;\n",
       "color:#4a4a4a;\n",
       "}\n",
       ".reveal h2 {\n",
       "font-family: 'Titillium Web', sans-serif;\n",
       "/*font-size: 24pt;*/\n",
       "font-weight: bold;\n",
       "margin-bottom: 0.1em;\n",
       "margin-top: 0.5em;\n",
       "color:#595959;\n",
       "}\n",
       ".reveal h3 {\n",
       "font-family: 'Titillium Web', sans-serif;\n",
       "/*font-size: 24pt;*/\n",
       "font-weight: bold;\n",
       "margin-bottom: 0.1em;\n",
       "margin-top: 0.5em;\n",
       "color:#595959;\n",
       "}\n",
       ".reveal h4 {\n",
       "font-family: 'Titillium Web', sans-serif;\n",
       "font-weight: bold;\n",
       "margin-bottom: 0.1em;\n",
       "margin-top: 0.5em;\n",
       "color:#595959;\n",
       "}\n",
       ".reveal div.text_cell_render{\n",
       "line-height: 120%;\n",
       "font-size: 74%;\n",
       "font-weight: 400;\n",
       "text-align: justify;\n",
       "margin-left:0em;\n",
       "margin-right:0em;\n",
       "}\n",
       ".reveal .code_cell {\n",
       "    font-size: 92%;\n",
       "}\n",
       ".reveal code {\n",
       "font-family: 'Inconsolata', monospace;\n",
       "}\n",
       ".reveal pre {\n",
       "font-family: 'Inconsolata', monospace;\n",
       "}\n",
       "\n",
       ".CodeMirror{\n",
       "font-family: \"Inconsolata\", monospace;\n",
       "}\n",
       "\n",
       "</style>"
      ],
      "text/plain": [
       "<IPython.core.display.HTML object>"
      ]
     },
     "execution_count": 1,
     "metadata": {},
     "output_type": "execute_result"
    }
   ],
   "source": [
    "## Import required Python modules\n",
    "%matplotlib inline\n",
    "import matplotlib.pyplot as plt\n",
    "import numpy as np\n",
    "import scipy, scipy.stats\n",
    "import io\n",
    "import base64\n",
    "#from IPython.core.display import display\n",
    "from IPython.display import display, HTML, Image\n",
    "from urllib.request import urlopen\n",
    "\n",
    "try:\n",
    "    import astropy as apy\n",
    "    import astropy.table\n",
    "    _apy = True\n",
    "    #print('Loaded astropy')\n",
    "except:\n",
    "    _apy = False\n",
    "    #print('Could not load astropy')\n",
    "\n",
    "## Customising the font size of figures\n",
    "plt.rcParams.update({'font.size': 14})\n",
    "\n",
    "## Customising the look of the notebook\n",
    "display(HTML(\"<style>.container { width:95% !important; }</style>\"))\n",
    "## This custom file is adapted from https://github.com/lmarti/jupyter_custom/blob/master/custom.include\n",
    "HTML('custom.css')\n",
    "#HTML(urlopen('https://raw.githubusercontent.com/bretonr/intro_data_science/master/custom.css').read().decode('utf-8'))"
   ]
  },
  {
   "cell_type": "code",
   "execution_count": 2,
   "metadata": {},
   "outputs": [
    {
     "data": {
      "text/html": [
       "<script>\n",
       "code_show=true; \n",
       "function code_toggle() {\n",
       " if (code_show){\n",
       " $('div.input').hide();\n",
       " } else {\n",
       " $('div.input').show();\n",
       " }\n",
       " code_show = !code_show\n",
       "} \n",
       "$( document ).ready(code_toggle);\n",
       "</script>\n",
       "<form action=\"javascript:code_toggle()\"><input type=\"submit\" value=\"Click here to toggle on/off the Python code.\"></form>"
      ],
      "text/plain": [
       "<IPython.core.display.HTML object>"
      ]
     },
     "execution_count": 2,
     "metadata": {},
     "output_type": "execute_result"
    }
   ],
   "source": [
    "## Adding a button to hide the Python source code\n",
    "HTML('''<script>\n",
    "code_show=true; \n",
    "function code_toggle() {\n",
    " if (code_show){\n",
    " $('div.input').hide();\n",
    " } else {\n",
    " $('div.input').show();\n",
    " }\n",
    " code_show = !code_show\n",
    "} \n",
    "$( document ).ready(code_toggle);\n",
    "</script>\n",
    "<form action=\"javascript:code_toggle()\"><input type=\"submit\" value=\"Click here to toggle on/off the Python code.\"></form>''')"
   ]
  },
  {
   "cell_type": "markdown",
   "metadata": {},
   "source": [
    "<div class=\"container-fluid\">\n",
    "    <div class=\"row\">\n",
    "        <div class=\"col-md-8\" align=\"center\">\n",
    "            <h1>PHYS 10791: Introduction to Data Science</h1>\n",
    "            <!--<h3>2019-2020 Academic Year</h3><br>-->\n",
    "        </div>\n",
    "        <div class=\"col-md-3\">\n",
    "            <img align='center' style=\"border-width:0\" src=\"images/UoM_logo.png\"/>\n",
    "        </div>\n",
    "    </div>\n",
    "</div>\n",
    "\n",
    "<div class=\"container-fluid\">\n",
    "    <div class=\"row\">\n",
    "        <div class=\"col-md-2\" align=\"right\">\n",
    "            <b>Course instructors:&nbsp;&nbsp;</b>\n",
    "        </div>\n",
    "        <div class=\"col-md-9\" align=\"left\">\n",
    "            <a href=\"http://www.renebreton.org\">Prof. Rene Breton</a> - Twitter <a href=\"https://twitter.com/BretonRene\">@BretonRene</a><br>\n",
    "            <a href=\"http://www.hep.manchester.ac.uk/u/gersabec\">Dr. Marco Gersabeck</a> - Twitter <a href=\"https://twitter.com/MarcoGersabeck\">@MarcoGersabeck</a>\n",
    "        </div>\n",
    "    </div>\n",
    "</div>"
   ]
  },
  {
   "cell_type": "markdown",
   "metadata": {},
   "source": [
    "## Syllabus\n",
    "\n",
    "1. Probabilities and interpretations\n",
    "2. **Probability distributions**\n",
    "3. Parameter estimation\n",
    "4. Maximum likelihood\n",
    "5. Least square, chi2, correlations\n",
    "6. Monte Carlo basics\n",
    "7. Goodness of fit tests\n",
    "8. Hypothesis testing\n",
    "9. Probability and confidence level\n",
    "10. Limit setting\n",
    "11. Introduction to multivariate analysis techniques"
   ]
  },
  {
   "cell_type": "markdown",
   "metadata": {},
   "source": [
    "# Chapter 2\n",
    "\n",
    "## Topics\n",
    "\n",
    "**[2.1 Probabilities and random variables](#2.1-Probabilities-and-random-variables)**\n",
    "- 2.1.1 Axioms of probability\n",
    "- 2.1.2 Bayes' theorem\n",
    "- **Case study**: The mesmerising effect of Bayes' theorem\n",
    "\n",
    "**[2.2 Probability distributions](#2.2-Probability-distributions)**\n",
    "- 2.2.1 General probability distributions:\n",
    "    - Discrete probability distribution\n",
    "    - Continuous probability distribution\n",
    "- 2.2.2 Some important probability distributions\n",
    "    - Binomial distribution\n",
    "    - Poisson distribution\n",
    "    - Gaussian/Normal distribution\n",
    "- 2.2.3 Gaussian distribution as limit of Poisson and Binomial distributions\n",
    "- 2.2.4 Other probability distributions\n",
    "    - Uniform, $\\chi^2$, Student's t, Fisher's F\n",
    "    - Multivariate Gaussian"
   ]
  },
  {
   "cell_type": "markdown",
   "metadata": {},
   "source": [
    "## Further Reading Material\n",
    "\n",
    "- **Cowan**: Chapter 1 - *Axioms of probability and Bayes theorem*\n",
    "- **Barlow**: Chapter 7.1 - *Axioms of probability and Bayes theorem*\n",
    "- **Barlow**: Chapter 3 - *Introduction to some key probability distributions (Binomial, Poisson and Gaussian)*\n",
    "- **Cowan**: Chapter 2 - *Introduction to some key probability distributions (Binomial, Poisson and Gaussian)*\n",
    "- Wikipedia page on [Bayes' theorem](https://en.wikipedia.org/wiki/Bayes%27_theorem)"
   ]
  },
  {
   "cell_type": "markdown",
   "metadata": {},
   "source": [
    "## 2.1 Probabilities and random variables"
   ]
  },
  {
   "cell_type": "markdown",
   "metadata": {},
   "source": [
    "### 2.1.1 Axioms of probability\n",
    "\n",
    "When repeating a measurement the result may change in an unforeseable manner. This is the characteristic of a random system. The degree of randomness can be quantified with the concept of probability.\n",
    "\n",
    "We will denote the symbol $\\cap$ as the *intersection*, i.e. the 'and' logical operator (both variables need to be true to return true), and the symbol $\\cup$ as the *union*, i.e. the 'or' logical operator (either or both variables need to be true to return true). The symbol $\\subset$ will define a *subset*, i.e. set contained within a bigger set.\n",
    "\n",
    "Let us define the probability following Andrey Kolmogorov's probability theory (1933).\n",
    "\n",
    "We have a set of possible results $\\Omega = \\{E_1, E_2, \\dots \\}$. To each subset $A$ of $\\Omega$ such that $A \\subset \\Omega$, one can assign a real number, $P(A)$, called probability and satisfying the three *axioms of probability*:\n",
    "\n",
    "1. For each subset $A$ such that $A \\subset \\Omega$, $P(A) \\geq 0$\n",
    "2. For all disjoint subsets $A$ and $B$ (i.e. $A \\cap B = \\emptyset$, null intersection), $P(A \\cup B) = P(A) + P(B)$ (i.e. the union of the two is simply the sum of the datasets)\n",
    "3. $P(\\Omega) = 1$\n",
    "\n",
    "The following properties can be derived from these axioms:\n",
    "\n",
    "- $P(\\bar A) = 1 - P(A)$, where $\\bar A$ is the complement subset, i.e. elements that are not part of $A$.\n",
    "- $P(A \\cup \\bar A) = 1$\n",
    "- $0 \\leq P(A) \\leq 1$\n",
    "- $P(\\emptyset) = 0$, where $\\emptyset$ is the empty set.\n",
    "- If $A \\subset B$ then $P(A) \\leq P(B)$\n",
    "- $P(A \\cup B) = P(A) + P(B) - P(A \\cap B)$"
   ]
  },
  {
   "cell_type": "markdown",
   "metadata": {},
   "source": [
    "<div class=\"example\">Example 1</div>\n",
    "\n",
    "We can use the following _Euler diagram_ to illustrate some of the above properties in a probability space.\n",
    "\n",
    "<img src=\"images/1024px-Conditional_probability.svg.png\" width=\"40%\">\n",
    "\n",
    "(Source: [Gnathan87](https://commons.wikimedia.org/wiki/User:Gnathan87), [Conditional probability](https://en.wikipedia.org/wiki/Conditional_probability#/media/File:Conditional_probability.svg), [CC0 1.0 Universal](https://creativecommons.org/publicdomain/zero/1.0/deed.en))\n",
    "\n",
    "- $P(A) = 0.3 + 0.1 + 0.12 = 0.52$\n",
    "- $P(B_2) = 0.12 + 0.04 = 0.16$\n",
    "- $P(\\bar A) = 0.34 + 0.1 + 0.04 = 0.48 = 1 - 0.52$\n",
    "- $P(A \\cup B_2) = 0.52 + 0.16 - 0.12 = 0.56$"
   ]
  },
  {
   "cell_type": "markdown",
   "metadata": {},
   "source": [
    "### 2.1.2 Bayes' theorem"
   ]
  },
  {
   "cell_type": "markdown",
   "metadata": {},
   "source": [
    "#### Conditional probability\n",
    "The *conditional probability* of an event $A$ **given** an event $B$ is defined as the ratio of the probability of the joint events (i.e. intersection of $A$ and $B$) and the probability of event $B$:\n",
    "\n",
    "\\begin{equation}\n",
    "  P(A \\mid B) = \\frac{P(A \\cap B)}{P(B)}\n",
    "\\end{equation}"
   ]
  },
  {
   "cell_type": "markdown",
   "metadata": {},
   "source": [
    "<div class=\"example\">Example 1</div>\n",
    "\n",
    "From the previous Euler diagram, we recall the probability $P(A) = 0.52$. Examining the figure, we deduce the following conditional probabilities:\n",
    "\n",
    "- $P(A \\mid B_1) = \\frac{0.1}{0.1} = 1$\n",
    "- $P(A \\mid B_2) = \\frac{0.12}{0.16} = 0.75$\n",
    "- $P(A \\mid B_3) = \\frac{0}{0.1} = 0$\n",
    "- $P(A \\mid B) = \\frac{0.1 + 0.12}{0.1 + 0.12 + 0.04 + 0.1} = 0.61$"
   ]
  },
  {
   "cell_type": "markdown",
   "metadata": {},
   "source": [
    "#### Derivation of Bayes' theorem\n",
    "\n",
    "Following the above definition, the conditional probability of B given A is given by:\n",
    "\n",
    "\\begin{equation}\n",
    "  P(B \\mid A) = \\frac{P(B \\cap A)}{P(A)}\n",
    "\\end{equation}\n",
    "\n",
    "However, the joint probability of A and B is commutative: $P(A \\cap B) = P(B \\cap A)$. As a result we can combine the two conditional probabilities to obtain:\n",
    "\n",
    "\\begin{eqnarray}\n",
    "  P(A \\mid B) &=& \\frac{P(A) P(B \\mid A)}{P(B)} \\\\\n",
    "         &=& \\frac{P(A) P(B \\mid A)}{\\sum_i P(A_i) P(B \\mid A_i)}\n",
    "\\end{eqnarray}\n",
    "\n",
    "The second form comes from the law of total probability in the case where $B$ is made of multiple subsets.\n",
    "\n",
    "This is known as **Bayes' rule (or Bayes' theorem)**. In the language of Bayesian inference we typically refer to the various terms as:\n",
    "\n",
    "- $P: P(A \\mid B)$, the posterior probability\n",
    "- $I: P(A)$, the prior probability\n",
    "- $L: P(B \\mid A)$, the likelihood probability\n",
    "- $E: P(B)$, the evidence\n",
    "\n",
    "Therefore Bayes theorem is:\n",
    "\n",
    "\\begin{equation}\n",
    "  P = \\frac{I \\mathcal{L}}{E}\n",
    "\\end{equation}\n",
    "\n",
    "For more information, I recommend watching this [video on Bayes' Theorem by 3Blue1Brown on YouTube](https://youtu.be/HZGCoVF3YvM)."
   ]
  },
  {
   "cell_type": "markdown",
   "metadata": {},
   "source": [
    "### Case study: The mesmerising effect of Bayes' theorem\n",
    "\n",
    "One of the surprising consequences of using Bayes' theorem to correctly perform statistical inference is that in certain situations it sometimes goes against our first intuition. More often than not, this is due to not correctly accounting for the prior probability (or not including it at all).\n",
    "\n",
    "Consider for instance the case of a certain type of cancer, which causes a rare symptom to manifest itself in all individuals suffering from it. It might be tempting to assert that if we observe the symptom, then the individual must necessarily be suffering from the said cancer. The answer, however, is that it is not 100% certain. In fact, the probability can be suprisingly low. Why? We must consider the prevalence of this symptom in the general population. It could be that other conditions also cause the same symptom or, even, that some healthy individuals display it.\n",
    "\n",
    "To answer such kind of problem is often easier with a table of outcome. Let us imagine that 1 in 20,000 people suffer from this cancer and that the symptom is seen in 100% of patients with this particular cancer. Let us add, however, that 1 in 10,000 people who do not have this cancer also display the symptom. Therefore:\n",
    "\n",
    "| Symptom \\ Cancer | Yes | No     | Total |\n",
    "|-------|-----|--------|-------|\n",
    "| Yes   | 1   | 2      | 3     |\n",
    "| No    | 0   | 19997  | 19997 |\n",
    "| Total | 1   | 19999  | 20000 |\n",
    "\n",
    "Recasting in a mathematical way, the question is $P({\\rm cancer} | {\\rm symptom})$. We can readily see that the answer is $1/3$, or 33%.\n",
    "\n",
    "The full Bayesian calculation is:\n",
    "\\begin{eqnarray}\n",
    "  P({\\rm cancer} \\mid {\\rm symptom}) &=& \\frac{P({\\rm cancer}) P({\\rm symptom} \\mid {\\rm cancer})}{P({\\rm symptom})} \\\\\n",
    "                                     &=& \\frac{P({\\rm cancer}) P({\\rm symptom} \\mid {\\rm cancer})}{P({\\rm cancer}) P({\\rm symptom} \\mid {\\rm cancer}) + P({\\rm no cancer}) P({\\rm symptom} \\mid {\\rm no cancer})} \\\\\n",
    "                                     &=& \\frac{1/20000 \\cdot 1}{1/20000 \\cdot 1 + 19999/20000 \\cdot 1/10000} \\\\\n",
    "                                     &=& 0.333\n",
    "\\end{eqnarray}\n",
    "\n",
    "We therefore recover the 33%.\n",
    "\n",
    "_Note that in the above table, we have rounded up the number of people who have symptom but no cancer to 2 in 19999 to make numbers integer values 'fractional people' is not realistic. On the other hand, for the proper Bayesion calculation, exact values can be used directly._"
   ]
  },
  {
   "cell_type": "markdown",
   "metadata": {},
   "source": [
    "The earlier case study was based on a problem presented on the Wikipedia page about the [Bayes' theorem](https://en.wikipedia.org/wiki/Bayes%27_theorem). Have a read for further details on the topic."
   ]
  },
  {
   "cell_type": "markdown",
   "metadata": {},
   "source": [
    "## 2.2 Probability distributions"
   ]
  },
  {
   "cell_type": "markdown",
   "metadata": {},
   "source": [
    "### 2.2.1 General probability distributions"
   ]
  },
  {
   "cell_type": "markdown",
   "metadata": {},
   "source": [
    "#### Discrete probability distribution\n",
    "\n",
    "Let us consider a single observable $x$. The sample space that corresponds to some sample space $\\Omega$ being the values that $x$ can assume. We can ask the question: how big is the probability to find/observe an event or subset of events?\n",
    "\n",
    "There are other situations in which the observable $x$ can only take a limited number of values (i.e. it has a discrete rather than a continuous support). In which case, the list of probabilities of possible outcomes is given by the **probability mass function** (PMF). As per the axioms of probability, the PMF must be normalised to unity:\n",
    "\n",
    "\\begin{equation}\n",
    "  \\sum_{x \\, \\in \\, \\Omega} f_X(x) = 1\n",
    "\\end{equation}\n",
    "\n",
    "*An example of discrete probability distribution would be the odds on rolling a dice. For a fair dice, the probability of each face is equal, therefore making their individual probabilities equal to $1/6$.*"
   ]
  },
  {
   "cell_type": "markdown",
   "metadata": {},
   "source": [
    "#### Continuous probability distribution\n",
    "\n",
    "There are other situations in which the observable $x$ is a continuous quantity. In which case, we define the **probability density function** (PDF) as probability to observe $x$ in the interval $[x,x+dx]$:\n",
    "\n",
    "\\begin{equation}\n",
    "  f(x) dx \\,.\n",
    "\\end{equation}\n",
    "\n",
    "Because the PDF represents the probability of an event, the sum of all possible outcomes over the sample space $\\Omega$ must be normalised to unity. Hence we have:\n",
    "\n",
    "\\begin{equation}\n",
    "  \\int_\\Omega f(x) dx = 1\n",
    "\\end{equation}\n",
    "\n",
    "*An example of a continuous probability distribution would be the odds of Manchester United winning the Manchester derby against Manchester City. In this case the sample space extends in the range $[0,1]$. In other situations, the sample space can be positive definite (e.g. the probability of measuring the length of an object), or even infinite.*"
   ]
  },
  {
   "cell_type": "markdown",
   "metadata": {},
   "source": [
    "### 2.2.2 Some important probability distributions"
   ]
  },
  {
   "cell_type": "markdown",
   "metadata": {},
   "source": [
    "In physical sciences, like in other areas of data science, drawing meaningful conclusions depends on properly understanding the data and their related sources of uncertainties. In this section, we will investigate three of the most fundamental statistical distributions which form the basis of most data science."
   ]
  },
  {
   "cell_type": "markdown",
   "metadata": {},
   "source": [
    "_**Note:** The Python module ```scipy.stats``` contains a large number of already implemented distributions, from which it is possible to extract the probability distributions (PDF/PMF) and auxiliary functions (such as the cummulative distribution function). You are not expected to use it for the course, but this might come handy some day._"
   ]
  },
  {
   "cell_type": "markdown",
   "metadata": {},
   "source": [
    "#### Binomial distribution\n",
    "\n",
    "The *binomial distribution* describes processes with a given number of identical trials with two possible outcomes. Also see [Binomial distribution on Wikipedia](https://en.wikipedia.org/wiki/Binomial_distribution).\n",
    "\n",
    "Examples of processes following the binomial distribution are:\n",
    "\n",
    "- Tossing a coin (head/tail)\n",
    "- Quality control test (pass/fail)\n",
    "- Treatement in medecine (cure/no cure)\n",
    "\n",
    "Events are given boolean values labelled as success/yes/true/one and the complementary outcome are called failure/no/false/zero.\n",
    "\n",
    "Let us define the following variables:\n",
    "    \n",
    "- $k$ the number of successes\n",
    "- $n$ the number of trials/events\n",
    "- $p$ the probability of an individual success.\n",
    "\n",
    "##### Probability mass function\n",
    "\n",
    "The binomial distribution (in this case the probability mass function) is given by:\n",
    "\n",
    "\\begin{equation}\n",
    "  P(k;, n, p) = p^k (1-p)^{(n-k)} \\frac{n!}{k!(n-k)!}\n",
    "\\end{equation}\n",
    "\n",
    "##### Important properties\n",
    "\n",
    "Mean: $np$\n",
    "\n",
    "Variance: $np(1-p)$"
   ]
  },
  {
   "cell_type": "markdown",
   "metadata": {},
   "source": [
    "<div class=\"example\">Example 1</div>\n",
    "\n",
    "Imagine that you toss a fair coin four times. What are the possible outcomes and their probability?\n",
    "\n",
    "_In total, there are 16 possible outcomes. However, given that the order does not matter, we can group similar outcomes together, which means that there are only 5 unique outcomes._\n",
    "\n",
    "| Outcome | Degeneracy | Probability |\n",
    "| :-----: | :--------: | :---------: |\n",
    "| HHHH    | 1          | 1/16        |\n",
    "| HHHT    | 4          | 1/4         |\n",
    "| HHTT    | 6          | 3/8         |\n",
    "| HTTT    | 4          | 1/4         |\n",
    "| TTTT    | 1          | 1/16        |\n",
    "\n",
    "\n",
    "What is the probability of having one head out of four fair coin toss?\n",
    "\n",
    "_The answer is $1/4$. Using the PMF:_\n",
    "\n",
    "\\begin{equation}\n",
    "  P(1; 4, 0.5) = 0.5^1 (1-0.5)^{4-1} \\frac{4!}{1! (4-1)!} = 0.25\n",
    "\\end{equation}"
   ]
  },
  {
   "cell_type": "code",
   "execution_count": 3,
   "metadata": {},
   "outputs": [
    {
     "name": "stdout",
     "output_type": "stream",
     "text": [
      "Example calculation in Python\n",
      "\n",
      "Probability of getting one head out of four fair coin toss.\n",
      "Method 1 (full calculation): P(1;4,0.5) = 0.25\n",
      "Method 2 (scipy.stats): P(1;4,0.5) = 0.25000000000000006\n"
     ]
    }
   ],
   "source": [
    "print('Example calculation in Python\\n')\n",
    "\n",
    "## Calculating the above in Python\n",
    "print('Probability of getting one head out of four fair coin toss.')\n",
    "\n",
    "## Method 1: the long way\n",
    "prob = 0.5 * 0.5**3 * scipy.special.factorial(4) / scipy.special.factorial(3)\n",
    "print('Method 1 (full calculation): P(1;4,0.5) = {}'.format(prob))\n",
    "\n",
    "## Method 2: the short way\n",
    "prob = scipy.stats.binom.pmf(1,4,0.5)\n",
    "print('Method 2 (scipy.stats): P(1;4,0.5) = {}'.format(prob))"
   ]
  },
  {
   "cell_type": "markdown",
   "metadata": {},
   "source": [
    "**Plotting the binomial distribution**"
   ]
  },
  {
   "cell_type": "code",
   "execution_count": 4,
   "metadata": {},
   "outputs": [
    {
     "data": {
      "image/png": "[encoded data removed]",
      "text/plain": [
       "<Figure size 864x576 with 1 Axes>"
      ]
     },
     "metadata": {
      "needs_background": "light"
     },
     "output_type": "display_data"
    }
   ],
   "source": [
    "## Generating the subplots\n",
    "fig, ax = plt.subplots(1, 1, figsize=(12,8))\n",
    "\n",
    "## Generating the PMF for three cases. Note that we use implicit array operations instead of looping through k values.\n",
    "n1 = 15\n",
    "k1 = np.arange(n1+1)\n",
    "p1 = 0.5\n",
    "prob1 = scipy.stats.binom.pmf(k1, n1, p1)\n",
    "\n",
    "n2 = 15\n",
    "k2 = np.arange(n2+1)\n",
    "p2 = 0.75\n",
    "prob2 = scipy.stats.binom.pmf(k2, n2, p2)\n",
    "\n",
    "n3 = 30\n",
    "k3 = np.arange(n3+1)\n",
    "p3 = 0.5\n",
    "prob3 = scipy.stats.binom.pmf(k3, n3, p3)\n",
    "\n",
    "## Plotting\n",
    "_ = ax.plot(k1, prob1, '.', ms=20, label='p=0.50, n=15')\n",
    "_ = ax.plot(k2, prob2, 's', ms=10, label='p=0.75, n=15')\n",
    "_ = ax.plot(k3, prob3, '^', ms=10, label='p=0.50, n=30')\n",
    "_ = ax.set_xlabel('Number of successes (k)')\n",
    "_ = ax.set_ylabel('Probability')\n",
    "_ = ax.legend()\n",
    "\n",
    "## We save the figure\n",
    "fig.savefig('./images/binomial_pmf.pdf')"
   ]
  },
  {
   "cell_type": "markdown",
   "metadata": {},
   "source": [
    "#### Poisson distribution\n",
    "\n",
    "The *Poisson distribution* describes processes in which the probability of a certain number of events occurring in a given interval of time (or space), if the average occurance rate is a known constant and the events are independent from each other. Also see [Poisson distribution on Wikipedia](https://en.wikipedia.org/wiki/Poisson_distribution).\n",
    "\n",
    "Examples of processes following the Poisson distribution are:\n",
    "\n",
    "- The number of letters received by a household in a day\n",
    "- The number of phone calls received by a call centre between 9 and 10 am\n",
    "- The number of X-ray photons received from a low-mass X-ray binary system in a 1-min window\n",
    "\n",
    "Let us define the following variables:\n",
    "    \n",
    "- $k$ the number of times an event occurs in an given interval (this is an integer value)\n",
    "- $\\lambda$ the average event rate per interval (can be any real positive number)\n",
    "\n",
    "##### Probability mass function\n",
    "The Poisson distribution (in this case the probability mass function) is given by:\n",
    "\n",
    "\\begin{equation}\n",
    "  P(k; \\lambda) = e^{-\\lambda} \\frac{\\lambda^k}{k!}\n",
    "\\end{equation}\n",
    "\n",
    "##### Important properties\n",
    "\n",
    "Mean: $\\lambda$\n",
    "\n",
    "Variance: $\\lambda$"
   ]
  },
  {
   "cell_type": "markdown",
   "metadata": {},
   "source": [
    "<div class=\"example\">Example 1</div>\n",
    "\n",
    "In 1898, Russian economist Ladislaus Bortkiewicz published a book on statistics that included a study which has now become a classic example of Poisson statistics. The study looked into the number of annual deaths of soliders in the Prussian army by horse kicks from 1875 to 1894. In 14 different army cavalry corps, over this 20 years period, there were 196 deaths.\n",
    "\n",
    "| Year | GC  | C1  | C2  | C3  | C4  | C5  | C6  | C7  | C8  | C9  | C10 | C11 | C14 | C15 |\n",
    "| :--: | :-: | :-: | :-: | :-: | :-: | :-: | :-: | :-: | :-: | :-: | :-: | :-: | :-: | :-: |\n",
    "| 1875 | 0   | 0   | 0   | 0   | 0   | 0   | 0   | 1   | 1   | 0   | 0   | 0   | 1   | 0   |\n",
    "| 1876 | 2   | 0   | 0   | 0   | 1   | 0   | 0   | 0   | 0   | 0   | 0   | 0   | 1   | 1   |\n",
    "| 1877 | 2   | 0   | 0   | 0   | 0   | 0   | 1   | 1   | 0   | 0   | 1   | 0   | 2   | 0   |\n",
    "| 1878 | 1   | 2   | 2   | 1   | 1   | 0   | 0   | 0   | 0   | 0   | 1   | 0   | 1   | 0   |\n",
    "| 1879 | 0   | 0   | 0   | 1   | 1   | 2   | 2   | 0   | 1   | 0   | 0   | 2   | 1   | 0   |\n",
    "| 1880 | 0   | 3   | 2   | 1   | 1   | 1   | 0   | 0   | 0   | 2   | 1   | 4   | 3   | 0   |\n",
    "| 1881 | 1   | 0   | 0   | 2   | 1   | 0   | 0   | 1   | 0   | 1   | 0   | 0   | 0   | 0   |\n",
    "| 1882 | 1   | 2   | 0   | 0   | 0   | 0   | 1   | 0   | 1   | 1   | 2   | 1   | 4   | 1   |\n",
    "| 1883 | 0   | 0   | 1   | 2   | 0   | 1   | 2   | 1   | 0   | 1   | 0   | 3   | 0   | 0   |\n",
    "| 1884 | 3   | 0   | 1   | 0   | 0   | 0   | 0   | 1   | 0   | 0   | 2   | 0   | 1   | 1   |\n",
    "| 1885 | 0   | 0   | 0   | 0   | 0   | 0   | 1   | 0   | 0   | 2   | 0   | 1   | 0   | 1   |\n",
    "| 1886 | 2   | 1   | 0   | 0   | 1   | 1   | 1   | 0   | 0   | 1   | 0   | 1   | 3   | 0   |\n",
    "| 1887 | 1   | 1   | 2   | 1   | 0   | 0   | 3   | 2   | 1   | 1   | 0   | 1   | 2   | 0   |\n",
    "| 1888 | 0   | 1   | 1   | 0   | 0   | 1   | 1   | 0   | 0   | 0   | 0   | 1   | 1   | 0   |\n",
    "| 1889 | 0   | 0   | 1   | 1   | 0   | 1   | 1   | 0   | 0   | 1   | 2   | 2   | 0   | 2   |\n",
    "| 1890 | 1   | 2   | 0   | 2   | 0   | 1   | 1   | 2   | 0   | 2   | 1   | 1   | 2   | 2   |\n",
    "| 1891 | 0   | 0   | 0   | 1   | 1   | 1   | 0   | 1   | 1   | 0   | 3   | 3   | 1   | 0   |\n",
    "| 1892 | 1   | 3   | 2   | 0   | 1   | 1   | 3   | 0   | 1   | 1   | 0   | 1   | 1   | 0   |\n",
    "| 1893 | 0   | 1   | 0   | 0   | 0   | 1   | 0   | 2   | 0   | 0   | 1   | 3   | 0   | 0   |\n",
    "| 1894 | 1   | 0   | 0   | 0   | 0   | 0   | 0   | 0   | 1   | 0   | 1   | 1   | 0   | 0   |\n",
    "\n",
    "| number of deaths | number of occurrences |\n",
    "| :--------------: | :-------------------: |\n",
    "| 0                | 144                   |\n",
    "| 1                | 91                    |\n",
    "| 2                | 32                    |\n",
    "| 3                | 11                    |\n",
    "| 4                | 2                     |\n",
    "| 5                | 0                     |\n",
    "| 6                | 0                     |\n",
    "\n",
    "The above statement implies that the death rate per corps per year is: $\\lambda = 196/280 = 0.7$.\n",
    "\n",
    "The probability of no deaths occurring in a given corps in a given year is:\n",
    "\n",
    "\\begin{equation}\n",
    "    P(0; 0.7) = e^{-0.7} \\frac{0.7^0}{0!} = 0.4966\n",
    "\\end{equation}\n",
    "\n",
    "To get the prediction for the number of cases where no fatality occurred in a given year and corps for the whole cavalry over the study period, we can simply multiply the previous probability by 280, which gives 139.04.\n",
    "\n",
    "```\n",
    "The observed numbers in the study show that there were actually 144 cases where no fatality occured in a given year.\n",
    "An amazing success of Poisson!\n",
    "```"
   ]
  },
  {
   "cell_type": "code",
   "execution_count": 5,
   "metadata": {},
   "outputs": [
    {
     "name": "stdout",
     "output_type": "stream",
     "text": [
      "Example calculation in Python\n",
      "\n",
      "Probability of no deaths occurring in a corps in a year.\n",
      "Method 1 (full calculation): P(0; 0.7) = 0.4966\n",
      "Method 2 (scipy.stats): P(0; 0.7) = 0.4966\n"
     ]
    }
   ],
   "source": [
    "print('Example calculation in Python\\n')\n",
    "\n",
    "## Calculating the above in Python\n",
    "print('Probability of no deaths occurring in a corps in a year.')\n",
    "\n",
    "## Method 1: the long way\n",
    "prob = np.exp(-0.7) * 0.7**0 / scipy.special.factorial(0)\n",
    "print('Method 1 (full calculation): P(0; 0.7) = {:.4}'.format(prob))\n",
    "\n",
    "## Method 2: the short way\n",
    "prob = scipy.stats.poisson.pmf(0,0.7)\n",
    "print('Method 2 (scipy.stats): P(0; 0.7) = {:.4}'.format(prob))"
   ]
  },
  {
   "cell_type": "markdown",
   "metadata": {},
   "source": [
    "**Plotting the Poisson distribution**"
   ]
  },
  {
   "cell_type": "code",
   "execution_count": 6,
   "metadata": {},
   "outputs": [
    {
     "data": {
      "image/png": "[encoded data removed]",
      "text/plain": [
       "<Figure size 864x576 with 1 Axes>"
      ]
     },
     "metadata": {
      "needs_background": "light"
     },
     "output_type": "display_data"
    }
   ],
   "source": [
    "## Generating the subplots\n",
    "fig, ax = plt.subplots(1, 1, figsize=(12,8))\n",
    "\n",
    "## Generating the PMF for three cases. Note that we use implicit array operations instead of looping through k values.\n",
    "n1 = 20\n",
    "k1 = np.arange(n1+1)\n",
    "rate1 = 1\n",
    "prob1 = scipy.stats.poisson.pmf(k1, rate1)\n",
    "\n",
    "n2 = 20\n",
    "k2 = np.arange(n2+1)\n",
    "rate2 = 5\n",
    "prob2 = scipy.stats.poisson.pmf(k2, rate2)\n",
    "\n",
    "n3 = 20\n",
    "k3 = np.arange(n3+1)\n",
    "rate3 = 10\n",
    "prob3 = scipy.stats.poisson.pmf(k3, rate3)\n",
    "\n",
    "## Plotting\n",
    "_ = ax.plot(k1, prob1, '.', ms=20, label='$\\lambda$=1')\n",
    "_ = ax.plot(k2, prob2, 's', ms=10, label='$\\lambda$=5')\n",
    "_ = ax.plot(k3, prob3, '^', ms=10, label='$\\lambda$=10')\n",
    "_ = ax.set_xlabel('Number of successes (k)')\n",
    "_ = ax.set_ylabel('Probability')\n",
    "_ = ax.legend()\n",
    "\n",
    "## We save the figure\n",
    "fig.savefig('./images/poisson_pmf.pdf')"
   ]
  },
  {
   "cell_type": "markdown",
   "metadata": {},
   "source": [
    "#### Gaussian distribution\n",
    "\n",
    "The *Gaussian distribution*, also known as normal distribution, is a continuous and symmetric probability distribution. It is possibly the most useful distribution in science and data science. One of the reasons is due to the fact that averages of samples of observations of random variables independently drawn from independent distributions converge in distribution to the normal -- this is called the central limit theorem, which we will investigate later. Also see [Normal distribution on Wikipedia](https://en.wikipedia.org/wiki/Normal_distribution).\n",
    "\n",
    "Examples of processes following the Gaussian distribution are:\n",
    "\n",
    "- The mass of a bag of flour bought at the grocery store\n",
    "- The distribution of heights of students in a core physics lecture course\n",
    "- The gravitational constant derived from a pendulum experiment by the 1st year physics students\n",
    "\n",
    "Let us define the following variables:\n",
    "    \n",
    "- $\\mu$ the mean of the Gaussian (can be any real number)\n",
    "- $\\sigma$ the standard distribution of the Gaussian (can be any real positive number)\n",
    "\n",
    "##### Probability density function\n",
    "The Gaussian distribution (in this case the probability density function) is given by:\n",
    "\n",
    "\\begin{equation}\n",
    "  P(x; \\mu, \\sigma) \\sim \\mathcal{N}(\\mu, \\sigma^2) = \\frac{1}{\\sigma \\sqrt{2\\pi}} e^{-\\frac{(x-\\mu)^2}{2\\sigma^2}}\n",
    "\\end{equation}\n",
    "\n",
    "##### Important properties\n",
    "\n",
    "Mean, median, mode: $\\mu$\n",
    "\n",
    "Variance: $\\sigma^2$"
   ]
  },
  {
   "cell_type": "markdown",
   "metadata": {},
   "source": [
    "**Plotting the Gaussian distribution**"
   ]
  },
  {
   "cell_type": "code",
   "execution_count": 7,
   "metadata": {},
   "outputs": [
    {
     "data": {
      "image/png": "[encoded data removed]",
      "text/plain": [
       "<Figure size 864x576 with 1 Axes>"
      ]
     },
     "metadata": {
      "needs_background": "light"
     },
     "output_type": "display_data"
    }
   ],
   "source": [
    "## Generating the subplots\n",
    "fig, ax = plt.subplots(1, 1, figsize=(12,8))\n",
    "\n",
    "## Generating the PMF for three cases. Note that we use implicit array operations instead of looping through k values.\n",
    "mu1 = 0.\n",
    "sigma1 = 1.\n",
    "x1 = np.linspace(-5,10,201)\n",
    "prob1 = scipy.stats.norm.pdf(x1, loc=mu1, scale=sigma1)\n",
    "\n",
    "mu2 = 0.\n",
    "sigma2 = 0.5\n",
    "x2 = np.linspace(-5,10,201)\n",
    "prob2 = scipy.stats.norm.pdf(x2, loc=mu2, scale=sigma2)\n",
    "\n",
    "mu3 = 3.\n",
    "sigma3 = 1.5\n",
    "x3 = np.linspace(-5,10,201)\n",
    "prob3 = scipy.stats.norm.pdf(x3, loc=mu3, scale=sigma3)\n",
    "\n",
    "## Plotting\n",
    "_ = ax.plot(x1, prob1, '-', lw=4, label='$\\mu=0.0$, $\\sigma=1.0$')\n",
    "_ = ax.plot(x2, prob2, '-', lw=4, label='$\\mu=0.0$, $\\sigma=0.5$')\n",
    "_ = ax.plot(x3, prob3, '-', lw=4, label='$\\mu=3.0$, $\\sigma=1.5$')\n",
    "_ = ax.set_xlabel('x')\n",
    "_ = ax.set_ylabel('Probability')\n",
    "_ = ax.legend()\n",
    "\n",
    "## We save the figure\n",
    "fig.savefig('./images/gaussian_pdf.pdf')"
   ]
  },
  {
   "cell_type": "markdown",
   "metadata": {},
   "source": [
    "<div class=\"example\">Example 1</div>\n",
    "\n",
    "Antropomorphic statistics for the UK report an average adult female height of 161.9 cm with a standard deviation of 6.5 cm. Assuming that these data follow a Gaussian distribution, how likely is it that an adult female would be taller 174.9 cm?\n",
    "\n",
    "To answer this question, it is useful to recall the value of the following areas covered by various intervals in units of standard deviation. See the figure below.\n",
    "<img src=\"images/1920px-Standard_deviation_diagram.svg.png\" width=\"50%\">\n",
    "(Source: [M. W. Toews](https://commons.wikimedia.org/wiki/User:Mwtoews), [Standard deviation diagram](https://commons.wikimedia.org/wiki/File:Standard_deviation_diagram.svg), [CC BY 2.5](https://creativecommons.org/licenses/by/2.5/legalcode))\n",
    "\n",
    "The question is therefore $P({\\rm height} > 174.9 \\mid \\mu = 161.9, \\sigma = 6.5)$. We can quickly realise that $174.9 - 161.9 = 13$, which is exactly $2 \\times 6.5 = 2 \\sigma$. Therefore, the probability is the area in the upper tail above $2\\sigma$, which is $2.1 + 0.1 = 2.2\\%$ (the exact answer, without rounding up is actually 2.28%).\n",
    "\n",
    "_**Note**: any Physics student should know the area under the curve for the key 1, 2 and 3 $\\sigma$ intervals of the Gaussian distribution. Alternatively, it may be easier to remember that the area between $\\pm 1$, $\\pm 2$ and $\\pm 3 \\sigma$ are respectively $68.26$, $95.44$ and $99.72\\%$._"
   ]
  },
  {
   "cell_type": "markdown",
   "metadata": {},
   "source": [
    "### 2.2.3 Gaussian distribution as a limit of Binomial and Poisson distributions"
   ]
  },
  {
   "cell_type": "markdown",
   "metadata": {},
   "source": [
    "#### From Binomial to Poisson\n",
    "\n",
    "The Poisson distribution can be understood as an extension of the binomial distribution where the number of trials is unknown and events can be seen as discrete in a continuous interval. Think, for instance, about rolling a dice vs lightning flashes. In the former case it is possible to define trials (i.e. rolling the dice) whereas in the former case we can record events (the time of a flash) in a continuum of time.\n",
    "\n",
    "In the above situation, we can write the event rate $\\lambda$ as the probability of an event $p$ taking place over an interval of $n$ events, that is $\\lambda = np$. Solving for $p$ and substituting into the binomial equation\n",
    "\n",
    "\\begin{equation}\n",
    "  P(k; n, \\lambda/n) = \\frac{\\lambda^k}{n^k} \\left( 1 - \\frac{\\lambda}{n} \\right)^{n-k} \\frac{n!}{k!(n-k)!} \\,.\n",
    "\\end{equation}\n",
    "\n",
    "As $n \\to \\infty$ (i.e. we make the number of intervals very large so get into a continuum)\n",
    "\n",
    "\\begin{equation}\n",
    "  P(k; n, \\lambda/n) = \\frac{\\lambda^k}{k!} \\lim_{n \\to \\infty} \\left( \\frac{1}{n^k} \\right) \\left( \\frac{n!}{(n-k)!} \\right) \\left( 1 - \\frac{\\lambda}{n} \\right)^{n} \\left( 1 - \\frac{\\lambda}{n} \\right)^{-k} \\,.\n",
    "\\end{equation}\n",
    "\n",
    "Considering the second term\n",
    "\n",
    "\\begin{equation}\n",
    "  \\lim_{n \\to \\infty} \\frac{n!}{(n-k)!} = \\lim_{n \\to \\infty} n(n-1)(n-2)...(n-k+1) = n^k \\,,\n",
    "\\end{equation}\n",
    "\n",
    "where the middle equality comprises $k$ elements. This result will cancel with the first term from above.\n",
    "\n",
    "Recalling the definition of the $e$ (see <a href=\"https://en.wikipedia.org/wiki/E_(mathematical_constant)\">Wikipedia</a>) as the limit\n",
    "\n",
    "\\begin{equation}\n",
    "  e = \\lim_{x \\to \\infty} \\left( 1 + \\frac{1}{x} \\right)^{x} \\,,\n",
    "\\end{equation}\n",
    "\n",
    "and making the variable change $x = -n/\\lambda$, the third term becomes\n",
    "\n",
    "\\begin{equation}\n",
    "  \\lim_{n \\to \\infty} \\left( 1 - \\frac{\\lambda}{n} \\right)^{n} = \\lim_{x \\to \\infty} \\left( 1 + \\frac{1}{x} \\right)^{x (-\\lambda)} = e^{-\\lambda} \\,.\n",
    "\\end{equation}\n",
    "\n",
    "Considering the last term\n",
    "\n",
    "\\begin{equation}\n",
    "  \\lim_{n \\to \\infty} \\left( 1 - \\frac{\\lambda}{n} \\right)^{-k} = 1^{-k} = 1 \\,.\n",
    "\\end{equation}\n",
    "\n",
    "Putting them together\n",
    "\n",
    "\\begin{equation}\n",
    "  P(k; \\lambda) = e^{-\\lambda} \\frac{\\lambda^k}{k!} \\,,\n",
    "\\end{equation}\n",
    "\n",
    "which is just the Poisson distribution."
   ]
  },
  {
   "cell_type": "markdown",
   "metadata": {},
   "source": [
    "#### From Poisson to Gaussian and Binomial to Gaussian\n",
    "\n",
    "Both Binomial and Poisson distribution turn into Gaussian distributions in the limit where $n$ and $\\lambda$ are infinity.\n",
    "\n",
    "<img src=\"images/stats triad.pdf\" width=\"40%\">"
   ]
  },
  {
   "cell_type": "code",
   "execution_count": 8,
   "metadata": {},
   "outputs": [
    {
     "data": {
      "image/png": "[encoded data removed]",
      "text/plain": [
       "<Figure size 1152x432 with 2 Axes>"
      ]
     },
     "metadata": {
      "needs_background": "light"
     },
     "output_type": "display_data"
    }
   ],
   "source": [
    "## Generating the subplots\n",
    "fig, ax = plt.subplots(1, 2, figsize=(16,6))\n",
    "\n",
    "## Generating the PMF for three cases (binomial, Poisson and Gaussian).\n",
    "n1 = 10\n",
    "p1 = 0.5\n",
    "k1 = np.arange(n1*p1*3)\n",
    "binom1 = scipy.stats.binom.pmf(k1, n1, p1)\n",
    "\n",
    "rate1 = n1*p1\n",
    "poisson1 = scipy.stats.poisson.pmf(k1, rate1)\n",
    "\n",
    "mu1 = n1*p1\n",
    "sigma1 = np.sqrt(n1*p1*(1-p1))\n",
    "x1 = np.linspace(0,n1*p1*3,201)\n",
    "gauss1 = scipy.stats.norm.pdf(x1, loc=mu1, scale=sigma1)\n",
    "\n",
    "## Plotting\n",
    "_ = ax[0].plot(k1, binom1, '.', ms=20, label='Binomial $P(k;10,0.5)$')\n",
    "_ = ax[0].plot(k1, poisson1, 's', ms=10, label='Poisson $P(k;5)$')\n",
    "_ = ax[0].plot(x1, gauss1, '-', lw=4, label='Gaussian $\\mathcal{N}(5,2.5)$')\n",
    "_ = ax[0].set_xlabel('Number of successes (k)')\n",
    "_ = ax[0].set_ylabel('Probability')\n",
    "_ = ax[0].legend()\n",
    "\n",
    "## Generating the PMF for three cases (binomial, Poisson and Gaussian).\n",
    "n2 = 300\n",
    "p2 = 0.1\n",
    "k2 = np.arange(n2*p2*2)\n",
    "binom2 = scipy.stats.binom.pmf(k2, n2, p2)\n",
    "\n",
    "rate2 = n2*p2\n",
    "poisson2 = scipy.stats.poisson.pmf(k2, rate2)\n",
    "\n",
    "mu2 = n2*p2\n",
    "sigma2 = np.sqrt(n2*p2*(1-p2))\n",
    "x2 = np.linspace(0,n2*p2*2,201)\n",
    "gauss2 = scipy.stats.norm.pdf(x2, loc=mu2, scale=sigma2)\n",
    "\n",
    "## Plotting\n",
    "_ = ax[1].plot(k2, binom2, '.', ms=20, label='Binomial $P(k;300,0.1)$')\n",
    "_ = ax[1].plot(k2, poisson2, 's', ms=10, label='Poisson $P(k;30)$')\n",
    "_ = ax[1].plot(x2, gauss2, '-', lw=4, label='Gaussian $\\mathcal{N}(30,27)$')\n",
    "_ = ax[1].set_xlabel('Number of successes (k)')\n",
    "_ = ax[1].set_ylabel('Probability')\n",
    "_ = ax[1].legend()\n",
    "\n",
    "## We save the figure\n",
    "fig.savefig('./images/gaussian_limit.pdf')"
   ]
  },
  {
   "cell_type": "markdown",
   "metadata": {},
   "source": [
    "Without going into the full derivations, we can empirically see that from plots of the distributions. The full mathematical proof relates to the _central limit theorem_ (Chapter 3), but is beyond the scope of this course."
   ]
  },
  {
   "cell_type": "markdown",
   "metadata": {},
   "source": [
    "### 2.2.4 Other probability distributions\n",
    "\n",
    "There are many more types of one-dimensional distributions. Here are some examples:"
   ]
  },
  {
   "cell_type": "markdown",
   "metadata": {},
   "source": [
    "#### Uniform\n",
    "\n",
    "Appears as a rather trivial distribution, where all values in an interval have equal probabilities. This is the basis of Monte Carlo techniques, and various sampling techniques."
   ]
  },
  {
   "cell_type": "markdown",
   "metadata": {},
   "source": [
    "#### Chi-squared ($\\chi^2$)\n",
    "\n",
    "The distribution of a sum of the squares of k independent standard normal random variables. Used for hypothesis testing (such as performing a linear regression)."
   ]
  },
  {
   "cell_type": "markdown",
   "metadata": {},
   "source": [
    "#### Student's t-distribution\n",
    "\n",
    "Frequency distribution of standard deviations of samples drawn from a normal population. Arises when estimating the mean of a normally distributed population in situations where the sample size is small and population standard deviation is unknown."
   ]
  },
  {
   "cell_type": "markdown",
   "metadata": {},
   "source": [
    "#### F-distribution\n",
    "\n",
    "Distribution that arises when comparing statistical models that have been fitted to a data set, in order to identify the model that best fits the population from which the data were sampled. Typically involves data fitted with least squares."
   ]
  },
  {
   "cell_type": "markdown",
   "metadata": {},
   "source": [
    "#### Multivariate Gaussian\n",
    "\n",
    "The *multivariate Gaussian* (or multivariate normal) is a generalization of the one-dimensional (univariate) normal distribution to higher dimensions. It is highly important for likelihood/Bayesian analysis.\n",
    "\n",
    "*Note: the full matrix formulation from below is provided as a learning supplement. In this course we will limit ourselves to the 1D and 2D Gaussiances, for which an explicit formula can be written as further below. Question to tease your brain: what would the explicit formula for a 3D Gaussian look like? (hint: compare the 1D and the 2D versions)*\n",
    "\n",
    "\\begin{equation}\n",
    "  f(\\underline{x}; \\underline{\\mu}, \\underline{\\underline{\\Sigma}}) = \\mathcal{N}_k(\\underline{\\mu}, \\underline{\\underline{\\Sigma}}) = \\frac{\\exp\\left(-\\frac 1 2 (\\underline{x}-\\underline{\\mu})^\\mathrm{T}\\underline{\\underline{\\Sigma}}^{-1}(\\underline{x}-\\underline{\\mu})\\right)}{\\sqrt{(2\\pi)^k \\left| \\underline{\\underline{\\Sigma}} \\right|}}\n",
    "\\end{equation}\n",
    "\n",
    "where:\n",
    "\n",
    "$k$ is the number of dimensions\n",
    "\n",
    "$\\underline{x}$ is a $k$-dimension column vector\n",
    "\n",
    "$\\underline{\\mu}$ is the $k$-dimension vector of means\n",
    "\n",
    "$\\underline{\\underline{\\Sigma}}$ is the covariance matrix\n",
    "\n",
    "$\\left| \\underline{\\underline{\\Sigma}} \\right| \\equiv \\operatorname{det}\\underline{\\underline{\\Sigma}}$ is the determinant of $\\underline{\\underline{\\Sigma}}$\n",
    "<br>\n",
    "<br>\n",
    "\n",
    "##### Two-dimensional case\n",
    "In two dimensions, for the variables $(x,y)$, the covariance matrix can be re-written as:\n",
    "\n",
    "\\begin{equation}\n",
    "    \\underline{\\underline{\\Sigma}} = \n",
    "    \\begin{bmatrix}\n",
    "        \\sigma_x^2 & \\rho \\sigma_x \\sigma_y \\\\\n",
    "        \\rho \\sigma_x \\sigma_y & \\sigma_y^2\n",
    "    \\end{bmatrix} \\quad .\n",
    "\\end{equation}\n",
    "\n",
    "In the above equation, we use the correlation coeffcient $\\rho = \\frac{\\operatorname{cov}(x,z)}{\\sigma_x \\sigma_y}$ as defined in Chapter 1. Therefore\n",
    "\n",
    "\\begin{equation}\n",
    "    \\underline{\\underline{\\Sigma}}^{-1} = \\frac{1}{\\left(1-\\rho^2\\right)}\n",
    "    \\begin{bmatrix}\n",
    "        \\frac{1}{\\sigma_x^2} & \\frac{-\\rho}{\\sigma_x \\sigma_y} \\\\\n",
    "        \\frac{-\\rho}{\\sigma_x \\sigma_y} & \\frac{1}{\\sigma_y^2}\n",
    "    \\end{bmatrix} \\quad ,\n",
    "\\end{equation}\n",
    "\n",
    "and\n",
    "\n",
    "\\begin{equation}\n",
    "    \\left| \\underline{\\underline{\\Sigma}} \\right| = \\sigma_x^2 \\sigma_y^2 \\left(1-\\rho^2\\right) \\quad .\n",
    "\\end{equation}\n",
    "\n",
    "The row vector $\\left( \\underline{x}-\\underline{\\mu} \\right)$ is\n",
    "\n",
    "\\begin{equation}\n",
    "    \\left( \\underline{x}-\\underline{\\mu} \\right) =\n",
    "        \\begin{bmatrix}\n",
    "            x - \\mu_x \\\\\n",
    "            y - \\mu_y\n",
    "        \\end{bmatrix} \\,.\n",
    "\\end{equation}\n",
    "\n",
    "Putting it all together, and ensuring that the right order of priority is applied to matrix algebra, one obtains:\n",
    "\n",
    "\\begin{equation}\n",
    "  f(x,y) = \\frac{1}{2 \\pi  \\sigma_x \\sigma_y \\sqrt{1-\\rho^2}}\n",
    "    \\exp\\left(\n",
    "      -\\frac{1}{2(1-\\rho^2)}\\left[\n",
    "          \\frac{(x-\\mu_x)^2}{\\sigma_x^2} +\n",
    "          \\frac{(y-\\mu_y)^2}{\\sigma_y^2} -\n",
    "          \\frac{2\\rho(x-\\mu_x)(y-\\mu_y)}{\\sigma_x \\sigma_y}\n",
    "      \\right]\n",
    "    \\right)\n",
    "\\end{equation}\n",
    "\n",
    "<img src=\"images/MultivariateNormal.png\" width=60% >\n",
    "\n",
    "(Source: [Bscan](https://commons.wikimedia.org/wiki/User:Bscan), [Multivariate normal distribution](https://en.wikipedia.org/wiki/Multivariate_normal_distribution#/media/File:MultivariateNormal.png), [CC0 1.0 Universal](https://creativecommons.org/publicdomain/zero/1.0/deed.en))\n"
   ]
  },
  {
   "cell_type": "markdown",
   "metadata": {},
   "source": [
    "<div class=\"well\" align=\"center\">\n",
    "    <div class=\"container-fluid\">\n",
    "        <div class=\"row\">\n",
    "            <div class=\"col-md-3\" align=\"center\">\n",
    "                <img align=\"center\" alt=\"Creative Commons License\" style=\"border-width:0\" src=\"https://i.creativecommons.org/l/by-nc-sa/4.0/88x31.png\" width=\"60%\">\n",
    "            </div>\n",
    "            <div class=\"col-md-8\">\n",
    "            This work is licensed under a <a href=\"http://creativecommons.org/licenses/by-nc-sa/4.0/\">Creative Commons Attribution-NonCommercial-ShareAlike 4.0 International License</a>).\n",
    "            </div>\n",
    "        </div>\n",
    "    </div>\n",
    "    <br>\n",
    "    <br>\n",
    "    <i>Note: The content of this Jupyter Notebook is provided for educational purposes only.</i>\n",
    "</div>"
   ]
  }
 ],
 "metadata": {
  "kernelspec": {
   "display_name": "Python 3",
   "language": "python",
   "name": "python3"
  },
  "language_info": {
   "codemirror_mode": {
    "name": "ipython",
    "version": 3
   },
   "file_extension": ".py",
   "mimetype": "text/x-python",
   "name": "python",
   "nbconvert_exporter": "python",
   "pygments_lexer": "ipython3",
   "version": "3.8.3"
  },
  "latex_envs": {
   "LaTeX_envs_menu_present": true,
   "autocomplete": true,
   "bibliofile": "biblio.bib",
   "cite_by": "apalike",
   "current_citInitial": 1,
   "eqLabelWithNumbers": true,
   "eqNumInitial": 1,
   "hotkeys": {
    "equation": "Ctrl-E",
    "itemize": "Ctrl-I"
   },
   "labels_anchors": false,
   "latex_user_defs": false,
   "report_style_numbering": false,
   "user_envs_cfg": false
  }
 },
 "nbformat": 4,
 "nbformat_minor": 4
}
