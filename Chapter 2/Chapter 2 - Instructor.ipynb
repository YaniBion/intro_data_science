{
 "cells": [
  {
   "cell_type": "code",
   "execution_count": 1,
   "metadata": {
    "scrolled": true
   },
   "outputs": [
    {
     "data": {
      "text/html": [
       "<style>.container { width:95% !important; }</style>"
      ],
      "text/plain": [
       "<IPython.core.display.HTML object>"
      ]
     },
     "metadata": {},
     "output_type": "display_data"
    },
    {
     "data": {
      "text/html": [
       "<link href=\"https://fonts.googleapis.com/css?family=Fira+Sans:300,300i,600,600i\" rel=\"stylesheet\">\n",
       "<link href=\"https://fonts.googleapis.com/css?family=Inconsolata\" rel=\"stylesheet\">\n",
       "<link href=\"https://fonts.googleapis.com/css?family=Titillium+Web:400,400i,700,700i\" rel=\"stylesheet\">\n",
       "\n",
       "\n",
       "<style>\n",
       "\n",
       ".text_cell_render p {\n",
       "font-style: regular;\n",
       "font-family: 'Fira Sans', sans-serif;\n",
       "display: block;\n",
       "text-align: justify;\n",
       "}\n",
       "/*font-weight: 200;*/\n",
       "/*text-align: left;\n",
       "line-height: 100%;\n",
       "display: block;\n",
       "}*/\n",
       "a {\n",
       "color:#377bb5;\n",
       "}\n",
       ".text_cell_render h1 {\n",
       "/*font-size: 24pt;*/\n",
       "font-family: 'Titillium Web', sans-serif;\n",
       "font-weight: bold;\n",
       "margin-bottom: 0.1em;\n",
       "margin-top: 0.5em;\n",
       "color:#4a4a4a;\n",
       "}\n",
       ".text_cell_render h2 {\n",
       "/*font-size: 21pt;*/\n",
       "    font-family: 'Titillium Web', sans-serif;\n",
       "margin-bottom: 0.1em;\n",
       "margin-top: 0.3em;\n",
       "color:#595959;\n",
       "}\n",
       ".text_cell_render h3 {\n",
       "    font-family: 'Titillium Web', sans-serif;\n",
       "/*font-size: 19pt;*/\n",
       "margin-bottom: 0.1em;\n",
       "margin-top: 0.3em;\n",
       "color:#595959;\n",
       "}\n",
       ".text_cell_render h4 {\n",
       "    font-family: 'Titillium Web', sans-serif;\n",
       "/*font-size: 17pt;*/\n",
       "margin-bottom: 0.1em;\n",
       "margin-top: 0.3em;\n",
       "color:#595959;\n",
       "}\n",
       ".text_cell_render h5 {\n",
       "    font-family: 'Titillium Web', sans-serif;\n",
       "/*font-size: 15pt;*/\n",
       "margin-bottom: 0.1em;\n",
       "margin-top: 0.3em;\n",
       "color:#595959;\n",
       "}\n",
       "div.text_cell_render{\n",
       "font-style: regular;\n",
       "font-family: 'Fira Sans', sans-serif;\n",
       "line-height: 120%;\n",
       "font-size: 100%;\n",
       "font-weight: 400;\n",
       "text-align: justify;\n",
       "margin-left:0em;\n",
       "margin-right:0em;\n",
       "}\n",
       "code {\n",
       "font-family: 'Inconsolata', monospace;\n",
       "}\n",
       "pre {\n",
       "font-family: 'Inconsolata', monospace;\n",
       "}\n",
       "\n",
       "div.example {\n",
       "    font-family: 'Titillium Web', sans-serif;\n",
       "/*font-size: 15pt;*/\n",
       "font-weight: bold;\n",
       "font-variant: small-caps;\n",
       "text-decoration: underline;\n",
       "margin-bottom: 0.1em;\n",
       "margin-top: 0.3em;\n",
       "color:#595959;\n",
       "}\n",
       "\n",
       "div.queue {\n",
       "font-size: x-large;\n",
       "font-variant: small-caps;\n",
       "font-family: 'Titillium Web', sans-serif;\n",
       "font-weight: bold;\n",
       "/*margin-bottom: 0.1em;*/\n",
       "/*margin-top: 0.5em;*/\n",
       "margin: 10px;\n",
       "padding: 10px;\n",
       "color:#cc0000;\n",
       "border-style: solid none solid none;\n",
       "border-width: 2px;\n",
       "border-color:#cc0000;\n",
       "border-spacing: 10px;\n",
       "}\n",
       "\n",
       ".reveal h1 {\n",
       "font-family: 'Titillium Web', sans-serif;\n",
       "/*font-size: 24pt;*/\n",
       "font-weight: bold;\n",
       "margin-bottom: 0.1em;\n",
       "margin-top: 0.5em;\n",
       "color:#4a4a4a;\n",
       "}\n",
       ".reveal h2 {\n",
       "font-family: 'Titillium Web', sans-serif;\n",
       "/*font-size: 24pt;*/\n",
       "font-weight: bold;\n",
       "margin-bottom: 0.1em;\n",
       "margin-top: 0.5em;\n",
       "color:#595959;\n",
       "}\n",
       ".reveal h3 {\n",
       "font-family: 'Titillium Web', sans-serif;\n",
       "/*font-size: 24pt;*/\n",
       "font-weight: bold;\n",
       "margin-bottom: 0.1em;\n",
       "margin-top: 0.5em;\n",
       "color:#595959;\n",
       "}\n",
       ".reveal h4 {\n",
       "font-family: 'Titillium Web', sans-serif;\n",
       "font-weight: bold;\n",
       "margin-bottom: 0.1em;\n",
       "margin-top: 0.5em;\n",
       "color:#595959;\n",
       "}\n",
       ".reveal div.text_cell_render{\n",
       "line-height: 120%;\n",
       "font-size: 74%;\n",
       "font-weight: 400;\n",
       "text-align: justify;\n",
       "margin-left:0em;\n",
       "margin-right:0em;\n",
       "}\n",
       ".reveal .code_cell {\n",
       "    font-size: 92%;\n",
       "}\n",
       ".reveal code {\n",
       "font-family: 'Inconsolata', monospace;\n",
       "}\n",
       ".reveal pre {\n",
       "font-family: 'Inconsolata', monospace;\n",
       "}\n",
       "\n",
       ".CodeMirror{\n",
       "font-family: \"Inconsolata\", monospace;\n",
       "}\n",
       "\n",
       "</style>"
      ],
      "text/plain": [
       "<IPython.core.display.HTML object>"
      ]
     },
     "execution_count": 1,
     "metadata": {},
     "output_type": "execute_result"
    }
   ],
   "source": [
    "## Import required Python modules\n",
    "%matplotlib inline\n",
    "import matplotlib.pyplot as plt\n",
    "import numpy as np\n",
    "import scipy, scipy.stats\n",
    "import io\n",
    "import base64\n",
    "#from IPython.core.display import display\n",
    "from IPython.display import display, HTML, Image\n",
    "from urllib.request import urlopen\n",
    "\n",
    "try:\n",
    "    import astropy as apy\n",
    "    import astropy.table\n",
    "    _apy = True\n",
    "    #print('Loaded astropy')\n",
    "except:\n",
    "    _apy = False\n",
    "    #print('Could not load astropy')\n",
    "\n",
    "## Customising the font size of figures\n",
    "plt.rcParams.update({'font.size': 14})\n",
    "\n",
    "## Customising the look of the notebook\n",
    "display(HTML(\"<style>.container { width:95% !important; }</style>\"))\n",
    "## This custom file is adapted from https://github.com/lmarti/jupyter_custom/blob/master/custom.include\n",
    "HTML('custom.css')\n",
    "#HTML(urlopen('https://raw.githubusercontent.com/bretonr/intro_data_science/master/custom.css').read().decode('utf-8'))"
   ]
  },
  {
   "cell_type": "code",
   "execution_count": 2,
   "metadata": {
    "scrolled": true
   },
   "outputs": [
    {
     "data": {
      "text/html": [
       "<script>\n",
       "code_show=true; \n",
       "function code_toggle() {\n",
       " if (code_show){\n",
       " $('div.input').hide();\n",
       " } else {\n",
       " $('div.input').show();\n",
       " }\n",
       " code_show = !code_show\n",
       "} \n",
       "$( document ).ready(code_toggle);\n",
       "</script>\n",
       "<form action=\"javascript:code_toggle()\"><input type=\"submit\" value=\"Click here to toggle on/off the Python code.\"></form>"
      ],
      "text/plain": [
       "<IPython.core.display.HTML object>"
      ]
     },
     "execution_count": 2,
     "metadata": {},
     "output_type": "execute_result"
    }
   ],
   "source": [
    "## Adding a button to hide the Python source code\n",
    "HTML('''<script>\n",
    "code_show=true; \n",
    "function code_toggle() {\n",
    " if (code_show){\n",
    " $('div.input').hide();\n",
    " } else {\n",
    " $('div.input').show();\n",
    " }\n",
    " code_show = !code_show\n",
    "} \n",
    "$( document ).ready(code_toggle);\n",
    "</script>\n",
    "<form action=\"javascript:code_toggle()\"><input type=\"submit\" value=\"Click here to toggle on/off the Python code.\"></form>''')"
   ]
  },
  {
   "cell_type": "markdown",
   "metadata": {},
   "source": [
    "<div class=\"container-fluid\">\n",
    "    <div class=\"row\">\n",
    "        <div class=\"col-md-8\" align=\"center\">\n",
    "            <h1>PHYS 10791: Introduction to Data Science</h1>\n",
    "            <!--<h3>2019-2020 Academic Year</h3><br>-->\n",
    "        </div>\n",
    "        <div class=\"col-md-3\">\n",
    "            <img align='center' style=\"border-width:0\" src=\"images/UoM_logo.png\"/>\n",
    "        </div>\n",
    "    </div>\n",
    "</div>\n",
    "\n",
    "<div class=\"container-fluid\">\n",
    "    <div class=\"row\">\n",
    "        <div class=\"col-md-2\" align=\"right\">\n",
    "            <b>Course instructors:&nbsp;&nbsp;</b>\n",
    "        </div>\n",
    "        <div class=\"col-md-9\" align=\"left\">\n",
    "            <a href=\"http://www.renebreton.org\">Prof. Rene Breton</a> - Twitter <a href=\"https://twitter.com/BretonRene\">@BretonRene</a><br>\n",
    "            <a href=\"http://www.hep.manchester.ac.uk/u/gersabec\">Dr. Marco Gersabeck</a> - Twitter <a href=\"https://twitter.com/MarcoGersabeck\">@MarcoGersabeck</a>\n",
    "        </div>\n",
    "    </div>\n",
    "</div>"
   ]
  },
  {
   "cell_type": "markdown",
   "metadata": {},
   "source": [
    "<div class=\"queue\">\n",
    "    Lecture 3 - 00:00\n",
    "</div>"
   ]
  },
  {
   "cell_type": "markdown",
   "metadata": {},
   "source": [
    "## 2.1 The importance of data visualisation"
   ]
  },
  {
   "cell_type": "markdown",
   "metadata": {},
   "source": [
    "### Case study: The Anscombe Quartet\n",
    "\n",
    "```\n",
    "Anscombe's quartet comprises four datasets that have nearly identical simple descriptive statistics, yet appear very different when graphed. Each dataset consists of eleven (x,y) points. They were constructed in 1973 by the statistician Francis Anscombe to demonstrate both the importance of graphing data before analyzing it and the effect of outliers on statistical properties. He described the article as being intended to attack the impression among statisticians that \"numerical calculations are exact, but graphs are rough.\n",
    "```\n",
    "\n",
    "<div style=\"text-align: right\">[Anscombe Quartet (Wikipedia)](https://en.wikipedia.org/wiki/Anscombe%27s_quartet)</div>"
   ]
  },
  {
   "cell_type": "markdown",
   "metadata": {},
   "source": [
    "*Note: You are not expected to understand all the coding in this section, but rather to look at the concept and results. We present the code so you can learn coding tricks to read data, compute useful values, fit and plot data.*"
   ]
  },
  {
   "cell_type": "markdown",
   "metadata": {},
   "source": [
    "**The data**"
   ]
  },
  {
   "cell_type": "code",
   "execution_count": 3,
   "metadata": {
    "scrolled": true
   },
   "outputs": [
    {
     "name": "stdout",
     "output_type": "stream",
     "text": [
      " Ix    Iy  IIx  IIy  IIIx  IIIy IVx  IVy \n",
      "---- ----- ---- ---- ---- ----- ---- ----\n",
      "10.0  8.04 10.0 9.14 10.0  7.46  8.0 6.58\n",
      " 8.0  6.95  8.0 8.14  8.0  6.77  8.0 5.76\n",
      "13.0  7.58 13.0 8.74 13.0 12.74  8.0 7.71\n",
      " 9.0  8.81  9.0 8.77  9.0  7.11  8.0 8.84\n",
      "11.0  8.33 11.0 9.26 11.0  7.81  8.0 8.47\n",
      "14.0  9.96 14.0  8.1 14.0  8.84  8.0 7.04\n",
      " 6.0  7.24  6.0 6.13  6.0  6.08  8.0 5.25\n",
      " 4.0  4.26  4.0  3.1  4.0  5.39 19.0 12.5\n",
      "12.0 10.84 12.0 9.13 12.0  8.15  8.0 5.56\n",
      " 7.0  4.82  7.0 7.26  7.0  6.42  8.0 7.91\n",
      " 5.0  5.68  5.0 4.74  5.0  5.73  8.0 6.89\n"
     ]
    }
   ],
   "source": [
    "## Reading the Anscombe Quartet data an putting them in an array\n",
    "\n",
    "from io import StringIO\n",
    "c = StringIO(\"\"\"\n",
    "Ix  ,     Iy,   IIx,   IIy,  IIIx,   IIIy,   IVx,   IVy\n",
    "10.0,  8.04 ,  10.0,  9.14,  10.0,  7.46 ,  8.0 ,  6.58 \n",
    "8.0 ,  6.95 ,  8.0 ,  8.14,  8.0 ,  6.77 ,  8.0 ,  5.76 \n",
    "13.0,  7.58 ,  13.0,  8.74,  13.0,  12.74,  8.0 ,  7.71 \n",
    "9.0 ,  8.81 ,  9.0 ,  8.77,  9.0 ,  7.11 ,  8.0 ,  8.84 \n",
    "11.0,  8.33 ,  11.0,  9.26,  11.0,  7.81 ,  8.0 ,  8.47 \n",
    "14.0,  9.96 ,  14.0,  8.10,  14.0,  8.84 ,  8.0 ,  7.04 \n",
    "6.0 ,  7.24 ,  6.0 ,  6.13,  6.0 ,  6.08 ,  8.0 ,  5.25 \n",
    "4.0 ,  4.26 ,  4.0 ,  3.10,  4.0 ,  5.39 ,  19.0,  12.50\n",
    "12.0,  10.84,  12.0,  9.13,  12.0,  8.15 ,  8.0 ,  5.56 \n",
    "7.0 ,  4.82 ,  7.0 ,  7.26,  7.0 ,  6.42 ,  8.0 ,  7.91 \n",
    "5.0 ,  5.68 ,  5.0 ,  4.74,  5.0 ,  5.73 ,  8.0 ,  6.89\n",
    "\"\"\")\n",
    "data = np.genfromtxt(c, delimiter=',', names=True)\n",
    "\n",
    "apy.table.Table(data).pprint()"
   ]
  },
  {
   "cell_type": "markdown",
   "metadata": {},
   "source": [
    "**Calculating statistical properties**"
   ]
  },
  {
   "cell_type": "code",
   "execution_count": 4,
   "metadata": {
    "scrolled": true
   },
   "outputs": [
    {
     "name": "stdout",
     "output_type": "stream",
     "text": [
      "Mean of x:\n",
      "9.00  9.00  9.00  9.00\n",
      "\n",
      "Uncorrected sample standard deviation of x:\n",
      "3.16  3.16  3.16  3.16\n",
      "\n",
      "Mean of y:\n",
      "7.50  7.50  7.50  7.50\n",
      "\n",
      "Uncorrected sample standard deviation of y:\n",
      "1.94  1.94  1.94  1.94\n",
      "\n",
      "Correlation between x and y:\n",
      "0.82  0.82  0.82  0.82\n"
     ]
    }
   ],
   "source": [
    "\n",
    "print('Mean of x:')\n",
    "print('{:.2f}  {:.2f}  {:.2f}  {:.2f}'.format(data['Ix'].mean(),data['IIx'].mean(),data['IIIx'].mean(),data['IVx'].mean()))\n",
    "print('')\n",
    "\n",
    "print('Uncorrected sample standard deviation of x:')\n",
    "print('{:.2f}  {:.2f}  {:.2f}  {:.2f}'.format(data['Ix'].std(),data['IIx'].std(),data['IIIx'].std(),data['IVx'].std()))\n",
    "print('')\n",
    "\n",
    "print('Mean of y:')\n",
    "print('{:.2f}  {:.2f}  {:.2f}  {:.2f}'.format(data['Iy'].mean(),data['IIy'].mean(),data['IIIy'].mean(),data['IVy'].mean()))\n",
    "print('')\n",
    "\n",
    "print('Uncorrected sample standard deviation of y:')\n",
    "print('{:.2f}  {:.2f}  {:.2f}  {:.2f}'.format(data['Iy'].std(),data['IIy'].std(),data['IIIy'].std(),data['IVy'].std()))\n",
    "print('')\n",
    "\n",
    "print('Correlation between x and y:')\n",
    "print('{:.2f}  {:.2f}  {:.2f}  {:.2f}'.format(np.corrcoef(data['Ix'],data['Iy'])[0,1], np.corrcoef(data['Ix'],data['Iy'])[0,1], np.corrcoef(data['Ix'],data['Iy'])[0,1], np.corrcoef(data['Ix'],data['Iy'])[0,1]))"
   ]
  },
  {
   "cell_type": "markdown",
   "metadata": {},
   "source": [
    "**Simple data fitting**\n",
    "\n",
    "We want to fit a line, $y = mx + b$, through the data. This can be done **analytically**! (see *Data Analysis, Semester 1*)\n",
    "\n",
    "We can rewrite this equation as $\\underline{y} = \\underline{\\underline{A}} \\cdot \\underline{p}$, where:\n",
    "\n",
    "$\\underline{y}$ is a n-element column vector with elements $y_i$,\n",
    "\n",
    "$\\underline{\\underline{A}}$ is a $n \\times 2$ matrix with elements defined as $A_{ij}= [[x_i \\quad 1]]$, and \n",
    "\n",
    "$\\underline{p}$ is a 2-element column vector with elements defined as $p_j = [m, b]$.\n",
    "\n",
    "*We can solve this system of linear equations using [_np.linalg.lstsq_](https://docs.scipy.org/doc/numpy/reference/generated/numpy.linalg.lstsq.html).*"
   ]
  },
  {
   "cell_type": "code",
   "execution_count": 5,
   "metadata": {},
   "outputs": [
    {
     "name": "stdout",
     "output_type": "stream",
     "text": [
      "y(i):\n",
      "[ 8.04  6.95  7.58  8.81  8.33  9.96  7.24  4.26 10.84  4.82  5.68]\n",
      "\n",
      "A(i,j):\n",
      "[[10.  1.]\n",
      " [ 8.  1.]\n",
      " [13.  1.]\n",
      " [ 9.  1.]\n",
      " [11.  1.]\n",
      " [14.  1.]\n",
      " [ 6.  1.]\n",
      " [ 4.  1.]\n",
      " [12.  1.]\n",
      " [ 7.  1.]\n",
      " [ 5.  1.]]\n",
      "\n",
      "Fit result (set I):\n",
      "  m: 0.500, b: 3.000\n",
      "\n",
      "Fit result (set II):\n",
      "  m: 0.500, b: 3.000\n",
      "\n",
      "Fit result (set III):\n",
      "  m: 0.500, b: 3.000\n",
      "\n",
      "Fit result (set IV):\n",
      "  m: 0.500, b: 3.000\n",
      "\n"
     ]
    }
   ],
   "source": [
    "A = np.vstack([data['Ix'], np.ones(11)]).T\n",
    "y = data['Iy']\n",
    "print('y(i):')\n",
    "print(y)\n",
    "print('')\n",
    "\n",
    "print('A(i,j):')\n",
    "print(A)\n",
    "print('')\n",
    "\n",
    "m_1, b_1 = np.linalg.lstsq(A, y, rcond=None)[0]\n",
    "print('Fit result (set I):')\n",
    "print('  m: {:.3f}, b: {:.3f}'.format(m_1,b_1))\n",
    "print('')\n",
    "\n",
    "A = np.vstack([data['IIx'], np.ones(11)]).T\n",
    "y = data['IIy']\n",
    "m_2, b_2 = np.linalg.lstsq(A, y, rcond=None)[0]\n",
    "print('Fit result (set II):')\n",
    "print('  m: {:.3f}, b: {:.3f}'.format(m_1,b_1))\n",
    "print('')\n",
    "\n",
    "A = np.vstack([data['IIIx'], np.ones(11)]).T\n",
    "y = data['IIIy']\n",
    "m_3, b_3 = np.linalg.lstsq(A, y, rcond=None)[0]\n",
    "print('Fit result (set III):')\n",
    "print('  m: {:.3f}, b: {:.3f}'.format(m_1,b_1))\n",
    "print('')\n",
    "\n",
    "A = np.vstack([data['IVx'], np.ones(11)]).T\n",
    "y = data['IVy']\n",
    "m_4, b_4 = np.linalg.lstsq(A, y, rcond=None)[0]\n",
    "print('Fit result (set IV):')\n",
    "print('  m: {:.3f}, b: {:.3f}'.format(m_1,b_1))\n",
    "print('')"
   ]
  },
  {
   "cell_type": "markdown",
   "metadata": {},
   "source": [
    "**Displaying the four sets from the Quartet**"
   ]
  },
  {
   "cell_type": "code",
   "execution_count": 6,
   "metadata": {},
   "outputs": [
    {
     "data": {
      "image/png": "[encoded data removed]",
      "text/plain": [
       "<Figure size 1152x576 with 4 Axes>"
      ]
     },
     "metadata": {
      "needs_background": "light"
     },
     "output_type": "display_data"
    }
   ],
   "source": [
    "## Generating the subplots\n",
    "fig, ax = plt.subplots(2, 2, sharex=True, sharey=True, figsize=(16,8))\n",
    "\n",
    "## Picking the color at https://www.w3schools.com/colors/colors_picker.asp\n",
    "_ = ax[0,0].scatter(data['Ix']  , data['Iy']  , s=100, c='#ff9933', edgecolors='k')\n",
    "_ = ax[0,1].scatter(data['IIx'] , data['IIy'] , s=100, c='#ff9933', edgecolors='k')\n",
    "_ = ax[1,0].scatter(data['IIIx'], data['IIIy'], s=100, c='#ff9933', edgecolors='k')\n",
    "_ = ax[1,1].scatter(data['IVx'] , data['IVy'] , s=100, c='#ff9933', edgecolors='k')\n",
    "_ = ax[0,0].set_xlabel('x')\n",
    "_ = ax[0,1].set_xlabel('x')\n",
    "_ = ax[1,0].set_xlabel('x')\n",
    "_ = ax[1,1].set_xlabel('x')\n",
    "_ = ax[0,0].set_ylabel('y')\n",
    "_ = ax[0,1].set_ylabel('y')\n",
    "_ = ax[1,0].set_ylabel('y')\n",
    "_ = ax[1,1].set_ylabel('y')\n",
    "_ = ax[0,0].set_title('Set I'  )\n",
    "_ = ax[0,1].set_title('Set II' )\n",
    "_ = ax[1,0].set_title('Set III')\n",
    "_ = ax[1,1].set_title('Set IV' )\n",
    "\n",
    "## We add the best fit\n",
    "x = np.arange(21.)\n",
    "_ = ax[0,0].plot(x, m_1*x+b_1)\n",
    "_ = ax[0,1].plot(x, m_2*x+b_2)\n",
    "_ = ax[1,0].plot(x, m_3*x+b_3)\n",
    "_ = ax[1,1].plot(x, m_4*x+b_4)\n",
    "\n",
    "## We save the figure\n",
    "fig.savefig('./images/anscombe_plot.pdf')"
   ]
  },
  {
   "cell_type": "markdown",
   "metadata": {},
   "source": [
    "**Final note on the Anscombe Quartet**\n",
    "\n",
    "As we can see, visualising the data with a plot is very insightful here to assess what type of model should be used.\n",
    "\n",
    "Note that other statistical metrics suchs as the skewness and the curtosis would also have indicated differences (without necessarily telling which model to choose). Looking at the goodness of fit (i.e. $\\chi^2$) may also help provided that the data have properly set errors. *(We will learn more on this in the coming lectures)*"
   ]
  },
  {
   "cell_type": "markdown",
   "metadata": {},
   "source": [
    "<div class=\"queue\">\n",
    "    Lecture 3 - 00:07\n",
    "</div>"
   ]
  },
  {
   "cell_type": "markdown",
   "metadata": {},
   "source": [
    "## 2.2 Probabilities and random variables"
   ]
  },
  {
   "cell_type": "markdown",
   "metadata": {},
   "source": [
    "### 2.2.1 Axioms of probability\n",
    "\n",
    "Repeated measurements => degree of randomness => probability\n",
    "\n",
    "Definitions:\n",
    "- $\\cap$: _intersection_, 'and'\n",
    "- $\\cup$: _union_, 'or'\n",
    "- $\\subset$: _subset_, set within bigger set\n",
    "- $\\emptyset$: empty _subset_\n",
    "\n",
    "Probability following Kolmogorov (1933). Let us define set $\\Omega = \\{E_1, E_2, \\dots \\}$.\n",
    "\n",
    "For subset $A$ of $\\Omega$ such that $A \\subset \\Omega$: $P(A)$ is called probability and satisfies the three *axioms of probability*:\n",
    "\n",
    "1. For subset $A$ such that $A \\subset \\Omega$, $P(A) \\geq 0$\n",
    "2. For disjoint subsets $A$ and $B$ (i.e. $A \\cap B = \\emptyset$), $P(A \\cup B) = P(A) + P(B)$\n",
    "3. $P(\\Omega) = 1$\n",
    "\n",
    "The following properties can be derived from these axioms:\n",
    "\n",
    "- $P(\\bar A) = 1 - P(A)$, where $\\bar A$ is complement subset\n",
    "- $P(A \\cup \\bar A) = 1$\n",
    "- $0 \\leq P(A) \\leq 1$\n",
    "- $P(\\emptyset) = 0$\n",
    "- If $A \\subset B$ then $P(A) \\leq P(B)$\n",
    "- $P(A \\cup B) = P(A) + P(B) - P(A \\cap B)$"
   ]
  },
  {
   "cell_type": "markdown",
   "metadata": {},
   "source": [
    "<div class=\"queue\">\n",
    "    Lecture 3 - 00:20\n",
    "</div>"
   ]
  },
  {
   "cell_type": "markdown",
   "metadata": {},
   "source": [
    "<div class=\"example\">Example 1</div>\n",
    "\n",
    "_Euler diagram_, illustrates a probability space.\n",
    "\n",
    "<img src=\"images/1024px-Conditional_probability.svg.png\" width=\"40%\">\n",
    "\n",
    "- $P(A) = 0.3 + 0.1 + 0.12 = 0.52$\n",
    "- $P(B_2) = 0.12 + 0.04 = 0.16$\n",
    "- $P(\\bar A) = 0.34 + 0.1 + 0.04 = 0.48 = 1 - 0.52$\n",
    "- $P(A \\cup B_2) = 0.52 + 0.16 - 0.12 = 0.56$"
   ]
  },
  {
   "cell_type": "markdown",
   "metadata": {},
   "source": [
    "<div class=\"queue\">\n",
    "    Lecture 3 - 00:25\n",
    "</div>"
   ]
  },
  {
   "cell_type": "markdown",
   "metadata": {},
   "source": [
    "### 2.2.2 Bayes theorem"
   ]
  },
  {
   "cell_type": "markdown",
   "metadata": {},
   "source": [
    "#### Conditional probability\n",
    "Conditional probability of $A$ given $B$ is:\n",
    "\n",
    "\\begin{equation}\n",
    "  P(A \\mid B) = \\frac{P(A \\cap B)}{P(B)}\n",
    "\\end{equation}"
   ]
  },
  {
   "cell_type": "markdown",
   "metadata": {},
   "source": [
    "<div class=\"example\">Example 1</div>\n",
    "\n",
    "From Euler diagram:\n",
    "\n",
    "- $P(A \\mid B_1) = \\frac{0.1}{0.1} = 1$\n",
    "- $P(A \\mid B_2) = \\frac{0.12}{0.16} = 0.75$\n",
    "- $P(A \\mid B_3) = \\frac{0}{0.1} = 0$.\n",
    "- $P(A \\mid B) = \\frac{0.1 + 0.12}{0.1 + 0.12 + 0.04 + 0.1} = 0.61$"
   ]
  },
  {
   "cell_type": "markdown",
   "metadata": {},
   "source": [
    "#### Derivation of Bayes theorem\n",
    "\n",
    "Conditional probability of B given A:\n",
    "\n",
    "\\begin{equation}\n",
    "  P(B \\mid A) = \\frac{P(B \\cap A)}{P(A)}\n",
    "\\end{equation}\n",
    "\n",
    "However, $P(A \\cap B) = P(B \\cap A)$. Combine the two conditional probabilities:\n",
    "\n",
    "\\begin{eqnarray}\n",
    "  P(A \\mid B) &=& \\frac{P(A) P(B \\mid A)}{P(B)} \\\\\n",
    "         &=& \\frac{P(A) P(B \\mid A)}{\\sum_i P(B \\mid A_i) P(A_i)}\n",
    "\\end{eqnarray}\n",
    "\n",
    "Second form if $B$ is made of multiple subsets.\n",
    "\n",
    "**Bayes rule**. Often:\n",
    "\n",
    "- $P: P(A \\mid B)$, posterior\n",
    "- $I: P(A)$, prior\n",
    "- $\\mathcal{L}: P(B \\mid A)$, likelihood\n",
    "- $E: P(B)$, evidence\n",
    "\n",
    "Therefore:\n",
    "\n",
    "\\begin{equation}\n",
    "  P = \\frac{I \\mathcal{L}}{E}\n",
    "\\end{equation}"
   ]
  },
  {
   "cell_type": "markdown",
   "metadata": {},
   "source": [
    "<div class=\"queue\">\n",
    "    Lecture 3 - 00:40\n",
    "</div>"
   ]
  },
  {
   "cell_type": "markdown",
   "metadata": {},
   "source": [
    "### Case study: The maths behind screening tests\n",
    "\n",
    "Let us investigate the maths behind medical screening tests...\n",
    "\n",
    "*An over-the-counter test is available to diagnose some particular disease. One sees the following package on a shelf. They purchase it and get a positive test result once administered at home. What is the probability that they suffer from this particular disease?*\n",
    "\n",
    "<img src=\"images/supertest.pdf\" width=\"70%\">\n",
    "\n",
    "After reading the small prints on the instruction manual, they find the following:\n",
    "\n",
    "```\n",
    "Disease BlahBlah is a rare condition contracted from aliens, which affects 0.1% of the population. Infected individuals produce a special protein that our test has been designed to detect. Controlled laboratory studies demonstrated a test accuracy of 99% on patients suffering from the disease and a 3% false positive rate on non-infected patients.\n",
    "```\n",
    "\n",
    "The naive answer to this question is that they have a 99% probability of suffering from the disease. However, the correct answer is actually more subtle, **Bayes rule comes to the rescue** to help us work it out.\n",
    "\n",
    "First, we need to know the fraction of the population that carries the disease. Let us consider for the example that 0.1% of the population is infected. That is, the prior probability to have the disease or not is:\n",
    "\n",
    "\\begin{eqnarray}\n",
    "  P({\\rm disease}) &=& 0.001 \\\\\n",
    "  P({\\rm no\\,disease}) &=& 0.999\n",
    "\\end{eqnarray}\n",
    "\n",
    "A test yields a positive result with probability 98% given that the person carries the disease:\n",
    "\n",
    "\\begin{eqnarray}\n",
    "  P({\\rm +} \\mid {\\rm disease}) &=& 0.99 \\\\\n",
    "  P({\\rm -} \\mid {\\rm disease}) &=& 0.01\n",
    "\\end{eqnarray}\n",
    "\n",
    "and a probability of 3% of people test positive even if they do not have the disease:\n",
    "\n",
    "\\begin{eqnarray}\n",
    "  P({\\rm +} \\mid {\\rm no\\,disease}) &=& 0.03 \\\\\n",
    "  P({\\rm -} \\mid {\\rm no\\,disease}) &=& 0.97\n",
    "\\end{eqnarray}\n",
    "\n",
    "The probability that someone taking the test has the disease if returning a positve result is therefore:\n",
    "\n",
    "\\begin{eqnarray}\n",
    "  P({\\rm disease} \\mid {\\rm +}) &=& \\frac{P({\\rm disease}) P({\\rm +} \\mid {\\rm disease})}{P({\\rm +})} \\\\\n",
    "  P({\\rm disease} \\mid {\\rm +}) &=& \\frac{P({\\rm disease}) P({\\rm +} \\mid {\\rm disease})}{P({\\rm disease}) P({\\rm +} \\mid {\\rm disease}) + P({\\rm no\\,disease}) P({\\rm +} \\mid {\\rm no\\,disease})} \\\\\n",
    "          &=& \\frac{0.001 \\cdot 0.99}{0.001 \\cdot 0.99 + 0.999 \\cdot 0.03} \\\\\n",
    "          &=& 0.032\n",
    "\\end{eqnarray}\n",
    "\n",
    "The answer is therefore 3.2%, not 98% as naively expected!"
   ]
  },
  {
   "cell_type": "markdown",
   "metadata": {},
   "source": [
    "<div class=\"queue\">\n",
    "    Lecture 4 - 00:00\n",
    "</div>"
   ]
  },
  {
   "cell_type": "markdown",
   "metadata": {},
   "source": [
    "## 2.3 Probability distributions"
   ]
  },
  {
   "cell_type": "markdown",
   "metadata": {},
   "source": [
    "### 2.3.1 General probability distributions"
   ]
  },
  {
   "cell_type": "markdown",
   "metadata": {},
   "source": [
    "#### Continuous probability distribution\n",
    "\n",
    "Observable $x \\in \\Omega$ can take continuous values. **Probability density function** (PDF) is probability of $x$ in interval $[x,x+dx]$:\n",
    "\n",
    "\\begin{equation}\n",
    "  f(x) dx \\,.\n",
    "\\end{equation}\n",
    "\n",
    "As per axiom 3:\n",
    "\n",
    "\\begin{equation}\n",
    "  \\int_\\Omega f(x) dx = 1\n",
    "\\end{equation}\n",
    "\n",
    "*Ex: Odds ManU winning Manchester derby against ManCity.*"
   ]
  },
  {
   "cell_type": "markdown",
   "metadata": {},
   "source": [
    "#### Discrete probability distribution\n",
    "\n",
    "Observable $x \\in \\Omega$ can only take discrete values. **Probability mass function** (PMF) is probability of $x$:\n",
    "\n",
    "\\begin{equation}\n",
    "  \\sum_{x \\, \\in \\, \\Omega} f_X(x) = 1\n",
    "\\end{equation}\n",
    "\n",
    "*Ex: Odds of rolling 6 on dice.*"
   ]
  },
  {
   "cell_type": "markdown",
   "metadata": {},
   "source": [
    "<div class=\"queue\">\n",
    "    Lecture 4 - 00:10\n",
    "</div>"
   ]
  },
  {
   "cell_type": "markdown",
   "metadata": {},
   "source": [
    "### 2.3.2 Some important probability distributions"
   ]
  },
  {
   "cell_type": "markdown",
   "metadata": {},
   "source": [
    "#### Binomial distribution\n",
    "\n",
    "Process with identical trials with two outcomes.\n",
    "\n",
    "Ex:\n",
    "\n",
    "- Coin (head/tail)\n",
    "- Quality control (pass/fail)\n",
    "- Treatement in medecine (cure/no cure)\n",
    "\n",
    "Define:\n",
    "\n",
    "- $k$ number of successes\n",
    "- $n$ number of trials\n",
    "- $p$ probability of an individual success\n",
    "\n",
    "##### PMF\n",
    "\n",
    "\\begin{equation}\n",
    "  P(k;, n, p) = p^k (1-p)^{(n-k)} \\frac{n!}{k!(n-k)!}\n",
    "\\end{equation}\n",
    "\n",
    "##### Properties\n",
    "\n",
    "Mean: $np$\n",
    "\n",
    "Variance: $np(1-p)$"
   ]
  },
  {
   "cell_type": "markdown",
   "metadata": {},
   "source": [
    "<div class=\"example\">Example 1</div>\n",
    "\n",
    "Toss coin four times. Possible outcomes?\n",
    "\n",
    "| Outcome | Degeneracy | Probability |\n",
    "| :-----: | :--------: | :---------: |\n",
    "| HHHH    | 1          | 1/16        |\n",
    "| HHHT    | 4          | 1/4         |\n",
    "| HHTT    | 6          | 3/8         |\n",
    "| HTTT    | 4          | 1/4         |\n",
    "| TTTT    | 1          | 1/16        |\n",
    "\n",
    "What is the probability of having one head out of four fair coin toss?\n",
    "\n",
    "_The answer is $1/4$. Using the PMF:_\n",
    "\n",
    "\\begin{equation}\n",
    "  P(1; 4, 0.5) = 0.5^1 (1-0.5)^{4-1} \\frac{4!}{1! (4-1)!} = 0.25\n",
    "\\end{equation}"
   ]
  },
  {
   "cell_type": "markdown",
   "metadata": {},
   "source": [
    "**Plotting the binomial distribution**"
   ]
  },
  {
   "cell_type": "code",
   "execution_count": 7,
   "metadata": {},
   "outputs": [
    {
     "data": {
      "image/png": "[encoded data removed]",
      "text/plain": [
       "<Figure size 864x576 with 1 Axes>"
      ]
     },
     "metadata": {
      "needs_background": "light"
     },
     "output_type": "display_data"
    }
   ],
   "source": [
    "## Generating the subplots\n",
    "fig, ax = plt.subplots(1, 1, figsize=(12,8))\n",
    "\n",
    "## Generating the PMF for three cases. Note that we use implicit array operations instead of looping through k values.\n",
    "n1 = 15\n",
    "k1 = np.arange(n1+1)\n",
    "p1 = 0.5\n",
    "prob1 = scipy.stats.binom.pmf(k1, n1, p1)\n",
    "\n",
    "n2 = 15\n",
    "k2 = np.arange(n2+1)\n",
    "p2 = 0.75\n",
    "prob2 = scipy.stats.binom.pmf(k2, n2, p2)\n",
    "\n",
    "n3 = 30\n",
    "k3 = np.arange(n3+1)\n",
    "p3 = 0.5\n",
    "prob3 = scipy.stats.binom.pmf(k3, n3, p3)\n",
    "\n",
    "## Plotting\n",
    "_ = ax.plot(k1, prob1, '.', ms=20, label='p=0.50, n=15')\n",
    "_ = ax.plot(k2, prob2, 's', ms=10, label='p=0.75, n=15')\n",
    "_ = ax.plot(k3, prob3, '^', ms=10, label='p=0.50, n=30')\n",
    "_ = ax.set_xlabel('Number of successes (k)')\n",
    "_ = ax.set_ylabel('Probability')\n",
    "_ = ax.legend()\n",
    "\n",
    "## We save the figure\n",
    "fig.savefig('./images/binomial_pmf.pdf')"
   ]
  },
  {
   "cell_type": "markdown",
   "metadata": {},
   "source": [
    "<div class=\"queue\">\n",
    "    Lecture 4 - 00:20\n",
    "</div>"
   ]
  },
  {
   "cell_type": "markdown",
   "metadata": {},
   "source": [
    "#### Poisson distribution\n",
    "\n",
    "Process with number of events occurring in a given interval, with average occurance rate known and events independent.\n",
    "\n",
    "Ex:\n",
    "\n",
    "- Letters at home per day\n",
    "- Phone calls at call centre between 9 and 10 am\n",
    "- Number of X-ray photons received from binary system in a 1-min window\n",
    "\n",
    "Define:\n",
    "\n",
    "- $k$ number of events in interval\n",
    "- $\\lambda$ average event rate per interval\n",
    "\n",
    "##### PMF\n",
    "\n",
    "\\begin{equation}\n",
    "  P(k; \\lambda) = e^{-\\lambda} \\frac{\\lambda^k}{k!}\n",
    "\\end{equation}\n",
    "\n",
    "##### Properties\n",
    "\n",
    "Mean: $\\lambda$\n",
    "\n",
    "Variance: $\\lambda$"
   ]
  },
  {
   "cell_type": "markdown",
   "metadata": {},
   "source": [
    "<div class=\"example\">Example 1</div>\n",
    "\n",
    "In 1898, Russian economist Ladislaus Bortkiewicz published a book on statistics that included a study which has now become a classic example of Poisson statistics. The study looked into the number of annual deaths of soliders in the Prussian army by horse kicks from 1875 to 1894. In 14 different army cavalry corps, over this 20 years period, there were 196 deaths.\n",
    "\n",
    "| Year | GC  | C1  | C2  | C3  | C4  | C5  | C6  | C7  | C8  | C9  | C10 | C11 | C14 | C15 |\n",
    "| :--: | :-: | :-: | :-: | :-: | :-: | :-: | :-: | :-: | :-: | :-: | :-: | :-: | :-: | :-: |\n",
    "| 1875 | 0   | 0   | 0   | 0   | 0   | 0   | 0   | 1   | 1   | 0   | 0   | 0   | 1   | 0   |\n",
    "| 1876 | 2   | 0   | 0   | 0   | 1   | 0   | 0   | 0   | 0   | 0   | 0   | 0   | 1   | 1   |\n",
    "| 1877 | 2   | 0   | 0   | 0   | 0   | 0   | 1   | 1   | 0   | 0   | 1   | 0   | 2   | 0   |\n",
    "| 1878 | 1   | 2   | 2   | 1   | 1   | 0   | 0   | 0   | 0   | 0   | 1   | 0   | 1   | 0   |\n",
    "| 1879 | 0   | 0   | 0   | 1   | 1   | 2   | 2   | 0   | 1   | 0   | 0   | 2   | 1   | 0   |\n",
    "| 1880 | 0   | 3   | 2   | 1   | 1   | 1   | 0   | 0   | 0   | 2   | 1   | 4   | 3   | 0   |\n",
    "| 1881 | 1   | 0   | 0   | 2   | 1   | 0   | 0   | 1   | 0   | 1   | 0   | 0   | 0   | 0   |\n",
    "| 1882 | 1   | 2   | 0   | 0   | 0   | 0   | 1   | 0   | 1   | 1   | 2   | 1   | 4   | 1   |\n",
    "| 1883 | 0   | 0   | 1   | 2   | 0   | 1   | 2   | 1   | 0   | 1   | 0   | 3   | 0   | 0   |\n",
    "| 1884 | 3   | 0   | 1   | 0   | 0   | 0   | 0   | 1   | 0   | 0   | 2   | 0   | 1   | 1   |\n",
    "| 1885 | 0   | 0   | 0   | 0   | 0   | 0   | 1   | 0   | 0   | 2   | 0   | 1   | 0   | 1   |\n",
    "| 1886 | 2   | 1   | 0   | 0   | 1   | 1   | 1   | 0   | 0   | 1   | 0   | 1   | 3   | 0   |\n",
    "| 1887 | 1   | 1   | 2   | 1   | 0   | 0   | 3   | 2   | 1   | 1   | 0   | 1   | 2   | 0   |\n",
    "| 1888 | 0   | 1   | 1   | 0   | 0   | 1   | 1   | 0   | 0   | 0   | 0   | 1   | 1   | 0   |\n",
    "| 1889 | 0   | 0   | 1   | 1   | 0   | 1   | 1   | 0   | 0   | 1   | 2   | 2   | 0   | 2   |\n",
    "| 1890 | 1   | 2   | 0   | 2   | 0   | 1   | 1   | 2   | 0   | 2   | 1   | 1   | 2   | 2   |\n",
    "| 1891 | 0   | 0   | 0   | 1   | 1   | 1   | 0   | 1   | 1   | 0   | 3   | 3   | 1   | 0   |\n",
    "| 1892 | 1   | 3   | 2   | 0   | 1   | 1   | 3   | 0   | 1   | 1   | 0   | 1   | 1   | 0   |\n",
    "| 1893 | 0   | 1   | 0   | 0   | 0   | 1   | 0   | 2   | 0   | 0   | 1   | 3   | 0   | 0   |\n",
    "| 1894 | 1   | 0   | 0   | 0   | 0   | 0   | 0   | 0   | 1   | 0   | 1   | 1   | 0   | 0   |\n",
    "\n",
    "| number of deaths | number of occurrences |\n",
    "| :--------------: | :-------------------: |\n",
    "| 0                | 144                   |\n",
    "| 1                | 91                    |\n",
    "| 2                | 32                    |\n",
    "| 3                | 11                    |\n",
    "| 4                | 2                     |\n",
    "| 5                | 0                     |\n",
    "| 6                | 0                     |\n",
    "\n",
    "Can these data be described by Poisson?\n",
    "\n",
    "Death rate per corps per year is: $\\lambda = 196/280 = 0.7$.\n",
    "\n",
    "Probability of no deaths in a corps in a year is:\n",
    "\n",
    "\\begin{equation}\n",
    "    P(0; 0.7) = e^{-0.7} \\frac{0.7^0}{0!} = 0.4966\n",
    "\\end{equation}\n",
    "\n",
    "To get number, we multiply the probability by 280 (number of trials): 139.04.\n",
    "\n",
    "```\n",
    "Actually 144 vs predicted 139.\n",
    "```"
   ]
  },
  {
   "cell_type": "markdown",
   "metadata": {},
   "source": [
    "**Plotting the Poisson distribution**"
   ]
  },
  {
   "cell_type": "code",
   "execution_count": 8,
   "metadata": {},
   "outputs": [
    {
     "data": {
      "image/png": "[encoded data removed]",
      "text/plain": [
       "<Figure size 864x576 with 1 Axes>"
      ]
     },
     "metadata": {
      "needs_background": "light"
     },
     "output_type": "display_data"
    }
   ],
   "source": [
    "## Generating the subplots\n",
    "fig, ax = plt.subplots(1, 1, figsize=(12,8))\n",
    "\n",
    "## Generating the PMF for three cases. Note that we use implicit array operations instead of looping through k values.\n",
    "n1 = 20\n",
    "k1 = np.arange(n1+1)\n",
    "rate1 = 1\n",
    "prob1 = scipy.stats.poisson.pmf(k1, rate1)\n",
    "\n",
    "n2 = 20\n",
    "k2 = np.arange(n2+1)\n",
    "rate2 = 5\n",
    "prob2 = scipy.stats.poisson.pmf(k2, rate2)\n",
    "\n",
    "n3 = 20\n",
    "k3 = np.arange(n3+1)\n",
    "rate3 = 10\n",
    "prob3 = scipy.stats.poisson.pmf(k3, rate3)\n",
    "\n",
    "## Plotting\n",
    "_ = ax.plot(k1, prob1, '.', ms=20, label='$\\lambda$=1')\n",
    "_ = ax.plot(k2, prob2, 's', ms=10, label='$\\lambda$=5')\n",
    "_ = ax.plot(k3, prob3, '^', ms=10, label='$\\lambda$=10')\n",
    "_ = ax.set_xlabel('Number of successes (k)')\n",
    "_ = ax.set_ylabel('Probability')\n",
    "_ = ax.legend()\n",
    "\n",
    "## We save the figure\n",
    "fig.savefig('./images/poisson_pmf.pdf')"
   ]
  },
  {
   "cell_type": "markdown",
   "metadata": {},
   "source": [
    "<div class=\"queue\">\n",
    "    Lecture 4 - 00:30\n",
    "</div>"
   ]
  },
  {
   "cell_type": "markdown",
   "metadata": {},
   "source": [
    "#### Gaussian distribution\n",
    "\n",
    "The *Gaussian distribution*, also known as normal distribution, is a continuous and symmetric probability distribution. It is possibly the most useful distribution in science and data science. One of the reasons is due to the fact that averages of samples of observations of random variables independently drawn from independent distributions converge in distribution to the normal -- this is called the central limit theorem, which we will investigate later. Also see [Normal distribution on Wikipedia](https://en.wikipedia.org/wiki/Normal_distribution).\n",
    "\n",
    "Examples of processes following the Gaussian distribution are:\n",
    "\n",
    "- The mass of a bag of flour bought at the grocery store\n",
    "- The distribution of heights of students in a core physics lecture course\n",
    "- The gravitational constant derived from a pendulum experiment by the 1st year physics students\n",
    "\n",
    "Let us define the following variables:\n",
    "    \n",
    "- $\\mu$ the mean of the Gaussian (can be any real number)\n",
    "- $\\sigma$ the standard distribution of the Gaussian (can be any real positive number)\n",
    "\n",
    "##### Probability density function\n",
    "The Gaussian distribution (in this case the probability density function) is given by:\n",
    "\n",
    "\\begin{equation}\n",
    "  P(x; \\mu, \\sigma) \\sim \\mathcal{N}(\\mu, \\sigma^2) = \\frac{1}{\\sigma \\sqrt{2\\pi}} e^{-\\frac{(x-\\mu)^2}{2\\sigma^2}}\n",
    "\\end{equation}\n",
    "\n",
    "##### Important properties\n",
    "\n",
    "Mean, median, mode: $\\mu$\n",
    "\n",
    "Variance: $\\sigma^2$"
   ]
  },
  {
   "cell_type": "markdown",
   "metadata": {},
   "source": [
    "**Plotting the Gaussian distribution**"
   ]
  },
  {
   "cell_type": "code",
   "execution_count": 9,
   "metadata": {},
   "outputs": [
    {
     "data": {
      "image/png": "[encoded data removed]",
      "text/plain": [
       "<Figure size 864x576 with 1 Axes>"
      ]
     },
     "metadata": {
      "needs_background": "light"
     },
     "output_type": "display_data"
    }
   ],
   "source": [
    "## Generating the subplots\n",
    "fig, ax = plt.subplots(1, 1, figsize=(12,8))\n",
    "\n",
    "## Generating the PMF for three cases. Note that we use implicit array operations instead of looping through k values.\n",
    "mu1 = 0.\n",
    "sigma1 = 1.\n",
    "x1 = np.linspace(-5,10,201)\n",
    "prob1 = scipy.stats.norm.pdf(x1, loc=mu1, scale=sigma1)\n",
    "\n",
    "mu2 = 0.\n",
    "sigma2 = 0.5\n",
    "x2 = np.linspace(-5,10,201)\n",
    "prob2 = scipy.stats.norm.pdf(x2, loc=mu2, scale=sigma2)\n",
    "\n",
    "mu3 = 3.\n",
    "sigma3 = 1.5\n",
    "x3 = np.linspace(-5,10,201)\n",
    "prob3 = scipy.stats.norm.pdf(x3, loc=mu3, scale=sigma3)\n",
    "\n",
    "## Plotting\n",
    "_ = ax.plot(x1, prob1, '-', lw=4, label='$\\mu=0.0$, $\\sigma=1.0$')\n",
    "_ = ax.plot(x2, prob2, '-', lw=4, label='$\\mu=0.0$, $\\sigma=0.5$')\n",
    "_ = ax.plot(x3, prob3, '-', lw=4, label='$\\mu=3.0$, $\\sigma=1.5$')\n",
    "_ = ax.set_xlabel('x')\n",
    "_ = ax.set_ylabel('Probability')\n",
    "_ = ax.legend()\n",
    "\n",
    "## We save the figure\n",
    "fig.savefig('./images/gaussian_pdf.pdf')"
   ]
  },
  {
   "cell_type": "markdown",
   "metadata": {},
   "source": [
    "<div class=\"queue\">\n",
    "    Lecture 5 - 00:00\n",
    "</div>"
   ]
  },
  {
   "cell_type": "markdown",
   "metadata": {},
   "source": [
    "### Case study: Hurricane Harvey\n",
    "\n",
    "Hurricane Harvey in 2017 is qualified as a once-in-a-century. First Category 4 hurricane to make landfall in Texas since Carla in 1961.\n",
    "\n",
    "Requires casting the right question.\n",
    "\n",
    "```\n",
    "What are the odds of having two or more such hurricanes in the observed time span?\n",
    "```\n",
    "\n",
    "Probability of waiting less than 56 years to see another event after Carla took place? That is $p(k \\geq 1) = 1 - p(k < 1) = 1 - p(k = 0)$.\n",
    "\n",
    "**Method 1: Using Poisson**\n",
    "\n",
    "With $\\lambda = 0.56$ (i.e. 1 in 100 years implies 0.56 in 56 years):\n",
    "\n",
    "\\begin{equation}\n",
    "  P(0; 0.56) = e^{-0.56} \\frac{0.56^0}{0!} = 0.5712\n",
    "\\end{equation}\n",
    "\n",
    "then:\n",
    "\n",
    "\\begin{equation}\n",
    "  p(k >= 1) = 1 - 0.5712 = 0.4288 \\,.\n",
    "\\end{equation}\n",
    "\n",
    "**Method 2: Using Binomial**\n",
    "\n",
    "With $p = 0.01$ (i.e. 0.01 chance in a year), and $n = 56$ trials. Since:\n",
    "\n",
    "\\begin{equation}\n",
    "  P(0; 56, 0.01) = 0.01^0 (1-0.01)^{56-0} \\frac{56!}{0! (56-0)!} = 0.5696\n",
    "\\end{equation}\n",
    "\n",
    "then:\n",
    "\n",
    "\\begin{equation}\n",
    "  p(k >= 1) = 1 - 0.5696 = 0.4304 \\,.\n",
    "\\end{equation}\n",
    "\n",
    "*Conclude that 43% chances for two such events to happen so close in time.* Certainly possible."
   ]
  },
  {
   "cell_type": "markdown",
   "metadata": {},
   "source": [
    "<div class=\"queue\">\n",
    "    Lecture 5 - 00:10\n",
    "</div>"
   ]
  },
  {
   "cell_type": "markdown",
   "metadata": {},
   "source": [
    "### 2.3.3 Gaussian distribution as a limit of Binomial and Poisson distributions"
   ]
  },
  {
   "cell_type": "markdown",
   "metadata": {},
   "source": [
    "#### From Binomial to Poisson\n",
    "\n",
    "Poisson is extension of binomial where unknown number of trials and events go from discrete to continuous. Ex: rolling a dice (discrete events) vs lightning flashes (time continuum).\n",
    "\n",
    "Defining the event rate $\\lambda = np$, and substituting $p$ into binomial:\n",
    "\n",
    "\\begin{equation}\n",
    "  P(k; n, \\lambda/n) = \\frac{\\lambda^k}{n^k} \\left( 1 - \\frac{\\lambda}{n} \\right)^{n-k} \\frac{n!}{k!(n-k)!} \\,.\n",
    "\\end{equation}\n",
    "\n",
    "As $n \\to \\infty$\n",
    "\n",
    "\\begin{equation}\n",
    "  P(k; n, \\lambda/n) = \\frac{\\lambda^k}{k!} \\lim_{n \\to \\infty} \\left( \\frac{1}{n^k} \\right) \\left( \\frac{n!}{(n-k)!} \\right) \\left( 1 - \\frac{\\lambda}{n} \\right)^{n} \\left( 1 - \\frac{\\lambda}{n} \\right)^{-k} \\,.\n",
    "\\end{equation}\n",
    "\n",
    "Considering the second term\n",
    "\n",
    "\\begin{equation}\n",
    "  \\lim_{n \\to \\infty} \\frac{n!}{(n-k)!} = \\lim_{n \\to \\infty} n(n-1)(n-2)...(n-k+1) = n^k \\,,\n",
    "\\end{equation}\n",
    "\n",
    "where the middle equality comprises $k$ elements. This cancels with the first term from above.\n",
    "\n",
    "Recalling the definition of the $e$\n",
    "\n",
    "\\begin{equation}\n",
    "  e = \\lim_{x \\to \\infty} \\left( 1 + \\frac{1}{x} \\right)^{x} \\,,\n",
    "\\end{equation}\n",
    "\n",
    "and making the change $x = -n/\\lambda$, the third term becomes\n",
    "\n",
    "\\begin{equation}\n",
    "  \\lim_{n \\to \\infty} \\left( 1 - \\frac{\\lambda}{n} \\right)^{n} = \\lim_{x \\to \\infty} \\left( 1 + \\frac{1}{x} \\right)^{x (-\\lambda)} = e^{-\\lambda} \\,.\n",
    "\\end{equation}\n",
    "\n",
    "Considering the last term\n",
    "\n",
    "\\begin{equation}\n",
    "  \\lim_{n \\to \\infty} \\left( 1 - \\frac{\\lambda}{n} \\right)^{-k} = 1^{-k} = 1 \\,.\n",
    "\\end{equation}\n",
    "\n",
    "Putting them together\n",
    "\n",
    "\\begin{equation}\n",
    "  P(k; \\lambda) = e^{-\\lambda} \\frac{\\lambda^k}{k!} \\,,\n",
    "\\end{equation}\n",
    "\n",
    "which is just the Poisson distribution."
   ]
  },
  {
   "cell_type": "markdown",
   "metadata": {},
   "source": [
    "#### From Poisson to Gaussian and Binomial to Gaussian\n",
    "\n",
    "Both Binomial and Poisson distribution turn into Gaussian distributions in the limit where $n$ and $\\lambda$ are infinity.\n",
    "\n",
    "<img src=\"images/stats triad.pdf\" width=\"40%\">"
   ]
  },
  {
   "cell_type": "code",
   "execution_count": 10,
   "metadata": {},
   "outputs": [
    {
     "data": {
      "image/png": "[encoded data removed]",
      "text/plain": [
       "<Figure size 1152x432 with 2 Axes>"
      ]
     },
     "metadata": {
      "needs_background": "light"
     },
     "output_type": "display_data"
    }
   ],
   "source": [
    "## Generating the subplots\n",
    "fig, ax = plt.subplots(1, 2, figsize=(16,6))\n",
    "\n",
    "## Generating the PMF for three cases (binomial, Poisson and Gaussian).\n",
    "n1 = 10\n",
    "p1 = 0.5\n",
    "k1 = np.arange(n1*p1*3)\n",
    "binom1 = scipy.stats.binom.pmf(k1, n1, p1)\n",
    "\n",
    "rate1 = n1*p1\n",
    "poisson1 = scipy.stats.poisson.pmf(k1, rate1)\n",
    "\n",
    "mu1 = n1*p1\n",
    "sigma1 = np.sqrt(n1*p1*(1-p1))\n",
    "x1 = np.linspace(0,n1*p1*3,201)\n",
    "gauss1 = scipy.stats.norm.pdf(x1, loc=mu1, scale=sigma1)\n",
    "\n",
    "## Plotting\n",
    "_ = ax[0].plot(k1, binom1, '.', ms=20, label='Binomial $P(k;10,0.5)$')\n",
    "_ = ax[0].plot(k1, poisson1, 's', ms=10, label='Poisson $P(k;5)$')\n",
    "_ = ax[0].plot(x1, gauss1, '-', lw=4, label='Gaussian $\\mathcal{N}(5,2.5)$')\n",
    "_ = ax[0].set_xlabel('Number of successes (k)')\n",
    "_ = ax[0].set_ylabel('Probability')\n",
    "_ = ax[0].legend()\n",
    "\n",
    "## Generating the PMF for three cases (binomial, Poisson and Gaussian).\n",
    "n2 = 300\n",
    "p2 = 0.1\n",
    "k2 = np.arange(n2*p2*2)\n",
    "binom2 = scipy.stats.binom.pmf(k2, n2, p2)\n",
    "\n",
    "rate2 = n2*p2\n",
    "poisson2 = scipy.stats.poisson.pmf(k2, rate2)\n",
    "\n",
    "mu2 = n2*p2\n",
    "sigma2 = np.sqrt(n2*p2*(1-p2))\n",
    "x2 = np.linspace(0,n2*p2*2,201)\n",
    "gauss2 = scipy.stats.norm.pdf(x2, loc=mu2, scale=sigma2)\n",
    "\n",
    "## Plotting\n",
    "_ = ax[1].plot(k2, binom2, '.', ms=20, label='Binomial $P(k;300,0.1)$')\n",
    "_ = ax[1].plot(k2, poisson2, 's', ms=10, label='Poisson $P(k;30)$')\n",
    "_ = ax[1].plot(x2, gauss2, '-', lw=4, label='Gaussian $\\mathcal{N}(30,27)$')\n",
    "_ = ax[1].set_xlabel('Number of successes (k)')\n",
    "_ = ax[1].set_ylabel('Probability')\n",
    "_ = ax[1].legend()\n",
    "\n",
    "## We save the figure\n",
    "fig.savefig('./images/gaussian_limit.pdf')"
   ]
  },
  {
   "cell_type": "markdown",
   "metadata": {},
   "source": [
    "Without going into the full derivations, we can empirically see that from plots of the distributions. The full mathematical proof relates to the Central Limit Theorem (Chapter 3), but is beyond the scope of this course."
   ]
  },
  {
   "cell_type": "markdown",
   "metadata": {},
   "source": [
    "<div class=\"queue\">\n",
    "    Lecture 5 - 00:25\n",
    "</div>"
   ]
  },
  {
   "cell_type": "markdown",
   "metadata": {},
   "source": [
    "### 2.3.4 Other probability distributions\n",
    "\n",
    "There are many more types of one-dimensional distributions. Here are some examples:"
   ]
  },
  {
   "cell_type": "markdown",
   "metadata": {},
   "source": [
    "#### Uniform\n",
    "\n",
    "Appears as a rather trivial distribution, where all values in an interval have equal probabilities. This is the basis of Monte Carlo techniques, and various sampling techniques."
   ]
  },
  {
   "cell_type": "markdown",
   "metadata": {},
   "source": [
    "#### Chi-squared ($\\chi^2$)\n",
    "\n",
    "The distribution of a sum of the squares of k independent standard normal random variables. Used for hypothesis testing (such as performing a linear regression)."
   ]
  },
  {
   "cell_type": "markdown",
   "metadata": {},
   "source": [
    "#### Student's t-distribution\n",
    "\n",
    "Frequency distribution of standard deviations of samples drawn from a normal population. Arises when estimating the mean of a normally distributed population in situations where the sample size is small and population standard deviation is unknown."
   ]
  },
  {
   "cell_type": "markdown",
   "metadata": {},
   "source": [
    "#### F-distribution\n",
    "\n",
    "Distribution that arises when comparing statistical models that have been fitted to a data set, in order to identify the model that best fits the population from which the data were sampled. Typically involves data fitted with least squares."
   ]
  },
  {
   "cell_type": "markdown",
   "metadata": {},
   "source": [
    "<div class=\"queue\">\n",
    "    Lecture 5 - 00:30\n",
    "</div>"
   ]
  },
  {
   "cell_type": "markdown",
   "metadata": {},
   "source": [
    "#### Multivariate Gaussian\n",
    "\n",
    "The *multivariate Gaussian* (or multivariate normal) is a generalization of the one-dimensional (univariate) normal distribution to higher dimensions. It is highly important for likelihood/Bayesian analysis.\n",
    "\n",
    "\\begin{equation}\n",
    "  f(\\underline{x}; \\underline{\\mu}, \\underline{\\underline{\\Sigma}}) = \\mathcal{N}_k(\\underline{\\mu}, \\underline{\\underline{\\Sigma}}) = \\frac{\\exp\\left(-\\frac 1 2 (\\underline{x}-\\underline{\\mu})^\\mathrm{T}\\underline{\\underline{\\Sigma}}^{-1}(\\underline{x}-\\underline{\\mu})\\right)}{\\sqrt{(2\\pi)^k \\left| \\underline{\\underline{\\Sigma}} \\right|}}\n",
    "\\end{equation}\n",
    "\n",
    "where:\n",
    "\n",
    "$k$ is the number of dimensions\n",
    "\n",
    "$\\underline{x}$ is a $k$-dimension column vector\n",
    "\n",
    "$\\underline{\\mu}$ is the $k$-dimension vector of means\n",
    "\n",
    "$\\underline{\\underline{\\Sigma}}$ is the covariance matrix\n",
    "\n",
    "$\\left| \\underline{\\underline{\\Sigma}} \\right| \\equiv \\operatorname{det}\\underline{\\underline{\\Sigma}}$ is the determinant of $\\underline{\\underline{\\Sigma}}$\n",
    "<br>\n",
    "<br>\n",
    "\n",
    "##### Two-dimensional case\n",
    "In two dimensions, for the variables $(x,y)$, the covariabe matrix can be written as:\n",
    "\n",
    "\\begin{equation}\n",
    "    \\underline{\\underline{\\Sigma}} = \n",
    "    \\begin{bmatrix}\n",
    "        \\sigma_x^2 & \\rho \\sigma_x \\sigma_y \\\\\n",
    "        \\rho \\sigma_x \\sigma_y & \\sigma_y^2\n",
    "    \\end{bmatrix} \\quad .\n",
    "\\end{equation}\n",
    "\n",
    "Therefore\n",
    "\n",
    "\\begin{equation}\n",
    "    \\underline{\\underline{\\Sigma}}^{-1} = \\frac{1}{\\left(1-\\rho^2\\right)}\n",
    "    \\begin{bmatrix}\n",
    "        \\frac{1}{\\sigma_x^2} & \\frac{-\\rho}{\\sigma_x \\sigma_y} \\\\\n",
    "        \\frac{-\\rho}{\\sigma_x \\sigma_y} & \\frac{1}{\\sigma_y^2}\n",
    "    \\end{bmatrix} \\quad ,\n",
    "\\end{equation}\n",
    "\n",
    "and\n",
    "\n",
    "\\begin{equation}\n",
    "    \\left| \\underline{\\underline{\\Sigma}} \\right| = \\sigma_x^2 \\sigma_y^2 \\left(1-\\rho^2\\right) \\quad .\n",
    "\\end{equation}\n",
    "\n",
    "The row vector $\\left( \\underline{x}-\\underline{\\mu} \\right)$ is\n",
    "\n",
    "\\begin{equation}\n",
    "    \\left( \\underline{x}-\\underline{\\mu} \\right) =\n",
    "        \\begin{bmatrix}\n",
    "            x - \\mu_x \\\\\n",
    "            y - \\mu_y\n",
    "        \\end{bmatrix} \\,.\n",
    "\\end{equation}\n",
    "\n",
    "Putting it all together, and ensuring that the right order of priority is applied to matrix algebra, one obtains:\n",
    "\n",
    "\\begin{equation}\n",
    "  f(x,y) = \\frac{1}{2 \\pi  \\sigma_x \\sigma_y \\sqrt{1-\\rho^2}}\n",
    "    \\exp\\left(\n",
    "      -\\frac{1}{2(1-\\rho^2)}\\left[\n",
    "          \\frac{(x-\\mu_x)^2}{\\sigma_x^2} +\n",
    "          \\frac{(y-\\mu_y)^2}{\\sigma_y^2} -\n",
    "          \\frac{2\\rho(x-\\mu_x)(y-\\mu_y)}{\\sigma_x \\sigma_y}\n",
    "      \\right]\n",
    "    \\right)\n",
    "\\end{equation}\n",
    "\n",
    "<img src=\"images/MultivariateNormal.png\" width=60% >"
   ]
  },
  {
   "cell_type": "markdown",
   "metadata": {},
   "source": [
    "<div class=\"well\" align=\"center\">\n",
    "    <div class=\"container-fluid\">\n",
    "        <div class=\"row\">\n",
    "            <div class=\"col-md-3\" align=\"center\">\n",
    "                <img align=\"center\" alt=\"Creative Commons License\" style=\"border-width:0\" src=\"https://i.creativecommons.org/l/by-nc-sa/4.0/88x31.png\" width=\"60%\">\n",
    "            </div>\n",
    "            <div class=\"col-md-8\">\n",
    "            This work is licensed under a <a href=\"http://creativecommons.org/licenses/by-nc-sa/4.0/\">Creative Commons Attribution-NonCommercial-ShareAlike 4.0 International License</a>).\n",
    "            </div>\n",
    "        </div>\n",
    "    </div>\n",
    "    <br>\n",
    "    <br>\n",
    "    <i>Note: The content of this Jupyter Notebook is provided for educational purposes only.</i>\n",
    "</div>"
   ]
  },
  {
   "cell_type": "code",
   "execution_count": null,
   "metadata": {
    "scrolled": true
   },
   "outputs": [],
   "source": []
  }
 ],
 "metadata": {
  "kernelspec": {
   "display_name": "Python 3",
   "language": "python",
   "name": "python3"
  },
  "language_info": {
   "codemirror_mode": {
    "name": "ipython",
    "version": 3
   },
   "file_extension": ".py",
   "mimetype": "text/x-python",
   "name": "python",
   "nbconvert_exporter": "python",
   "pygments_lexer": "ipython3",
   "version": "3.8.3"
  },
  "latex_envs": {
   "LaTeX_envs_menu_present": true,
   "autocomplete": true,
   "bibliofile": "biblio.bib",
   "cite_by": "apalike",
   "current_citInitial": 1,
   "eqLabelWithNumbers": true,
   "eqNumInitial": 1,
   "hotkeys": {
    "equation": "Ctrl-E",
    "itemize": "Ctrl-I"
   },
   "labels_anchors": false,
   "latex_user_defs": false,
   "report_style_numbering": false,
   "user_envs_cfg": false
  }
 },
 "nbformat": 4,
 "nbformat_minor": 4
}
