{
 "cells": [
  {
   "cell_type": "code",
   "execution_count": 21,
   "metadata": {
    "scrolled": false
   },
   "outputs": [
    {
     "data": {
      "text/html": [
       "<style>.container { width:95% !important; }</style>"
      ],
      "text/plain": [
       "<IPython.core.display.HTML object>"
      ]
     },
     "metadata": {},
     "output_type": "display_data"
    },
    {
     "data": {
      "text/html": [
       "<link href=\"https://fonts.googleapis.com/css?family=Fira+Sans:300,300i,600,600i\" rel=\"stylesheet\">\n",
       "<link href=\"https://fonts.googleapis.com/css?family=Inconsolata\" rel=\"stylesheet\">\n",
       "<link href=\"https://fonts.googleapis.com/css?family=Titillium+Web:400,400i,700,700i\" rel=\"stylesheet\">\n",
       "\n",
       "\n",
       "<style>\n",
       "\n",
       ".text_cell_render p {\n",
       "font-style: regular;\n",
       "font-family: 'Fira Sans', sans-serif;\n",
       "display: block;\n",
       "text-align: justify;\n",
       "}\n",
       "/*font-weight: 200;*/\n",
       "/*text-align: left;\n",
       "line-height: 100%;\n",
       "display: block;\n",
       "}*/\n",
       "a {\n",
       "color:#377bb5;\n",
       "}\n",
       ".text_cell_render h1 {\n",
       "/*font-size: 24pt;*/\n",
       "font-family: 'Titillium Web', sans-serif;\n",
       "font-weight: bold;\n",
       "margin-bottom: 0.1em;\n",
       "margin-top: 0.5em;\n",
       "color:#4a4a4a;\n",
       "}\n",
       ".text_cell_render h2 {\n",
       "/*font-size: 21pt;*/\n",
       "    font-family: 'Titillium Web', sans-serif;\n",
       "margin-bottom: 0.1em;\n",
       "margin-top: 0.3em;\n",
       "color:#595959;\n",
       "}\n",
       ".text_cell_render h3 {\n",
       "    font-family: 'Titillium Web', sans-serif;\n",
       "/*font-size: 19pt;*/\n",
       "margin-bottom: 0.1em;\n",
       "margin-top: 0.3em;\n",
       "color:#595959;\n",
       "}\n",
       ".text_cell_render h4 {\n",
       "    font-family: 'Titillium Web', sans-serif;\n",
       "/*font-size: 17pt;*/\n",
       "margin-bottom: 0.1em;\n",
       "margin-top: 0.3em;\n",
       "color:#595959;\n",
       "}\n",
       ".text_cell_render h5 {\n",
       "    font-family: 'Titillium Web', sans-serif;\n",
       "/*font-size: 15pt;*/\n",
       "margin-bottom: 0.1em;\n",
       "margin-top: 0.3em;\n",
       "color:#595959;\n",
       "}\n",
       "div.text_cell_render{\n",
       "font-style: regular;\n",
       "font-family: 'Fira Sans', sans-serif;\n",
       "line-height: 120%;\n",
       "font-size: 100%;\n",
       "font-weight: 400;\n",
       "text-align: justify;\n",
       "margin-left:0em;\n",
       "margin-right:0em;\n",
       "}\n",
       "code {\n",
       "font-family: 'Inconsolata', monospace;\n",
       "}\n",
       "pre {\n",
       "font-family: 'Inconsolata', monospace;\n",
       "}\n",
       "\n",
       "div.example {\n",
       "    font-family: 'Titillium Web', sans-serif;\n",
       "/*font-size: 15pt;*/\n",
       "font-weight: bold;\n",
       "font-variant: small-caps;\n",
       "text-decoration: underline;\n",
       "margin-bottom: 0.1em;\n",
       "margin-top: 0.3em;\n",
       "color:#595959;\n",
       "}\n",
       "\n",
       "div.queue {\n",
       "font-size: x-large;\n",
       "font-variant: small-caps;\n",
       "font-family: 'Titillium Web', sans-serif;\n",
       "font-weight: bold;\n",
       "/*margin-bottom: 0.1em;*/\n",
       "/*margin-top: 0.5em;*/\n",
       "margin: 10px;\n",
       "padding: 10px;\n",
       "color:#cc0000;\n",
       "border-style: solid none solid none;\n",
       "border-width: 2px;\n",
       "border-color:#cc0000;\n",
       "border-spacing: 10px;\n",
       "}\n",
       "\n",
       ".reveal h1 {\n",
       "font-family: 'Titillium Web', sans-serif;\n",
       "/*font-size: 24pt;*/\n",
       "font-weight: bold;\n",
       "margin-bottom: 0.1em;\n",
       "margin-top: 0.5em;\n",
       "color:#4a4a4a;\n",
       "}\n",
       ".reveal h2 {\n",
       "font-family: 'Titillium Web', sans-serif;\n",
       "/*font-size: 24pt;*/\n",
       "font-weight: bold;\n",
       "margin-bottom: 0.1em;\n",
       "margin-top: 0.5em;\n",
       "color:#595959;\n",
       "}\n",
       ".reveal h3 {\n",
       "font-family: 'Titillium Web', sans-serif;\n",
       "/*font-size: 24pt;*/\n",
       "font-weight: bold;\n",
       "margin-bottom: 0.1em;\n",
       "margin-top: 0.5em;\n",
       "color:#595959;\n",
       "}\n",
       ".reveal h4 {\n",
       "font-family: 'Titillium Web', sans-serif;\n",
       "font-weight: bold;\n",
       "margin-bottom: 0.1em;\n",
       "margin-top: 0.5em;\n",
       "color:#595959;\n",
       "}\n",
       ".reveal div.text_cell_render{\n",
       "line-height: 120%;\n",
       "font-size: 74%;\n",
       "font-weight: 400;\n",
       "text-align: justify;\n",
       "margin-left:0em;\n",
       "margin-right:0em;\n",
       "}\n",
       ".reveal .code_cell {\n",
       "    font-size: 92%;\n",
       "}\n",
       ".reveal code {\n",
       "font-family: 'Inconsolata', monospace;\n",
       "}\n",
       ".reveal pre {\n",
       "font-family: 'Inconsolata', monospace;\n",
       "}\n",
       "\n",
       ".CodeMirror{\n",
       "font-family: \"Inconsolata\", monospace;\n",
       "}\n",
       "\n",
       "</style>"
      ],
      "text/plain": [
       "<IPython.core.display.HTML object>"
      ]
     },
     "execution_count": 21,
     "metadata": {},
     "output_type": "execute_result"
    }
   ],
   "source": [
    "## Import required Python modules\n",
    "%matplotlib inline\n",
    "import matplotlib.pyplot as plt\n",
    "import numpy as np\n",
    "import scipy, scipy.stats\n",
    "import io\n",
    "import base64\n",
    "#from IPython.core.display import display\n",
    "from IPython.display import display, HTML, Image\n",
    "from urllib.request import urlopen\n",
    "\n",
    "try:\n",
    "    import astropy as apy\n",
    "    import astropy.table\n",
    "    _apy = True\n",
    "    #print('Loaded astropy')\n",
    "except:\n",
    "    _apy = False\n",
    "    #print('Could not load astropy')\n",
    "\n",
    "## Customising the font size of figures\n",
    "plt.rcParams.update({'font.size': 14})\n",
    "\n",
    "## Customising the look of the notebook\n",
    "display(HTML(\"<style>.container { width:95% !important; }</style>\"))\n",
    "## This custom file is adapted from https://github.com/lmarti/jupyter_custom/blob/master/custom.include\n",
    "HTML('custom.css')\n",
    "#HTML(urlopen('https://raw.githubusercontent.com/bretonr/intro_data_science/master/custom.css').read().decode('utf-8'))"
   ]
  },
  {
   "cell_type": "code",
   "execution_count": 19,
   "metadata": {},
   "outputs": [],
   "source": [
    "## Custom imports\n",
    "from matplotlib.cm import jet\n",
    "from math import ceil, pi\n",
    "from scipy.stats import poisson, norm, binom\n",
    "from matplotlib.collections import PatchCollection\n",
    "from matplotlib.patches import Circle, Rectangle"
   ]
  },
  {
   "cell_type": "code",
   "execution_count": 20,
   "metadata": {
    "scrolled": true
   },
   "outputs": [
    {
     "data": {
      "text/html": [
       "<script>\n",
       "code_show=true;\n",
       "function code_toggle() {\n",
       " if (code_show){\n",
       " $('div.input').hide();\n",
       " } else {\n",
       " $('div.input').show();\n",
       " }\n",
       " code_show = !code_show\n",
       "} \n",
       "$( document ).ready(code_toggle);\n",
       "</script>\n",
       "<form action=\"javascript:code_toggle()\"><input type=\"submit\" value=\"Click here to toggle on/off the Python code.\"></form>"
      ],
      "text/plain": [
       "<IPython.core.display.HTML object>"
      ]
     },
     "execution_count": 20,
     "metadata": {},
     "output_type": "execute_result"
    }
   ],
   "source": [
    "## Adding a button to hide the Python source code\n",
    "HTML('''<script>\n",
    "code_show=true;\n",
    "function code_toggle() {\n",
    " if (code_show){\n",
    " $('div.input').hide();\n",
    " } else {\n",
    " $('div.input').show();\n",
    " }\n",
    " code_show = !code_show\n",
    "} \n",
    "$( document ).ready(code_toggle);\n",
    "</script>\n",
    "<form action=\"javascript:code_toggle()\"><input type=\"submit\" value=\"Click here to toggle on/off the Python code.\"></form>''')"
   ]
  },
  {
   "cell_type": "markdown",
   "metadata": {},
   "source": [
    "<div class=\"container-fluid\">\n",
    "    <div class=\"row\">\n",
    "        <div class=\"col-md-8\" align=\"center\">\n",
    "            <h1>PHYS 10791: Introduction to Data Science</h1>\n",
    "            <!--<h3>2019-2020 Academic Year</h3><br>-->\n",
    "        </div>\n",
    "        <div class=\"col-md-3\">\n",
    "            <img align='center' style=\"border-width:0\" src=\"images/UoM_logo.png\"/>\n",
    "        </div>\n",
    "    </div>\n",
    "</div>\n",
    "\n",
    "<div class=\"container-fluid\">\n",
    "    <div class=\"row\">\n",
    "        <div class=\"col-md-2\" align=\"right\">\n",
    "            <b>Course instructors:&nbsp;&nbsp;</b>\n",
    "        </div>\n",
    "        <div class=\"col-md-9\" align=\"left\">\n",
    "            <a href=\"http://www.renebreton.org\">Prof. Rene Breton</a> - Twitter <a href=\"https://twitter.com/BretonRene\">@BretonRene</a><br>\n",
    "            <a href=\"http://www.hep.manchester.ac.uk/u/gersabec\">Dr. Marco Gersabeck</a> - Twitter <a href=\"https://twitter.com/MarcoGersabeck\">@MarcoGersabeck</a>\n",
    "        </div>\n",
    "    </div>\n",
    "</div>"
   ]
  },
  {
   "cell_type": "markdown",
   "metadata": {},
   "source": [
    "# Chapter 8\n",
    "\n",
    "## Syllabus\n",
    "\n",
    "1. Probabilities and interpretations\n",
    "2. Probability distributions\n",
    "3. Parameter estimation\n",
    "4. Maximum likelihood\n",
    "5. Least square, chi2, correlations\n",
    "6. Monte Carlo basics\n",
    "7. Goodness of fit tests\n",
    "8. **Hypothesis testing**\n",
    "9. Probability and confidence level\n",
    "10. Limit setting\n",
    "11. Introduction to multivariate analysis techniques"
   ]
  },
  {
   "cell_type": "markdown",
   "metadata": {},
   "source": [
    "## Topics\n",
    "\n",
    "**[8 Hypothesis testing](#8-Hypothesis-testing)**\n",
    "\n",
    "**[8.1 Decision making](#8.1-Decision-making)**\n",
    "- 8.1.1 Introductory examples\n",
    "- 8.1.2 Hypotheses\n",
    "- 8.1.3 Alternative hypotheses\n",
    "- 8.1.4 Types of errors\n",
    "- 8.1.5 Significance and power\n",
    "\n",
    "**[8.2 Practical examples](#8.2-Practical-examples)**\n",
    "- 8.2.1 Hypotheses and alternative hypotheses\n",
    "- 8.2.2 Interpreting experiments: Null hypothesis"
   ]
  },
  {
   "cell_type": "markdown",
   "metadata": {},
   "source": [
    "## 8 Hypothesis testing"
   ]
  },
  {
   "cell_type": "markdown",
   "metadata": {},
   "source": [
    "### 8.1 Decision making\n",
    "\n",
    "Hypothesis testing is essntially decision making.\n",
    "Any test boils down to a yes-or-no answer.\n",
    "This means it is fundamentally different to asking what the measured value of a given observable is as that can in principle take an infinite number of values.\n",
    "Rather, hypothesis taking can evaluate whether the measured value of an observable represents a certain behaviour or not.\n",
    "\n",
    "<div class=\"example\">Example</div>\n",
    "\n",
    "Rather than asking what the value of the slope of a fit like the one shown below is, we can ask whether the slope indicates that the linear function is increasing. This is not yet a very precise question and we will pin down the various loose ends as we progress through this lecture.\n",
    "<img src=\"images/SimpleFit.png\" width=40%>"
   ]
  },
  {
   "cell_type": "markdown",
   "metadata": {},
   "source": [
    "#### 8.1.1 Introductory examples\n",
    "\n",
    "In general we need the following to conduct a hypothesis test:\n",
    "- The assertion that some hypothesis is true,\n",
    "- A numerical test that is to be applied to data, and\n",
    "- A hypothesis that is accepted or rejected depending on the outcome of the test.\n",
    "\n",
    "There are several examples that will all feature in the remainder of this course:\n",
    "- The interpretation of experiments\n",
    "- Goodness of fit tests\n",
    "- Two-sample problems\n",
    "- Analyses of several samples\n",
    "\n",
    "Any hypothesis test will not be infallible.\n",
    "We need to choose a level of confidence at which to take the decision.\n",
    "Going back to our example of the linear fit, this level of confidence will be linked to the measured value and its uncertainty.\n",
    "We will discuss how to quantify this in the following."
   ]
  },
  {
   "cell_type": "markdown",
   "metadata": {},
   "source": [
    "#### 8.1.2 Hypotheses\n",
    "\n",
    "Hypotheses are statements that are either true or false. \n",
    "We distinguish simple and composite hypotheses.\n",
    "\n",
    "**Simple hypotheses** define the probability distribution function completely.\n",
    "Example hypotheses are:\n",
    "- These data are drawn from a Poisson distribution of mean 3.4.\n",
    "- The new treatment has identical effects to the old.\n",
    "\n",
    "**Composite hypotheses** combine several probability distribution functions.\n",
    "Example hypotheses are:\n",
    "- These data are drawn from a Poisson distribution of mean greater than 4.\n",
    "- The new treatment is an improvement on the old.\n",
    "\n",
    "Referring back to the components of a hypothesis test, a simple hypothesis corresponds to a numerical test featuring a single equality that is being evaluated, while an inequality would be the numerical test of a composite hypothesis."
   ]
  },
  {
   "cell_type": "markdown",
   "metadata": {},
   "source": [
    "#### 8.1.3 Alternative hypotheses\n",
    "\n",
    "In hypothesis tests we often compare to alternative hypothses.\n",
    "These can take many different forms; examples of alternatives to the first hypothesis (Poisson with mean 3.4) are:\n",
    "- These data are drawn from a Poisson distribution with another given mean, e.g. 4.5\n",
    "- These data are drawn from a Poisson distribution with any random mean other than 3.4\n",
    "- These data are not drawn from a Poisson distribution. This needs to be specified further in order to yield a numerical test.\n",
    "\n",
    "In general, it is crucial to distinguish between one-tailed directional and two-tailed non-directional tests. \n",
    "A two-tailed test refers to the comparison of a test outcome to a value where we don't care of whether the outcome is less than or greater than the value.\n",
    "In the directional test the sign of the difference between test outcome and comparison value is of importance.\n"
   ]
  },
  {
   "cell_type": "markdown",
   "metadata": {
    "slideshow": {
     "slide_type": "slide"
    }
   },
   "source": [
    "#### 8.1.4 Type I/II errors\n",
    "\n",
    "The outcome of a hypothesis test is the acceptance or rejection of the hypothesis based on the numerical test.\n",
    "However, it may be that the decision taken does not reflect whether or not the hypothesis is actually true.\n",
    "The two cases where there is a mismatch are called Type I and Type II error according to the following pattern:\n",
    "\n",
    "| Hypothesis \\ Decision | accept | reject |\n",
    "|:-------------------|:----------:|:----------:|\n",
    "| **true** | :) | Type I error |\n",
    "| **false** | Type II error | :) |"
   ]
  },
  {
   "cell_type": "markdown",
   "metadata": {
    "slideshow": {
     "slide_type": "slide"
    }
   },
   "source": [
    "#### 8.1.5 Significance and Power\n",
    "\n",
    "**Significance**\n",
    "\n",
    "Type I errors are inevitable and the rate at which they occur is called significance.\n",
    "We know the probabbility ditribution function of the hypothesis, $P_H(x)$, for the case that the test involves the measurement of a quantity $x$.\n",
    "In our previous example, $P_H(x)$ would be a Poisson distribution with mean 3.4.\n",
    "\n",
    "The probability distribution function is then divided into a rejection and an acceptance region.\n",
    "\n",
    "<img src=\"images/significance.png\" width=60%>\n",
    "\n",
    "The decision is then taken depending on where the measured value of $x$ falls.\n",
    "\n",
    "The significance, $\\alpha$, is the integral of the probability distribution of the hypothesis over the rejection region:\n",
    "\n",
    "$$\\alpha=\\int_{Reject}P_H(x)dx.$$\n",
    "\n",
    "Typically, we want $\\alpha$ to be small, e.g. 1% or 5%.\n",
    "In reality, we often need to work with the inequality\n",
    "\n",
    "$$\\alpha\\geq\\int_{Reject}P_H(x)dx,$$\n",
    "\n",
    "as we may have a range of possible $P_H(x)$ (composite hypothesis) or a discrete distribution for which $\\alpha$ cannot be reached exactly.\n",
    "For composite hypotheses we would use the $P_H(x)$ that maximises $\\alpha$.\n",
    "All other incarnations of the composite hypothesis would therefore result in a smaller integral and be equally accepted."
   ]
  },
  {
   "cell_type": "markdown",
   "metadata": {
    "slideshow": {
     "slide_type": "slide"
    }
   },
   "source": [
    "**Power**\n",
    "\n",
    "Considering the alternative hypothesis, we can define the integral of the probability distribution of the alternative hypothesis over the acceptance region as\n",
    "\n",
    "$$\\beta=\\int_{Accept}P_A(x)dx,$$\n",
    "\n",
    "or, by integrating of the rejection region as above, we get\n",
    "\n",
    "$$1-\\beta=\\int_{Reject}P_A(x)dx,$$\n",
    "\n",
    "where $1-\\beta$ is called the power of the test.\n",
    "\n",
    "<img src=\"images/power.png\" width=60%>"
   ]
  },
  {
   "cell_type": "markdown",
   "metadata": {},
   "source": [
    "**On the choice of the accept and reject regions**\n",
    "\n",
    "The sketches above show the accept region to the left of the reject region. This is just one possible arrangement and the optimal way depends on the situation at hand. The general guiding principle is that we want \n",
    "\n",
    "- to minimise the significance, and\n",
    "- to maximise the power.\n",
    "\n",
    "Therefore, if the alternative hypothesis has a probability distribution to the right of the hypothesis under test the arrangement above makes sense. If the alternative hypothesis were to lie on the left, then accept and reject regions should be swappend. Finally, it is also possible to have a central accept region with reject regions to either side. We will see examples for that when discussing confidence intervals."
   ]
  },
  {
   "cell_type": "markdown",
   "metadata": {},
   "source": [
    "<div class=\"example\">Example</div>\n",
    "\n",
    "Let us consider the following hypothesis:\n",
    "\n",
    "A data point is drawn from a Poisson distribution with mean less or equal to 5.\n",
    "\n",
    "We want to test this with 5% significance.\n",
    "\n",
    "Hence, we need to evaluate\n",
    "\n",
    "$$\\alpha\\geq\\int_{Reject}P_H(x)dx,$$\n",
    "\n",
    "which turns into\n",
    "\n",
    "$$0.05\\geq\\int_{Reject}Poisson(x;\\lambda=5)dx.$$\n",
    "\n",
    "The Poisson distribution is dicrete, so we are looking for the limit, $n$, of the sum that satisfies\n",
    "\n",
    "$$0.05\\geq\\sum_{x=n+1}^{\\infty}Poisson(x;\\lambda=5),$$\n",
    "\n",
    "or, to avoid an infinite sum,\n",
    "\n",
    "$$1-0.05=0.95\\lt\\int_{Accept}Poisson(x;\\lambda=5)dx=\\sum_{x=0}^{n}Poisson(x;\\lambda=5).$$\n",
    "\n",
    "Here, $n$ has been chosen as the limit of the acceptance region. \n",
    "\n",
    "For $n=9$ the cumulative sum is $0.968$, which is the first $n$ for which it exceeds $0.95$.\n",
    "\n",
    "A greater value of $n$ would satisfy these inequalities as well, but we want to choose the $n$ that leaves us closest to the target value of $0.95$.\n",
    "\n",
    "Any smaller mean than $5$ satisfies the equations above as well with $n=9$, which is why we chose to work with with $\\lambda=5$.\n",
    "\n",
    "Therefore, any observed value of $9$ or smaller would have the hypothesis accepted."
   ]
  },
  {
   "cell_type": "code",
   "execution_count": 11,
   "metadata": {
    "scrolled": true
   },
   "outputs": [
    {
     "data": {
      "image/png": "[encoded data removed]",
      "text/plain": [
       "<Figure size 864x432 with 2 Axes>"
      ]
     },
     "metadata": {
      "needs_background": "light"
     },
     "output_type": "display_data"
    }
   ],
   "source": [
    "from matplotlib.collections import PatchCollection\n",
    "from matplotlib.patches import Circle, Rectangle\n",
    "\n",
    "cl = 0.95\n",
    "\n",
    "n = 15\n",
    "x = range(n+1) # list of integers from 0 to n\n",
    "rv = poisson(5)       # initialise binomial distribution\n",
    "probs = rv.pmf(x)      # calculate binomial probabilities for all values of x and return list\n",
    "ints = np.cumsum(probs, dtype=float) # calculate cumulative sum of probabilities\n",
    "\n",
    "# work out limits of confidence interval based on cumulative sum of probabilities\n",
    "x_high = n\n",
    "for i in x:\n",
    "    if ints[n-i]>cl: x_high = n-i\n",
    "\n",
    "# prepare two plots with common x axis\n",
    "fig,ax1 = plt.subplots(figsize=(12,6))\n",
    "ax1.set_xticks(x[0::2])\n",
    "\n",
    "# plot the probability distribution\n",
    "ax1.plot(x,probs, 'bo', ms=8, label='Poisson $\\lambda=5$',color='tab:blue')\n",
    "ax1.grid(which='both',axis='x')\n",
    "ax1.tick_params(axis='y', labelcolor='tab:blue')\n",
    "ax1.legend(loc=[0.8,0.4])\n",
    "\n",
    "\n",
    "# draw a band indicating the excluded part of the confidence level\n",
    "pp = PatchCollection([Rectangle((0,cl),n,1-cl)],alpha=0.4, color='tab:purple')\n",
    "\n",
    "# draw a rectangle indicating the selected confidence interval\n",
    "pp2 = PatchCollection([Rectangle((0,0),x_high,cl)],alpha=0.4, color='tab:orange')\n",
    "\n",
    "step = 3\n",
    "if 1 < step: ax2 = ax1.twinx()\n",
    "\n",
    "# add these to the plot\n",
    "if 2 < step:\n",
    "    ax2.add_collection(pp)\n",
    "    ax2.add_collection(pp2)\n",
    "\n",
    "if 1 < step:\n",
    "    # plot the cumulative integral\n",
    "    ax2.plot(x,ints, '-', ms=8, label='Cumulative',color='tab:green')\n",
    "\n",
    "    # plot optics\n",
    "    ax2.set_yticks([x/20. for x in range(21)])\n",
    "    ax2.grid(which='major',axis='y')\n",
    "    ax2.tick_params(axis='y', labelcolor='tab:green')\n",
    "    ax2.legend(loc=[0.8,0.3])\n",
    "\n",
    "plt.show()"
   ]
  },
  {
   "cell_type": "markdown",
   "metadata": {
    "slideshow": {
     "slide_type": "slide"
    }
   },
   "source": [
    "##### Quiz\n",
    "\n",
    "What do we want from significance and power?\n",
    "\n",
    "$$\\alpha=\\int_{Reject}P_H(x)dx;\\qquad 1-\\beta=\\int_{Reject}P_A(x)dx.$$\n",
    "\n",
    "<a href=\"https://www.menti.com\">menti.com</a> with key 88 22 34."
   ]
  },
  {
   "cell_type": "markdown",
   "metadata": {
    "slideshow": {
     "slide_type": "slide"
    }
   },
   "source": [
    "### 8.2 Practical examples\n",
    "\n",
    "#### 8.2.1 Hypotheses and alternative hypotheses"
   ]
  },
  {
   "cell_type": "markdown",
   "metadata": {
    "slideshow": {
     "slide_type": "slide"
    }
   },
   "source": [
    "<div class=\"example\">Example: Identifying Mars rocks</div>\n",
    "\n",
    "There has been no return mission to Mars, so all Martian rocks on earth came through being ejected from the surface of Mars by a meterorite impact and then having found their way to us. Their identity is compared to in-situ measurements by probes on the surface of Mars.\n",
    "\n",
    "The following plot is from E.M. Stolper et al., Science 6153 (2013) 1239463.\n",
    "\n",
    "<img src=\"images/F3.large.jpg\" width=60%>\n",
    "\n",
    "<img src=\"images/F3.large_zoom.jpg\" width=80%>\n",
    "\n",
    "We can now set the hypothesis that a sample is of Martian origin and set the alternative hypothesis that a sample is from earth. \n",
    "\n",
    "Let's focus here on the $TiO_2$ content, i.e. ignore the correlation of different concentrations. In order to do so, I have extracted the $TiO_2$ content distributions by eye and obtained the following data."
   ]
  },
  {
   "cell_type": "code",
   "execution_count": 12,
   "metadata": {
    "scrolled": true
   },
   "outputs": [
    {
     "data": {
      "image/png": "[encoded data removed]",
      "text/plain": [
       "<Figure size 864x432 with 2 Axes>"
      ]
     },
     "metadata": {
      "needs_background": "light"
     },
     "output_type": "display_data"
    }
   ],
   "source": [
    "xx = np.linspace(0.125,5.875,24)\n",
    "earth_data = [5,12,25,19, 13,12,12,14, 11,16,20,23, 21,29,31,32, 26,10,12,5, 1,0,0,0]\n",
    "mars_data = [0,7,11,10, 10,0,0,1, 0,0,1,0, 1,0,0,0, 0,0,0,0, 0,0,0,0]\n",
    "test_data = [0,1,2,0, 0,0,0,0, 0,0,0,0, 0,0,0,0, 0,0,0,0, 0,0,0,0]\n",
    "\n",
    "earth_sum = np.cumsum(earth_data)               # calculate cumulative sum of data points above\n",
    "earth_total = earth_sum[-1]                     # determine total\n",
    "earth_sum = [i/earth_total for i in earth_sum] # normalise cumulative sum\n",
    "\n",
    "mars_sum = np.cumsum(mars_data)\n",
    "mars_total = mars_sum[-1]\n",
    "mars_sum = [i/mars_total for i in mars_sum]\n",
    "test_sum = np.cumsum(test_data)\n",
    "test_total = test_sum[-1]\n",
    "test_sum = [i/test_total for i in test_sum]\n",
    "\n",
    "fig,ax1 = plt.subplots(figsize=(12,6))\n",
    "\n",
    "# plot histograms\n",
    "ax1.bar(xx,earth_data,width=0.25,alpha=0.5,label='Earth, histogram',color='tab:blue')\n",
    "ax1.bar(xx,mars_data,width=0.25,alpha=0.5,label='Mars, histogram',color='tab:orange')\n",
    "ax1.bar(xx,test_data,width=0.25,alpha=0.5,label='Jake_M, histogram',color='tab:green')\n",
    "# optics, part 1\n",
    "ax1.set_yticks([x*2. for x in range(21)])\n",
    "plt.ylim(0,42)\n",
    "ax1.grid(which='both',axis='x')\n",
    "ax1.tick_params(axis='y', labelcolor='tab:blue')\n",
    "ax1.legend(loc=[0.72,0.6])\n",
    "\n",
    "# plot cumulative distributions\n",
    "ax2 = ax1.twinx()\n",
    "ax2.plot(xx,earth_sum, 'bo', ms=8, label='Earth, cumul. sum',color='tab:blue')\n",
    "ax2.plot(xx,mars_sum, 'bo', ms=8, label='Mars, cumul. sum',color='tab:orange')\n",
    "\n",
    "# optics, part 2\n",
    "ax2.set_yticks([x/20. for x in range(21)])\n",
    "ax2.grid(which='major',axis='y')\n",
    "ax2.tick_params(axis='y', labelcolor='tab:green')\n",
    "ax2.legend(loc=[0.72,0.4])\n",
    "plt.ylim(0,1.05)\n",
    "\n",
    "ax1.plot([1.25,1.25],[0,42],color='k')\n",
    "\n",
    "plt.show()"
   ]
  },
  {
   "cell_type": "markdown",
   "metadata": {},
   "source": [
    "Defining the acceptance region for the alternative hypothesis (earth-like) as $>1.25\\%$, we would wrongly reject about $7\\%$ of Martian rocks, i.e. $\\alpha=7\\%$, and we would wrongly accept about $21\\%$ of earth rock samples, hence $\\beta=21\\%$, which means the power is $79\\%$.\n",
    "\n",
    "The sample analysed in this paper are the Jake\\_M rocks, for which we would reject the alternative hypothesis of being of earth origin in this test. A power of $79\\%$ may not be very satisfactory in this context and the correlation shown in the plots illustrate that a combined analysis of all available input would be much preferrable. We will get back to this topic in Chapter 11."
   ]
  },
  {
   "cell_type": "markdown",
   "metadata": {
    "slideshow": {
     "slide_type": "slide"
    }
   },
   "source": [
    "#### 8.2.2 Interpreting experiments: null hypothesis\n",
    "\n",
    "Measurements can have different goals; some are designed to measure a certain quantity, e.g. the rate at which a process occurs, while others aim to make a discovery or test a particular theory prediction. The former is rather straightforward in terms of statistics as it just requires knowledge of the resolution of the experiment (and any possible systematic uncertainties). Statistical treatment is at best required for repeated executions of the measurements, which is sufficiently trivial.\n",
    "\n",
    "When testing the validity of a theory or aiming to make a discovery, we find ourselves in a situation where we are testing a hypothesis. However, we can only ever reject a hypothesis with great confidence, but not accept it. This is because any given measurement will yield a result for an observable that is a random variable distributed according to the probability distribution of the hypothesis. Any measured value that falls in the bulk of the probability distribution does not indicate a strong increase or decrease in the support for the hypothesis, whereas a value measured to be in the extreme tails of the distribution allows to reject the hypothesis at great confidence.\n",
    "\n",
    "In short: for any theory we want to test, we have to formulate the opposite hypothesis and aim to falsify this. This hypothesis is called the null hypothesis, $H_0$."
   ]
  },
  {
   "cell_type": "markdown",
   "metadata": {
    "slideshow": {
     "slide_type": "slide"
    }
   },
   "source": [
    "<div class=\"example\">Example: Red versus Blue</div>\n",
    "\n",
    "Let's generate some data:\n",
    "<a href=\"https://www.menti.com\">menti.com</a> with key 88 22 34.\n",
    "\n",
    "We want to test whether there's a bias in a preference for red or blue among the students in the lecture. Hence, we need to formulate the oppostite as our null hypothesis: there is no bias.\n",
    "\n",
    "If there is no bias, the probability for either colour is $1/2$. Let's test our hypothesis to the $10\\%$ level. In this context we have a Binomial distribution."
   ]
  },
  {
   "cell_type": "code",
   "execution_count": 13,
   "metadata": {
    "slideshow": {
     "slide_type": "slide"
    }
   },
   "outputs": [],
   "source": [
    "nBlue = 4               # as surveyed\n",
    "nRed  = 2               # as surveyed\n",
    "nStudents = nBlue + nRed\n",
    "cl    = 0.90             # 1 - significance\n",
    "p     = 0.50             # example probability (null hypothesis)"
   ]
  },
  {
   "cell_type": "code",
   "execution_count": 14,
   "metadata": {
    "scrolled": false,
    "slideshow": {
     "slide_type": "slide"
    }
   },
   "outputs": [
    {
     "data": {
      "image/png": "[encoded data removed]",
      "text/plain": [
       "<Figure size 1152x576 with 2 Axes>"
      ]
     },
     "metadata": {
      "needs_background": "light"
     },
     "output_type": "display_data"
    }
   ],
   "source": [
    "x = range(nStudents+1) # list of integers from 0 to nStudents\n",
    "n = nStudents\n",
    "limlow = (1-cl)/2      # lower limit of central confidence interval\n",
    "limhigh = 1-limlow     # upper limit of central confidence interval\n",
    "rv = binom(n, p)       # initialise binomial distribution\n",
    "probs = rv.pmf(x)      # calculate binomial probabilities for all values of x and return list\n",
    "ints = np.cumsum(probs, dtype=float) # calculate cumulative sum of probabilities\n",
    "\n",
    "# work out limits of confidence interval based on cumulative sum of probabilities\n",
    "x_low = 0\n",
    "x_high = nStudents\n",
    "for i in x:\n",
    "    if ints[i]<limlow: x_low = i\n",
    "    if ints[n-i]>limhigh: x_high = n-i\n",
    "x_low += 1\n",
    "        \n",
    "# prepare two plots with common x axis\n",
    "#plt.xkcd()\n",
    "fig,ax1 = plt.subplots(figsize=(16, 8))\n",
    "ax1.set_xticks(x[0::2])\n",
    "ax2 = ax1.twinx()\n",
    "\n",
    "# draw two bands indicating the excluded part of the confidence level\n",
    "pp = PatchCollection([Rectangle((0,0),n,limlow),\n",
    "                      Rectangle((0,limhigh),n,limlow)],\n",
    "                     alpha=0.5, color='tab:purple', label='outside CL')\n",
    "\n",
    "# draw a rectangle indicating the selected confidence interval\n",
    "pp2 = PatchCollection([Rectangle((x_low,limlow),x_high-x_low,cl)],\n",
    "                      alpha=0.5, color='tab:orange', label='selected range')\n",
    "\n",
    "# add these to the plot\n",
    "ax2.add_collection(pp)\n",
    "ax2.add_collection(pp2)\n",
    "\n",
    "# plot the probability distribution\n",
    "ax1.plot(x,probs, 'bo', ms=8, label='probability distribution')\n",
    "\n",
    "# plot the cumulative integral\n",
    "ax2.plot(x,ints, '-', ms=8, label='cumulative integral')\n",
    "\n",
    "ax2.plot([nBlue,nBlue],[0,1],'-', color='k', label='Observed #blue')\n",
    "\n",
    "# plot optics\n",
    "ax2.set_yticks([x/20. for x in range(21)])\n",
    "ax1.grid(which='both',axis='x')\n",
    "ax2.grid(which='major',axis='y')\n",
    "ax1.set_xlabel('n')\n",
    "ax1.set_ylabel('probability')\n",
    "ax2.set_ylabel('integral')\n",
    "\n",
    "h1, l1 = ax1.get_legend_handles_labels()\n",
    "h2, l2 = ax2.get_legend_handles_labels()\n",
    "ax1.legend(h1+h2, l1+l2, loc=5)\n",
    "\n",
    "plt.show()"
   ]
  },
  {
   "cell_type": "markdown",
   "metadata": {
    "slideshow": {
     "slide_type": "fragment"
    }
   },
   "source": [
    "Purple bands indicate probability range where hypothesis would be rejected. The orange box indicates the corresponding region of $n_{blue}$ (or $n_{red}$) where hypothesis is _not_ rejected."
   ]
  },
  {
   "cell_type": "markdown",
   "metadata": {
    "slideshow": {
     "slide_type": "slide"
    }
   },
   "source": [
    "<div class=\"example\">Example: Binomial statistics</div>\n",
    "\n",
    "Let's look at a different example of binomial statistics now. In our very first lecture we encountered a medical diagnostic tool and medical applications are a very typical use-case for Binomial statistics.\n",
    "\n",
    "Let's assume that we're looking at a treatment that is tested on 100 patients. $60\\%$ of these are expected to be cured spontaneously within a week. Let's work at the $5\\%$ significance level.\n",
    "\n",
    "The null hypothesis is that the probability of a patient being cured within a week is $P\\le 0.6$; hence, we expect to get 60 cures or less under this hypothesis with a standard deviation of\n",
    "\n",
    "$$\\sigma=\\sqrt{100\\times0.4\\times0.6}=\\sqrt{24}=4.9.$$\n",
    "\n",
    "Using a normal approximation, we know that a one-tailed distribution reaches $5\\%$ at $1.64\\sigma$. Hence, we set the decision point at $60+1.64\\times4.9=68.03$ cures. We have to round this up to 69, which we can then use as the threshold to reject the hypothesis that the number of cures agrees with the expected level of spontaneous cures."
   ]
  },
  {
   "cell_type": "markdown",
   "metadata": {
    "slideshow": {
     "slide_type": "slide"
    }
   },
   "source": [
    "<div class=\"example\">Example: Poisson statistics</div>\n",
    "\n",
    "In many counting experiments we will have a situation where we want to identify whether a significant excess exists above a certain level of background. \n",
    "\n",
    "Let's join a group of bird watchers who make a head count of a bird population once per year and who want to know whether the population grew since the previous year with a significance of $1\\%$. The 2017 count was 132, followed by 160 in 2018. \n",
    "\n",
    "We want to test the hypothesis that the 2018 count is in agreement with the same distribution as observed in 2017, i.e. a Poisson distribution with mean 132. The corresponding uncertainty would be $\\sqrt{132}=11.5$. Hence, we see an increase of $(160-132)/11.5~\\sigma = 2.4\\sigma$. This corresponds to a significance of $0.7\\%$ for a one-tailed distribution."
   ]
  },
  {
   "cell_type": "markdown",
   "metadata": {},
   "source": [
    "<div class=\"well\" align=\"center\">\n",
    "    <div class=\"container-fluid\">\n",
    "        <div class=\"row\">\n",
    "            <div class=\"col-md-3\" align=\"center\">\n",
    "                <img align=\"center\" alt=\"Creative Commons License\" style=\"border-width:0\" src=\"https://licensebuttons.net/l/by-nc-sa/4.0/88x31.png\" width=\"60%\">\n",
    "            </div>\n",
    "            <div class=\"col-md-8\">\n",
    "            This work is licensed under a <a href=\"http://creativecommons.org/licenses/by-nc-sa/4.0/\">Creative Commons Attribution-NonCommercial-ShareAlike 4.0 International License</a>).\n",
    "            </div>\n",
    "        </div>\n",
    "    </div>\n",
    "    <br>\n",
    "    <br>\n",
    "    <i>Note: The content of this Jupyter Notebook is provided for educational purposes only.</i>\n",
    "</div>"
   ]
  }
 ],
 "metadata": {
  "kernelspec": {
   "display_name": "Python 3",
   "language": "python",
   "name": "python3"
  },
  "language_info": {
   "codemirror_mode": {
    "name": "ipython",
    "version": 3
   },
   "file_extension": ".py",
   "mimetype": "text/x-python",
   "name": "python",
   "nbconvert_exporter": "python",
   "pygments_lexer": "ipython3",
   "version": "3.8.6"
  },
  "latex_envs": {
   "LaTeX_envs_menu_present": true,
   "autocomplete": true,
   "bibliofile": "biblio.bib",
   "cite_by": "apalike",
   "current_citInitial": 1,
   "eqLabelWithNumbers": true,
   "eqNumInitial": 1,
   "hotkeys": {
    "equation": "Ctrl-E",
    "itemize": "Ctrl-I"
   },
   "labels_anchors": false,
   "latex_user_defs": false,
   "report_style_numbering": false,
   "user_envs_cfg": false
  }
 },
 "nbformat": 4,
 "nbformat_minor": 2
}
