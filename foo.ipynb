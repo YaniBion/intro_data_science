{
 "cells": [
  {
   "cell_type": "code",
   "execution_count": 3,
   "metadata": {
    "scrolled": false
   },
   "outputs": [],
   "source": [
    "## Import required Python modules\n",
    "%matplotlib inline\n",
    "import matplotlib.pyplot as plt\n",
    "import numpy as np\n",
    "import scipy, scipy.stats"
   ]
  },
  {
   "cell_type": "markdown",
   "metadata": {},
   "source": [
    "*Note: You are not expected to understand all the computer coding presented with the solutions. You should understand the mathematical concepts and be able to recover the results. We present the computer code so you can learn coding tricks (e.g. read data, compute useful values, fit and plot data) should you be interested.*"
   ]
  },
  {
   "cell_type": "markdown",
   "metadata": {},
   "source": [
    "# Chapter 2 - Problem Sheet"
   ]
  },
  {
   "cell_type": "markdown",
   "metadata": {},
   "source": [
    "## Problem 1\n",
    "\n",
    "### Case study: The maths behind screening tests\n",
    "\n",
    "Let us investigate the maths behind medical screening tests...\n",
    "\n",
    "*An over-the-counter test is available to diagnose some particular disease which is known to be carried by 0.5% of the population at any given time. A representation of the packaging is illustrated below. If someone returns a positive result, what is the probability that they suffer from this particular disease?*\n",
    "\n",
    "![test](supertest.png)\n",
    "\n",
    "Note: after reading the small prints on the instruction manual, they find the following details:\n",
    "\n",
    "```\n",
    "Our test is designed to identify a specific protein expressed by individuals suffering from the disease. Controlled laboratory studies demonstrated that it can detect 99% on individuals suffering from the disease, while 2% of the tests come out positive for individuals who are not infected.\n",
    "```"
   ]
  },
  {
   "cell_type": "markdown",
   "metadata": {},
   "source": [
    "## Problem 2\n",
    "\n",
    "### Case study: Hurricane Harvey\n",
    "\n",
    "Hurricane Harvey brought in major floods in Texas at the end of August 2017. It was qualified as a once-in-a-century type of event. It was the first Category 4 hurricane to make landfall in Texas since Carla in 1961. Does this claim about the rarity of such an event make any sense?\n",
    "\n",
    "Answering this problem requires casting the right question. In science, this is often the most difficult part. Here, we could say:\n",
    "\n",
    "```\n",
    "What are the odds of having two or more such hurricanes in the observed time span?\n",
    "```"
   ]
  },
  {
   "cell_type": "code",
   "execution_count": null,
   "metadata": {},
   "outputs": [],
   "source": []
  }
 ],
 "metadata": {
  "celltoolbar": "Raw Cell Format",
  "kernelspec": {
   "display_name": "Python 3",
   "language": "python",
   "name": "python3"
  },
  "language_info": {
   "codemirror_mode": {
    "name": "ipython",
    "version": 3
   },
   "file_extension": ".py",
   "mimetype": "text/x-python",
   "name": "python",
   "nbconvert_exporter": "python",
   "pygments_lexer": "ipython3",
   "version": "3.8.3"
  },
  "latex_envs": {
   "LaTeX_envs_menu_present": true,
   "autocomplete": true,
   "bibliofile": "biblio.bib",
   "cite_by": "apalike",
   "current_citInitial": 1,
   "eqLabelWithNumbers": true,
   "eqNumInitial": 1,
   "hotkeys": {
    "equation": "Ctrl-E",
    "itemize": "Ctrl-I"
   },
   "labels_anchors": false,
   "latex_user_defs": false,
   "report_style_numbering": false,
   "user_envs_cfg": false
  }
 },
 "nbformat": 4,
 "nbformat_minor": 4
}
