{
 "cells": [
  {
   "cell_type": "code",
   "execution_count": 1,
   "metadata": {
    "scrolled": true
   },
   "outputs": [
    {
     "data": {
      "text/html": [
       "<style>.container { width:95% !important; }</style>"
      ],
      "text/plain": [
       "<IPython.core.display.HTML object>"
      ]
     },
     "metadata": {},
     "output_type": "display_data"
    },
    {
     "data": {
      "text/html": [
       "<link href=\"https://fonts.googleapis.com/css?family=Fira+Sans:300,300i,600,600i\" rel=\"stylesheet\">\n",
       "<link href=\"https://fonts.googleapis.com/css?family=Inconsolata\" rel=\"stylesheet\">\n",
       "<link href=\"https://fonts.googleapis.com/css?family=Titillium+Web:400,400i,700,700i\" rel=\"stylesheet\">\n",
       "\n",
       "\n",
       "<style>\n",
       "\n",
       ".text_cell_render p {\n",
       "font-style: regular;\n",
       "font-family: 'Fira Sans', sans-serif;\n",
       "display: block;\n",
       "text-align: justify;\n",
       "}\n",
       "/*font-weight: 200;*/\n",
       "/*text-align: left;\n",
       "line-height: 100%;\n",
       "display: block;\n",
       "}*/\n",
       "a {\n",
       "color:#377bb5;\n",
       "}\n",
       ".text_cell_render h1 {\n",
       "/*font-size: 24pt;*/\n",
       "font-family: 'Titillium Web', sans-serif;\n",
       "font-weight: bold;\n",
       "margin-bottom: 0.1em;\n",
       "margin-top: 0.5em;\n",
       "color:#4a4a4a;\n",
       "}\n",
       ".text_cell_render h2 {\n",
       "/*font-size: 21pt;*/\n",
       "    font-family: 'Titillium Web', sans-serif;\n",
       "margin-bottom: 0.1em;\n",
       "margin-top: 0.3em;\n",
       "color:#595959;\n",
       "}\n",
       ".text_cell_render h3 {\n",
       "    font-family: 'Titillium Web', sans-serif;\n",
       "/*font-size: 19pt;*/\n",
       "margin-bottom: 0.1em;\n",
       "margin-top: 0.3em;\n",
       "color:#595959;\n",
       "}\n",
       ".text_cell_render h4 {\n",
       "    font-family: 'Titillium Web', sans-serif;\n",
       "/*font-size: 17pt;*/\n",
       "margin-bottom: 0.1em;\n",
       "margin-top: 0.3em;\n",
       "color:#595959;\n",
       "}\n",
       ".text_cell_render h5 {\n",
       "    font-family: 'Titillium Web', sans-serif;\n",
       "/*font-size: 15pt;*/\n",
       "margin-bottom: 0.1em;\n",
       "margin-top: 0.3em;\n",
       "color:#595959;\n",
       "}\n",
       "div.text_cell_render{\n",
       "font-style: regular;\n",
       "font-family: 'Fira Sans', sans-serif;\n",
       "line-height: 120%;\n",
       "font-size: 100%;\n",
       "font-weight: 400;\n",
       "text-align: justify;\n",
       "margin-left:0em;\n",
       "margin-right:0em;\n",
       "}\n",
       "code {\n",
       "font-family: 'Inconsolata', monospace;\n",
       "}\n",
       "pre {\n",
       "font-family: 'Inconsolata', monospace;\n",
       "}\n",
       "\n",
       "div.example {\n",
       "    font-family: 'Titillium Web', sans-serif;\n",
       "/*font-size: 15pt;*/\n",
       "font-weight: bold;\n",
       "font-variant: small-caps;\n",
       "text-decoration: underline;\n",
       "margin-bottom: 0.1em;\n",
       "margin-top: 0.3em;\n",
       "color:#595959;\n",
       "}\n",
       "\n",
       "div.queue {\n",
       "font-size: x-large;\n",
       "font-variant: small-caps;\n",
       "font-family: 'Titillium Web', sans-serif;\n",
       "font-weight: bold;\n",
       "/*margin-bottom: 0.1em;*/\n",
       "/*margin-top: 0.5em;*/\n",
       "margin: 10px;\n",
       "padding: 10px;\n",
       "color:#cc0000;\n",
       "border-style: solid none solid none;\n",
       "border-width: 2px;\n",
       "border-color:#cc0000;\n",
       "border-spacing: 10px;\n",
       "}\n",
       "\n",
       ".reveal h1 {\n",
       "font-family: 'Titillium Web', sans-serif;\n",
       "/*font-size: 24pt;*/\n",
       "font-weight: bold;\n",
       "margin-bottom: 0.1em;\n",
       "margin-top: 0.5em;\n",
       "color:#4a4a4a;\n",
       "}\n",
       ".reveal h2 {\n",
       "font-family: 'Titillium Web', sans-serif;\n",
       "/*font-size: 24pt;*/\n",
       "font-weight: bold;\n",
       "margin-bottom: 0.1em;\n",
       "margin-top: 0.5em;\n",
       "color:#595959;\n",
       "}\n",
       ".reveal h3 {\n",
       "font-family: 'Titillium Web', sans-serif;\n",
       "/*font-size: 24pt;*/\n",
       "font-weight: bold;\n",
       "margin-bottom: 0.1em;\n",
       "margin-top: 0.5em;\n",
       "color:#595959;\n",
       "}\n",
       ".reveal h4 {\n",
       "font-family: 'Titillium Web', sans-serif;\n",
       "font-weight: bold;\n",
       "margin-bottom: 0.1em;\n",
       "margin-top: 0.5em;\n",
       "color:#595959;\n",
       "}\n",
       ".reveal div.text_cell_render{\n",
       "line-height: 120%;\n",
       "font-size: 74%;\n",
       "font-weight: 400;\n",
       "text-align: justify;\n",
       "margin-left:0em;\n",
       "margin-right:0em;\n",
       "}\n",
       ".reveal .code_cell {\n",
       "    font-size: 92%;\n",
       "}\n",
       ".reveal code {\n",
       "font-family: 'Inconsolata', monospace;\n",
       "}\n",
       ".reveal pre {\n",
       "font-family: 'Inconsolata', monospace;\n",
       "}\n",
       "\n",
       ".CodeMirror{\n",
       "font-family: \"Inconsolata\", monospace;\n",
       "}\n",
       "\n",
       "</style>"
      ],
      "text/plain": [
       "<IPython.core.display.HTML object>"
      ]
     },
     "execution_count": 1,
     "metadata": {},
     "output_type": "execute_result"
    }
   ],
   "source": [
    "## Import required Python modules\n",
    "%matplotlib inline\n",
    "import matplotlib.pyplot as plt\n",
    "import numpy as np\n",
    "import scipy, scipy.stats\n",
    "import io\n",
    "import base64\n",
    "#from IPython.core.display import display\n",
    "from IPython.display import display, HTML, Image\n",
    "from urllib.request import urlopen\n",
    "\n",
    "try:\n",
    "    import astropy as apy\n",
    "    import astropy.table\n",
    "    _apy = True\n",
    "    #print('Loaded astropy')\n",
    "except:\n",
    "    _apy = False\n",
    "    #print('Could not load astropy')\n",
    "\n",
    "## Customising the font size of figures\n",
    "plt.rcParams.update({'font.size': 14})\n",
    "\n",
    "## Customising the look of the notebook\n",
    "display(HTML(\"<style>.container { width:95% !important; }</style>\"))\n",
    "## This custom file is adapted from https://github.com/lmarti/jupyter_custom/blob/master/custom.include\n",
    "HTML('custom.css')\n",
    "#HTML(urlopen('https://raw.githubusercontent.com/bretonr/intro_data_science/master/custom.css').read().decode('utf-8'))"
   ]
  },
  {
   "cell_type": "code",
   "execution_count": 2,
   "metadata": {
    "scrolled": true
   },
   "outputs": [
    {
     "data": {
      "text/html": [
       "<script>\n",
       "code_show=true;\n",
       "function code_toggle() {\n",
       " if (code_show){\n",
       " $('div.input').hide();\n",
       " } else {\n",
       " $('div.input').show();\n",
       " }\n",
       " code_show = !code_show\n",
       "} \n",
       "$( document ).ready(code_toggle);\n",
       "</script>\n",
       "<form action=\"javascript:code_toggle()\"><input type=\"submit\" value=\"Click here to toggle on/off the Python code.\"></form>"
      ],
      "text/plain": [
       "<IPython.core.display.HTML object>"
      ]
     },
     "execution_count": 2,
     "metadata": {},
     "output_type": "execute_result"
    }
   ],
   "source": [
    "## Adding a button to hide the Python source code\n",
    "HTML('''<script>\n",
    "code_show=true;\n",
    "function code_toggle() {\n",
    " if (code_show){\n",
    " $('div.input').hide();\n",
    " } else {\n",
    " $('div.input').show();\n",
    " }\n",
    " code_show = !code_show\n",
    "} \n",
    "$( document ).ready(code_toggle);\n",
    "</script>\n",
    "<form action=\"javascript:code_toggle()\"><input type=\"submit\" value=\"Click here to toggle on/off the Python code.\"></form>''')"
   ]
  },
  {
   "cell_type": "markdown",
   "metadata": {},
   "source": [
    "<div class=\"container-fluid\">\n",
    "    <div class=\"row\">\n",
    "        <div class=\"col-md-8\" align=\"center\">\n",
    "            <h1>PHYS 10792: Introduction to Data Science</h1>\n",
    "            <h3>2018-2019 Academic Year</h3><br>\n",
    "        </div>\n",
    "        <div class=\"col-md-3\">\n",
    "            <img align='center' style=\"border-width:0\" src=\"images/UoM_logo.png\"/>\n",
    "        </div>\n",
    "    </div>\n",
    "</div>\n",
    "\n",
    "<div class=\"container-fluid\">\n",
    "    <div class=\"row\">\n",
    "        <div class=\"col-md-2\" align=\"right\">\n",
    "            <b>Course instructors:&nbsp;&nbsp;</b>\n",
    "        </div>\n",
    "        <div class=\"col-md-9\" align=\"left\">\n",
    "            <a href=\"http://www.renebreton.org\">Rene Breton</a> - Twitter <a href=\"https://twitter.com/BretonRene\">@BretonRene</a><br>\n",
    "            <a href=\"http://www.hep.manchester.ac.uk/u/gersabec\">Marco Gersabeck</a> - Twitter <a href=\"https://twitter.com/MarcoGersabeck\">@MarcoGersabeck</a>\n",
    "        </div>\n",
    "    </div>\n",
    "</div>"
   ]
  },
  {
   "cell_type": "markdown",
   "metadata": {},
   "source": [
    "# Chapter 7\n",
    "\n",
    "## Syllabus\n",
    "\n",
    "1. Probabilities and interpretations\n",
    "2. Probability distributions\n",
    "3. Parameter estimation\n",
    "4. Maximum likelihood + extended maximum likelihood\n",
    "5. Least square, chi2, correlations\n",
    "6. Monte Carlo basics\n",
    "7. **Probability** \n",
    "8. Hypothesis testing\n",
    "9. Confidence level\n",
    "10. Goodness of fit tests\n",
    "11. Limit setting\n",
    "12. Introduction to multivariate analysis techniques"
   ]
  },
  {
   "cell_type": "markdown",
   "metadata": {},
   "source": [
    "## Topics\n",
    "\n",
    "**[7 Probability](#7-Probability)**\n",
    "- 7.1 Axioms of probability\n",
    "- 7.2 Empirical probability\n",
    "- 7.3 Bayesian statistics\n",
    "- 7.4 Subjective probability\n",
    "- 7.5 Limitations"
   ]
  },
  {
   "cell_type": "markdown",
   "metadata": {},
   "source": [
    "## 7 Probability"
   ]
  },
  {
   "cell_type": "markdown",
   "metadata": {},
   "source": [
    "### 7.1 Axioms of probability\n",
    "\n",
    "#### Recall from Week 2:\n",
    "\n",
    "When repeating a measurement the result may change in an unforeseable manner. This is the characteristic of a random system. The degree of randomness can be quantified with the concept of probability.\n",
    "\n",
    "Let us define the probability following Kolmogorov (1933).\n",
    "\n",
    "We have a set of possible results $S = {E_1, E_2, ...}$. To each subset $A$ of $S$, $A \\subset S$, one assigns a real number $P(A)$, called probability and satisfying the *axioms of probability*:\n",
    "\n",
    "1. For each subset $A$ in $S$, $P(A) \\geq 0$\n",
    "2. For all disjoint subsets $A$ and $B$ (i.e. $A \\cap B = 0$, null intersection), $P(A \\cup B) = P(A) + P(B)$ (i.e. the union of the two is simply the sum of the datasets)\n",
    "3. $P(S) = 1$\n",
    "\n",
    "\n",
    "The following properties can be derived from these axioms, where the complement to the set of results $A$, i.e. not $A$, is denoted by $\\overline{A}$:\n",
    "\n",
    "- $P(\\bar A) = 1 - P(A)$\n",
    "- $P(A \\cup \\overline{A}) = 1$\n",
    "- $0 \\leq P(A) \\leq 1$\n",
    "- $P(\\emptyset) = 0$\n",
    "- If $A \\subset B$ then $P(A) \\leq P(B)$\n",
    "- $P(A \\cup B) = P(A) + P(B) - P(A \\cap B)$\n",
    "\n",
    "#### Alternative way of the same\n",
    "A single possible result is often called event. \n",
    "All of the above can then be written for a single event $E_i$ as the subset $A$.\n",
    "With $S$ being the set of all possible events, the third axiom becomes:\n",
    "\n",
    "&nbsp; &nbsp; 3. $P(S)=\\sum P(E_i)=1$"
   ]
  },
  {
   "cell_type": "markdown",
   "metadata": {},
   "source": [
    "### 7.2 Empirical probability - The limit of a frequency\n",
    "\n",
    "Consider an experiment that is executed $N$ times. The outcome $A$ (this could be a single event or a set of events as discussed above) occurs in $M$ of these cases. As $N\\to \\infty$, the ratio $M/N$ tends to a limit, which is defined as the _probability_ $P(A)$ of $A$.\n",
    "\n",
    "The experiment may be repeated $N$ times sequentially or $N$ identical experiments may be carried out in parallel. The set of all $N$ outcomes is called _collective_ or _ensemble_."
   ]
  },
  {
   "cell_type": "markdown",
   "metadata": {},
   "source": [
    "<div class=\"example\">Example: Repeating one experiment</div>\n",
    "\n",
    "An example for repeating one experiment is the double-slit experiment in which the same double slit is bombarded many times with particles and a distribution builds up on the screen.\n",
    "This distribution corresponds to the probability of observing a particle at a given place on the screen."
   ]
  },
  {
   "cell_type": "markdown",
   "metadata": {},
   "source": [
    "<img src=\"images/DoubleSlit.png\" width=60% >\n",
    "\n",
    "Source <a href=\"https://commons.wikimedia.org/wiki/File:Two-Slit_Experiment_Light.svg\">Wikimedia/inductiveload</a>"
   ]
  },
  {
   "cell_type": "markdown",
   "metadata": {},
   "source": [
    "<div class=\"example\">Example: Many independent experiments</div>\n",
    "\n",
    "In particle physics colliders produce millions of particle collisions per second.\n",
    "\n",
    "Each of these can be considered as an independent experiment.\n",
    "\n",
    "What is studied in the end is the outcome of the ensemble."
   ]
  },
  {
   "cell_type": "markdown",
   "metadata": {},
   "source": [
    "<img src=\"images/Higgs24mu.png\" width=49% > <img src=\"images/Higgs24l.png\" width=49% >\n",
    "\n",
    "Sources <a href=\"https://cds.cern.ch/record/1459496\">CERN/ATLAS</a>, <a href=\"http://inspirehep.net/record/1608162\">CMS, JHEP 1711 (2017) 047</a>"
   ]
  },
  {
   "cell_type": "markdown",
   "metadata": {},
   "source": [
    "#### Experiment: Random numbers\n",
    "Over to menti.com: **82 36 74**"
   ]
  },
  {
   "cell_type": "markdown",
   "metadata": {},
   "source": [
    "<div class=\"example\">Example: Insurance statistics</div>\n",
    "\n",
    "The following is a classic example by von Mises.\n",
    "\n",
    "It is found by the German insurance companies that the fraction of their male clients dying when aged $40$ is $1.1\\%$. However, we cannot say that a particular Herr Schmidt has a probability of $1.1\\%$ of dying (or $98.9\\%$ of surviving) between his $40^{\\rm th}$ and $41^{\\rm st}$ birthdays. The probability of $1.1\\%$ refers to all German insured men. Different sample groups that Herr Schmidt may belong to (e.g. all German men, all men, all Germans, all German insured non-smoking men, all German hang-glider pilots) would give different probabilities of his passing away prematurely. Hence, the probability depends on the individual **and** on the collective to which it is considered to belong."
   ]
  },
  {
   "cell_type": "markdown",
   "metadata": {},
   "source": [
    "### 7.3 Bayesian statistics\n",
    "\n",
    "In Bayesian statistics we defined the conditional probability (see Week 2).\n",
    "\n",
    "The conditional probability $P(A|B)$ is the probability of an event $A$ given that $B$ is true.\n",
    "This is useful in defining the collective in the previous example.\n",
    "\n",
    "For example the probability that it is Thursday is $P({\\rm Tuesday})=1/7$, but the probability of it being Tuesday given that you are attending this lecture is $P({\\rm Tuesday}\\,|\\,{\\rm DataSci})=1/2$ as it only takes place on Tuesdays and Thursdays.\n",
    "\n",
    "Bayes' theorem states that\n",
    "\n",
    "$$P(A|B)P(B) = P(A~{\\rm and}~B) = P(B|A)P(A),$$\n",
    "\n",
    "and hence\n",
    "\n",
    "$$P(A|B) = \\frac{P(B|A)P(A)}{P(B)}.$$\n",
    "\n",
    "It is often helpful to express $P(B)$ in terms of whether event $A$ is true or not (with $\\overline{A}$ denoting 'not $A$' as before), which gives\n",
    "\n",
    "$$P(B) = P(B|A)P(A) + P(B|\\overline{A})P(\\overline{A}) = P(B|A)P(A) + P(B|\\overline{A})[1-P(A)],$$\n",
    "\n",
    "and hence by inserting in the previous equation\n",
    "\n",
    "$$P(A|B) = \\frac{P(B|A)P(A)}{P(B|A)P(A) + P(B|\\overline{A})[1-P(A)]}.$$\n",
    "\n",
    "Going back to our example, we can write\n",
    "\n",
    "$$P({\\rm Tuesday}\\,|\\,{\\rm DataSci}) = \\frac{P({\\rm DataSci}\\,|\\,{\\rm Tuesday})P({\\rm Tuesday})}{P({\\rm DataSci}\\,|\\,{\\rm Tuesday})P({\\rm Tuesday})+P({\\rm DataSci}\\,|\\,{\\rm not~Tuesday})\\,[1\\,-\\,P({\\rm Tuesday})]} = \\frac{1\\times1/7}{1\\times1/7+1/6\\times 6/7} = \\frac{1}{2}.$$"
   ]
  },
  {
   "cell_type": "markdown",
   "metadata": {},
   "source": [
    "### 7.4 Subjective probability\n",
    "\n",
    "Bayes' theorem can be applied in a way to interpret how a given result strengthens (or weakens) the degree of belief in a given theory:\n",
    "\n",
    "$$P({\\rm theory}\\,|\\,{\\rm result})=\\frac{P({\\rm result}\\,|\\,{\\rm theory})}{P({\\rm result})}P({\\rm theory}).$$\n",
    "\n",
    "The subjective part lies in the assignment of the probability of the theory being true $P({\\rm theory})$.\n",
    "\n",
    "The interpretation is as follows: if a given result is forbidden by a theory, i.e. $P({\\rm result}\\,|\\,{\\rm theory})=0$, then its observation disproves the theory, i.e. $P({\\rm theory}\\,|\\,{\\rm result})=0$.\n",
    "Similarly, if the result is predicted to be unlikely by the theory, its observation reduces the degree of belief in the theory.\n",
    "\n",
    "If, on the other hand, a result is predicted to be highly likely by the theory, it can strengthen the degree of belief in the theory.\n",
    "However, there are two cases to consider, for which it is useful to consider the previously discussed replacement:\n",
    "\n",
    "$$P({\\rm theory}\\,|\\,{\\rm result})=\\frac{P({\\rm result}\\,|\\,{\\rm theory})}{P({\\rm result}\\,|\\,{\\rm theory})P({\\rm theory})+P({\\rm result}\\,|\\,{\\rm not~theory})[1-P({\\rm theory})]}P({\\rm theory}).$$\n",
    "\n",
    "If a result is equally likely regardless of whether or not the theory is true, i.e. $P({\\rm result}\\,|\\,{\\rm theory})=P({\\rm result}\\,|\\,{\\rm not~theory})$, there is no information gain as this results in $P({\\rm theory}\\,|\\,{\\rm result})=P({\\rm theory}).$\n",
    "\n",
    "The other extreme is that the result is much more likely to occur if the theory is true, i.e. $P({\\rm result}\\,|\\,{\\rm theory})\\gg P({\\rm result}\\,|\\,{\\rm not~theory})$, which leads to the observation of the result being highly predictive as $P({\\rm theory}\\,|\\,{\\rm result})\\approx 1$."
   ]
  },
  {
   "cell_type": "markdown",
   "metadata": {},
   "source": [
    "<div class=\"example\">Example: Honest Harry</div>\n",
    "\n",
    "You toss a coin three times and find it showing heads each time.\n",
    "You repeat this as part of a bet with Honest Harry, the used car salesman, and arrive at the same result, which means you lose the bet.\n",
    "The first case will likely not raise any doubts whether or not you a re using a biased, i.e. double-headed, coin.\n",
    "The second case may make you significantly more suspicious. In both cases the probability of the results, given that the coin is unbiased is \n",
    "\n",
    "$$P({\\rm 3h\\,|\\,!bias})=(1/2)^3=0.125.$$\n",
    "\n",
    "We can now calculate the probability of the theory that the coin is biased, given the result of three heads in both cases, $P({\\rm bias\\,|\\,3h})$. All that is required is the subjective belief in the theory of the coin being biased. Let us assign $P_{\\rm rndm}({\\rm bias})=10^{-6}$ for the first case, i.e. that we randomly picked a biased coin, and $P_{\\rm Harry}({\\rm bias})=0.05$, i.e. that the probability of Honest Harry having made us play with a biased coin is $5\\%$. With the last equation above we now get\n",
    "\n",
    "\\begin{align}\n",
    "P_{\\rm rndm}({\\rm bias\\,|\\,3h}) & = \\frac{P({\\rm 3h\\,|\\,bias})}{P({\\rm 3h\\,|\\,bias})P_{\\rm rndm}({\\rm bias})+P({\\rm 3h\\,|\\,!bias})[1-P_{\\rm rndm}({\\rm bias})]}P_{\\rm rndm}({\\rm bias})\\\\\n",
    "& = \\frac{1}{1\\times 10^{-6} + 0.125 \\times (1-10^{-6})}\\times 10^{-6}\\\\\n",
    "& = 8\\times 10^{-6},\n",
    "\\end{align}\n",
    "\n",
    "and\n",
    "\n",
    "\\begin{align}\n",
    "P_{\\rm Harry}({\\rm bias\\,|\\,3h}) & = \\frac{P({\\rm 3h\\,|\\,bias})}{P({\\rm 3h\\,|\\,bias})P_{\\rm Harry}({\\rm bias})+P({\\rm 3h\\,|\\,!bias})[1-P_{\\rm Harry}({\\rm bias})]}P_{\\rm Harry}({\\rm bias})\\\\\n",
    "& = \\frac{1}{1\\times 0.05 + 0.125 \\times 0.95}\\times 0.05\\\\\n",
    "& = 0.296.\n",
    "\\end{align}\n",
    "\n",
    "The result was able to increase the belief in the theory that Honest Harry had introduced a biased coin because the observation is rather predictive with $P({\\rm 3h\\,|\\,bias})/P({\\rm 3h\\,|\\,!bias})=8$."
   ]
  },
  {
   "cell_type": "markdown",
   "metadata": {},
   "source": [
    "### 7.5 Limitations\n",
    "\n",
    "Suppose you measure the mass of the electron as $m=(520\\pm10)~{\\rm keV}/c^2$, i.e. you have obtained a result of $520~{\\rm keV}/c^2$ with a resolution of $10~{\\rm keV}/c^2$.\n",
    "Assuming a Gaussian resolution function it follows for the measurement of $m$ with resolution $\\sigma$ and the true electron mass $m_e$\n",
    "\n",
    "$$P(m|m_e)\\propto e^{-(m-m_e)^2/2\\sigma^2},$$\n",
    "\n",
    "which corresponds to $P({\\rm result}\\,|\\,{\\rm theory})$. \n",
    "\n",
    "$P(m)$, corresponding to $P({\\rm result})$, is the probability of measuring a given mass, which should be a constant if the measurement apparatus is unbiased. \n",
    "\n",
    "If we now assume that we know nothing about $m_e$, we could say $P({\\rm theory})=P(m_e)={\\rm const.}$, which leads to the proportionality\n",
    "\n",
    "$$P(m_e|m) = \\frac{P(m|m_e)}{P(m)}P(m_e)\\propto P(m|m_e)=e^{-(m-m_e)^2/2\\sigma^2}.$$\n",
    "\n",
    "Note that this is only a proportionality and we cannot quantify this without assuming a concrete value for $P(m)$ and $P(m_e)$.\n",
    "\n",
    "However, we could equally well have said that we know nothing about the measure of $m_e^2$, which would alter that interpretation. Both approaches are in principle valid; once more it is vital to be aware of all assumptions and to communicate them in their entirety. This will be dealt with in a more rigorous way in Chapter 9: Confidence levels."
   ]
  },
  {
   "cell_type": "markdown",
   "metadata": {},
   "source": [
    "<div class=\"well\" align=\"center\">\n",
    "    <div class=\"container-fluid\">\n",
    "        <div class=\"row\">\n",
    "            <div class=\"col-md-3\" align=\"center\">\n",
    "                <img align=\"center\" alt=\"Creative Commons License\" style=\"border-width:0\" src=\"https://i.creativecommons.org/l/by-nc-sa/4.0/88x31.png\" width=\"60%\">\n",
    "            </div>\n",
    "            <div class=\"col-md-8\">\n",
    "            This work is licensed under a <a href=\"http://creativecommons.org/licenses/by-nc-sa/4.0/\">Creative Commons Attribution-NonCommercial-ShareAlike 4.0 International License</a>).\n",
    "            </div>\n",
    "        </div>\n",
    "    </div>\n",
    "    <br>\n",
    "    <br>\n",
    "    <i>Note: The content of this Jupyter Notebook is provided for educational purposes only.</i>\n",
    "</div>"
   ]
  }
 ],
 "metadata": {
  "kernelspec": {
   "display_name": "Python 3",
   "language": "python",
   "name": "python3"
  },
  "language_info": {
   "codemirror_mode": {
    "name": "ipython",
    "version": 3
   },
   "file_extension": ".py",
   "mimetype": "text/x-python",
   "name": "python",
   "nbconvert_exporter": "python",
   "pygments_lexer": "ipython3",
   "version": "3.8.3"
  },
  "latex_envs": {
   "LaTeX_envs_menu_present": true,
   "autocomplete": true,
   "bibliofile": "biblio.bib",
   "cite_by": "apalike",
   "current_citInitial": 1,
   "eqLabelWithNumbers": true,
   "eqNumInitial": 1,
   "hotkeys": {
    "equation": "Ctrl-E",
    "itemize": "Ctrl-I"
   },
   "labels_anchors": false,
   "latex_user_defs": false,
   "report_style_numbering": false,
   "user_envs_cfg": false
  }
 },
 "nbformat": 4,
 "nbformat_minor": 2
}
