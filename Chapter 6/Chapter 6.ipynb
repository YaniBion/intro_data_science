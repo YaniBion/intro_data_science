{
 "cells": [
  {
   "cell_type": "code",
   "execution_count": 1,
   "metadata": {
    "scrolled": true
   },
   "outputs": [
    {
     "data": {
      "text/html": [
       "<style>.container { width:95% !important; }</style>"
      ],
      "text/plain": [
       "<IPython.core.display.HTML object>"
      ]
     },
     "metadata": {},
     "output_type": "display_data"
    },
    {
     "data": {
      "text/html": [
       "<link href=\"https://fonts.googleapis.com/css?family=Fira+Sans:300,300i,600,600i\" rel=\"stylesheet\">\n",
       "<link href=\"https://fonts.googleapis.com/css?family=Inconsolata\" rel=\"stylesheet\">\n",
       "<link href=\"https://fonts.googleapis.com/css?family=Titillium+Web:400,400i,700,700i\" rel=\"stylesheet\">\n",
       "\n",
       "\n",
       "<style>\n",
       "\n",
       ".text_cell_render p {\n",
       "font-style: regular;\n",
       "font-family: 'Fira Sans', sans-serif;\n",
       "display: block;\n",
       "text-align: justify;\n",
       "}\n",
       "/*font-weight: 200;*/\n",
       "/*text-align: left;\n",
       "line-height: 100%;\n",
       "display: block;\n",
       "}*/\n",
       "a {\n",
       "color:#377bb5;\n",
       "}\n",
       ".text_cell_render h1 {\n",
       "/*font-size: 24pt;*/\n",
       "font-family: 'Titillium Web', sans-serif;\n",
       "font-weight: bold;\n",
       "margin-bottom: 0.1em;\n",
       "margin-top: 0.5em;\n",
       "color:#4a4a4a;\n",
       "}\n",
       ".text_cell_render h2 {\n",
       "/*font-size: 21pt;*/\n",
       "    font-family: 'Titillium Web', sans-serif;\n",
       "margin-bottom: 0.1em;\n",
       "margin-top: 0.3em;\n",
       "color:#595959;\n",
       "}\n",
       ".text_cell_render h3 {\n",
       "    font-family: 'Titillium Web', sans-serif;\n",
       "/*font-size: 19pt;*/\n",
       "margin-bottom: 0.1em;\n",
       "margin-top: 0.3em;\n",
       "color:#595959;\n",
       "}\n",
       ".text_cell_render h4 {\n",
       "    font-family: 'Titillium Web', sans-serif;\n",
       "/*font-size: 17pt;*/\n",
       "margin-bottom: 0.1em;\n",
       "margin-top: 0.3em;\n",
       "color:#595959;\n",
       "}\n",
       ".text_cell_render h5 {\n",
       "    font-family: 'Titillium Web', sans-serif;\n",
       "/*font-size: 15pt;*/\n",
       "margin-bottom: 0.1em;\n",
       "margin-top: 0.3em;\n",
       "color:#595959;\n",
       "}\n",
       "div.text_cell_render{\n",
       "font-style: regular;\n",
       "font-family: 'Fira Sans', sans-serif;\n",
       "line-height: 120%;\n",
       "font-size: 100%;\n",
       "font-weight: 400;\n",
       "text-align: justify;\n",
       "margin-left:0em;\n",
       "margin-right:0em;\n",
       "}\n",
       "code {\n",
       "font-family: 'Inconsolata', monospace;\n",
       "}\n",
       "pre {\n",
       "font-family: 'Inconsolata', monospace;\n",
       "}\n",
       "\n",
       "div.example {\n",
       "    font-family: 'Titillium Web', sans-serif;\n",
       "/*font-size: 15pt;*/\n",
       "font-weight: bold;\n",
       "font-variant: small-caps;\n",
       "text-decoration: underline;\n",
       "margin-bottom: 0.1em;\n",
       "margin-top: 0.3em;\n",
       "color:#595959;\n",
       "}\n",
       "\n",
       "div.queue {\n",
       "font-size: x-large;\n",
       "font-variant: small-caps;\n",
       "font-family: 'Titillium Web', sans-serif;\n",
       "font-weight: bold;\n",
       "/*margin-bottom: 0.1em;*/\n",
       "/*margin-top: 0.5em;*/\n",
       "margin: 10px;\n",
       "padding: 10px;\n",
       "color:#cc0000;\n",
       "border-style: solid none solid none;\n",
       "border-width: 2px;\n",
       "border-color:#cc0000;\n",
       "border-spacing: 10px;\n",
       "}\n",
       "\n",
       ".reveal h1 {\n",
       "font-family: 'Titillium Web', sans-serif;\n",
       "/*font-size: 24pt;*/\n",
       "font-weight: bold;\n",
       "margin-bottom: 0.1em;\n",
       "margin-top: 0.5em;\n",
       "color:#4a4a4a;\n",
       "}\n",
       ".reveal h2 {\n",
       "font-family: 'Titillium Web', sans-serif;\n",
       "/*font-size: 24pt;*/\n",
       "font-weight: bold;\n",
       "margin-bottom: 0.1em;\n",
       "margin-top: 0.5em;\n",
       "color:#595959;\n",
       "}\n",
       ".reveal h3 {\n",
       "font-family: 'Titillium Web', sans-serif;\n",
       "/*font-size: 24pt;*/\n",
       "font-weight: bold;\n",
       "margin-bottom: 0.1em;\n",
       "margin-top: 0.5em;\n",
       "color:#595959;\n",
       "}\n",
       ".reveal h4 {\n",
       "font-family: 'Titillium Web', sans-serif;\n",
       "font-weight: bold;\n",
       "margin-bottom: 0.1em;\n",
       "margin-top: 0.5em;\n",
       "color:#595959;\n",
       "}\n",
       ".reveal div.text_cell_render{\n",
       "line-height: 120%;\n",
       "font-size: 74%;\n",
       "font-weight: 400;\n",
       "text-align: justify;\n",
       "margin-left:0em;\n",
       "margin-right:0em;\n",
       "}\n",
       ".reveal .code_cell {\n",
       "    font-size: 92%;\n",
       "}\n",
       ".reveal code {\n",
       "font-family: 'Inconsolata', monospace;\n",
       "}\n",
       ".reveal pre {\n",
       "font-family: 'Inconsolata', monospace;\n",
       "}\n",
       "\n",
       ".CodeMirror{\n",
       "font-family: \"Inconsolata\", monospace;\n",
       "}\n",
       "\n",
       "</style>"
      ],
      "text/plain": [
       "<IPython.core.display.HTML object>"
      ]
     },
     "execution_count": 1,
     "metadata": {},
     "output_type": "execute_result"
    }
   ],
   "source": [
    "## Import required Python modules\n",
    "%matplotlib inline\n",
    "import matplotlib.pyplot as plt\n",
    "import numpy as np\n",
    "import scipy, scipy.stats\n",
    "import io\n",
    "import base64\n",
    "#from IPython.core.display import display\n",
    "from IPython.display import display, HTML, Image\n",
    "from urllib.request import urlopen\n",
    "\n",
    "try:\n",
    "    import astropy as apy\n",
    "    import astropy.table\n",
    "    _apy = True\n",
    "    #print('Loaded astropy')\n",
    "except:\n",
    "    _apy = False\n",
    "    #print('Could not load astropy')\n",
    "\n",
    "## Customising the font size of figures\n",
    "plt.rcParams.update({'font.size': 14})\n",
    "\n",
    "## Customising the look of the notebook\n",
    "display(HTML(\"<style>.container { width:95% !important; }</style>\"))\n",
    "## This custom file is adapted from https://github.com/lmarti/jupyter_custom/blob/master/custom.include\n",
    "HTML('custom.css')\n",
    "#HTML(urlopen('https://raw.githubusercontent.com/bretonr/intro_data_science/master/custom.css').read().decode('utf-8'))"
   ]
  },
  {
   "cell_type": "code",
   "execution_count": 2,
   "metadata": {
    "scrolled": true
   },
   "outputs": [
    {
     "data": {
      "text/html": [
       "<script>\n",
       "code_show=true;\n",
       "function code_toggle() {\n",
       " if (code_show){\n",
       " $('div.input').hide();\n",
       " } else {\n",
       " $('div.input').show();\n",
       " }\n",
       " code_show = !code_show\n",
       "} \n",
       "$( document ).ready(code_toggle);\n",
       "</script>\n",
       "<form action=\"javascript:code_toggle()\"><input type=\"submit\" value=\"Click here to toggle on/off the Python code.\"></form>"
      ],
      "text/plain": [
       "<IPython.core.display.HTML object>"
      ]
     },
     "execution_count": 2,
     "metadata": {},
     "output_type": "execute_result"
    }
   ],
   "source": [
    "## Adding a button to hide the Python source code\n",
    "HTML('''<script>\n",
    "code_show=true;\n",
    "function code_toggle() {\n",
    " if (code_show){\n",
    " $('div.input').hide();\n",
    " } else {\n",
    " $('div.input').show();\n",
    " }\n",
    " code_show = !code_show\n",
    "} \n",
    "$( document ).ready(code_toggle);\n",
    "</script>\n",
    "<form action=\"javascript:code_toggle()\"><input type=\"submit\" value=\"Click here to toggle on/off the Python code.\"></form>''')"
   ]
  },
  {
   "cell_type": "markdown",
   "metadata": {},
   "source": [
    "<div class=\"container-fluid\">\n",
    "    <div class=\"row\">\n",
    "        <div class=\"col-md-8\" align=\"center\">\n",
    "            <h1>PHYS 10791: Introduction to Data Science</h1>\n",
    "            <!--<h3>2019-2020 Academic Year</h3><br>-->\n",
    "        </div>\n",
    "        <div class=\"col-md-3\">\n",
    "            <img align='center' style=\"border-width:0\" src=\"images/UoM_logo.png\"/>\n",
    "        </div>\n",
    "    </div>\n",
    "</div>\n",
    "\n",
    "<div class=\"container-fluid\">\n",
    "    <div class=\"row\">\n",
    "        <div class=\"col-md-2\" align=\"right\">\n",
    "            <b>Course instructors:&nbsp;&nbsp;</b>\n",
    "        </div>\n",
    "        <div class=\"col-md-9\" align=\"left\">\n",
    "            <a href=\"http://www.renebreton.org\">Prof. Rene Breton</a> - Twitter <a href=\"https://twitter.com/BretonRene\">@BretonRene</a><br>\n",
    "            <a href=\"http://www.hep.manchester.ac.uk/u/gersabec\">Dr. Marco Gersabeck</a> - Twitter <a href=\"https://twitter.com/MarcoGersabeck\">@MarcoGersabeck</a>\n",
    "        </div>\n",
    "    </div>\n",
    "</div>"
   ]
  },
  {
   "cell_type": "markdown",
   "metadata": {},
   "source": [
    "## Syllabus\n",
    "\n",
    "1. Probabilities and interpretations\n",
    "2. Probability distributions\n",
    "3. Parameter estimation\n",
    "4. Maximum likelihood\n",
    "5. Least square, chi2, correlations\n",
    "6. **Monte Carlo basics**\n",
    "7. Goodness of fit tests\n",
    "8. Hypothesis testing\n",
    "9. Probability and confidence level\n",
    "10. Limit setting\n",
    "11. Introduction to multivariate analysis techniques"
   ]
  },
  {
   "cell_type": "markdown",
   "metadata": {},
   "source": [
    "# Chapter 6\n",
    "\n",
    "## Topics\n",
    "\n",
    "**[6.1 Errors](#6.1-Errors)**\n",
    "- 6.1.1 Types of errors\n",
    "- 6.1.2 Propagation of errors\n",
    "\n",
    "**[6.2 Monte Carlo](#6.2-Monte-Carlo)**\n",
    "- 6.2.1 Uniformly distributed random numbers\n",
    "- 6.2.2 Numerical integration\n",
    "- 6.2.3 Sampling from an arbitrary probability distribution\n",
    "- 6.2.4 Optimization"
   ]
  },
  {
   "cell_type": "markdown",
   "metadata": {},
   "source": [
    "## Further Reading Material\n",
    "\n",
    "- **Cowan**: Chapter 1.6 - *Error propagation*\n",
    "- **Cowan**: Chapter 3 - *Monte Carlo*\n",
    "- **Barlow**: Chapter 4 - *Errors and error propagation*"
   ]
  },
  {
   "cell_type": "markdown",
   "metadata": {},
   "source": [
    "## 6.1 Errors"
   ]
  },
  {
   "cell_type": "markdown",
   "metadata": {},
   "source": [
    "A measurement is typically represented using its central value (i.e. mean), and its accompanying uncertainty (i.e. standard deviation). What is really done here is simplifying the representation of the actual probability distribution of this measurement using two quantities (mean and standard distribution). In most cases this is a sufficient way of representing measurements.\n",
    "\n",
    "It is crucial, however, to know which distribution is followed by measurements (e.g. Poisson, Gaussian). In most cases, as a result of the central limit theorem (see above) the Gaussian approximation is valid. It is important, as otherwise tools such as the 'regular least-square fitting' will not apply."
   ]
  },
  {
   "cell_type": "markdown",
   "metadata": {},
   "source": [
    "### 6.1.1 Types of errors\n",
    "\n",
    "There are two types of errors typically encountered in data science."
   ]
  },
  {
   "cell_type": "markdown",
   "metadata": {},
   "source": [
    "#### Statistical errors\n",
    "\n",
    "Statistical errors are the ones that arise from 'random fluctuation' in the experiment (say due to the measuring instrument). By virtue of the central limit theorem, repeated measurements would improve how well the value can be known.\n",
    "\n",
    "An example of this would be the oscillation period measured in the pendulum experiment"
   ]
  },
  {
   "cell_type": "markdown",
   "metadata": {},
   "source": [
    "#### Systematic errors\n",
    "\n",
    "Systematic errors are the ones that, as the name suggest, will not improve even if more data are collected (i.e. they are systematic). They are typically one of three sources: 1) (calibration) offset, 2) (quantity) scaling, 3) drift. These errors tend to make our statistical estimator biased.\n",
    "\n",
    "An example related to the pendulum experiment would be the accuracy to which you can measure the length of the string. You may be able to obtain an uncertainty on it, but the experimental setup might come with limitations.\n",
    "\n",
    "```Did you know... that we know the mass of planets in our Solar System much better in units of G times Solar masses than in kg? Measurements of their orbits are extremely accurate using Kepler's law, however the exact mass of the Sun is rather 'uncertain' due to uncertainties in the gravitational constant.```"
   ]
  },
  {
   "cell_type": "markdown",
   "metadata": {},
   "source": [
    "<div class=\"example\">Example: Errors in Rene's research</div>\n",
    "\n",
    "<img src=\"images/error_types.png\" width=75% >\n",
    "\n",
    "*The above figure shows the optical light curves of a small star orbiting a pulsar. We can measure relative fluxes very well, which means that in a given filter (represented in different colours) the shape can be measured quite accurately. If we add more data or observed with a bigger telescope, we would increase the precision to which the shape of the light curves can be known. The measurement errors represented there are therefore statistical uncertainties. On the other hand, our work to model these light curves is hindered by an additional source of error, which is the fact that the absolute calibration of fluxes is very difficult to achieve. This means that each set of points could be shifted up or down by some small amount. Even if we can quantify the size of this error, the exact shift remains unknown and added more data will not help determining it any better. This is an example of a systematic error.*"
   ]
  },
  {
   "cell_type": "markdown",
   "metadata": {},
   "source": [
    "### 6.1.2 Propagation of errors\n",
    "\n",
    "_[See Barlow S4.3 for a full development]_\n",
    "\n",
    "When measuring one or several quantities and combining them in the course of the analysis in order to obtain derived quantities, how do measurement uncertainties propagate?"
   ]
  },
  {
   "cell_type": "markdown",
   "metadata": {},
   "source": [
    "#### One variable case\n",
    "\n",
    "Let us imagine a variable $x$ which has an uncertainty describe by the variance $V(x)$. If we want to know the uncertainty on a quantity $f$ instead, which would be calculated as $f = ax + b$, with $a$ and $b$ constants, we can directly apply the definition of the variance to this function in order to evaluate its variance:\n",
    "\\begin{eqnarray}\n",
    "  V(f) &=& \\langle f^2 \\rangle - \\langle f \\rangle^2 \\\\\n",
    "       &=& \\langle (ax + b)^2 \\rangle - \\langle ax + b \\rangle^2 \\\\\n",
    "       &=& a^2 \\langle x^2 \\rangle + 2ab \\langle x \\rangle + b^2 - a^2 \\langle x \\rangle^2 - 2ab \\langle x \\rangle - b^2 \\\\\n",
    "       &=& a^2 (\\langle x^2 \\rangle - \\langle x \\rangle^2) \\\\\n",
    "       &=& a^2 V(x) \\,.\n",
    "\\end{eqnarray}\n",
    "\n",
    "For any arbitrary function of one variable, it is easier to find how the error propagates if we express the function using a Taylor series expanded around the expected value up to the linear term. In which case:\n",
    "\\begin{equation}\n",
    "  f(x) \\approx f(x_0) + (x-x_0) \\left( \\frac{\\partial f}{\\partial x} \\right)_{x=x_0} \\,.\n",
    "\\end{equation}\n",
    "\n",
    "If we apply the definition of the variance to the above expression, we obtain the following:\n",
    "\\begin{equation}\n",
    "  V(f) \\approx \\left( \\frac{\\partial f}{\\partial x} \\right)^2 V(x) \\,.\n",
    "\\end{equation}"
   ]
  },
  {
   "cell_type": "markdown",
   "metadata": {},
   "source": [
    "#### General multiple variables case\n",
    "\n",
    "In the case of a function of multiple variables, we can use the same development as above and show that:\n",
    "\n",
    "\\begin{equation}\n",
    "  V(f) \\approx \\left( \\frac{\\partial f}{\\partial x} \\right)^2 V(x) + \\left( \\frac{\\partial f}{\\partial y} \\right)^2 V(y) + \\dots + 2 \\left( \\frac{\\partial f}{\\partial x} \\right) \\left( \\frac{\\partial f}{\\partial y} \\right) \\operatorname{cov} (x,y) + \\dots\n",
    "\\end{equation}\n",
    "\n",
    "In the special case where the variables are uncorrelated, their covariance is zero and we retrieve the simple law of propagation of errors that we commonly use for the analysis of laboratory experiments."
   ]
  },
  {
   "cell_type": "markdown",
   "metadata": {},
   "source": [
    "## 6.2 Monte Carlo"
   ]
  },
  {
   "cell_type": "markdown",
   "metadata": {},
   "source": [
    "Monte Carlo methods refer to a general class of computational techniques that rely on using random sampling in order to solve problems numerically. They are typically used to solve three types of problems:\n",
    "\n",
    "1. Numerical integrations\n",
    "2. Sampling from arbitrary probability distribution\n",
    "3. Optimization\n",
    "\n",
    "<img src=\"images/monte_carlo.jpg\" width=80%>"
   ]
  },
  {
   "cell_type": "markdown",
   "metadata": {},
   "source": [
    "### 6.2.1 Uniformly distributed random numbers\n",
    "\n",
    "Monte Carlo methods are based on drawing samples from a stochastic process. In principle one would probability want to draw samples from specific distributions, however in practice this is not feasible. For most purposes the starting point of a Monte Carlo is to use a sequence of uniformly distributed random numbers. Several computer programs known as random number generator exist to produce these sequences. One caveat though is that algorithms fail to generate truly random sequences, and instead generate pseudo-random numbers which will pass tests for randomness but will repeat over long intervals.\n",
    "\n",
    "A commonly used type of pseudo-random number generator is the so-called **linear congruential generator (LCG)**. It starts from an initial integer value $n_0$ called **seed** in order to generate a series iteratively using three parameters, the **multiplier** $a$, the **increment** $c$ and the **modulus** $m$ according to:\n",
    "\\begin{equation}\n",
    "  n_{i} = (a n_{i-1} + c) \\operatorname{mod} m \\,,\n",
    "\\end{equation}\n",
    "where $\\operatorname{mod}$ is the modulo operator. The modulo operation $a \\operatorname{mod} m$ returns the remainder of the division of $a$ by $m$. For example: $5 \\operatorname{mod} 3 = 2$, $5 \\operatorname{mod} 2 = 1$, $5 \\operatorname{mod} 7 = 5$. Because of the modulo operator, the above equation will produce a set of integers in the range $[0,m-1[$ which would be uniformly distributed.\n",
    "\n",
    "In order to obtain a uniformly distributed value in the range $[0,1[$ we can simply divide the above number by $m$:\n",
    "\\begin{equation}\n",
    "  r_{i} = \\frac{n_i}{m} \\,.\n",
    "\\end{equation}\n",
    "\n",
    "In order for the above to work well, $m$ should be a very large number so that a lot of fractional numbers are covered. Also, for fixed $a$, $c$ and $m$, such an algorithm will reproduce the same sequence for a given seed value and as soon as one of the values repeats, the same sequence will start over again. At best, there are $m$ possible values in the sequence and so the algorithm will repeat on a period $P \\leq m$. In principle any choice of large $m$ number is fine, but in practice prime numbers are particularly well suited to produce well-behaved sequences."
   ]
  },
  {
   "cell_type": "markdown",
   "metadata": {},
   "source": [
    "<div class=\"example\">Example 1</div>\n",
    "\n",
    "Drawing random samples using the LCG. Here we use the following parameters:\n",
    "\n",
    "| seed | a | m  | c |\n",
    "| ---- | - | -- | - |\n",
    "| 5    | 3 | 42 | 0 |"
   ]
  },
  {
   "cell_type": "code",
   "execution_count": 3,
   "metadata": {},
   "outputs": [
    {
     "name": "stdout",
     "output_type": "stream",
     "text": [
      "i: 0\n",
      "  n_0: 5\n",
      "  a*n_0 mod m: 3*5 mod 42 = 15 mod 42 = 15\n",
      "i: 1\n",
      "  n_1: 15\n",
      "  a*n_1 mod m: 3*15 mod 42 = 45 mod 42 = 3\n",
      "i: 2\n",
      "  n_2: 3\n",
      "  a*n_2 mod m: 3*3 mod 42 = 9 mod 42 = 9\n",
      "i: 3\n",
      "  n_3: 9\n",
      "  a*n_3 mod m: 3*9 mod 42 = 27 mod 42 = 27\n",
      "i: 4\n",
      "  n_4: 27\n",
      "  a*n_4 mod m: 3*27 mod 42 = 81 mod 42 = 39\n",
      "i: 5\n",
      "  n_5: 39\n",
      "  a*n_5 mod m: 3*39 mod 42 = 117 mod 42 = 33\n",
      "i: 6\n",
      "  n_6: 33\n",
      "  a*n_6 mod m: 3*33 mod 42 = 99 mod 42 = 15\n"
     ]
    }
   ],
   "source": [
    "## We will try the multiplicative conguential generator method\n",
    "\n",
    "## These are the initial parameters\n",
    "seed = 5\n",
    "a = 3\n",
    "m = 42\n",
    "\n",
    "n = [seed]\n",
    "## We calculate 6 random numbers after the seed\n",
    "for i in range(7):\n",
    "    print('i: {}'.format(i))\n",
    "    print('  n_{}: {}'.format(i,n[i]))\n",
    "    an = a*n[i]\n",
    "    n.append(an%m)\n",
    "    print('  a*n_{} mod m: {}*{} mod {} = {} mod {} = {}'.format(i,a,n[-2],m,n[-2]*a,m,n[-1]))"
   ]
  },
  {
   "cell_type": "markdown",
   "metadata": {},
   "source": [
    "### 6.2.2 Numerical integration\n",
    "\n",
    "In physics, most integrals do not have any analytical solutions. In fact, most real-life scenarios involve them. The canonical example is the integral of the Gaussian function:\n",
    "\n",
    "\\begin{equation}\n",
    "  I = \\int_a^b e^{-\\frac{x^2}{2 \\sigma^2}} \\,{\\rm d}x\n",
    "\\end{equation}\n",
    "\n",
    "for which there is only a solution for the case with limits set to $(-\\infty,\\infty)$. In general, we must therefore tackle this integral and others numerically."
   ]
  },
  {
   "cell_type": "markdown",
   "metadata": {},
   "source": [
    "#### Deterministic integration methods\n",
    "\n",
    "Let us consider the evaluation of an integral:\n",
    "\n",
    "\\begin{equation}\n",
    "  I = \\int_a^b f(x) dx\n",
    "\\end{equation}\n",
    "\n",
    "##### Procedure for trapezoid integration\n",
    "One possible way of performing this integral is by transforming it into a sum of $n$ small discrete intervals:\n",
    "\n",
    "\\begin{equation}\n",
    "  I \\approx \\frac{b-a}{n} \\sum_{i=1}^{n} f(x_i)\n",
    "\\end{equation}\n",
    "\n",
    "with\n",
    "\n",
    "\\begin{equation}\n",
    "  x_i = a + \\left( i-\\frac{1}{2} \\right)\\frac{(b-a)}{n}\n",
    "\\end{equation}\n",
    "\n",
    "The above technique is known as trapezoid method because it breaks the interval into $n$ small trapezoids. For numerical techniques, the convergence is a measure of how far the computed solution is from the exact solution. In the case of the trapezoid method, it scales as $\\mathcal{O}(n^{-2})$, where $n$ is the number of intervals. This means that doubling the number of intervals would quadruple the precision of the integral. This is not bad in one dimension, but if there are two dimensions this would imply gridding the areas with $n_1 \\times n_2$ points (or $n^2$ if we choose the same number in each dimension). In $d$ dimensions, we would need $n^d$ points in total. As a result, the convergence of the d-dimensional trapezoid would scale as $\\mathcal{O}(n^{-\\frac{2}{d}})$. For work in particle physics for instance, integrals often need to be computed in 6 dimensions (3 for space, and 3 for momentum/velocity), and sometimes even more. The trapezoid method then become quickly impracticable. Some more efficient deterministic integration techniques exists (e.g. Simpson's Rule, Runge-Kutta, etc) and have faster convergence rates."
   ]
  },
  {
   "cell_type": "markdown",
   "metadata": {},
   "source": [
    "#### Rationale behind Monte Carlo integration\n",
    "\n",
    "As opposed to a deterministic integration technique such as the trapezoid methode, a Monte Carlo integration would use a sequence of randomly generated numbers to compute the integral. Why is it any useful to use random numbers? The law of large numbers tells us that:\n",
    "\\begin{equation}\n",
    "  \\lim_{n\\to\\infty} \\bar{X}_n = \\mu \\,,\n",
    "\\end{equation}\n",
    "which means that for a large number of samples the sample mean $\\bar{X}_n$ should converge to the true mean $\\mu$. We can therefore expect that even if a Monte Carlo method generates numbers at random, the integral will converge to the right answer.\n",
    "\n",
    "If we apply the central limit theorem to the average of $n$ random numbers that are all drawn from a distribution having a variance $\\sigma^2$, it should distribute as a Gaussian which has a variance equal to $\\sigma^2 / n$. Given that an integration is basically a sum of numbers and that a Monte Carlo integral picks these numbers are random, its uncertainty will be given by the standard deviation of the mean (the root of the variance from the previous sentence): $\\sigma / \\sqrt(n)$.\n",
    "\n",
    "We can therefore infer that a Monte Carlo integration would have a convergence which scales as $\\mathcal{O}(n^{\\frac{-1}{2}})$. Note that this number does not explicitely depends on the number of dimensions. While it is not as efficient as the trapezoid in one dimension, for a large number of dimensions the Monte Carlo method will become increasingly attractive."
   ]
  },
  {
   "cell_type": "markdown",
   "metadata": {},
   "source": [
    "#### 'Crude' Monte Carlo integration\n",
    "\n",
    "<br>\n",
    "\n",
    "##### Procedure for 'crude' Monte Carlo integration\n",
    "Here is the procedure to integrate a function $f(x)$, $\\int_a^b f(x) \\, {\\rm d}x$, using a crude Monte Carlo technique.\n",
    "\n",
    "- Generate $n$ random numbers $r_i$ from a uniform distribution $U(0,1)$.\n",
    "- Evaluate the integral according to:\n",
    "\n",
    "  \\begin{equation}\n",
    "    \\frac{b-a}{n} \\sum_{i=1}^{n} f(x_i)\n",
    "  \\end{equation}\n",
    "  with $x_i = a + r_i(b-a)$.\n",
    "\n",
    "The idea above is to rescale the random numbers from a unit interval to the $[a,b]$ interval. On average, the small interval covered by a draw is $\\frac{b-a}{n}$, which explains the factor in from of the sum."
   ]
  },
  {
   "cell_type": "markdown",
   "metadata": {},
   "source": [
    "#### Rejection sampling integration\n",
    "\n",
    "A better alternative to the above technique is a procedure known as the acceptance-rejection method. Its modern use was popularised by the famous scientist von Neumann. The strategy relies on enclosing the function which is to be integrated within a box. This box needs to span a range equal to the integration limits (i.e. $a$ to $b$) and having a height $f_{\\rm max}$, which is sufficiently high to contains any part of the said function as illustrated below. The idea is to generate random points within this box, and calculate the fraction that falls below the function compared to the total number. This fraction is equal to the ratio of the area of the function (i.e. the integral) to that of the box. Since the later can be determined trivally (width times height), the integral can be calculated easily."
   ]
  },
  {
   "cell_type": "code",
   "execution_count": 4,
   "metadata": {},
   "outputs": [
    {
     "data": {
      "image/png": "[encoded data removed]",
      "text/plain": [
       "<Figure size 1152x576 with 1 Axes>"
      ]
     },
     "metadata": {
      "needs_background": "light"
     },
     "output_type": "display_data"
    }
   ],
   "source": [
    "## Generating the subplot\n",
    "fig, ax = plt.subplots(1, 1, figsize=(16,8))\n",
    "\n",
    "x = np.linspace(-2,10,201)\n",
    "y = scipy.stats.norm.pdf(x, loc=3, scale=0.7) + 1.5*scipy.stats.norm.pdf(x, loc=5, scale=0.7)\n",
    "\n",
    "ax.plot(x, y)\n",
    "ax.plot([0,0],[0,0.9],'C1:')\n",
    "ax.plot([8,8],[0,0.9],'C1:')\n",
    "ax.plot([0,8],[0.9,0.9],'C1:')\n",
    "\n",
    "ax.annotate('$f_{max}$', xy=(-0.1, 0.9), xycoords='data',\n",
    "            xytext=(-0.6, 0.9), textcoords='data', va='center', ha='right',\n",
    "            arrowprops=dict(arrowstyle=\"->\",connectionstyle=\"arc3\"))\n",
    "ax.annotate('$a$', xy=(0.0, 0.92), xycoords='data',\n",
    "            xytext=(0.0, 1.0), textcoords='data', va='bottom', ha='center',\n",
    "            arrowprops=dict(arrowstyle=\"->\",connectionstyle=\"arc3\"))\n",
    "ax.annotate('$b$', xy=(8, 0.92), xycoords='data',\n",
    "            xytext=(8, 1.0), textcoords='data', va='bottom', ha='center',\n",
    "            arrowprops=dict(arrowstyle=\"->\",connectionstyle=\"arc3\"))\n",
    "ax.set_ylim(0,1.1)\n",
    "ax.set_xlabel('x')\n",
    "_ = ax.set_ylabel('f(x)')"
   ]
  },
  {
   "cell_type": "markdown",
   "metadata": {},
   "source": [
    "##### Procedure for rejection sampling integration\n",
    "\n",
    "Here is the procedure to integrate a function $f(x)$ using this method:\n",
    "\n",
    "- Generate a random number $x$, uniformally distributed between $a$ and $b$, i.e. $x = a + r_1(b-a)$ with $r_1 \\sim U(0,1)$ (i.e. $r_1$ drawn from a uniform distribution between 0 and 1).\n",
    "- Generate a second random number $u_i \\sim U(0,1)$.\n",
    "- If $u_i < f(x_i)/f_{\\rm max}$, then accept $x_i$ (i.e. the point is below the function).\n",
    "\n",
    "After $n$ iterations the value of the integral can by computed directly:\n",
    "\n",
    "\\begin{equation}\n",
    "  \\int_a^b f(x) {\\rm d}x \\approx \\frac{n_{\\rm accepted}}{n} (b-a) f_{\\rm max} \\,.\n",
    "\\end{equation}\n",
    "\n",
    "The other nice aspect of this method is that the accepted samples $\\{x_1, x_2, ..., x_n\\}$ will be distributed according to $f(x)$. They can therefore be used for other purposes such as calculating the mean, standard deviation, etc.\n",
    "\n",
    "This technique is however limited in terms of efficiency, which is essentially determined by the ratio $\\frac{n_{\\rm accepted}}{n}$. A standard problematic case would be for a function that has a very high, narrow peak but a heavy tail. In which case the box would enclose a large fraction of 'uninteresting' region. There are ways of optimizing the algorithm, but this will not be covered here."
   ]
  },
  {
   "cell_type": "markdown",
   "metadata": {},
   "source": [
    "<div class=\"example\">Example 1: Calculating Pi</div>\n",
    "\n",
    "Calculating the value of Pi ($\\pi$) is one of the classical examples of using Monte Carlo integration. We know that the area of a circle is given by $A = \\pi r^2$, where $r$ is the radius of the circle. Therefore, by calculating the area of a circle and dividing by the square of the radius, it is possible to calculate the value of $\\pi$.\n",
    "\n",
    "A convenient approach is to consider a circle of unit radius centered at (0,0), and calculating the area of the quarter of the circle located in the first quadrant (positve $x$ and $y$), which would yield $\\pi/4$. We could consider the integral $I = \\pi/4 = \\int_0^1 \\sqrt{1 - x^2} dx$ and use the technique defined above by inscribing the quarter wedge into a unit square ranging from 0 to 1 in both $x$ and $y$. Alternatively, we can also think in terms of geometry: it would be sufficient to generate $(x,y)$ pairs of uniform random numbers in the range [0,1], calculate the radius using $r = \\sqrt{x^2 + y^2}$ and determine whether the pair is located at $r \\leq 1$.\n",
    "\n",
    "We shall use the second technique below."
   ]
  },
  {
   "cell_type": "code",
   "execution_count": 5,
   "metadata": {},
   "outputs": [
    {
     "name": "stdout",
     "output_type": "stream",
     "text": [
      "Calculating the value of pi using a n=1000 points Monte Carlo\n",
      "  Number of points with r = sqrt(x^2 + y^2) < 1: 791\n",
      "  Ratio n_inside / n_total: 791/1000 = 0.79100\n",
      "  Area of circle = ratio * area 1x1 square * 4 = 3.16400\n",
      "  Measured pi value (pi = A / r^2): 3.16400\n",
      "  Difference (measured-expected): 0.02241\n",
      "  Fractional difference ((measured-expected/expected)): 0.00713\n"
     ]
    },
    {
     "data": {
      "image/png": "[encoded data removed]",
      "text/plain": [
       "<Figure size 720x720 with 1 Axes>"
      ]
     },
     "metadata": {
      "needs_background": "light"
     },
     "output_type": "display_data"
    }
   ],
   "source": [
    "##### Actual Monte Carlo calculation\n",
    "\n",
    "## Defining pairs of uniform random numbers, here 1000 of them\n",
    "n = 1000\n",
    "x = np.random.rand(n)\n",
    "y = np.random.rand(n)\n",
    "\n",
    "## Calculating the radius\n",
    "r = np.sqrt(x**2 + y**2)\n",
    "\n",
    "## Calculating the number that are within the unit wedge\n",
    "inside = r < 1\n",
    "ratio = np.sum(inside) / float(n)\n",
    "\n",
    "## Calculating the value of pi, which is 4*I. Bear in mind that f_max*(b-a) is 1.\n",
    "pi_measured = ratio * 4\n",
    "\n",
    "print('Calculating the value of pi using a n={} points Monte Carlo'.format(n))\n",
    "print('  Number of points with r = sqrt(x^2 + y^2) < 1: {}'.format(np.sum(inside)))\n",
    "print('  Ratio n_inside / n_total: {}/{} = {:.5f}'.format(np.sum(inside),n,ratio))\n",
    "print('  Area of circle = ratio * area 1x1 square * 4 = {:.5f}'.format(pi_measured))\n",
    "print('  Measured pi value (pi = A / r^2): {:.5f}'.format(pi_measured))\n",
    "print('  Difference (measured-expected): {:.5f}'.format(pi_measured-np.pi))\n",
    "print('  Fractional difference ((measured-expected/expected)): {:.5f}'.format(pi_measured/np.pi-1))\n",
    "\n",
    "\n",
    "##### Plotting the Monte Carlo data\n",
    "\n",
    "## Generating the subplot\n",
    "fig, ax = plt.subplots(1, 1, figsize=(10,10))\n",
    "\n",
    "## Creating the circle in polar coordinates\n",
    "theta = np.linspace(0,np.pi/2)\n",
    "ax.plot(np.cos(theta), np.sin(theta), lw=3)\n",
    "\n",
    "## Plotting the random points using two colours (for inside and outside)\n",
    "ax.plot(x[inside], y[inside], '.', ms=5)\n",
    "ax.plot(x[~inside], y[~inside], '.', ms=5)\n",
    "\n",
    "## Boundaries of enclosing square\n",
    "ax.plot([0,1],[1,1], 'k')\n",
    "ax.plot([1,1],[0,1], 'k')\n",
    "\n",
    "ax.set_xlim(0,1.1)\n",
    "ax.set_ylim(0,1.1)\n",
    "ax.set_xlabel('x')\n",
    "_ = ax.set_ylabel('y')"
   ]
  },
  {
   "cell_type": "markdown",
   "metadata": {},
   "source": [
    "#### Advantages of using Monte Carlo Integration\n",
    "\n",
    "- Simplicity\n",
    "- Unbiased and consistent\n",
    "- Parallel nature\n",
    "\n",
    "#### Disadvantages of using Monte Carlo Integration\n",
    "\n",
    "- Slow rate of convergence\n",
    "- Difficult to evaluate the uncertainty of the approximation"
   ]
  },
  {
   "cell_type": "markdown",
   "metadata": {},
   "source": [
    "### 6.2.3 Sampling from an arbitrary probability distribution\n",
    "\n",
    "Suppose that you would like to generate samples drawn from an arbitrary probability distribution. This may be useful if you need to simulate a random process controlled by this PDF. A typical example would be to simulate a particular decay process in particle physics, where the probability of having a certain momentum for a given particle is given by a specific function.\n",
    "\n",
    "There are three standard methods to produce such arbitrary probability distribution $f(x)$."
   ]
  },
  {
   "cell_type": "markdown",
   "metadata": {},
   "source": [
    "#### Method 1: Weighted sampling\n",
    "\n",
    "Generate a uniform random variable $x = a + r(b-a)$ with $r \\sim U(0,1)$, and weight each event by the factor $w = f(x)$. So each event is characterised by $x$ and $w$.\n",
    "\n",
    "This method is extremely simple but has a restricted usefulness. It can be used, for instance, to calculate moments of a function."
   ]
  },
  {
   "cell_type": "markdown",
   "metadata": {},
   "source": [
    "#### Method 2: Rejection sampling\n",
    "\n",
    "This is the method described earlier in the integration subsection."
   ]
  },
  {
   "cell_type": "markdown",
   "metadata": {},
   "source": [
    "#### Method 3: Inverse transform sampling\n",
    "\n",
    "The probability integral transform (see Cowan, S3.2 for the proof) states that that if $f(x)$ is a continuous random variable with cumulative distribution function $F_{x}$, then the random variable $y=F(x)$ has a uniform distribution on $U(0,1)$. The consequence is that if we can determine the cumulative distribution function of a probability distribution, its inverse will be distributed like that distribution $f(x)$.\n",
    "\n",
    "For instance, imagine the exponential function $f(x) = \\frac{1}{\\tau}e^{-x/\\tau}$. The cummulative distribution function is:\n",
    "\n",
    "\\begin{eqnarray}\n",
    "  F(X) &=& \\int_0^{X} \\frac{1}{\\tau}e^{-x^\\prime/\\tau} \\,{\\rm d}x^\\prime &=& r \\\\\n",
    "       &=& 1 - e^{-X/\\tau} &=& r \\,,\n",
    "\\end{eqnarray}\n",
    "\n",
    "with $r \\sim U(0,1)$. If we invert the function we find that:\n",
    "\n",
    "\\begin{equation}\n",
    "  X = -\\tau \\log (1-r) \\,.\n",
    "\\end{equation}\n",
    "\n",
    "Hence, by sampling $r$ from a uniform function and substituting into the above equation we can generate samples that follow the distribution $f(x)$.\n",
    "\n",
    "This technique is the most optimal way of generating samples from an arbitrary probability distribution. However it requires to be able to calculate the cummulative distribution function (i.e. the integral) and inverting it, which for many functions is impossible to do analytically.\n",
    "\n",
    "##### Procedure to generate random samples from inverse transform sample\n",
    "\n",
    "1. Given a function that you want to sample from, $f(x)$, ensure that the function is normalised.\n",
    "2. Calculate the cummulative distribution function from the minimum value that this function can take up to a certain value $X$ and set it equal to $r$: $\\int_{\\rm x_{min}}^X f(x) \\,{\\rm d}x = r$\n",
    "3. Solve for $X$.\n",
    "4. Draw a uniform random number between 0 and 1, $r \\sim U(0,1)$, and insert it in the equation for $X$ from above. You now have a random sample that was draw from the original distribution, $X \\sim f(x)$."
   ]
  },
  {
   "cell_type": "markdown",
   "metadata": {},
   "source": [
    "### 6.2.4 Optimization\n",
    "\n",
    "Optimization cover a very wide range of problems. The goal is typically to simulate multiple alternate realisations of a situation and determine which one of them provides the most optimal solution, typically by analysing the value of a certain cost function.\n",
    "\n",
    "There are multiple examples of it:\n",
    "\n",
    "- Finding the best fit parameters of a model through a least square fit\n",
    "- Finding the minimum of a function\n",
    "- Reproducing the propagation of a particle subjected to scattering (i.e. ray tracing)\n",
    "- Optimizing the itinerary of a [travelling salesman](https://en.wikipedia.org/wiki/Travelling_salesman_problem)\n"
   ]
  },
  {
   "cell_type": "markdown",
   "metadata": {},
   "source": [
    "<div class=\"example\">Example 1: Travelling salesman</div>\n",
    "\n",
    "The travelling salesman problem is a well known problem in which one asks the question \"Given a list of cities and the distances between each pair of cities, what is the shortest possible route that visits each city and returns to the origin city?\". In computational complexity theory this is known as an NP-hard problem (i.e. non-deterministic polynomial-time problem), which forms the basis of the most difficult computational problems to solve. Several optimiszation problems are very similar to the travelling salesman problem, hence why it became so famous since the 1930s.\n",
    "\n",
    "While there are more efficient algorithms to tackle specific cases of the travelling salesman problem, the brute force Monte Carlo approach consists of drawing an itinerary at random, calculating the total travelled distance, and repeat the process a number of times while keeping track of the best solution. The figure below illustrates the process.\n",
    "\n",
    "<img src=\"images/Bruteforce.gif\" width=90%>\n",
    "\n",
    "(Source: [Saurabh.harsh](https://commons.wikimedia.org/wiki/User:Saurabh.harsh), [Bruteforce](https://commons.wikimedia.org/wiki/File:Bruteforce.gif), [CC BY-SA 3.0](https://creativecommons.org/licenses/by-sa/3.0/legalcode))"
   ]
  },
  {
   "cell_type": "markdown",
   "metadata": {},
   "source": [
    "<div class=\"example\">Example 1: Ray tracing</div>\n",
    "\n",
    "For ray tracing, the path of light rays is followed from the emitting source(s) and effects such as reflections on surfaces are taken into account through the propagation. A 'camera' is located at a certain position and registers the light coming to it.\n",
    "\n",
    "<img src=\"images/1280px-Glasses_800_edit.png\" width=60%>\n",
    "\n",
    "(Source: [Gilles Tran](https://en.wikipedia.org/wiki/User:Gilles_Tran), [Ray tracing (graphics)](https://en.wikipedia.org/wiki/Ray_tracing_(graphics)), [CC0 1.0 Universal](https://creativecommons.org/publicdomain/zero/1.0/deed.en))"
   ]
  },
  {
   "cell_type": "markdown",
   "metadata": {},
   "source": [
    "<div class=\"well\" align=\"center\">\n",
    "    <div class=\"container-fluid\">\n",
    "        <div class=\"row\">\n",
    "            <div class=\"col-md-3\" align=\"center\">\n",
    "                <img align=\"center\" alt=\"Creative Commons License\" style=\"border-width:0\" src=\"https://i.creativecommons.org/l/by-nc-sa/4.0/88x31.png\" width=\"60%\">\n",
    "            </div>\n",
    "            <div class=\"col-md-8\">\n",
    "            This work is licensed under a <a href=\"http://creativecommons.org/licenses/by-nc-sa/4.0/\">Creative Commons Attribution-NonCommercial-ShareAlike 4.0 International License</a>).\n",
    "            </div>\n",
    "        </div>\n",
    "    </div>\n",
    "    <br>\n",
    "    <br>\n",
    "    <i>Note: The content of this Jupyter Notebook is provided for educational purposes only.</i>\n",
    "</div>"
   ]
  }
 ],
 "metadata": {
  "kernelspec": {
   "display_name": "Python 3",
   "language": "python",
   "name": "python3"
  },
  "language_info": {
   "codemirror_mode": {
    "name": "ipython",
    "version": 3
   },
   "file_extension": ".py",
   "mimetype": "text/x-python",
   "name": "python",
   "nbconvert_exporter": "python",
   "pygments_lexer": "ipython3",
   "version": "3.8.3"
  },
  "latex_envs": {
   "LaTeX_envs_menu_present": true,
   "autocomplete": true,
   "bibliofile": "biblio.bib",
   "cite_by": "apalike",
   "current_citInitial": 1,
   "eqLabelWithNumbers": true,
   "eqNumInitial": 1,
   "hotkeys": {
    "equation": "Ctrl-E",
    "itemize": "Ctrl-I"
   },
   "labels_anchors": false,
   "latex_user_defs": false,
   "report_style_numbering": false,
   "user_envs_cfg": false
  }
 },
 "nbformat": 4,
 "nbformat_minor": 4
}
