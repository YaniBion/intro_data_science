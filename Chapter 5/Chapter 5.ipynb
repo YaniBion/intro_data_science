{
 "cells": [
  {
   "cell_type": "code",
   "execution_count": 1,
   "metadata": {},
   "outputs": [
    {
     "data": {
      "text/html": [
       "<style>.container { width:95% !important; }</style>"
      ],
      "text/plain": [
       "<IPython.core.display.HTML object>"
      ]
     },
     "metadata": {},
     "output_type": "display_data"
    },
    {
     "data": {
      "text/html": [
       "<link href=\"https://fonts.googleapis.com/css?family=Fira+Sans:300,300i,600,600i\" rel=\"stylesheet\">\n",
       "<link href=\"https://fonts.googleapis.com/css?family=Inconsolata\" rel=\"stylesheet\">\n",
       "<link href=\"https://fonts.googleapis.com/css?family=Titillium+Web:400,400i,700,700i\" rel=\"stylesheet\">\n",
       "\n",
       "\n",
       "<style>\n",
       "\n",
       ".text_cell_render p {\n",
       "font-style: regular;\n",
       "font-family: 'Fira Sans', sans-serif;\n",
       "display: block;\n",
       "text-align: justify;\n",
       "}\n",
       "/*font-weight: 200;*/\n",
       "/*text-align: left;\n",
       "line-height: 100%;\n",
       "display: block;\n",
       "}*/\n",
       "a {\n",
       "color:#377bb5;\n",
       "}\n",
       ".text_cell_render h1 {\n",
       "/*font-size: 24pt;*/\n",
       "font-family: 'Titillium Web', sans-serif;\n",
       "font-weight: bold;\n",
       "margin-bottom: 0.1em;\n",
       "margin-top: 0.5em;\n",
       "color:#4a4a4a;\n",
       "}\n",
       ".text_cell_render h2 {\n",
       "/*font-size: 21pt;*/\n",
       "    font-family: 'Titillium Web', sans-serif;\n",
       "margin-bottom: 0.1em;\n",
       "margin-top: 0.3em;\n",
       "color:#595959;\n",
       "}\n",
       ".text_cell_render h3 {\n",
       "    font-family: 'Titillium Web', sans-serif;\n",
       "/*font-size: 19pt;*/\n",
       "margin-bottom: 0.1em;\n",
       "margin-top: 0.3em;\n",
       "color:#595959;\n",
       "}\n",
       ".text_cell_render h4 {\n",
       "    font-family: 'Titillium Web', sans-serif;\n",
       "/*font-size: 17pt;*/\n",
       "margin-bottom: 0.1em;\n",
       "margin-top: 0.3em;\n",
       "color:#595959;\n",
       "}\n",
       ".text_cell_render h5 {\n",
       "    font-family: 'Titillium Web', sans-serif;\n",
       "/*font-size: 15pt;*/\n",
       "margin-bottom: 0.1em;\n",
       "margin-top: 0.3em;\n",
       "color:#595959;\n",
       "}\n",
       "div.text_cell_render{\n",
       "font-style: regular;\n",
       "font-family: 'Fira Sans', sans-serif;\n",
       "line-height: 120%;\n",
       "font-size: 100%;\n",
       "font-weight: 400;\n",
       "text-align: justify;\n",
       "margin-left:0em;\n",
       "margin-right:0em;\n",
       "}\n",
       "code {\n",
       "font-family: 'Inconsolata', monospace;\n",
       "}\n",
       "pre {\n",
       "font-family: 'Inconsolata', monospace;\n",
       "}\n",
       "\n",
       "div.example {\n",
       "    font-family: 'Titillium Web', sans-serif;\n",
       "/*font-size: 15pt;*/\n",
       "font-weight: bold;\n",
       "font-variant: small-caps;\n",
       "text-decoration: underline;\n",
       "margin-bottom: 0.1em;\n",
       "margin-top: 0.3em;\n",
       "color:#595959;\n",
       "}\n",
       "\n",
       "div.queue {\n",
       "font-size: x-large;\n",
       "font-variant: small-caps;\n",
       "font-family: 'Titillium Web', sans-serif;\n",
       "font-weight: bold;\n",
       "/*margin-bottom: 0.1em;*/\n",
       "/*margin-top: 0.5em;*/\n",
       "margin: 10px;\n",
       "padding: 10px;\n",
       "color:#cc0000;\n",
       "border-style: solid none solid none;\n",
       "border-width: 2px;\n",
       "border-color:#cc0000;\n",
       "border-spacing: 10px;\n",
       "}\n",
       "\n",
       ".reveal h1 {\n",
       "font-family: 'Titillium Web', sans-serif;\n",
       "/*font-size: 24pt;*/\n",
       "font-weight: bold;\n",
       "margin-bottom: 0.1em;\n",
       "margin-top: 0.5em;\n",
       "color:#4a4a4a;\n",
       "}\n",
       ".reveal h2 {\n",
       "font-family: 'Titillium Web', sans-serif;\n",
       "/*font-size: 24pt;*/\n",
       "font-weight: bold;\n",
       "margin-bottom: 0.1em;\n",
       "margin-top: 0.5em;\n",
       "color:#595959;\n",
       "}\n",
       ".reveal h3 {\n",
       "font-family: 'Titillium Web', sans-serif;\n",
       "/*font-size: 24pt;*/\n",
       "font-weight: bold;\n",
       "margin-bottom: 0.1em;\n",
       "margin-top: 0.5em;\n",
       "color:#595959;\n",
       "}\n",
       ".reveal h4 {\n",
       "font-family: 'Titillium Web', sans-serif;\n",
       "font-weight: bold;\n",
       "margin-bottom: 0.1em;\n",
       "margin-top: 0.5em;\n",
       "color:#595959;\n",
       "}\n",
       ".reveal div.text_cell_render{\n",
       "line-height: 120%;\n",
       "font-size: 74%;\n",
       "font-weight: 400;\n",
       "text-align: justify;\n",
       "margin-left:0em;\n",
       "margin-right:0em;\n",
       "}\n",
       ".reveal .code_cell {\n",
       "    font-size: 92%;\n",
       "}\n",
       ".reveal code {\n",
       "font-family: 'Inconsolata', monospace;\n",
       "}\n",
       ".reveal pre {\n",
       "font-family: 'Inconsolata', monospace;\n",
       "}\n",
       "\n",
       ".CodeMirror{\n",
       "font-family: \"Inconsolata\", monospace;\n",
       "}\n",
       "\n",
       "</style>"
      ],
      "text/plain": [
       "<IPython.core.display.HTML object>"
      ]
     },
     "execution_count": 1,
     "metadata": {},
     "output_type": "execute_result"
    }
   ],
   "source": [
    "## Import required Python modules\n",
    "%matplotlib inline\n",
    "import matplotlib.pyplot as plt\n",
    "import numpy as np\n",
    "import scipy, scipy.stats\n",
    "import io\n",
    "import base64\n",
    "#from IPython.core.display import display\n",
    "from IPython.display import display, HTML, Image\n",
    "from urllib.request import urlopen\n",
    "\n",
    "try:\n",
    "    import astropy as apy\n",
    "    import astropy.table\n",
    "    _apy = True\n",
    "    #print('Loaded astropy')\n",
    "except:\n",
    "    _apy = False\n",
    "    #print('Could not load astropy')\n",
    "\n",
    "## Customising the font size of figures\n",
    "plt.rcParams.update({'font.size': 14})\n",
    "\n",
    "## Customising the look of the notebook\n",
    "display(HTML(\"<style>.container { width:95% !important; }</style>\"))\n",
    "## This custom file is adapted from https://github.com/lmarti/jupyter_custom/blob/master/custom.include\n",
    "HTML('custom.css')\n",
    "#HTML(urlopen('https://raw.githubusercontent.com/bretonr/intro_data_science/master/custom.css').read().decode('utf-8'))"
   ]
  },
  {
   "cell_type": "code",
   "execution_count": 2,
   "metadata": {
    "scrolled": true
   },
   "outputs": [
    {
     "data": {
      "text/html": [
       "<script>\n",
       "code_show=true;\n",
       "function code_toggle() {\n",
       " if (code_show){\n",
       " $('div.input').hide();\n",
       " } else {\n",
       " $('div.input').show();\n",
       " }\n",
       " code_show = !code_show\n",
       "} \n",
       "$( document ).ready(code_toggle);\n",
       "</script>\n",
       "<form action=\"javascript:code_toggle()\"><input type=\"submit\" value=\"Click here to toggle on/off the Python code.\"></form>"
      ],
      "text/plain": [
       "<IPython.core.display.HTML object>"
      ]
     },
     "execution_count": 2,
     "metadata": {},
     "output_type": "execute_result"
    }
   ],
   "source": [
    "## Adding a button to hide the Python source code\n",
    "HTML('''<script>\n",
    "code_show=true;\n",
    "function code_toggle() {\n",
    " if (code_show){\n",
    " $('div.input').hide();\n",
    " } else {\n",
    " $('div.input').show();\n",
    " }\n",
    " code_show = !code_show\n",
    "} \n",
    "$( document ).ready(code_toggle);\n",
    "</script>\n",
    "<form action=\"javascript:code_toggle()\"><input type=\"submit\" value=\"Click here to toggle on/off the Python code.\"></form>''')"
   ]
  },
  {
   "cell_type": "markdown",
   "metadata": {},
   "source": [
    "<div class=\"container-fluid\">\n",
    "    <div class=\"row\">\n",
    "        <div class=\"col-md-8\" align=\"center\">\n",
    "            <h1>PHYS 10791: Introduction to Data Science</h1>\n",
    "            <!--<h3>2019-2020 Academic Year</h3><br>-->\n",
    "        </div>\n",
    "        <div class=\"col-md-3\">\n",
    "            <img align='center' style=\"border-width:0\" src=\"images/UoM_logo.png\"/>\n",
    "        </div>\n",
    "    </div>\n",
    "</div>\n",
    "\n",
    "<div class=\"container-fluid\">\n",
    "    <div class=\"row\">\n",
    "        <div class=\"col-md-2\" align=\"right\">\n",
    "            <b>Course instructors:&nbsp;&nbsp;</b>\n",
    "        </div>\n",
    "        <div class=\"col-md-9\" align=\"left\">\n",
    "            <a href=\"http://www.renebreton.org\">Prof. Rene Breton</a> - Twitter <a href=\"https://twitter.com/BretonRene\">@BretonRene</a><br>\n",
    "            <a href=\"http://www.hep.manchester.ac.uk/u/gersabec\">Dr. Marco Gersabeck</a> - Twitter <a href=\"https://twitter.com/MarcoGersabeck\">@MarcoGersabeck</a>\n",
    "        </div>\n",
    "    </div>\n",
    "</div>"
   ]
  },
  {
   "cell_type": "markdown",
   "metadata": {},
   "source": [
    "## Syllabus\n",
    "\n",
    "1. Probabilities and interpretations\n",
    "2. Probability distributions\n",
    "3. Parameter estimation\n",
    "4. Maximum likelihood\n",
    "5. **Least square, chi2, correlations**\n",
    "6. Monte Carlo basics\n",
    "7. Goodness of fit tests\n",
    "8. Hypothesis testing\n",
    "9. Probability and confidence level\n",
    "10. Limit setting\n",
    "11. Introduction to multivariate analysis techniques"
   ]
  },
  {
   "cell_type": "markdown",
   "metadata": {},
   "source": [
    "# Chapter 5\n",
    "\n",
    "## Topics\n",
    "\n",
    "**[5.1 Bayesian inference - Part 2](#5.1-Bayesian-inference---Part-2)**\n",
    "- 5.1.1 Combining results\n",
    "- 5.1.2 On the use of priors\n",
    "\n",
    "**[5.2 Least square](5.2-Least-square)**\n",
    "- 5.2.1 Least square derivation\n",
    "- 5.2.2 Linear least squares\n",
    "- 5.2.3 Chi-square distribution\n",
    "- 5.2.4 Non-linear least squares\n",
    "- 5.2.5 Best linear unbiased estimator\n",
    "- 5.2.6 Other topics"
   ]
  },
  {
   "cell_type": "markdown",
   "metadata": {},
   "source": [
    "## Further Reading Material\n",
    "\n",
    "- **Cowan**: Chapter 6.12 and 6.13 - *Combining results and priors*\n",
    "- **Cowan**: Chapter 7 (sections 7.1, 7.2 and 7.3) - *Least squares method*\n",
    "- **Barlow**: Chapter 6 - *Least squares method*"
   ]
  },
  {
   "cell_type": "markdown",
   "metadata": {},
   "source": [
    "<img src=\"images/frequentists_vs_bayesians_2x.png\" width=\"40%\">\n",
    "\n",
    "_[Source: XKCD](https://www.xkcd.com/1132/)_\n",
    "\n",
    "[Read the explanation on Explain XKCD](https://www.explainxkcd.com/wiki/index.php/1132:_Frequentists_vs._Bayesians)\n",
    "\n",
    "This carton relates to the [base rate fallacy](https://en.wikipedia.org/wiki/Base_rate_fallacy).\n",
    "\n",
    "Need more information about Bayes inference? How about reading [A Narwhal's Guide to Bayes' Rule](https://www.embedded.fm/blog/2016/9/1/a-narwhals-guide-to-bayes-rule)? This is a funny way to learn Bayes' rule."
   ]
  },
  {
   "cell_type": "markdown",
   "metadata": {},
   "source": [
    "## 5.1 Bayesian inference - Part 2"
   ]
  },
  {
   "cell_type": "markdown",
   "metadata": {},
   "source": [
    "With Bayesian statistics we have a framework to evaluate the posterior probability of an event/parameter/hypothesis. We also have seen that the maximum a posteriori and its simpler version the maximum likelihood, which applies for flat priors, are generally good estimators. These estimators are useful means of summarising the parameter(s) of interest using a central quantity (i.e. the MAP/MLE) and their spread (i.e. variance on the parameters using, e.g., the covariance matrix) rather than describing the entire posterior probability distribution."
   ]
  },
  {
   "cell_type": "markdown",
   "metadata": {},
   "source": [
    "### 5.1.1 Combining results"
   ]
  },
  {
   "cell_type": "markdown",
   "metadata": {},
   "source": [
    "The next logical step in our understanding of (Bayesian) inference is to determine how should results from independent experiments be combined together. The procedure was in fact laid out at the start of the semester: 'the joint probability of two independent events is equal to the product of their probabilities'.\n",
    "\n",
    "This means that if you obtain a posterior probability $P(a \\mid D_1)$ from a first experiment and $P(a \\mid D_2)$ from a second experiment, their joint probability (i.e. their intersection) will be:\n",
    "\\begin{equation}\n",
    "  P(a \\mid D_1 \\cap D_2) = P(a \\mid D_1) \\, P(a \\mid D_2) \\,.\n",
    "\\end{equation}\n",
    "\n",
    "The same would equally apply to the likelihoods in the case where priors are flat. Note that in the log-probability space, this would correspond to summing the log-probabilities rather than multiplying them. Also, one should generally ensure that the product is renormalised to unity.\n",
    "\n",
    "Two ways of calculating the joint probabilities:\n",
    "\n",
    "1. The product of the two distributions can be calculated directly if we know their analytical representation. This would be the case, for example, if the two posterior distributions are Gaussians. Indeed, the product of two Gaussians is also a Gaussian. _[Try calculating it yourself as it is a very useful and common result.]_\n",
    "2. Generally speaking, obtaining the joint probability of two measurements requires one to have a full description of their individual probability so that their product can be computed numerically (see the example below)."
   ]
  },
  {
   "cell_type": "markdown",
   "metadata": {},
   "source": [
    "<div class=\"example\">Example 1: Combining the posterior probabilities 'analytically'</div>\n",
    "\n",
    "One of the 'holy grails' of cosmology is to detect the so-called B-mode polarisation in the cosmic microwave background. It turns out that their amplitude is related to the production of gravitational waves during the early Universe inflation in what is called the tensor-to-scalar ratio, $r$.\n",
    "\n",
    "<img src=\"images/CMB_polarisation.png\" width=\"60%\">\n",
    "\n",
    "_[Source: [WMAP](https://map.gsfc.nasa.gov)]_\n",
    "\n",
    "Several experiments have attempted to measure this effect without success. Nevertheless these non-detections can prove to be important for our understanding of physics, especially if it is theoretically possible for the value of $r$ to be zero.\n",
    "\n",
    "Imagine that a first experiment obtains a constraint on $r$ which follows a decreasing exponential: $P(r \\mid \\tau_1) = \\frac{1}{\\tau_1} e^{-\\frac{r}{\\tau_1}}$. From this we could evaluate an upper limit on $r$ corresponding to a certain confidence level (we will investigate this topic in future lectures).\n",
    "\n",
    "Imagine that a second, independent experiement obtains a constraint on $r$ which also follows a decreasing exponential: $P(r \\mid \\tau_2) = \\frac{1}{\\tau_2} e^{-\\frac{r}{\\tau_2}}$.\n",
    "\n",
    "What would be the joint constraint based on the two experiments? We can multiply the probabilities, and renormalise:\n",
    "\\begin{eqnarray}\n",
    "  P(r \\mid \\tau_1, \\tau_2) &=& P(r \\mid \\tau_1) \\, P(r \\mid \\tau_2) \\\\\n",
    "    &=& \\left(\\frac{1}{\\tau_1} + \\frac{1}{\\tau_2}\\right) \\exp \\left[-\\left(\\frac{1}{\\tau_1} + \\frac{1}{\\tau_2}\\right) r\\right] \\,.\n",
    "\\end{eqnarray}\n",
    "\n",
    "It is therefore clear that combining different experiments could improve the limits on $r$.\n",
    "\n",
    "_Note, however, that real-life situation is more complicated: distribution might not be exponential and systematic uncertainties might prevent upper limits from improving beyond a certain point._"
   ]
  },
  {
   "cell_type": "markdown",
   "metadata": {},
   "source": [
    "<div class=\"example\">Example 2: Combining the posterior probabilities 'numerically'</div>\n",
    "\n",
    "Below is the archetypical illustration of joint probability. This illustrates the joint constrainst from various cosmological experiments for the so-called lambda cold dark matter (aka lambda-CDM) model parameters. The joint constraint is showed near the centre. Clearly, this can only be calculated numerically using a point-to-point multiplication.\n",
    "\n",
    "<img src=\"images/cosmo_summary_allen11.png\" width=\"50%\">\n",
    "\n",
    "_[Source: Allen et al., 'Measuring cosmic distances with galaxy clusters', [arXiv:1307.8152](https://arxiv.org/abs/1307.8152)]_"
   ]
  },
  {
   "cell_type": "markdown",
   "metadata": {},
   "source": [
    "### 5.1.2 On the use of priors"
   ]
  },
  {
   "cell_type": "markdown",
   "metadata": {},
   "source": [
    "The prior probability, often simply called prior, is a fundamental component of Bayesian statistics. It represents one's degree of belief into the quantity/parameter that is to be estimated before some evidence is taken into account. Priors are typically used to constrain parameters, either from past information (e.g. deduced from another experiment) or in order to keep parameter values in line with expectations (e.g. keeping the parameter within a physical range).\n",
    "\n",
    "_Note: in general the prior probability is normalised so that its integral is unity._\n",
    "\n",
    "**Combining results (as we have seen in the previous subsection) by multiplying probabilities and using priors are completely interchangeable in the mathematical sense.**\n",
    "\n",
    "This is due to priors and posteriors being independent of the data. This means that, for instance, you could conduct two experiments independently and combine their results afterwards or, alternatively, you could use the results of one experiment and use it as a prior for the second experiment.\n",
    "\n",
    "On the practical side, there are many advantages to using priors rather than multiplying posterior probabilities. Imagine for instance that you cannot evaluate the MLE analytically like it was the case for the _'maximum likelihood of a simple function'_ example from last week. Finding the MLE, $\\widehat{a}$, required to numerically identify the maximum of the likelihood function. If, for some reason, we knew that $a \\in [-0.7, -0.5]$, this would considerably reduce the values of $a$ to search for."
   ]
  },
  {
   "cell_type": "code",
   "execution_count": 3,
   "metadata": {},
   "outputs": [
    {
     "name": "stdout",
     "output_type": "stream",
     "text": [
      "Optimization terminated successfully.\n",
      "         Current function value: -0.068503\n",
      "         Iterations: 10\n",
      "         Function evaluations: 20\n",
      "ln_L_max: 0.068503\n",
      "a_max: -0.59162\n"
     ]
    },
    {
     "data": {
      "image/png": "[encoded data removed]",
      "text/plain": [
       "<Figure size 864x576 with 1 Axes>"
      ]
     },
     "metadata": {
      "needs_background": "light"
     },
     "output_type": "display_data"
    }
   ],
   "source": [
    "## The data\n",
    "x = np.r_[0.89, 0.03, 0.50, 0.36, 0.49]\n",
    "\n",
    "## The model\n",
    "P = lambda a_: 1 + a_*(x - 0.5)\n",
    "ln_L = lambda a_: np.log(P(a_)).sum()\n",
    "\n",
    "## Finding the maximum likelihood\n",
    "a_max = scipy.optimize.fmin(lambda a_: -ln_L(a_), -0.6)[0]\n",
    "ln_L_max = ln_L(a_max)\n",
    "print('ln_L_max: {:.5}'.format(ln_L_max))\n",
    "print('a_max: {:.5}'.format(a_max))\n",
    "\n",
    "## Evaluating the model at a \n",
    "a = np.linspace(-2.1,1.2,241)\n",
    "calc_ln_L = []\n",
    "for ai in a:\n",
    "    calc_ln_L.append( ln_L(ai) )\n",
    "\n",
    "fig, ax = plt.subplots(figsize=(12,8))\n",
    "ax.fill_betweenx([-0.6,0.2], -0.7, -0.5, facecolor='gray')\n",
    "ax.plot(a, calc_ln_L, lw=3)\n",
    "ax.vlines(a_max, -0.6, 0.2, linestyles='--', lw=1)\n",
    "ax.plot([a_max], [ln_L_max], 'o', ms=10)\n",
    "ax.set_xlabel('a')\n",
    "ax.set_ylabel('ln(L)')\n",
    "ax.set_xlim(-2.5,1.6)\n",
    "ax.set_ylim(-0.6,0.2);"
   ]
  },
  {
   "cell_type": "markdown",
   "metadata": {},
   "source": [
    "Another practical situation would be if you are fitting a straight line, $y = mx + b$, and know that the value of $b$ is strictly larger or equal to zero. Priors give you an easy way of dealing with this situation as you can set a function:\n",
    "\\begin{equation}\n",
    "  P(b) = \n",
    "    \\begin{cases}\n",
    "    1 & {\\rm if}\\,b \\ge 0 \\\\\n",
    "    0 & {\\rm if}\\,b < 0 \\,.\n",
    "    \\end{cases}\n",
    "\\end{equation}"
   ]
  },
  {
   "cell_type": "markdown",
   "metadata": {},
   "source": [
    "#### Flat priors\n",
    "\n",
    "Flat priors are constant and independent of the parameters (i.e. $I(a) = C$). The normalisation requirement is such that:\n",
    "\n",
    "\\begin{equation}\n",
    "  \\int_{a_{\\rm min}}^{a_{\\rm max}} C\\, {\\rm d}a = 1 \\,,\n",
    "\\end{equation}\n",
    "\n",
    "which implies that $I(a) = \\frac{1}{a_{\\rm max}-a_{\\rm min}}$. The generalisation of this to the case where $a$ is multi-dimensional is $P(a) = \\frac{1}{V_a}$, where $V_a$ is the hyper volume of parameter space occupied by $a$. For MAP, this is irrelevant as this constant disappears when the derivative with respect to $a$ is taken. However, it has a significance for advanced Bayesian inference (e.g. for model comparison)."
   ]
  },
  {
   "cell_type": "markdown",
   "metadata": {},
   "source": [
    "#### Improper priors\n",
    "\n",
    "There situations where the priors cannot be normalised to a finite value. This is the case for flat priors with unconstrained range (e.g. $(-\\infty,+\\infty)$ or $[0,+\\infty)$). We call them _improper priors_.\n",
    "\n",
    "Once again, because of the independence of the prior with respect to the parameter to optimise, it does not matter to calculate the MAP. Furthermore, the posterior probability can still be normalised as long as the likelihood itself can be normalised. An example would be if the improper prior is a constant line. If the likelihood is a Gaussian, then their product is a Gaussian and can be normalised."
   ]
  },
  {
   "cell_type": "markdown",
   "metadata": {},
   "source": [
    "<img src=\"images/bayesevol.png\" width=\"60%\">"
   ]
  },
  {
   "cell_type": "markdown",
   "metadata": {},
   "source": [
    "<div class=\"example\">Example 1: MAP of a simple lifetime</div>\n",
    "\n",
    "Let us recall the radioactive decay example from the previous chapter with the likelihood given by\n",
    "\n",
    "\\begin{equation}\n",
    "  \\mathcal{L}(t_i \\mid \\tau) = \\frac{1}{\\tau} e^{-t_i/\\tau} \\,.\n",
    "\\end{equation}\n",
    "\n",
    "What if there is a non-constant prior $I \\propto \\tau^{-1}$? We can no longer use MLE and need to use MAP instead. Hence\n",
    "\n",
    "\\begin{eqnarray}\n",
    "  P(\\tau \\mid t_i) &\\propto& I(\\tau) \\mathcal{L}(t_i \\mid \\tau) \\\\\n",
    "  &=& \\frac{1}{\\tau} \\prod_i^N \\frac{1}{\\tau} e^{-t_i/\\tau} \\,.\n",
    "\\end{eqnarray}\n",
    "\n",
    "The MAP estimator $\\widehat{\\tau}$ is obtained by differenciating the logarithm of the posterior:\n",
    "\n",
    "\\begin{eqnarray}\n",
    "  \\frac{\\partial \\ln P}{\\partial \\tau} &=& \\frac{\\partial}{\\partial \\tau} \\left[ -\\ln \\tau - \\sum_i^N \\left( \\ln \\tau +\\frac{t_i}{\\tau} \\right) \\right] \\\\\n",
    "                                   &=& -\\frac{1}{\\tau} - \\sum_i^N \\left( \\frac{1}{\\tau} - \\frac{t_i}{\\tau^2} \\right) \\,.\n",
    "\\end{eqnarray}\n",
    "\n",
    "Setting the above equation to zero and solving for $\\tau$ allows us to obtain the MAP of $\\widehat{\\tau}$:\n",
    "\n",
    "\\begin{equation}\n",
    "  \\widehat{\\tau} = \\frac{1}{N+1} \\sum t_i \\,.\n",
    "\\end{equation}"
   ]
  },
  {
   "cell_type": "markdown",
   "metadata": {},
   "source": [
    "## 5.2 Least square"
   ]
  },
  {
   "cell_type": "markdown",
   "metadata": {},
   "source": [
    "### 5.2.1 Least square derivation"
   ]
  },
  {
   "cell_type": "markdown",
   "metadata": {},
   "source": [
    "In the previous chapter we have investigated the maximum a posteriori and maximum likelihood for general distributions. We will now focus on a particular case, that of a Gaussian likelihood distribution, as it is one of the most useful of all.\n",
    "\n",
    "Consider two quantities, $(x_i,y_i)$, which are respectively the independent and dependent variables related to a certain measurement. A precision $\\sigma_i$ denotes the Gaussian standard deviation of $y_i$ with respect to the true value, which can be mapped from $x_i$ using a function, $f(x_i;\\theta)$, that depends on some unknown parameters, $\\theta$. We can write the likelihood probability of having the observed quantity $y_i$ as:\n",
    "\n",
    "\\begin{equation}\n",
    "  \\mathcal{L}(y_i \\mid f(\\theta), \\theta, x_i, \\sigma_i) = \\frac{1}{\\sqrt{2\\pi} \\sigma_i} \\exp{\\left(-\\frac{\\left( y_i - f(x_i;\\theta) \\right)^2}{2\\sigma_i^2}\\right)}\n",
    "\\end{equation}\n",
    "\n",
    "If we assume flat priors (i.e. all parameters are equally probable), then the posterior probability of the unknown parameters $\\theta$ for $N$ such samples is:\n",
    "\n",
    "\\begin{eqnarray}\n",
    "  P(\\theta \\mid f(\\theta), y, x, \\sigma) &=& \\frac{I \\mathcal{L}(y \\mid \\theta)}{E} \\\\\n",
    "    &=& \\frac{I}{E} \\prod_i^N \\frac{1}{\\sqrt{2\\pi} \\sigma_i} \\exp{\\left(-\\frac{\\left( y_i - f(x_i;\\theta) \\right)^2}{2\\sigma_i^2}\\right)} \\,.\n",
    "\\end{eqnarray}\n",
    "\n",
    "Taking the logarithm of the posterior:\n",
    "\n",
    "\\begin{equation}\n",
    "  \\ln P(\\theta \\mid f, y, x, \\sigma) = \\ln I - \\frac{N}{2} \\ln{(2\\pi)} - \\sum_i^N \\ln \\sigma_i - \\frac{1}{2} \\sum_i^N \\frac{\\left( y_i - f(x_i;\\theta) \\right)^2}{\\sigma_i^2} - \\ln E \\,.\n",
    "\\end{equation}\n",
    "\n",
    "Because of the flat priors, we know that the MAP $\\equiv$ MLE. Also, since only the last summation term depends on $\\theta$ we can drop all additive and constant terms. In which case:\n",
    "\n",
    "\\begin{equation}\n",
    "  \\max \\left[ \\ln P(\\theta \\mid f, x_i, \\sigma_i) \\right] = \\max \\left[ -\\frac{1}{2} \\sum_i^N \\frac{\\left( y_i - f(x_i;\\theta) \\right)^2}{\\sigma_i^2} \\right] \\,.\n",
    "\\end{equation}\n",
    "\n",
    "Finally, we can recognise that maximizing this function is equivalent to minimizing:\n",
    "\n",
    "\\begin{equation}\n",
    "  \\chi^2(\\theta) = \\sum_i^N \\frac{\\left( y_i - f(x_i;\\theta) \\right)^2}{\\sigma_i^2} \\,.\n",
    "\\end{equation}\n",
    "\n",
    "We call this expression the **chi-squared**, and the procedure is recognised as the **method of least squares**. It is a very universal result: thanks to the central limit theorem the probability of having some experimental data given a model will tend to be distributed as a Gaussian.\n",
    "\n",
    "In the case where errors are correlated, we can use a more general expression for the chi-squared:\n",
    "\n",
    "\\begin{equation}\n",
    "  \\chi^2(\\theta) = \\sum_i^N \\sum_j^N \\left( y_i - f(x_i;\\theta) \\right) \\left( V^{-1}_{i,j} \\right) \\left( y_j - f(x_j;\\theta) \\right) \\,,\n",
    "\\end{equation}\n",
    "where $V_{i,j}$ is the covariance matrix of the data. Note the summation indices here. If we use matrix notation, we can rewrite this expression as:\n",
    "\n",
    "\\begin{equation}\n",
    "  \\chi^2(\\theta) = \\left( \\underline{y} - \\underline{f} \\right)^T \\underline{\\underline{V}}^{-1} \\left( \\underline{y} - \\underline{f} \\right) \\,,\n",
    "\\end{equation}\n",
    "\n",
    "For the chi-squared, the minimum variance bound can be written:\n",
    "\n",
    "\\begin{eqnarray}\n",
    "  \\sigma^2_\\widehat{\\theta} &\\equiv& \\left[ \\left( -\\frac{\\partial^2 \\ln \\mathcal{L}}{\\partial \\theta^2} \\right)^{-1} \\right]_\\widehat{\\theta} \\\\\n",
    "  &=& \\left[ \\left( \\frac{1}{2} \\frac{\\partial^2 \\chi^2}{\\partial \\theta^2} \\right)^{-1} \\right]_\\widehat{\\theta} \\,.\n",
    "\\end{eqnarray}\n"
   ]
  },
  {
   "cell_type": "markdown",
   "metadata": {},
   "source": [
    "### 5.2.2 Linear least squares\n",
    "\n",
    "A particularly interesting family of models in the context of least squares are those which are linear functions of the $M$ parameters $\\theta_j$:\n",
    "\n",
    "\\begin{equation}\n",
    "  f(x_i; \\theta) = \\sum_j^M A_j(x_i) \\theta_j \\,,\n",
    "\\end{equation}\n",
    "\n",
    "or\n",
    "\n",
    "\\begin{equation}\n",
    "  \\underline{f}(\\underline{x}; \\underline{\\theta}) = \\underline{\\underline{A}} \\, \\underline{\\theta} \\,,\n",
    "\\end{equation}\n",
    "with the second expression being the matrix notation.\n",
    "\n",
    "The linearity is required in the parameters $\\theta_j$ but $A_j$ could be any function of $x$. It is also worth knowing that linear least square estimators can be shown to have zero bias and minimum variance, thus making them actual 'good' estimators."
   ]
  },
  {
   "cell_type": "markdown",
   "metadata": {},
   "source": [
    "<div class=\"example\">Example 1: $f(x; m) = mx$ with constant uncertainties</div>\n",
    "\n",
    "Let us first consider one of the simplest case scenario, a simple proportion $f(x; m) = m x$ in which all measurement errors are the same. We can write the chi-squared as:\n",
    "\n",
    "\\begin{equation}\n",
    "  \\chi^2 = \\sum_i^N \\frac{(y_i - m x_i)^2}{\\sigma^2}\n",
    "\\end{equation}\n",
    "\n",
    "Differentiating with respect to $m$ gives\n",
    "\n",
    "\\begin{equation}\n",
    "  \\frac{\\partial \\chi^2}{\\partial m} = \\sum_i^N \\left[ -2 x_i \\frac{(y_i - m x_i)}{\\sigma^2} \\right]\n",
    "\\end{equation}\n",
    "\n",
    "The MLE estimator can therefore be found:\n",
    "\n",
    "\\begin{eqnarray}\n",
    "  \\sum_i^N (x_i y_i - \\widehat{m} x_i^2) = 0 \\\\\n",
    "  \\sum_i^N x_i y_i = \\widehat{m} \\sum_i^N x_i^2 \\,.\n",
    "\\end{eqnarray}\n",
    "\n",
    "Dividing by $N$ on both side to obtain averages yield:\n",
    "\n",
    "\\begin{equation}\n",
    "  \\widehat{m} = \\frac{\\langle xy \\rangle}{\\langle x^2 \\rangle}\n",
    "\\end{equation}\n",
    "\n",
    "The variance is found from the inverse of the MVB:\n",
    "\n",
    "\\begin{eqnarray}\n",
    "  \\sigma^2_{\\widehat{m}} &=& \\left( \\frac{1}{2} \\frac{\\partial^2 \\chi^2}{\\partial m^2} \\right)^{-1} \\\\\n",
    "  &=& \\left( \\frac{\\sum_i^N x_i^2}{\\sigma^2} \\right)^{-1} \\\\\n",
    "  &=& \\frac{\\sigma^2}{N \\langle x^2 \\rangle} \\,.\n",
    "\\end{eqnarray}"
   ]
  },
  {
   "cell_type": "markdown",
   "metadata": {},
   "source": [
    "#### Matrix formulation of linear least squares\n",
    "\n",
    "_[Note that the matrix formulation of the linear least squares is presented as optional, supplementary material only and will not be part of the examinable material.]_\n",
    "\n",
    "In general the linear least squares involves solving $M$ equations for the $M$ individual $\\theta$ parameters with $N$ observed data points. Recalling the chi-squared definition:\n",
    "\n",
    "\\begin{equation}\n",
    "  \\chi^2(\\theta) = \\sum_i^N \\frac{\\left( y_i - \\sum_j^M A_j(x_i) \\theta_j) \\right)^2}{\\sigma_i^2} \\,.\n",
    "\\end{equation}\n",
    "\n",
    "Differentiating with respect to $\\theta_j$ and setting to zero:\n",
    "\n",
    "\\begin{equation}\n",
    "  \\sum_i^N A_j(x_i) \\frac{\\left( y_i - \\sum_j^M A_j(x) \\theta_j) \\right)}{\\sigma_i^2} = 0 \\,.\n",
    "\\end{equation}\n",
    "\n",
    "This system of $M$ equations above are called the _'normal equations'_.\n",
    "\n",
    "If we write the chi-squared derivative in terms of matrix formulation, with $\\sigma_i^2$ generalising to the covariance matrix of the uncertainties, $V_{ij}$:\n",
    "\n",
    "\\begin{equation}\n",
    "  \\underline{\\underline{A}}^T \\underline{\\underline{V}}^{-1} \\underline{\\underline{A}} \\widehat{\\underline{\\theta}} - \\underline{\\underline{A}}^T \\underline{\\underline{V}}^{-1} \\underline{y} = 0 \\,.\n",
    "\\end{equation}\n",
    "\n",
    "Solving for $\\widehat{\\underline{\\theta}}$:\n",
    "\n",
    "\\begin{equation}\n",
    "  \\widehat{\\underline{\\theta}} = (\\underline{\\underline{A}}^T \\underline{\\underline{V}}^{-1} \\underline{\\underline{A}})^{-1} \\underline{\\underline{A}}^T \\underline{\\underline{V}}^{-1} \\underline{y} \\,.\n",
    "\\end{equation}\n",
    "\n",
    "And similarly the covariance matrix of the best-fit parameters $\\widehat{\\underline{\\theta}}$ can be written as:\n",
    "\n",
    "\\begin{equation}\n",
    "  \\underline{\\underline{\\Sigma}}_\\widehat{\\underline{\\theta}} = \\left( \\underline{\\underline{A}}^T \\underline{\\underline{V}}^{-1} \\underline{\\underline{A}} \\right)^{-1} \\,.\n",
    "\\end{equation}"
   ]
  },
  {
   "cell_type": "markdown",
   "metadata": {},
   "source": [
    "### 5.2.3 Chi-square distribution\n",
    "\n",
    "We have defined the chi-squared earlier as a quantity but did not elaborate further on its meaning. It is in fact a statistical probability distribution which corresponds to the sum of the squares of $k$ independent standard normal random variables (i.e. having $\\mu = 0$ and $\\sigma = 1$). The PDF is given by:\n",
    "\n",
    "\\begin{equation}\n",
    "  \\chi^2_k \\equiv f(x;\\,k) =\n",
    "  \\begin{cases}\n",
    "    \\dfrac{x^{\\frac k 2 -1} e^{-\\frac x 2}}{2^{\\frac k 2} \\Gamma\\left(\\frac k 2 \\right)},  & x > 0; \\\\ 0, & \\text{otherwise}.\n",
    "  \\end{cases}\n",
    "\\end{equation}\n",
    "\n",
    "We refer to $k$ as the numbers of degrees of freedom, also known as _dof_. For a data sample containing $N$ independent point $k = N - M$, where $M$ is the number of parameters in the model (which reduce the number of degrees of freedom).\n",
    "\n",
    "The mean of a $\\chi^2_k$ is $k$ and its variance is $2k$.\n",
    "\n",
    "Thanks to the Central Limit Theorem, at large $k$ ($\\approx 30$), the chi-squared distribution becomes very close to a Gaussian.\n",
    "\n",
    "Another relevant property of the chi-squared distribution is that the sum of two independent chi-squared, $\\chi^2_{k_1}$ and $\\chi^2_{k_2}$, is also chi-squared distributed with $k_1 + k_2$ degrees of freedom, $\\chi^2_{k_1+k_2}$. When multiplying likelihoods to combine data, or adding the log-likelihood, we add the chi-squared and the result preserves its chi-squared property. We will see more about chi-squared in the chapter on the goodness of fit tests.\n",
    "\n",
    "Below is a view of the distribution for different numbers of degrees of freedom."
   ]
  },
  {
   "cell_type": "code",
   "execution_count": 4,
   "metadata": {},
   "outputs": [
    {
     "data": {
      "image/png": "[encoded data removed]",
      "text/plain": [
       "<Figure size 864x576 with 1 Axes>"
      ]
     },
     "metadata": {
      "needs_background": "light"
     },
     "output_type": "display_data"
    }
   ],
   "source": [
    "## Displaying the chi2 distribution for different numbers of freedom\n",
    "x = np.linspace(0,10,101)\n",
    "dof = [1,2,3,4,6,9]\n",
    "\n",
    "fig, ax = plt.subplots(figsize=(12,8))\n",
    "for dof_ in dof:\n",
    "    chi2 = scipy.stats.chi2.pdf(x, dof_)\n",
    "    ax.plot(x, chi2, linewidth=3, label='k={}'.format(dof_))\n",
    "\n",
    "ax.legend()\n",
    "ax.set_title('$\\chi^2_k$')\n",
    "ax.set_xlabel('x')\n",
    "ax.set_ylabel('P(x; k)')\n",
    "ax.set_xlim(0, 10)\n",
    "ax.set_ylim(0, 0.5);"
   ]
  },
  {
   "cell_type": "markdown",
   "metadata": {},
   "source": [
    "### 5.2.4 Non-linear least squares\n",
    "\n",
    "In the case of a model $f(x; \\theta)$ which is a non-linear function of $\\theta$ (e.g. $e^{\\theta x}$, $\\sin{(\\theta x)}$) there is in general no analytic solution to solve the $M$ equations for each of the parameters in $\\theta$. The MLE must be computed numerically.\n",
    "\n",
    "Techniques to do so are beyond the scope of this course, but can involve gradient methods, simplex search, Monte Carlo, etc."
   ]
  },
  {
   "cell_type": "markdown",
   "metadata": {},
   "source": [
    "### 5.2.5 Best linear unbiased estimator\n",
    "\n",
    "_[Note that this subsection is presented as optional, supplementary material only and will not be part of the examinable material. The notes follow from some of Cowan Chapter 7.6.]_\n",
    "\n",
    "The principles behind combining data have already been discussed previously. How about combining measurements with least square?\n",
    "\n",
    "Consider $N$ independent measurements $\\{y_i\\}$ with Gaussian errors $\\{\\sigma_i\\}$ of a quantity $\\theta$. In order to get the best average of all measurements we can minimize the $\\chi^2$:\n",
    "\\begin{equation}\n",
    "  \\chi^2 = \\sum_i^N \\left( \\frac{y_i - \\theta}{\\sigma_i} \\right)^2 \\,.\n",
    "\\end{equation}\n",
    "\n",
    "Taking the derivative:\n",
    "\\begin{equation}\n",
    "  \\frac{\\partial \\chi^2}{\\partial \\theta} = -2 \\sum_i^N \\frac{y_i - \\theta}{\\sigma_i^2} \\,.\n",
    "\\end{equation}\n",
    "\n",
    "Setting it to zero, we find the MLE:\n",
    "\\begin{equation}\n",
    "  \\widehat{\\theta} = \\frac{\\sum_i^N \\frac{y_i}{\\sigma_i^2}}{\\sum_i^n \\frac{1}{\\sigma_i^2}} \\,.\n",
    "\\end{equation}\n",
    "\n",
    "And the variance after taking the second derivative:\n",
    "\\begin{equation}\n",
    "  \\sigma^2_{\\widehat{\\theta}} = \\frac{1}{\\sum_i^N \\frac{1}{\\sigma_i^2}} \\,.\n",
    "\\end{equation}\n",
    "\n",
    "We note that the smaller the error on a measurement, the larger its importance on the average value."
   ]
  },
  {
   "cell_type": "markdown",
   "metadata": {},
   "source": [
    "#### Correlated measurements\n",
    "\n",
    "Let us suppose that we have correlated measurements instead, with the correlation between data points $i$ and $j$ described by the covariance matrix $V_{ij}$. The $\\chi^2$ would be given by:\n",
    "\n",
    "\\begin{equation}\n",
    "  \\chi^2 = \\sum_{i}^N \\sum_{j}^N (y_i - \\theta) V^{-1}_{ij} (y_j - \\theta) \\,.\n",
    "\\end{equation}\n",
    "\n",
    "Similarly as before, the MLE is a linear function of the measurements:\n",
    "Setting it to zero, we find the MLE:\n",
    "\n",
    "\\begin{equation}\n",
    "  \\widehat{\\theta} = \\sum_i^N w_i y_i \\,,\n",
    "\\end{equation}\n",
    "\n",
    "and its variance:\n",
    "\n",
    "\\begin{equation}\n",
    "  \\sigma^2_{\\widehat{\\theta}} = \\sum_i^N \\sum_j^N w_i V_{ij} w_j \\,.\n",
    "\\end{equation}\n",
    "\n",
    "The weights are given by:\n",
    "\n",
    "\\begin{equation}\n",
    "  w_i = \\frac{\\sum_{j}^N V^{-1}_{ij}}{\\sum_k^N \\sum_l^N V^{-1}_{kl}} \\,,\n",
    "\\end{equation}\n",
    "\n",
    "with the condition that the sum of all weights must be equal to unity: $\\sum_i^N w_i = 1$.\n",
    "\n",
    "Let us consider the case of two correlated measurements with the following covariance matrix:\n",
    "\n",
    "\\begin{equation}\n",
    "  V_{ij} = \n",
    "  \\begin{pmatrix}\n",
    "    \\sigma_1^2 & \\rho \\sigma_1 \\sigma_2 \\\\\n",
    "    \\rho \\sigma_1 \\sigma_2 & \\sigma_2\n",
    "  \\end{pmatrix} \\,.\n",
    "\\end{equation}\n",
    "\n",
    "The inverse of the covariance matrix has an easy solution:\n",
    "\n",
    "\\begin{equation}\n",
    "  V_{ij}^{-1} = \\frac{1}{1-\\rho^2}\n",
    "  \\begin{pmatrix}\n",
    "    \\frac{1}{\\sigma_1^2} & \\frac{-\\rho}{\\sigma_1 \\sigma_2} \\\\\n",
    "    \\frac{-\\rho}{\\sigma_1 \\sigma_2} & \\frac{1}{\\sigma_2}\n",
    "  \\end{pmatrix} \\,.\n",
    "\\end{equation}\n",
    "\n",
    "From this we can calculate the weights:\n",
    "\n",
    "\\begin{equation}\n",
    "  w_1 = \\frac{\\frac{1}{\\sigma_1^2} - \\frac{\\rho}{\\sigma_1 \\sigma_2}}{\\frac{1}{\\sigma_1^2} + \\frac{1}{\\sigma_2^2} - 2 \\frac{\\rho}{\\sigma_1 \\sigma_2}} \\,,\n",
    "\\end{equation}\n",
    "and\n",
    "\\begin{equation}\n",
    "  w_2 = 1 - w_1 \\,.\n",
    "\\end{equation}\n",
    "\n",
    "The variance is given by:\n",
    "\n",
    "\\begin{equation}\n",
    "  \\sigma^2_{\\widehat{\\theta}} = \\frac{(1-\\rho^2) \\sigma_1^2 \\sigma_2^2}{\\sigma_1^2 + \\sigma_2^2 - 2 \\rho \\sigma_1 \\sigma_2} \\,.\n",
    "\\end{equation}\n",
    "\n",
    "This correlation can lead to some rather unexpected result in the case $\\rho > \\frac{\\sigma_1}{\\sigma_2}$. In which case the weight becomes negative and the weighted average does not lie between the two individual values!\n",
    "\n",
    "This method of combining data is known as the **best linear unbiased estimator** (BLUE)."
   ]
  },
  {
   "cell_type": "markdown",
   "metadata": {},
   "source": [
    "### 5.2.6 Other topics\n",
    "\n",
    "We will not see them in this course, but other topics of interest are:\n",
    "\n",
    "- Least squares with boundary conditions (using Lagrange multipliers)\n",
    "- Least squares of binned data"
   ]
  },
  {
   "cell_type": "markdown",
   "metadata": {},
   "source": [
    "<div class=\"well\" align=\"center\">\n",
    "    <div class=\"container-fluid\">\n",
    "        <div class=\"row\">\n",
    "            <div class=\"col-md-3\" align=\"center\">\n",
    "                <img align=\"center\" alt=\"Creative Commons License\" style=\"border-width:0\" src=\"https://i.creativecommons.org/l/by-nc-sa/4.0/88x31.png\" width=\"60%\">\n",
    "            </div>\n",
    "            <div class=\"col-md-8\">\n",
    "            This work is licensed under a <a href=\"http://creativecommons.org/licenses/by-nc-sa/4.0/\">Creative Commons Attribution-NonCommercial-ShareAlike 4.0 International License</a>).\n",
    "            </div>\n",
    "        </div>\n",
    "    </div>\n",
    "    <br>\n",
    "    <br>\n",
    "    <i>Note: The content of this Jupyter Notebook is provided for educational purposes only.</i>\n",
    "</div>"
   ]
  }
 ],
 "metadata": {
  "kernelspec": {
   "display_name": "Python 3",
   "language": "python",
   "name": "python3"
  },
  "language_info": {
   "codemirror_mode": {
    "name": "ipython",
    "version": 3
   },
   "file_extension": ".py",
   "mimetype": "text/x-python",
   "name": "python",
   "nbconvert_exporter": "python",
   "pygments_lexer": "ipython3",
   "version": "3.8.3"
  },
  "latex_envs": {
   "LaTeX_envs_menu_present": true,
   "autocomplete": true,
   "bibliofile": "biblio.bib",
   "cite_by": "apalike",
   "current_citInitial": 1,
   "eqLabelWithNumbers": true,
   "eqNumInitial": 1,
   "hotkeys": {
    "equation": "Ctrl-E",
    "itemize": "Ctrl-I"
   },
   "labels_anchors": false,
   "latex_user_defs": false,
   "report_style_numbering": false,
   "user_envs_cfg": false
  }
 },
 "nbformat": 4,
 "nbformat_minor": 4
}
