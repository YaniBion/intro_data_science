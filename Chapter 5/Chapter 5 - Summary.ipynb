{
 "cells": [
  {
   "cell_type": "code",
   "execution_count": 1,
   "metadata": {},
   "outputs": [
    {
     "data": {
      "text/html": [
       "<style>.container { width:95% !important; }</style>"
      ],
      "text/plain": [
       "<IPython.core.display.HTML object>"
      ]
     },
     "metadata": {},
     "output_type": "display_data"
    },
    {
     "data": {
      "text/html": [
       "<link href=\"https://fonts.googleapis.com/css?family=Fira+Sans:300,300i,600,600i\" rel=\"stylesheet\">\n",
       "<link href=\"https://fonts.googleapis.com/css?family=Inconsolata\" rel=\"stylesheet\">\n",
       "<link href=\"https://fonts.googleapis.com/css?family=Titillium+Web:400,400i,700,700i\" rel=\"stylesheet\">\n",
       "\n",
       "\n",
       "<style>\n",
       "\n",
       ".text_cell_render p {\n",
       "font-style: regular;\n",
       "font-family: 'Fira Sans', sans-serif;\n",
       "display: block;\n",
       "text-align: justify;\n",
       "}\n",
       "/*font-weight: 200;*/\n",
       "/*text-align: left;\n",
       "line-height: 100%;\n",
       "display: block;\n",
       "}*/\n",
       "a {\n",
       "color:#377bb5;\n",
       "}\n",
       ".text_cell_render h1 {\n",
       "/*font-size: 24pt;*/\n",
       "font-family: 'Titillium Web', sans-serif;\n",
       "font-weight: bold;\n",
       "margin-bottom: 0.1em;\n",
       "margin-top: 0.5em;\n",
       "color:#4a4a4a;\n",
       "}\n",
       ".text_cell_render h2 {\n",
       "/*font-size: 21pt;*/\n",
       "    font-family: 'Titillium Web', sans-serif;\n",
       "margin-bottom: 0.1em;\n",
       "margin-top: 0.3em;\n",
       "color:#595959;\n",
       "}\n",
       ".text_cell_render h3 {\n",
       "    font-family: 'Titillium Web', sans-serif;\n",
       "/*font-size: 19pt;*/\n",
       "margin-bottom: 0.1em;\n",
       "margin-top: 0.3em;\n",
       "color:#595959;\n",
       "}\n",
       ".text_cell_render h4 {\n",
       "    font-family: 'Titillium Web', sans-serif;\n",
       "/*font-size: 17pt;*/\n",
       "margin-bottom: 0.1em;\n",
       "margin-top: 0.3em;\n",
       "color:#595959;\n",
       "}\n",
       ".text_cell_render h5 {\n",
       "    font-family: 'Titillium Web', sans-serif;\n",
       "/*font-size: 15pt;*/\n",
       "margin-bottom: 0.1em;\n",
       "margin-top: 0.3em;\n",
       "color:#595959;\n",
       "}\n",
       "div.text_cell_render{\n",
       "font-style: regular;\n",
       "font-family: 'Fira Sans', sans-serif;\n",
       "line-height: 120%;\n",
       "font-size: 100%;\n",
       "font-weight: 400;\n",
       "text-align: justify;\n",
       "margin-left:0em;\n",
       "margin-right:0em;\n",
       "}\n",
       "code {\n",
       "font-family: 'Inconsolata', monospace;\n",
       "}\n",
       "pre {\n",
       "font-family: 'Inconsolata', monospace;\n",
       "}\n",
       "\n",
       "div.example {\n",
       "    font-family: 'Titillium Web', sans-serif;\n",
       "/*font-size: 15pt;*/\n",
       "font-weight: bold;\n",
       "font-variant: small-caps;\n",
       "text-decoration: underline;\n",
       "margin-bottom: 0.1em;\n",
       "margin-top: 0.3em;\n",
       "color:#595959;\n",
       "}\n",
       "\n",
       "div.queue {\n",
       "font-size: x-large;\n",
       "font-variant: small-caps;\n",
       "font-family: 'Titillium Web', sans-serif;\n",
       "font-weight: bold;\n",
       "/*margin-bottom: 0.1em;*/\n",
       "/*margin-top: 0.5em;*/\n",
       "margin: 10px;\n",
       "padding: 10px;\n",
       "color:#cc0000;\n",
       "border-style: solid none solid none;\n",
       "border-width: 2px;\n",
       "border-color:#cc0000;\n",
       "border-spacing: 10px;\n",
       "}\n",
       "\n",
       ".reveal h1 {\n",
       "font-family: 'Titillium Web', sans-serif;\n",
       "/*font-size: 24pt;*/\n",
       "font-weight: bold;\n",
       "margin-bottom: 0.1em;\n",
       "margin-top: 0.5em;\n",
       "color:#4a4a4a;\n",
       "}\n",
       ".reveal h2 {\n",
       "font-family: 'Titillium Web', sans-serif;\n",
       "/*font-size: 24pt;*/\n",
       "font-weight: bold;\n",
       "margin-bottom: 0.1em;\n",
       "margin-top: 0.5em;\n",
       "color:#595959;\n",
       "}\n",
       ".reveal h3 {\n",
       "font-family: 'Titillium Web', sans-serif;\n",
       "/*font-size: 24pt;*/\n",
       "font-weight: bold;\n",
       "margin-bottom: 0.1em;\n",
       "margin-top: 0.5em;\n",
       "color:#595959;\n",
       "}\n",
       ".reveal h4 {\n",
       "font-family: 'Titillium Web', sans-serif;\n",
       "font-weight: bold;\n",
       "margin-bottom: 0.1em;\n",
       "margin-top: 0.5em;\n",
       "color:#595959;\n",
       "}\n",
       ".reveal div.text_cell_render{\n",
       "line-height: 120%;\n",
       "font-size: 74%;\n",
       "font-weight: 400;\n",
       "text-align: justify;\n",
       "margin-left:0em;\n",
       "margin-right:0em;\n",
       "}\n",
       ".reveal .code_cell {\n",
       "    font-size: 92%;\n",
       "}\n",
       ".reveal code {\n",
       "font-family: 'Inconsolata', monospace;\n",
       "}\n",
       ".reveal pre {\n",
       "font-family: 'Inconsolata', monospace;\n",
       "}\n",
       "\n",
       ".CodeMirror{\n",
       "font-family: \"Inconsolata\", monospace;\n",
       "}\n",
       "\n",
       "</style>"
      ],
      "text/plain": [
       "<IPython.core.display.HTML object>"
      ]
     },
     "execution_count": 1,
     "metadata": {},
     "output_type": "execute_result"
    }
   ],
   "source": [
    "## Import required Python modules\n",
    "%matplotlib inline\n",
    "import matplotlib.pyplot as plt\n",
    "import numpy as np\n",
    "import scipy, scipy.stats\n",
    "import io\n",
    "import base64\n",
    "#from IPython.core.display import display\n",
    "from IPython.display import display, HTML, Image\n",
    "from urllib.request import urlopen\n",
    "\n",
    "try:\n",
    "    import astropy as apy\n",
    "    import astropy.table\n",
    "    _apy = True\n",
    "    #print('Loaded astropy')\n",
    "except:\n",
    "    _apy = False\n",
    "    #print('Could not load astropy')\n",
    "\n",
    "## Customising the font size of figures\n",
    "plt.rcParams.update({'font.size': 14})\n",
    "\n",
    "## Customising the look of the notebook\n",
    "display(HTML(\"<style>.container { width:95% !important; }</style>\"))\n",
    "## This custom file is adapted from https://github.com/lmarti/jupyter_custom/blob/master/custom.include\n",
    "HTML('custom.css')\n",
    "#HTML(urlopen('https://raw.githubusercontent.com/bretonr/intro_data_science/master/custom.css').read().decode('utf-8'))"
   ]
  },
  {
   "cell_type": "code",
   "execution_count": 2,
   "metadata": {
    "scrolled": true
   },
   "outputs": [
    {
     "data": {
      "text/html": [
       "<script>\n",
       "code_show=true;\n",
       "function code_toggle() {\n",
       " if (code_show){\n",
       " $('div.input').hide();\n",
       " } else {\n",
       " $('div.input').show();\n",
       " }\n",
       " code_show = !code_show\n",
       "} \n",
       "$( document ).ready(code_toggle);\n",
       "</script>\n",
       "<form action=\"javascript:code_toggle()\"><input type=\"submit\" value=\"Click here to toggle on/off the Python code.\"></form>"
      ],
      "text/plain": [
       "<IPython.core.display.HTML object>"
      ]
     },
     "execution_count": 2,
     "metadata": {},
     "output_type": "execute_result"
    }
   ],
   "source": [
    "## Adding a button to hide the Python source code\n",
    "HTML('''<script>\n",
    "code_show=true;\n",
    "function code_toggle() {\n",
    " if (code_show){\n",
    " $('div.input').hide();\n",
    " } else {\n",
    " $('div.input').show();\n",
    " }\n",
    " code_show = !code_show\n",
    "} \n",
    "$( document ).ready(code_toggle);\n",
    "</script>\n",
    "<form action=\"javascript:code_toggle()\"><input type=\"submit\" value=\"Click here to toggle on/off the Python code.\"></form>''')"
   ]
  },
  {
   "cell_type": "markdown",
   "metadata": {},
   "source": [
    "<div class=\"container-fluid\">\n",
    "    <div class=\"row\">\n",
    "        <div class=\"col-md-8\" align=\"center\">\n",
    "            <h1>PHYS 10791: Introduction to Data Science</h1>\n",
    "            <!--<h3>2019-2020 Academic Year</h3><br>-->\n",
    "        </div>\n",
    "        <div class=\"col-md-3\">\n",
    "            <img align='center' style=\"border-width:0\" src=\"images/UoM_logo.png\"/>\n",
    "        </div>\n",
    "    </div>\n",
    "</div>\n",
    "\n",
    "<div class=\"container-fluid\">\n",
    "    <div class=\"row\">\n",
    "        <div class=\"col-md-2\" align=\"right\">\n",
    "            <b>Course instructors:&nbsp;&nbsp;</b>\n",
    "        </div>\n",
    "        <div class=\"col-md-9\" align=\"left\">\n",
    "            <a href=\"http://www.renebreton.org\">Prof. Rene Breton</a> - Twitter <a href=\"https://twitter.com/BretonRene\">@BretonRene</a><br>\n",
    "            <a href=\"http://www.hep.manchester.ac.uk/u/gersabec\">Dr. Marco Gersabeck</a> - Twitter <a href=\"https://twitter.com/MarcoGersabeck\">@MarcoGersabeck</a>\n",
    "        </div>\n",
    "    </div>\n",
    "</div>"
   ]
  },
  {
   "cell_type": "markdown",
   "metadata": {},
   "source": [
    "# Chapter 5 - Summary"
   ]
  },
  {
   "cell_type": "markdown",
   "metadata": {},
   "source": [
    "## 5.1 Bayesian inference - Part 2"
   ]
  },
  {
   "cell_type": "markdown",
   "metadata": {},
   "source": [
    "### 5.1.1 Combining results"
   ]
  },
  {
   "cell_type": "markdown",
   "metadata": {},
   "source": [
    "The joint probability of two independent events is equal to the product of their probabilities. Can be done analytically if the MAP (or MLE) can be written in a closed form, but often requires to be evaluated numerically (at multiple points of the distribution)."
   ]
  },
  {
   "cell_type": "markdown",
   "metadata": {},
   "source": [
    "### 5.1.2 On the use of priors"
   ]
  },
  {
   "cell_type": "markdown",
   "metadata": {},
   "source": [
    "An alternative way of combining results is to use the posterior probability distribution of one 'experiment' as the prior probability for the second experiment. They are mathematically interchangeable operations.<br><br>\n",
    "\n",
    "##### Recall\n",
    "The prior probability function should always be normalised. We have seen 'flat priors' (i.e. constant within a range) and 'improper priors' (i.e. not possible to normalise)."
   ]
  },
  {
   "cell_type": "markdown",
   "metadata": {},
   "source": [
    "## 5.2 Least square"
   ]
  },
  {
   "cell_type": "markdown",
   "metadata": {},
   "source": [
    "### 5.2.1 Least square derivation"
   ]
  },
  {
   "cell_type": "markdown",
   "metadata": {},
   "source": [
    "In the previous chapter we have investigated the maximum a posteriori and maximum likelihood for general distributions. We will now focus on a particular case, that of a Gaussian likelihood distribution, as it is one of the most useful of all.\n",
    "\n",
    "Consider two quantities, $(x_i,y_i)$, which are respectively the independent and dependent variables related to a certain measurement. A precision $\\sigma_i$ denotes the Gaussian deviation of $y_i$ with respect to the true value, which can be mapped from $x$ using a function, $f(x;\\theta)$, that depends on some unknown parameters, $\\theta$. We can write the likelihood probability of having the observed quantity $y_i$ as:\n",
    "\n",
    "\\begin{equation}\n",
    "  \\mathcal{L}(y_i \\mid f(\\theta), \\theta, x_i, \\sigma_i) = \\frac{1}{\\sqrt{2\\pi} \\sigma_i} \\exp{\\left(-\\frac{\\left( y_i - f(x_i;\\theta) \\right)^2}{2\\sigma_i^2}\\right)}\n",
    "\\end{equation}\n",
    "\n",
    "If we assume flat priors (i.e. all parameters are equally probable), then the posterior probability of the unknown parameters $\\theta$ for $N$ such samples is:\n",
    "\n",
    "\\begin{eqnarray}\n",
    "  P(\\theta \\mid f(\\theta), y, x, \\sigma) &=& \\frac{I \\mathcal{L}(y \\mid \\theta)}{E} \\\\\n",
    "    &=& \\frac{I}{E} \\prod_i^N \\frac{1}{\\sqrt{2\\pi} \\sigma_i} \\exp{\\left(-\\frac{\\left( y_i - f(x_i;\\theta) \\right)^2}{2\\sigma_i^2}\\right)} \\,.\n",
    "\\end{eqnarray}\n",
    "\n",
    "Taking the logarithm of the posterior:\n",
    "\n",
    "\\begin{equation}\n",
    "  \\ln P(\\theta \\mid f, y, x, \\sigma) = \\ln I - \\frac{N}{2} \\ln{(2\\pi)} - \\sum_i^N \\ln \\sigma_i - \\frac{1}{2} \\sum_i^N \\frac{\\left( y_i - f(x_i;\\theta) \\right)^2}{\\sigma_i^2} - \\ln E \\,.\n",
    "\\end{equation}\n",
    "\n",
    "Because of the flat priors, we know that the MAP $\\equiv$ MLE. Also, since only the last summation term depends on $\\theta$ we can drop all additive and constant terms. In which case:\n",
    "\n",
    "\\begin{equation}\n",
    "  \\max \\left[ \\ln P(\\theta \\mid f, x_i, \\sigma_i) \\right] = \\max \\left[ -\\frac{1}{2} \\sum_i^N \\frac{\\left( y_i - f(x_i;\\theta) \\right)^2}{\\sigma_i^2} \\right] \\,.\n",
    "\\end{equation}\n",
    "\n",
    "Finally, we can recognise that maximizing this function is equivalent to minimizing:\n",
    "\n",
    "\\begin{equation}\n",
    "  \\chi^2(\\theta) = \\sum_i^N \\frac{\\left( y_i - f(x_i;\\theta) \\right)^2}{\\sigma_i^2} \\,.\n",
    "\\end{equation}\n",
    "\n",
    "We call this expression the **chi-squared**, and the procedure is recognised as the **method of least squares**. It is a very universal result: thanks to the central limit theorem the probability of having some experimental data given a model will tend to be distributed as a Gaussian.\n",
    "\n",
    "In the case where errors are correlated, we can use a more general expression for the chi-squared:\n",
    "\n",
    "\\begin{equation}\n",
    "  \\chi^2(\\theta) = \\sum_i^N \\sum_j^N \\left( y_i - f(x_i;\\theta) \\right) \\left( V^{-1}_{i,j} \\right) \\left( y_j - f(x_j;\\theta) \\right) \\,,\n",
    "\\end{equation}\n",
    "where $V_{i,j}$ is the covariance matrix of the data. Note the summation indices here. If we use matrix notation, we can rewrite this expression as:\n",
    "\n",
    "\\begin{equation}\n",
    "  \\chi^2(\\theta) = \\left( \\underline{y} - \\underline{f} \\right)^T \\underline{\\underline{V}}^{-1} \\left( \\underline{y} - \\underline{f} \\right) \\,,\n",
    "\\end{equation}\n",
    "\n",
    "For the chi-squared, the minimum variance bound can be written:\n",
    "\n",
    "\\begin{eqnarray}\n",
    "  \\sigma^2_\\widehat{\\theta} &\\equiv& \\left[ \\left( -\\frac{\\partial^2 \\ln \\mathcal{L}}{\\partial \\theta^2} \\right)^{-1} \\right]_\\widehat{\\theta} \\\\\n",
    "  &=& \\left[ \\left( \\frac{1}{2} \\frac{\\partial^2 \\chi^2}{\\partial \\theta^2} \\right)^{-1} \\right]_\\widehat{\\theta} \\,.\n",
    "\\end{eqnarray}\n"
   ]
  },
  {
   "cell_type": "markdown",
   "metadata": {},
   "source": [
    "### 5.2.2 Linear least squares\n",
    "\n",
    "A particularly interesting family of models in the context of least squares are those which are linear functions of the $M$ parameters $\\theta_j$:\n",
    "\n",
    "\\begin{equation}\n",
    "  f(x_i; \\theta) = \\sum_j^M A_j(x_i) \\theta_j \\,,\n",
    "\\end{equation}\n",
    "\n",
    "or\n",
    "\n",
    "\\begin{equation}\n",
    "  \\underline{f}(\\underline{x}; \\underline{\\theta}) = \\underline{\\underline{A}} \\, \\underline{\\theta} \\,,\n",
    "\\end{equation}\n",
    "with the second expression being the matrix notation.\n",
    "\n",
    "The linearity is required in the parameters $\\theta_j$ but $A_j$ could be any function of $x$. It is also worth knowing that linear least square estimators can be shown to have zero bias and minimum variance, thus making them actual 'good' estimators."
   ]
  },
  {
   "cell_type": "markdown",
   "metadata": {},
   "source": [
    "<div class=\"example\">Example 1: $f(x; m) = mx$ with constant uncertainties</div>\n",
    "\n",
    "Let us first consider one of the simplest case scenario, a simple proportion $f(x; m) = m x$ in which all measurement errors are the same. We can write the chi-squared as:\n",
    "\n",
    "\\begin{equation}\n",
    "  \\chi^2 = \\sum_i^N \\frac{(y_i - m x_i)^2}{\\sigma^2}\n",
    "\\end{equation}\n",
    "\n",
    "Differentiating with respect to $m$ gives\n",
    "\n",
    "\\begin{equation}\n",
    "  \\frac{\\partial \\chi^2}{\\partial m} = \\sum_i^N \\left[ -2 x_i \\frac{(y_i - m x_i)}{\\sigma^2} \\right]\n",
    "\\end{equation}\n",
    "\n",
    "The MLE estimator can therefore be found:\n",
    "\n",
    "\\begin{eqnarray}\n",
    "  \\sum_i^N (x_i y_i - \\widehat{m} x_i^2) = 0 \\\\\n",
    "  \\sum_i^N x_i y_i = \\widehat{m} \\sum_i^N x_i^2 \\,.\n",
    "\\end{eqnarray}\n",
    "\n",
    "Dividing by $N$ on both side to obtain averages yield:\n",
    "\n",
    "\\begin{equation}\n",
    "  \\widehat{m} = \\frac{\\langle xy \\rangle}{\\langle x^2 \\rangle}\n",
    "\\end{equation}\n",
    "\n",
    "The variance is found from the inverse of the MVB:\n",
    "\n",
    "\\begin{eqnarray}\n",
    "  \\sigma^2_{\\widehat{m}} &=& \\left( \\frac{1}{2} \\frac{\\partial^2 \\chi^2}{\\partial m^2} \\right)^{-1} \\\\\n",
    "  &=& \\left( \\frac{\\sum_i^N x_i^2}{\\sigma^2} \\right)^{-1} \\\\\n",
    "  &=& \\frac{\\sigma^2}{N \\langle x^2 \\rangle} \\,.\n",
    "\\end{eqnarray}"
   ]
  },
  {
   "cell_type": "markdown",
   "metadata": {},
   "source": [
    "#### Matrix formulation of linear least squares\n",
    "\n",
    "In general the linear least squares involves solving $M$ equations for the $M$ individual $\\theta$ parameters with $N$ observed data points. Recalling the chi-squared definition:\n",
    "\n",
    "\\begin{equation}\n",
    "  \\chi^2(\\theta) = \\sum_i^N \\frac{\\left( y_i - \\sum_j^M A_j(x_i) \\theta_j) \\right)^2}{\\sigma_i^2} \\,.\n",
    "\\end{equation}\n",
    "\n",
    "Differentiating with respect to $\\theta_j$ and setting to zero:\n",
    "\n",
    "\\begin{equation}\n",
    "  \\sum_i^N A_j(x_i) \\frac{\\left( y_i - \\sum_j^M A_j(x) \\theta_j) \\right)}{\\sigma_i^2} = 0 \\,.\n",
    "\\end{equation}\n",
    "\n",
    "This system of $M$ equations above are called the _'normal equations'_.\n",
    "\n",
    "If we write the chi-squared derivative in terms of matrix formulation, with $\\sigma_i^2$ generalising to the covariance matrix of the uncertainties, $V_{ij}$:\n",
    "\n",
    "\\begin{equation}\n",
    "  \\underline{\\underline{A}}^T \\underline{\\underline{V}}^{-1} \\underline{\\underline{A}} \\widehat{\\underline{\\theta}} - \\underline{\\underline{A}}^T \\underline{\\underline{V}}^{-1} \\underline{y} = 0 \\,.\n",
    "\\end{equation}\n",
    "\n",
    "Solving for $\\widehat{\\underline{\\theta}}$:\n",
    "\n",
    "\\begin{equation}\n",
    "  \\widehat{\\underline{\\theta}} = (\\underline{\\underline{A}}^T \\underline{\\underline{V}}^{-1} \\underline{\\underline{A}})^{-1} \\underline{\\underline{A}}^T \\underline{\\underline{V}}^{-1} \\underline{y} \\,.\n",
    "\\end{equation}\n",
    "\n",
    "And similarly the covariance matrix of the best-fit parameters $\\widehat{\\underline{\\theta}}$ can be written as:\n",
    "\n",
    "\\begin{equation}\n",
    "  \\underline{\\underline{\\Sigma}}_\\widehat{\\underline{\\theta}} = \\left( \\underline{\\underline{A}}^T \\underline{\\underline{V}}^{-1} \\underline{\\underline{A}} \\right)^{-1} \\,.\n",
    "\\end{equation}"
   ]
  },
  {
   "cell_type": "markdown",
   "metadata": {},
   "source": [
    "### 5.2.3 Chi-square distribution\n",
    "\n",
    "We have defined the chi-squared earlier as a quantity but did not elaborate further on its meaning. It is in fact a statistical probability distribution which corresponds to the sum of the squares of $k$ independent standard normal random variables (i.e. having $\\mu = 0$ and $\\sigma = 1$). The PDF is given by:\n",
    "\n",
    "\\begin{equation}\n",
    "  \\chi^2_k \\equiv f(x;\\,k) =\n",
    "  \\begin{cases}\n",
    "    \\dfrac{x^{\\frac k 2 -1} e^{-\\frac x 2}}{2^{\\frac k 2} \\Gamma\\left(\\frac k 2 \\right)},  & x > 0; \\\\ 0, & \\text{otherwise}.\n",
    "  \\end{cases}\n",
    "\\end{equation}\n",
    "\n",
    "We refer to $k$ as the numbers of degrees of freedom, also known as _dof_. For a data sample containing $N$ independent point $k = N - M$, where $M$ is the number of parameters in the model (which reduce the number of degrees of freedom).\n",
    "\n",
    "The mean of a $\\chi^2_k$ is $k$ and its variance is $2k$.\n",
    "\n",
    "Thanks to the Central Limit Theorem, at large $k$ ($\\approx 30$), the chi-squared distribution becomes very close to a Gaussian.\n",
    "\n",
    "Another relevant property of the chi-squared distribution is that the sum of two independent chi-squared, $\\chi^2_{k_1}$ and $\\chi^2_{k_2}$, is also chi-squared distributed with $k_1 + k_2$ degrees of freedom, $\\chi^2_{k_1+k_2}$. When multiplying likelihoods to combine data, or adding the log-likelihood, we add the chi-squared and the result preserves its chi-squared property. We will see more about chi-squared in the chapter on the goodness of fit tests.\n",
    "\n",
    "Below is a view of the distribution for different numbers of degrees of freedom."
   ]
  },
  {
   "cell_type": "code",
   "execution_count": 4,
   "metadata": {},
   "outputs": [
    {
     "data": {
      "image/png": "[encoded data removed]",
      "text/plain": [
       "<Figure size 864x576 with 1 Axes>"
      ]
     },
     "metadata": {
      "needs_background": "light"
     },
     "output_type": "display_data"
    }
   ],
   "source": [
    "## Displaying the chi2 distribution for different numbers of freedom\n",
    "x = np.linspace(0,10,101)\n",
    "dof = [1,2,3,4,6,9]\n",
    "\n",
    "fig, ax = plt.subplots(figsize=(12,8))\n",
    "for dof_ in dof:\n",
    "    chi2 = scipy.stats.chi2.pdf(x, dof_)\n",
    "    ax.plot(x, chi2, linewidth=3, label='k={}'.format(dof_))\n",
    "\n",
    "ax.legend()\n",
    "ax.set_title('$\\chi^2_k$')\n",
    "ax.set_xlabel('x')\n",
    "ax.set_ylabel('P(x; k)')\n",
    "ax.set_xlim(0, 10)\n",
    "ax.set_ylim(0, 0.5);"
   ]
  },
  {
   "cell_type": "markdown",
   "metadata": {},
   "source": [
    "### 5.2.4 Non-linear least squares\n",
    "\n",
    "In the case of a model $f(x; \\theta)$ which is a non-linear function of $\\theta$ (e.g. $e^{\\theta x}$, $\\sin{(\\theta x)}$) there is in general no analytic solution to solve the $M$ equations for each of the parameters in $\\theta$. The MLE must be computed numerically."
   ]
  },
  {
   "cell_type": "markdown",
   "metadata": {},
   "source": [
    "<div class=\"well\" align=\"center\">\n",
    "    <div class=\"container-fluid\">\n",
    "        <div class=\"row\">\n",
    "            <div class=\"col-md-3\" align=\"center\">\n",
    "                <img align=\"center\" alt=\"Creative Commons License\" style=\"border-width:0\" src=\"https://i.creativecommons.org/l/by-nc-sa/4.0/88x31.png\" width=\"60%\">\n",
    "            </div>\n",
    "            <div class=\"col-md-8\">\n",
    "            This work is licensed under a <a href=\"http://creativecommons.org/licenses/by-nc-sa/4.0/\">Creative Commons Attribution-NonCommercial-ShareAlike 4.0 International License</a>).\n",
    "            </div>\n",
    "        </div>\n",
    "    </div>\n",
    "    <br>\n",
    "    <br>\n",
    "    <i>Note: The content of this Jupyter Notebook is provided for educational purposes only.</i>\n",
    "</div>"
   ]
  }
 ],
 "metadata": {
  "kernelspec": {
   "display_name": "Python 3",
   "language": "python",
   "name": "python3"
  },
  "language_info": {
   "codemirror_mode": {
    "name": "ipython",
    "version": 3
   },
   "file_extension": ".py",
   "mimetype": "text/x-python",
   "name": "python",
   "nbconvert_exporter": "python",
   "pygments_lexer": "ipython3",
   "version": "3.8.3"
  },
  "latex_envs": {
   "LaTeX_envs_menu_present": true,
   "autocomplete": true,
   "bibliofile": "biblio.bib",
   "cite_by": "apalike",
   "current_citInitial": 1,
   "eqLabelWithNumbers": true,
   "eqNumInitial": 1,
   "hotkeys": {
    "equation": "Ctrl-E",
    "itemize": "Ctrl-I"
   },
   "labels_anchors": false,
   "latex_user_defs": false,
   "report_style_numbering": false,
   "user_envs_cfg": false
  }
 },
 "nbformat": 4,
 "nbformat_minor": 4
}
