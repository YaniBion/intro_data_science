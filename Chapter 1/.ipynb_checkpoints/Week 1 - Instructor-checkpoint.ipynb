{
 "cells": [
  {
   "cell_type": "code",
   "execution_count": 1,
   "metadata": {
    "scrolled": true
   },
   "outputs": [
    {
     "data": {
      "text/html": [
       "<link href=\"https://fonts.googleapis.com/css?family=Fira+Sans:300,300i,600,600i\" rel=\"stylesheet\">\n",
       "<link href=\"https://fonts.googleapis.com/css?family=Inconsolata\" rel=\"stylesheet\">\n",
       "<link href=\"https://fonts.googleapis.com/css?family=Titillium+Web:400,400i,700,700i\" rel=\"stylesheet\">\n",
       "\n",
       "\n",
       "<style>\n",
       "\n",
       ".text_cell_render p {\n",
       "font-style: regular;\n",
       "font-family: 'Fira Sans', sans-serif;\n",
       "display: block;\n",
       "text-align: justify;\n",
       "}\n",
       "/*font-weight: 200;*/\n",
       "/*text-align: left;\n",
       "line-height: 100%;\n",
       "display: block;\n",
       "}*/\n",
       "a {\n",
       "color:#377bb5;\n",
       "}\n",
       ".text_cell_render h1 {\n",
       "/*font-size: 24pt;*/\n",
       "font-family: 'Titillium Web', sans-serif;\n",
       "font-weight: bold;\n",
       "margin-bottom: 0.1em;\n",
       "margin-top: 0.5em;\n",
       "color:#4a4a4a;\n",
       "}\n",
       ".text_cell_render h2 {\n",
       "/*font-size: 21pt;*/\n",
       "    font-family: 'Titillium Web', sans-serif;\n",
       "margin-bottom: 0.1em;\n",
       "margin-top: 0.3em;\n",
       "color:#595959;\n",
       "}\n",
       ".text_cell_render h3 {\n",
       "    font-family: 'Titillium Web', sans-serif;\n",
       "/*font-size: 19pt;*/\n",
       "margin-bottom: 0.1em;\n",
       "margin-top: 0.3em;\n",
       "color:#595959;\n",
       "}\n",
       ".text_cell_render h4 {\n",
       "    font-family: 'Titillium Web', sans-serif;\n",
       "/*font-size: 17pt;*/\n",
       "margin-bottom: 0.1em;\n",
       "margin-top: 0.3em;\n",
       "color:#595959;\n",
       "}\n",
       ".text_cell_render h5 {\n",
       "    font-family: 'Titillium Web', sans-serif;\n",
       "/*font-size: 15pt;*/\n",
       "margin-bottom: 0.1em;\n",
       "margin-top: 0.3em;\n",
       "color:#595959;\n",
       "}\n",
       "div.text_cell_render{\n",
       "font-style: regular;\n",
       "font-family: 'Fira Sans', sans-serif;\n",
       "line-height: 120%;\n",
       "font-size: 100%;\n",
       "font-weight: 400;\n",
       "text-align: justify;\n",
       "margin-left:0em;\n",
       "margin-right:0em;\n",
       "}\n",
       "code {\n",
       "font-family: 'Inconsolata', monospace;\n",
       "}\n",
       "pre {\n",
       "font-family: 'Inconsolata', monospace;\n",
       "}\n",
       "\n",
       "div.example {\n",
       "    font-family: 'Titillium Web', sans-serif;\n",
       "/*font-size: 15pt;*/\n",
       "font-weight: bold;\n",
       "font-variant: small-caps;\n",
       "text-decoration: underline;\n",
       "margin-bottom: 0.1em;\n",
       "margin-top: 0.3em;\n",
       "color:#595959;\n",
       "}\n",
       "\n",
       "div.queue {\n",
       "font-size: x-large;\n",
       "font-variant: small-caps;\n",
       "font-family: 'Titillium Web', sans-serif;\n",
       "font-weight: bold;\n",
       "/*margin-bottom: 0.1em;*/\n",
       "/*margin-top: 0.5em;*/\n",
       "margin: 10px;\n",
       "padding: 10px;\n",
       "color:#cc0000;\n",
       "border-style: solid none solid none;\n",
       "border-width: 2px;\n",
       "border-color:#cc0000;\n",
       "border-spacing: 10px;\n",
       "}\n",
       "\n",
       ".reveal h1 {\n",
       "font-family: 'Titillium Web', sans-serif;\n",
       "/*font-size: 24pt;*/\n",
       "font-weight: bold;\n",
       "margin-bottom: 0.1em;\n",
       "margin-top: 0.5em;\n",
       "color:#4a4a4a;\n",
       "}\n",
       ".reveal h2 {\n",
       "font-family: 'Titillium Web', sans-serif;\n",
       "/*font-size: 24pt;*/\n",
       "font-weight: bold;\n",
       "margin-bottom: 0.1em;\n",
       "margin-top: 0.5em;\n",
       "color:#595959;\n",
       "}\n",
       ".reveal h3 {\n",
       "font-family: 'Titillium Web', sans-serif;\n",
       "/*font-size: 24pt;*/\n",
       "font-weight: bold;\n",
       "margin-bottom: 0.1em;\n",
       "margin-top: 0.5em;\n",
       "color:#595959;\n",
       "}\n",
       ".reveal h4 {\n",
       "font-family: 'Titillium Web', sans-serif;\n",
       "font-weight: bold;\n",
       "margin-bottom: 0.1em;\n",
       "margin-top: 0.5em;\n",
       "color:#595959;\n",
       "}\n",
       ".reveal div.text_cell_render{\n",
       "line-height: 120%;\n",
       "font-size: 74%;\n",
       "font-weight: 400;\n",
       "text-align: justify;\n",
       "margin-left:0em;\n",
       "margin-right:0em;\n",
       "}\n",
       ".reveal .code_cell {\n",
       "    font-size: 92%;\n",
       "}\n",
       ".reveal code {\n",
       "font-family: 'Inconsolata', monospace;\n",
       "}\n",
       ".reveal pre {\n",
       "font-family: 'Inconsolata', monospace;\n",
       "}\n",
       "\n",
       ".CodeMirror{\n",
       "font-family: \"Inconsolata\", monospace;\n",
       "}\n",
       "\n",
       "</style>"
      ],
      "text/plain": [
       "<IPython.core.display.HTML object>"
      ]
     },
     "execution_count": 1,
     "metadata": {},
     "output_type": "execute_result"
    }
   ],
   "source": [
    "## Import required Python modules\n",
    "%matplotlib inline\n",
    "import matplotlib.pyplot as plt\n",
    "import numpy as np\n",
    "import scipy, scipy.stats\n",
    "import io\n",
    "import base64\n",
    "from IPython.display import HTML, Image\n",
    "from urllib.request import urlopen\n",
    "\n",
    "try:\n",
    "    import astropy as apy\n",
    "    import astropy.table\n",
    "    _apy = True\n",
    "    #print('Loaded astropy')\n",
    "except:\n",
    "    _apy = False\n",
    "    #print('Could not load astropy')\n",
    "\n",
    "## Customising the font size of figures\n",
    "plt.rcParams.update({'font.size': 14})\n",
    "\n",
    "## Customising the look of the notebook\n",
    "## This custom file is adapted from https://github.com/lmarti/jupyter_custom/blob/master/custom.include\n",
    "HTML('custom.css')\n",
    "#HTML(urlopen('https://raw.githubusercontent.com/bretonr/intro_data_science/master/custom.css').read().decode('utf-8'))"
   ]
  },
  {
   "cell_type": "code",
   "execution_count": 2,
   "metadata": {},
   "outputs": [
    {
     "data": {
      "text/html": [
       "<script>\n",
       "code_show=true;\n",
       "function code_toggle() {\n",
       " if (code_show){\n",
       " $('div.input').hide();\n",
       " } else {\n",
       " $('div.input').show();\n",
       " }\n",
       " code_show = !code_show\n",
       "} \n",
       "$( document ).ready(code_toggle);\n",
       "</script>\n",
       "<form action=\"javascript:code_toggle()\"><input type=\"submit\" value=\"Click here to toggle on/off the Python code.\"></form>"
      ],
      "text/plain": [
       "<IPython.core.display.HTML object>"
      ]
     },
     "execution_count": 2,
     "metadata": {},
     "output_type": "execute_result"
    }
   ],
   "source": [
    "## Adding a button to hide the Python source code\n",
    "HTML('''<script>\n",
    "code_show=true;\n",
    "function code_toggle() {\n",
    " if (code_show){\n",
    " $('div.input').hide();\n",
    " } else {\n",
    " $('div.input').show();\n",
    " }\n",
    " code_show = !code_show\n",
    "} \n",
    "$( document ).ready(code_toggle);\n",
    "</script>\n",
    "<form action=\"javascript:code_toggle()\"><input type=\"submit\" value=\"Click here to toggle on/off the Python code.\"></form>''')"
   ]
  },
  {
   "cell_type": "markdown",
   "metadata": {},
   "source": [
    "<div class=\"container-fluid\">\n",
    "    <div class=\"row\">\n",
    "        <div class=\"col-md-8\" align=\"center\">\n",
    "            <h1>PHYS 10792: Introduction to Data Science</h1>\n",
    "            <h3>2018-2019 Academic Year</h3><br>\n",
    "        </div>\n",
    "        <div class=\"col-md-3\">\n",
    "            <img align='center' style=\"border-width:0\" src=\"images/UoM_logo.png\"/>\n",
    "        </div>\n",
    "    </div>\n",
    "</div>\n",
    "\n",
    "<div class=\"container-fluid\">\n",
    "    <div class=\"row\">\n",
    "        <div class=\"col-md-2\" align=\"right\">\n",
    "            <b>Course instructors:&nbsp;&nbsp;</b>\n",
    "        </div>\n",
    "        <div class=\"col-md-9\" align=\"left\">\n",
    "            <a href=\"http://www.renebreton.org\">Rene Breton</a> - Twitter <a href=\"https://twitter.com/BretonRene\">@BretonRene</a><br>\n",
    "            <a href=\"http://www.hep.manchester.ac.uk/u/gersabec\">Marco Gersabeck</a> - Twitter <a href=\"https://twitter.com/MarcoGersabeck\">@MarcoGersabeck</a>\n",
    "        </div>\n",
    "    </div>\n",
    "</div>"
   ]
  },
  {
   "cell_type": "markdown",
   "metadata": {},
   "source": [
    "<div class=\"queue\">\n",
    "    Lecture 1 - 00:00    --    Cover syllabus and general admin stuff first\n",
    "</div>"
   ]
  },
  {
   "cell_type": "markdown",
   "metadata": {},
   "source": [
    "## 1.1 Probabilities and Interpretation"
   ]
  },
  {
   "cell_type": "markdown",
   "metadata": {},
   "source": [
    "### 1.1.1 Statistics and probabilities\n"
   ]
  },
  {
   "cell_type": "markdown",
   "metadata": {},
   "source": [
    "#### Context\n",
    "\n",
    "*Statistics is a tool*. [Barlow]\n",
    "\n",
    "Statistics and data analysis form the building blocks of **data science**."
   ]
  },
  {
   "cell_type": "markdown",
   "metadata": {},
   "source": [
    "<div class=\"queue\">\n",
    "    Lecture 1 - 00:10    --    Present on computer\n",
    "</div>"
   ]
  },
  {
   "cell_type": "markdown",
   "metadata": {},
   "source": [
    "### Case study: Cancer research breakthrough\n",
    "\n",
    "New interesting development for the detection of cancer.\n",
    "\n",
    "\n",
    "<table>\n",
    "<tr>\n",
    "    <td>BBC Report</td>\n",
    "    <td>Article in Science</td>\n",
    "</tr>\n",
    "<tr>\n",
    "    <td width=\"40%\" style=\"vertical-align: top\"><img src=\"images/cancerBBC.screen.png\"></td>\n",
    "    <td width=\"40%\" style=\"vertical-align: top\"><img src=\"images/cancerScience.screen.png\"> <br><br> <div style=\"text-align: center\">BBC QR Code</div><img src=\"images/cancerBBC.qrcode.png\"> <br><br><br> <div style=\"text-align: center\">Science QR Code</div><img src=\"images/cancerScience.qrcode.png\"></td>\n",
    "</tr>\n",
    "<tr>\n",
    "    <td>Source: <a href=\"http://www.bbc.co.uk/news/health-42736764\">BBC</a></td>\n",
    "    <td>Source: <a href=\"http://science.sciencemag.org/content/early/2018/01/17/science.aar3247\">Science</a></td>\n",
    "</tr>\n",
    "</table>\n",
    "\n",
    "This is a genuinely great development for cancer research: this new test can find one of eight types of difficult to detect cancers 70% of the time.\n",
    "\n",
    "There is however some caution to exercise here. What might be the issues with the reported news? Here are the most important points:\n",
    "1. From the article (main body) we learn that 70% success rate is the median success rate of the study. The success rate for Stage I, Stage II and Stage III cancers are 43%, 73% and 78%, respectively.\n",
    "2. From the article (abstract) we learn that the specificity (i.e. false positive rate) of the test is 99.14%.\n",
    "\n",
    "The latter implies that a healthy (non-cancerous) adult tested for most of their adult life (40 years) would have a 29% chance of being tested positive. How did we get this?\n",
    "\n",
    "> We want to calculate the chance of not getting a false positive in 40 years.\n",
    "\n",
    "> The chance of not being controlled as false positive in one year is $0.9914$. This means that the chance of not being controlled as false positive after 40 years is the product of the probabilities for each year: $0.9914^{40}$.\n",
    "\n",
    "> Finally, the chance of getting a false positive after 40 years is $1 - 0.9914^{40} = 0.29$.\n",
    "\n",
    "We can therefore see that if the entire population we subjected to systematic testing through this method, a lot of people would receive the bad news, while further testing would reveal they do not have cancer after all. This is not all bad news; this just means that before rolling out this test in such a way the specificity would need to be improved.\n",
    "\n",
    "```\n",
    "News outlets, for good and bad reasons, tend to truncate some of the details of a story.\n",
    "Always look at the original sources and check the maths.\n",
    "```"
   ]
  },
  {
   "cell_type": "markdown",
   "metadata": {},
   "source": [
    "<div class=\"queue\">\n",
    "    Lecture 1 - 00:20\n",
    "</div>"
   ]
  },
  {
   "cell_type": "markdown",
   "metadata": {},
   "source": [
    "## 1.2 Basics of presentation of data"
   ]
  },
  {
   "cell_type": "markdown",
   "metadata": {},
   "source": [
    "### 1.2.1 Data presentation"
   ]
  },
  {
   "cell_type": "markdown",
   "metadata": {},
   "source": [
    "#### Description of data\n",
    "\n",
    "Two types of data:\n",
    "- Qualitative / non-numeric: e.g. food preference\n",
    "- Quantitative / numeric: e.g. length of an object\n",
    "\n",
    "Quantitative data divided into two types:\n",
    "- Discrete: e.g. number of photons detected\n",
    "- Continuous: e.g. mass of galaxies"
   ]
  },
  {
   "cell_type": "markdown",
   "metadata": {},
   "source": [
    "<div class=\"queue\">\n",
    "    Lecture 1 - 00:25    --    Present on computer\n",
    "</div>"
   ]
  },
  {
   "cell_type": "markdown",
   "metadata": {},
   "source": [
    "#### Data visualisation\n",
    "Datasets, especially when large, are difficult to make sense in their raw format directly (i.e. a large collection of numbers). One way of organising and making sense of them is through data visualisation.\n",
    "\n",
    "```\n",
    "One should never use data blindly and try as much as possible to visualise data.\n",
    "```\n",
    "\n",
    "It is beyond the scope of this course to look in details into various visualisation methods. For modern ways of visualising data, we would recommend the following references:\n",
    "- [Matplotlib's Example Gallery](https://matplotlib.org/gallery/index.html): Matplotlib is the go-to plotting package for Python. It contains a rich gallery of examples which includes the source code and data to generate each plot.\n",
    "- [Seaborn's Example Gallery](https://seaborn.pydata.org/examples/index.html): Seaborn is a Python visualisation library based on matplotlib. It provides a high-level interface for drawing attractive statistical graphics.\n",
    "- [Ten Simple Rules for Better Figures](https://doi.org/10.1371/journal.pcbi.1003833): An article about good practices for data visualisation.\n",
    "- [Ten guidelines for effective data visualization in scientific publications](https://doi.org/10.1016/j.envsoft.2010.12.006): A great article by Christa Kelleher and Thorsten Wagener about the dos and don'ts of data visualisation.\n",
    "\n",
    "\n",
    "##### *Ten guidelines for effective data visualization in scientific publications*\n",
    "This subsection follows from the paper by [Kelleher & Wagener (2012)](https://doi.org/10.1016/j.envsoft.2010.12.006).\n",
    "\n",
    "1. Create the simplest graph that conveys the information you want to convey\n",
    "2. Consider the type of encoding object and attribute used to create a plot\n",
    "3. Focus on visualizing patterns or on visualizing details, depending on the purpose of the plot\n",
    "4. Select meaningful axis ranges\n",
    "5. Data transformations and carefully chosen graph aspect ratios can be used to emphasize rates of change for time-series data\n",
    "6. Plot overlapping points in a way that density differences become apparent in scatter plots\n",
    "7. Use lines when connecting sequential data in time-series plots\n",
    "8. Aggregate larger datasets in meaningful ways\n",
    "9. Keep axis ranges as similar as possible to compare variables\n",
    "10. Select an appropriate color scheme based on the type of data\n",
    "\n",
    "<table>\n",
    "<tr>\n",
    "<td style=\"vertical-align: top\"><img src=\"images/1-s2.0-S1364815210003270-gr1a.jpg\" width=\"90%\" ></td> \n",
    "<td style=\"vertical-align: top\"><img src=\"images/1-s2.0-S1364815210003270-gr1b.jpg\" width=\"90%\" ></td>\n",
    "</tr>\n",
    "</table>\n",
    "\n",
    "(Source of the figure: [Kelleher & Wagener (2012)](https://doi.org/10.1016/j.envsoft.2010.12.006))"
   ]
  },
  {
   "cell_type": "markdown",
   "metadata": {},
   "source": [
    "<div class=\"queue\">\n",
    "    Lecture 1 - 00:35\n",
    "</div>"
   ]
  },
  {
   "cell_type": "markdown",
   "metadata": {},
   "source": [
    "### 1.2.2 Measures of central tendency\n",
    "\n",
    "To describe data with a single value, central tendency is probably the most useful quantity.\n",
    "\n",
    "We define a dataset containing N elements as:\n",
    "\n",
    "\\begin{equation}\n",
    "  S = \\{x_1, x_2, x_3,...,x_N\\}\n",
    "\\end{equation}"
   ]
  },
  {
   "cell_type": "code",
   "execution_count": 3,
   "metadata": {},
   "outputs": [
    {
     "name": "stdout",
     "output_type": "stream",
     "text": [
      "Example dataset\n",
      "x = {4, 1, 3, 9, 5, 4, 4, 6, 2, 4, 7, 7, 4, 3, 2}\n",
      "\n",
      "Binned data:\n",
      "value:  0, 1, 2, 3, 4, 5, 6, 7, 8, 9\n",
      "weight: 0, 1, 2, 2, 5, 1, 1, 2, 0, 1\n"
     ]
    },
    {
     "data": {
      "image/png": "[encoded data removed]",
      "text/plain": [
       "<Figure size 720x432 with 1 Axes>"
      ]
     },
     "metadata": {},
     "output_type": "display_data"
    }
   ],
   "source": [
    "## Define a set of data\n",
    "#x = np.random.poisson(4, size=15)\n",
    "x = np.array([4, 1, 3, 9, 5, 4, 4, 6, 2, 4, 7, 7, 4, 3, 2])\n",
    "print('Example dataset')\n",
    "print('x = {' + ', '.join(['{}'.format(xi) for xi in x]) + '}')\n",
    "\n",
    "fig,ax = plt.subplots(figsize=[10,6])\n",
    "weights, bins, patches = ax.hist(x, range=[0,10], bins=10, align='left')\n",
    "weights = weights.astype(int)\n",
    "bins = bins[:-1].astype(int)\n",
    "ax.set_xlabel('Value')\n",
    "ax.set_ylabel('Count')\n",
    "ax.set_xlim([0,10]);\n",
    "\n",
    "print('')\n",
    "print('Binned data:')\n",
    "print('value:  ' + ', '.join(['{}'.format(b) for b in bins]))\n",
    "print('weight: ' + ', '.join(['{}'.format(w) for w in weights]))"
   ]
  },
  {
   "cell_type": "markdown",
   "metadata": {},
   "source": [
    "#### Arithmetic mean\n",
    "\n",
    "Also referred to only as mean, is:\n",
    "\n",
    "\\begin{equation}\n",
    "  \\langle x \\rangle = \\frac{1}{N} \\sum_{i=1}^{N} x_i \\,.\n",
    "\\end{equation}\n",
    "\n",
    "Mmean of a function $f(x)$ is:\n",
    "\n",
    "\\begin{equation}\n",
    "  \\langle f \\rangle = \\frac{1}{N} \\sum_{i=1}^{N} f(x_i) \\,.\n",
    "\\end{equation}\n",
    "\n",
    "For inned data containing $J$ bins each with value $x_j$ and containing $n_j$ elements:\n",
    "\n",
    "\\begin{equation}\n",
    "  \\langle x \\rangle = \\frac{1}{N} \\sum_{j=1}^{J} n_j x_j \\,,\n",
    "\\end{equation}\n",
    "\n",
    "\\begin{equation}\n",
    "  \\langle f \\rangle = \\frac{1}{N} \\sum_{j=1}^{J} n_j f(x_j) \\,.\n",
    "\\end{equation}\n",
    "\n",
    "_In the continuous case, these summations would turn into integrals._"
   ]
  },
  {
   "cell_type": "markdown",
   "metadata": {},
   "source": [
    "<div class=\"example\">Example 1</div>\n",
    "\n",
    "The unbinned arithmetic mean is:\n",
    "\n",
    "\\begin{equation}\n",
    "  \\langle x \\rangle = \\frac{1}{15} \\left( 4 + 1 + \\dots + 2 \\right) = 4.333\n",
    "\\end{equation}\n",
    "\n",
    "With the binned data:\n",
    "\n",
    "\\begin{equation}\n",
    "  \\langle x \\rangle = \\frac{1}{15} \\left( 0 \\cdot 0 + 1 \\cdot 1 + \\dots + 1 \\cdot 9  \\right) = 4.333\n",
    "\\end{equation}"
   ]
  },
  {
   "cell_type": "markdown",
   "metadata": {},
   "source": [
    "<div class=\"queue\">\n",
    "    Lecture 1 - 00:42\n",
    "</div>"
   ]
  },
  {
   "cell_type": "markdown",
   "metadata": {},
   "source": [
    "#### Geometric mean\n",
    "\n",
    "\\begin{equation}\n",
    "  {\\rm GM} = \\left( \\prod_{i=1}^{N} x_i \\right)^{\\frac{1}{N}}\n",
    "\\end{equation}\n",
    "\n",
    "Can be visualised as the hyper-area equal of an N-dimension parallelogram.\n",
    "\n",
    "Also referred to log-average:\n",
    "\n",
    "\\begin{equation}\n",
    "  {\\rm GM} = \\left( \\prod_{i=1}^{N} x_i \\right)^{\\frac{1}{N}} = \\exp \\left[ \\frac{1}{N} \\sum_{i=1}^{N} \\ln x_i \\right]\n",
    "\\end{equation}\n",
    "\n",
    "_**Note:**_ More numerically stable.\n",
    "\n",
    "_Example application 1:_ Particularly useful in Bayesian statistics."
   ]
  },
  {
   "cell_type": "markdown",
   "metadata": {},
   "source": [
    "<div class=\"example\">Example 1</div>\n",
    "\n",
    "With the above dataset. The geometric mean is:\n",
    "\n",
    "\\begin{equation}\n",
    "  {\\rm GM} = \\left( 4 \\cdot 1 \\cdot 3 \\dots \\cdot 2 \\right)^{1/15} = 3.795\n",
    "\\end{equation}"
   ]
  },
  {
   "cell_type": "markdown",
   "metadata": {},
   "source": [
    "#### Harmonic mean\n",
    "\n",
    "\\begin{equation}\n",
    "  H = \\frac{N}{\\sum_{i=1}^{N} \\frac{1}{x_i}}\n",
    "\\end{equation}\n",
    "\n",
    "Dominated by the minimum value and is only little affected by the large values. In fact:\n",
    "\n",
    "\\begin{equation}\n",
    "  \\min(x_1,...,x_N) \\leq H \\leq N \\min(x_1,...,x_N) .\n",
    "\\end{equation}\n",
    "\n",
    "*Example application 1:* Useful with rates and ratios such as resistance of a parallel circuit made of resistors."
   ]
  },
  {
   "cell_type": "markdown",
   "metadata": {},
   "source": [
    "<div class=\"example\">Example 1</div>\n",
    "\n",
    "\\begin{equation}\n",
    "  H = \\frac{15}{\\left( 1/4 + 1/1 + 1/3 \\dots + 1/2 \\right)} = 3.205\n",
    "\\end{equation}"
   ]
  },
  {
   "cell_type": "markdown",
   "metadata": {},
   "source": [
    "#### Root mean square\n",
    "\n",
    "\\begin{equation}\n",
    "  {\\rm RMS} = \\sqrt{\\frac{\\sum_{i=1}^{N} x_i^2}{N}}\n",
    "\\end{equation}\n",
    "\n",
    "*Example application 1:* Calculate average of quantities that oscillate over time, e.g. average voltage of AC circuit."
   ]
  },
  {
   "cell_type": "markdown",
   "metadata": {},
   "source": [
    "<div class=\"example\">Example 1</div>\n",
    "\n",
    "\\begin{equation}\n",
    "  {\\rm RMS} = \\sqrt{\\frac{4^2 + 1^2 + 3^2 + \\dots + 2^2}{15}} = 0.949\n",
    "\\end{equation}"
   ]
  },
  {
   "cell_type": "markdown",
   "metadata": {},
   "source": [
    "<div class=\"queue\">\n",
    "    Lecture 2 - 00:00\n",
    "</div>"
   ]
  },
  {
   "cell_type": "markdown",
   "metadata": {},
   "source": [
    "#### Median\n",
    "\n",
    "Value separating upper half of a dataset from lower half when ordered.\n",
    "\n",
    "- Discrete dataset with odd number of elements: median is middle value.\n",
    "- Discrete dataset with even number of elements: median is average of the two middle values.\n",
    "- Continuous distribution: median is value such that probability of being above or below is equal.\n",
    "\n",
    "Extremely useful quantity when analysing data containing outliers.\n",
    "\n",
    "*Example application:* Household income is better indicator of wealth of a population than mean household due to heavy tail."
   ]
  },
  {
   "cell_type": "markdown",
   "metadata": {},
   "source": [
    "<div class=\"example\">Example 1</div>\n",
    "\n",
    "The sorted dataset is:\n",
    "\n",
    "x = {1, 2, 2, 3, 3, 4, 4, 4, 4, 4, 5, 6, 7, 7, 9}\n",
    "\n",
    "15 elements, so odd value.\n",
    "\n",
    "median = 4"
   ]
  },
  {
   "cell_type": "markdown",
   "metadata": {},
   "source": [
    "<div class=\"example\">Example 2</div>\n",
    "\n",
    "What would be the median of:\n",
    "\n",
    "a = {1,3,4,5,7,8}\n",
    "\n",
    "Answer: 4.5 (i.e. average of 4 and 5)"
   ]
  },
  {
   "cell_type": "markdown",
   "metadata": {},
   "source": [
    "<div class=\"example\">Example 3</div>\n",
    "\n",
    "Let $f(x) = \\sin x$ in interval $x \\in [0,\\pi]$:\n",
    "\n",
    "\\begin{equation}\n",
    "    \\int_0^\\pi \\sin x \\, {\\rm d}x = -\\cos x \\, \\Big|_0^\\pi = 2\n",
    "\\end{equation}\n",
    "\n",
    "Therefore, the median is:\n",
    "\n",
    "\\begin{eqnarray}\n",
    "    \\int_0^{x_{\\rm med}} \\sin x \\, {\\rm d}x &=& 2 / 2 \\\\\n",
    "    -\\cos x_{\\rm med} + 1 &=& 1 \\\\\n",
    "    x_{\\rm med} &=& \\pi/2\n",
    "\\end{eqnarray}"
   ]
  },
  {
   "cell_type": "markdown",
   "metadata": {},
   "source": [
    "<div class=\"queue\">\n",
    "    Lecture 2 - 00:05\n",
    "</div>"
   ]
  },
  {
   "cell_type": "markdown",
   "metadata": {},
   "source": [
    "#### Mode\n",
    "\n",
    "value where probability distribution reaches a maximum. (For discrete dataset, value that appears most often.)\n",
    "\n",
    "- Analytic distribution: gradient of function equal to zero\n",
    "- Non-analytic distribution: can be found by looking at an histogram. (Careful with binning...) Pearson approximation: mode $\\approx$ 3 $\\times$ median - 2 $\\times$ mean.\n",
    "\n",
    "*Example application:* Most likely position of an electron around a nucleus."
   ]
  },
  {
   "cell_type": "markdown",
   "metadata": {},
   "source": [
    "<div class=\"example\">Example 1</div>\n",
    "\n",
    "With above dataset: histogram peaks at 4.\n",
    "\n",
    "Pearson's approximation:\n",
    "\n",
    "\\begin{equation}\n",
    "    3 \\cdot 4.0 - 2 \\cdot 4.33 = 3.33\n",
    "\\end{equation}"
   ]
  },
  {
   "cell_type": "markdown",
   "metadata": {},
   "source": [
    "<div class=\"example\">Example 2</div>\n",
    "\n",
    "For  by $f(x) = \\sin x$ in the interval $x \\in [0,\\pi]$, mode is:\n",
    "\n",
    "\\begin{eqnarray}\n",
    "    \\frac{\\partial \\sin x}{\\partial x} \\Big|_{x_{\\rm mod}} &=& 0 \\\\\n",
    "    x_{\\rm mod} = \\pi/2\n",
    "\\end{eqnarray}"
   ]
  },
  {
   "cell_type": "markdown",
   "metadata": {},
   "source": [
    "Below is a comparison of the arithmetic mean, median and mode for two distributions having the same median.\n",
    "\n",
    "<img src=\"images/Comparison_mean_median_mode.svg\" width=\"50%\">\n",
    "\n",
    "(Source: [Cmglee](https://commons.wikimedia.org/wiki/User:Cmglee), [Comparison mean median mode](https://commons.wikimedia.org/wiki/File:Comparison_mean_median_mode.svg), [CC BY-SA 3.0](https://creativecommons.org/licenses/by-sa/3.0/legalcode))"
   ]
  },
  {
   "cell_type": "markdown",
   "metadata": {},
   "source": [
    "<div class=\"queue\">\n",
    "    Lecture 2 - 00:10\n",
    "</div>"
   ]
  },
  {
   "cell_type": "markdown",
   "metadata": {},
   "source": [
    "### 1.2.3 Measures of dispersion\n",
    "\n",
    "Characterises the spread of a dataset."
   ]
  },
  {
   "cell_type": "markdown",
   "metadata": {},
   "source": [
    "#### Variance and standard deviation\n",
    "\n",
    "*Variance*:\n",
    "\n",
    "\\begin{equation}\n",
    "  V(x) = \\frac{1}{N} \\sum_{i=1}^N (x_i - \\mu)^2 \\,,\n",
    "\\end{equation}\n",
    "\n",
    "where $\\mu$ is the true mean of the distribution.\n",
    "\n",
    "*Standard deviation* has the same units as data:\n",
    "\n",
    "\\begin{equation}\n",
    "  \\sigma = \\sqrt{V(x)} = \\sqrt{ \\frac{1}{N} \\sum_{i=1}^N (x_i - \\mu)^2 } \\,.\n",
    "\\end{equation}\n",
    "\n",
    "Often, mean of distribution is unknown. Calculate mean from sample dataset, $\\langle x \\rangle$. Distinguish between **population variance**, $V(x)$ (above), and **sample variance**, $s^2$ (below):\n",
    "\n",
    "\\begin{equation}\n",
    "  s^2_{\\rm uncorr} = \\frac{1}{N} \\sum_{i=1}^N (x_i - \\langle x \\rangle)^2 \\,.\n",
    "\\end{equation}\n",
    "\n",
    "When mean calculated from sample dataset, normalise by a factor $N-1$ instead of $N$ to account for bias in calculating the mean:\n",
    "\n",
    "\\begin{equation}\n",
    "  s^2_{\\rm corr} = \\frac{1}{N-1} \\sum_{i=1}^N (x_i - \\langle x \\rangle)^2 \\,.\n",
    "\\end{equation}\n",
    "\n",
    "Definition with $N-1$ factor: **corrected/unbiased sample variance**\n",
    "\n",
    "Definition with $N$ factor: **uncorrected/biased sample variance**"
   ]
  },
  {
   "cell_type": "markdown",
   "metadata": {},
   "source": [
    "<div class=\"example\">Example 1</div>\n",
    "\n",
    "With the above dataset\n",
    "\n",
    "\\begin{equation}\n",
    "    s^2_{\\rm uncorr} = 4.356\n",
    "\\end{equation}\n",
    "\n",
    "\\begin{equation}\n",
    "    s^2_{\\rm corr} = 4.667\n",
    "\\end{equation}"
   ]
  },
  {
   "cell_type": "markdown",
   "metadata": {},
   "source": [
    "#### Mean absolute deviation\n",
    "\n",
    "\\begin{equation}\n",
    "  {\\rm MAD} = \\frac{1}{N} \\sum_{i=1}^N \\left| x_i - \\langle x \\rangle \\right|\n",
    "\\end{equation}\n",
    "\n",
    "More robust to outliers."
   ]
  },
  {
   "cell_type": "markdown",
   "metadata": {},
   "source": [
    "<div class=\"example\">Example 1</div>\n",
    "\n",
    "\\begin{equation}\n",
    "  {\\rm MAD} = \\frac{1}{15} \\left( \\left| 4 - 4.33 \\right| + \\left| 1 - 4.33 \\right| + \\dots + \\left| 2 - 4.33 \\right| \\right)\n",
    "\\end{equation}"
   ]
  },
  {
   "cell_type": "markdown",
   "metadata": {},
   "source": [
    "<div class=\"queue\">\n",
    "    Lecture 2 - 00:20\n",
    "</div>"
   ]
  },
  {
   "cell_type": "markdown",
   "metadata": {},
   "source": [
    "### 1.2.4 Other indicators"
   ]
  },
  {
   "cell_type": "markdown",
   "metadata": {},
   "source": [
    "#### Skewness\n",
    "\n",
    "Measures the asymmetry. AKA third standardised moment:\n",
    "\n",
    "\\begin{equation}\n",
    "  \\gamma = \\frac{1}{\\sigma^3} \\langle \\left(x_i - \\langle x \\rangle \\right)^3 \\rangle = \\frac{1}{N \\sigma^3} \\sum_{i=1}^N (x_i - \\langle x \\rangle)^3\n",
    "\\end{equation}\n",
    "\n",
    "Negative implies longer tail to the left. Positive implies the opposite behaviour.\n",
    "\n",
    "<img src=\"images/Negative_and_positive_skew_diagrams_(English).svg\" width=\"75%\">\n",
    "\n",
    "(Source: [Rodolfo Hermans (Godot)](https://en.wikipedia.org/wiki/User:Rodolfo_Hermans), [Negative and positive skew diagrams (English)](https://commons.wikimedia.org/wiki/File:Negative_and_positive_skew_diagrams_%28English%29.svg), [CC BY-SA 3.0](https://creativecommons.org/licenses/by-sa/3.0/legalcode))"
   ]
  },
  {
   "cell_type": "markdown",
   "metadata": {},
   "source": [
    "<div class=\"example\">Example 1</div>\n",
    "\n",
    "\\begin{equation}\n",
    "    \\gamma = 0.566\n",
    "\\end{equation}"
   ]
  },
  {
   "cell_type": "markdown",
   "metadata": {},
   "source": [
    "#### Kurtosis\n",
    "\n",
    "The *kurtosis* measures 'tailedness':\n",
    "\n",
    "\\begin{equation}\n",
    "  \\kappa = \\frac{1}{\\sigma^4} \\langle \\left(x_i - \\langle x \\rangle \\right)^4 \\rangle - 3 = \\frac{1}{N \\sigma^4} \\sum_{i=1}^N (x_i - \\langle x \\rangle)^4 - 3\n",
    "\\end{equation}\n",
    "\n",
    "Positive kurtosis implies more concentrated around the mean. Negative kurtosis implies more spread in the tails.\n",
    "\n",
    "<img src=\"images/Standard_symmetric_pdfs.png\" width=\"50%\">\n",
    "\n",
    "(Source: [MarkSweep](https://commons.wikimedia.org/wiki/User:MarkSweep), [Standard symmetric pdfs](https://commons.wikimedia.org/wiki/File:Standard_symmetric_pdfs.png), [Wikimedia Commons](https://commons.wikimedia.org/wiki/Template:PD-self))"
   ]
  },
  {
   "cell_type": "markdown",
   "metadata": {},
   "source": [
    "<div class=\"example\">Example 1</div>\n",
    "\n",
    "\\begin{equation}\n",
    "    \\kappa = 0.566\n",
    "\\end{equation}"
   ]
  },
  {
   "cell_type": "markdown",
   "metadata": {},
   "source": [
    "<div class=\"queue\">\n",
    "    Lecture 2 - 00:30\n",
    "</div>"
   ]
  },
  {
   "cell_type": "markdown",
   "metadata": {},
   "source": [
    "### 1.2.5 Multiple variable"
   ]
  },
  {
   "cell_type": "code",
   "execution_count": 18,
   "metadata": {},
   "outputs": [
    {
     "name": "stdout",
     "output_type": "stream",
     "text": [
      "Example dataset\n",
      "x = { 0.0, -1.9, -0.4, -1.4, -2.0,  1.9, -1.7,  1.2, -1.5,  0.6, -1.3, -1.5, -0.1, -0.6,  0.1}\n",
      "y = {-2.0, -1.2, -0.2, -1.1, -1.5,  1.5, -1.2,  0.4, -1.7, -0.8, -0.3, -1.0,  0.3, -0.9,  0.0}\n",
      "z = { 1.1,  0.6, -0.1, -0.5,  1.7,  0.1,  0.5, -2.2,  1.6,  0.7,  0.5, -0.1,  1.0, -0.3, -0.4}\n"
     ]
    },
    {
     "data": {
      "image/png": "[encoded data removed]",
      "text/plain": [
       "<Figure size 1152x432 with 2 Axes>"
      ]
     },
     "metadata": {},
     "output_type": "display_data"
    }
   ],
   "source": [
    "## Define a set of data\n",
    "#tmp = np.random.multivariate_normal([0.,0.], [[1.,0.7],[0.7,1.]], size=15)\n",
    "#x, y = np.round(tmp, 1).T\n",
    "#z = np.random.normal(size=15)\n",
    "#z = np.round(z, 1)\n",
    "x = np.array([ 0.0, -1.9, -0.4, -1.4, -2.0, 1.9, -1.7,  1.2, -1.5,  0.6, -1.3, -1.5, -0.1, -0.6, 0.1])\n",
    "y = np.array([-2.0, -1.2, -0.2, -1.1, -1.5, 1.5, -1.2,  0.4, -1.7, -0.8, -0.3, -1.0,  0.3, -0.9, 0.0])\n",
    "z = np.array([ 1.1,  0.6, -0.1, -0.5,  1.7, 0.1,  0.5, -2.2,  1.6,  0.7,  0.5, -0.1,  1.0, -0.3, -0.4])\n",
    "print('Example dataset')\n",
    "print('x = {' + ', '.join(['{: }'.format(xi) for xi in x]) + '}')\n",
    "print('y = {' + ', '.join(['{: }'.format(yi) for yi in y]) + '}')\n",
    "print('z = {' + ', '.join(['{: }'.format(zi) for zi in z]) + '}')\n",
    "\n",
    "fig,ax = plt.subplots(1, 2, figsize=[16,6])\n",
    "_ = ax[0].plot(x, y, '.')\n",
    "ax[0].set_xlabel('x')\n",
    "ax[0].set_ylabel('y')\n",
    "_ = ax[1].plot(x, z, '.')\n",
    "ax[1].set_xlabel('x')\n",
    "ax[1].set_ylabel('z');"
   ]
  },
  {
   "cell_type": "markdown",
   "metadata": {},
   "source": [
    "#### Covariance\n",
    "\n",
    "Measure of joint variability of two random variables.Extension of variance.\n",
    "\n",
    "\\begin{equation}\n",
    "  \\operatorname{cov}(x,y) = \\frac{1}{N} \\sum_{i=1}^N (x_i - \\langle x \\rangle)(y_i - \\langle y \\rangle)\n",
    "\\end{equation}"
   ]
  },
  {
   "cell_type": "markdown",
   "metadata": {},
   "source": [
    "<div class=\"example\">Example 1</div>\n",
    "\n",
    "\\begin{eqnarray}\n",
    "    && \\langle x \\rangle = -0.573 \\\\\n",
    "    && \\langle y \\rangle = -0.646 \\\\\n",
    "    && \\langle z \\rangle =  0.28\n",
    "\\end{eqnarray}\n",
    "\n",
    "Therefore:\n",
    "\n",
    "\\begin{eqnarray}\n",
    "  \\operatorname{cov}(x,y) &=& \\frac{1}{15} \\Big( (0+0.573)(-2+0.646) + (-1.9+0.573)(-1.2+0.646) + \\dots \\Big) \\\\\n",
    "  &=& 0.745\n",
    "\\end{eqnarray}\n",
    "\n",
    "\\begin{eqnarray}\n",
    "  \\operatorname{cov}(x,z) &=& -0.475\n",
    "\\end{eqnarray}\n",
    "\n",
    "\\begin{eqnarray}\n",
    "  \\operatorname{cov}(y,z) &=& -0.418\n",
    "\\end{eqnarray}"
   ]
  },
  {
   "cell_type": "markdown",
   "metadata": {},
   "source": [
    "#### Correlation\n",
    "\n",
    "Covariance has dimensions $[x][y]$. *Correlation* is dimensionless and morepractical:\n",
    "\n",
    "\\begin{equation}\n",
    "  \\rho = \\frac{\\operatorname{cov}(x,y)}{\\sigma_x \\sigma_y}\n",
    "\\end{equation}\n",
    "\n",
    "Value between -1 and +1.\n",
    "\n",
    "**Only mention below**\n",
    "1. The correlation is not affected by the mean value of data points (i.e. it is translation invariant).\n",
    "2. The correlation reflects the coupling between the two quantities, but is independent of the slope due to the normalisation by the standard deviations (i.e. it is scale invariant). (Note the the middle figure has an undefined correlation due to $\\sigma_y = 0$.)\n",
    "3. The correlation does not capture nonlinear coupling between the parameters.\n",
    "\n",
    "<img src=\"images/1024px-Correlation_examples2.svg.png\" width=\"75%\">\n",
    "\n",
    "(Source: [DenisBoigelot](https://commons.wikimedia.org/wiki/User:DenisBoigelot), [Correlation examples2](https://commons.wikimedia.org/wiki/File:Correlation_examples2.svg), [CC0 1.0](https://creativecommons.org/publicdomain/zero/1.0/legalcode))"
   ]
  },
  {
   "cell_type": "markdown",
   "metadata": {},
   "source": [
    "<div class=\"example\">Example 1</div>\n",
    "\n",
    "\\begin{eqnarray}\n",
    "    && \\sigma_x = 1.145 \\\\\n",
    "    && \\sigma_y = 0.896 \\\\\n",
    "    && \\sigma_z = 0.938\n",
    "\\end{eqnarray}\n",
    "\n",
    "Using the above results:\n",
    "\n",
    "\\begin{eqnarray}\n",
    "  \\rho_{(x,y)} &=& \\frac{0.745}{1.145 \\cdot 0.896} \\\\\n",
    "  &=& 0.726\n",
    "\\end{eqnarray}\n",
    "\n",
    "\\begin{eqnarray}\n",
    "  \\rho_{(x,z)} &=& -0.443\n",
    "\\end{eqnarray}\n",
    "\n",
    "\\begin{eqnarray}\n",
    "  \\rho_{(y,z)} &=& -0.498\n",
    "\\end{eqnarray}"
   ]
  },
  {
   "cell_type": "markdown",
   "metadata": {},
   "source": [
    "<div class=\"queue\">\n",
    "    Lecture 2 - 00:40\n",
    "</div>"
   ]
  },
  {
   "cell_type": "markdown",
   "metadata": {},
   "source": [
    "#### Covariance matrix\n",
    "\n",
    "Handy way to represent combination of covariance in multiple dimensions.\n",
    "\n",
    "\\begin{equation}\n",
    "  \\Sigma = \n",
    "  \\begin{bmatrix}\n",
    "    \\operatorname{cov}(X_1,X_1) & \\operatorname{cov}(X_1,X_2) & \\operatorname{cov}(X_1,X_3) & \\dots  & \\operatorname{cov}(X_1,X_n) \\\\\n",
    "    \\operatorname{cov}(X_2,X_1) & \\operatorname{cov}(X_2,X_2) & \\operatorname{cov}(X_2,X_3) & \\dots  & \\operatorname{cov}(X_2,X_n) \\\\\n",
    "    \\vdots       & \\vdots & \\vdots & \\ddots & \\vdots \\\\\n",
    "    \\operatorname{cov}(X_n,X_1) & \\operatorname{cov}(X_n,X_2) & \\operatorname{cov}(X_n,X_3) & \\dots  & \\operatorname{cov}(X_n,X_n)\n",
    "  \\end{bmatrix}\n",
    "\\end{equation}\n",
    "\n",
    "Always symmetric and positive-semidefinite."
   ]
  },
  {
   "cell_type": "markdown",
   "metadata": {},
   "source": [
    "<div class=\"example\">Example 1</div>\n",
    "\n",
    "With the above datasets {x, y, z}. We can simply write the covariance matrix using the previous calculations:\n",
    "\n",
    "\\begin{eqnarray}\n",
    "  \\Sigma &=& \n",
    "  \\begin{bmatrix}\n",
    "     \\sigma_x^2 & \\operatorname{cov}(x,y) & \\operatorname{cov}(x,z) \\\\\n",
    "     \\operatorname{cov}(y,x) & \\sigma_y^2 & \\operatorname{cov}(y,z) \\\\\n",
    "    \\operatorname{cov}(z,x) & \\operatorname{cov}(z,y) & \\sigma_z^2 \\\\\n",
    "  \\end{bmatrix} \\\\\n",
    "   &=& \n",
    "  \\begin{bmatrix}\n",
    "     1.311 &  0.745 & -0.475 \\\\\n",
    "     0.745 &  0.802 & -0.418 \\\\\n",
    "    -0.475 & -0.418 &  0.880 \\\\\n",
    "  \\end{bmatrix}\n",
    "\\end{eqnarray}"
   ]
  },
  {
   "cell_type": "markdown",
   "metadata": {},
   "source": [
    "<div class=\"queue\">\n",
    "    Lecture 2 - 00:45    --    Present on computer\n",
    "</div>"
   ]
  },
  {
   "cell_type": "markdown",
   "metadata": {},
   "source": [
    "### Case study: Correlation does not imply causation"
   ]
  },
  {
   "cell_type": "markdown",
   "metadata": {},
   "source": [
    "```\n",
    "In statistics, many statistical tests calculate correlations between variables and when two variables are found to be correlated, it is tempting to assume that this shows that one variable causes the other.\n",
    "```\n",
    "<div style=\"text-align: right\">(Source: <a href=\"https://en.wikipedia.org/wiki/Correlation_does_not_imply_causation\">Wikipedia</a>)</div>\n",
    "\n"
   ]
  },
  {
   "cell_type": "markdown",
   "metadata": {},
   "source": [
    "#### The ice cream and drowning classic\n",
    "\n",
    "*As ice cream sales increase, the rate of drowning deaths increases sharply.*\n",
    "\n",
    "*Therefore, ice cream consumption causes drowning.*\n",
    "\n",
    "<img src=\"images/Ice_Cream_and_Drowning_nolabels.png\" width=\"75%\">\n",
    "\n",
    "Of course, eating ice cream does not causes a higher risk of drowning. The example fails to recognise that more people are exposed to water-related activities in the hot summer months when they are also likely to eat ice cream. Here, the _two variables are correlated because they share a common cause_.\n",
    "\n",
    "The figure below provides crucial information about the hidden underlying link.\n",
    "\n",
    "<img src=\"images/Ice_Cream_and_Drowning_labels.png\" width=\"75%\">"
   ]
  },
  {
   "cell_type": "markdown",
   "metadata": {},
   "source": [
    "#### Predicting your course mark\n",
    "\n",
    "Here are data from the 2018 edition of PHYS 10792 Introduction to Data Science. There is a stricking correlation between the overall grade and the coursework grade.\n",
    "\n",
    "<img src=\"images/Assign_Exam.pdf\" width=\"65%\">\n",
    "\n",
    "Is there a causation between these two quantities? One could claim that this has to do with how 'good' your are academically. However...\n",
    "\n",
    "<img src=\"images/Grade_Missed.pdf\" width=\"65%\">\n",
    "\n",
    "The figure above shows a clear link between the overall grade and the number of missed assignments. It appears that how much you engage with the course has a strong influence on how well you do. This is a very important distinction as it has nothing to do, at least to first order, with your 'academic proficiency'."
   ]
  },
  {
   "cell_type": "markdown",
   "metadata": {},
   "source": [
    "Examples like the ice cream and drowning are everywhere and are a leading cause of 'bad science'. This is partly why we keep hearing about contradictory results in medical sciences (e.g. red wine makes you live longer vs wine reduces your life expectancy).\n",
    "\n",
    "For more information about the topic, please read:\n",
    "\n",
    "[Correlation does not imply causation](https://en.wikipedia.org/wiki/Correlation_does_not_imply_causation)\n",
    "\n",
    "[Adrian Thinnyun's Blog on Medium](https://medium.com/@athinnyun/lies-damned-lies-and-statistics-week-four-of-satellite-bootcamp-30661e77b8b8)"
   ]
  },
  {
   "cell_type": "markdown",
   "metadata": {},
   "source": [
    "<div class=\"well\" align=\"center\">\n",
    "    <div class=\"container-fluid\">\n",
    "        <div class=\"row\">\n",
    "            <div class=\"col-md-3\" align=\"center\">\n",
    "                <img align=\"center\" alt=\"Creative Commons License\" style=\"border-width:0\" src=\"https://i.creativecommons.org/l/by-nc-sa/4.0/88x31.png\" width=\"60%\">\n",
    "            </div>\n",
    "            <div class=\"col-md-8\">\n",
    "            This work is licensed under a <a href=\"http://creativecommons.org/licenses/by-nc-sa/4.0/\">Creative Commons Attribution-NonCommercial-ShareAlike 4.0 International License</a>).\n",
    "            </div>\n",
    "        </div>\n",
    "    </div>\n",
    "    <br>\n",
    "    <br>\n",
    "    <i>Note: The content of this Jupyter Notebook is provided for educational purposes only.</i>\n",
    "</div>"
   ]
  },
  {
   "cell_type": "code",
   "execution_count": null,
   "metadata": {},
   "outputs": [],
   "source": []
  }
 ],
 "metadata": {
  "celltoolbar": "Raw Cell Format",
  "kernelspec": {
   "display_name": "Python 3",
   "language": "python",
   "name": "python3"
  },
  "language_info": {
   "codemirror_mode": {
    "name": "ipython",
    "version": 3
   },
   "file_extension": ".py",
   "mimetype": "text/x-python",
   "name": "python",
   "nbconvert_exporter": "python",
   "pygments_lexer": "ipython3",
   "version": "3.6.6"
  },
  "latex_envs": {
   "LaTeX_envs_menu_present": true,
   "autocomplete": true,
   "bibliofile": "biblio.bib",
   "cite_by": "apalike",
   "current_citInitial": 1,
   "eqLabelWithNumbers": true,
   "eqNumInitial": 1,
   "hotkeys": {
    "equation": "Ctrl-E",
    "itemize": "Ctrl-I"
   },
   "labels_anchors": false,
   "latex_user_defs": false,
   "report_style_numbering": false,
   "user_envs_cfg": false
  }
 },
 "nbformat": 4,
 "nbformat_minor": 2
}
