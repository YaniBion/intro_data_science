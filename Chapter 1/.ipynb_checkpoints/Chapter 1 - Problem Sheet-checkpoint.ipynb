{
 "cells": [
  {
   "cell_type": "code",
   "execution_count": 1,
   "metadata": {
    "scrolled": true
   },
   "outputs": [
    {
     "data": {
      "text/html": [
       "<style>.container { width:95% !important; }</style>"
      ],
      "text/plain": [
       "<IPython.core.display.HTML object>"
      ]
     },
     "metadata": {},
     "output_type": "display_data"
    },
    {
     "data": {
      "text/html": [
       "<link href=\"https://fonts.googleapis.com/css?family=Fira+Sans:300,300i,600,600i\" rel=\"stylesheet\">\n",
       "<link href=\"https://fonts.googleapis.com/css?family=Inconsolata\" rel=\"stylesheet\">\n",
       "<link href=\"https://fonts.googleapis.com/css?family=Titillium+Web:400,400i,700,700i\" rel=\"stylesheet\">\n",
       "\n",
       "\n",
       "<style>\n",
       "\n",
       ".text_cell_render p {\n",
       "font-style: regular;\n",
       "font-family: 'Fira Sans', sans-serif;\n",
       "display: block;\n",
       "text-align: justify;\n",
       "}\n",
       "/*font-weight: 200;*/\n",
       "/*text-align: left;\n",
       "line-height: 100%;\n",
       "display: block;\n",
       "}*/\n",
       "a {\n",
       "color:#377bb5;\n",
       "}\n",
       ".text_cell_render h1 {\n",
       "/*font-size: 24pt;*/\n",
       "font-family: 'Titillium Web', sans-serif;\n",
       "font-weight: bold;\n",
       "margin-bottom: 0.1em;\n",
       "margin-top: 0.5em;\n",
       "color:#4a4a4a;\n",
       "}\n",
       ".text_cell_render h2 {\n",
       "/*font-size: 21pt;*/\n",
       "    font-family: 'Titillium Web', sans-serif;\n",
       "margin-bottom: 0.1em;\n",
       "margin-top: 0.3em;\n",
       "color:#595959;\n",
       "}\n",
       ".text_cell_render h3 {\n",
       "    font-family: 'Titillium Web', sans-serif;\n",
       "/*font-size: 19pt;*/\n",
       "margin-bottom: 0.1em;\n",
       "margin-top: 0.3em;\n",
       "color:#595959;\n",
       "}\n",
       ".text_cell_render h4 {\n",
       "    font-family: 'Titillium Web', sans-serif;\n",
       "/*font-size: 17pt;*/\n",
       "margin-bottom: 0.1em;\n",
       "margin-top: 0.3em;\n",
       "color:#595959;\n",
       "}\n",
       ".text_cell_render h5 {\n",
       "    font-family: 'Titillium Web', sans-serif;\n",
       "/*font-size: 15pt;*/\n",
       "margin-bottom: 0.1em;\n",
       "margin-top: 0.3em;\n",
       "color:#595959;\n",
       "}\n",
       "div.text_cell_render{\n",
       "font-style: regular;\n",
       "font-family: 'Fira Sans', sans-serif;\n",
       "line-height: 120%;\n",
       "font-size: 100%;\n",
       "font-weight: 400;\n",
       "text-align: justify;\n",
       "margin-left:0em;\n",
       "margin-right:0em;\n",
       "}\n",
       "code {\n",
       "font-family: 'Inconsolata', monospace;\n",
       "}\n",
       "pre {\n",
       "font-family: 'Inconsolata', monospace;\n",
       "}\n",
       "\n",
       "div.example {\n",
       "    font-family: 'Titillium Web', sans-serif;\n",
       "/*font-size: 15pt;*/\n",
       "font-weight: bold;\n",
       "font-variant: small-caps;\n",
       "text-decoration: underline;\n",
       "margin-bottom: 0.1em;\n",
       "margin-top: 0.3em;\n",
       "color:#595959;\n",
       "}\n",
       "\n",
       "div.queue {\n",
       "font-size: x-large;\n",
       "font-variant: small-caps;\n",
       "font-family: 'Titillium Web', sans-serif;\n",
       "font-weight: bold;\n",
       "/*margin-bottom: 0.1em;*/\n",
       "/*margin-top: 0.5em;*/\n",
       "margin: 10px;\n",
       "padding: 10px;\n",
       "color:#cc0000;\n",
       "border-style: solid none solid none;\n",
       "border-width: 2px;\n",
       "border-color:#cc0000;\n",
       "border-spacing: 10px;\n",
       "}\n",
       "\n",
       ".reveal h1 {\n",
       "font-family: 'Titillium Web', sans-serif;\n",
       "/*font-size: 24pt;*/\n",
       "font-weight: bold;\n",
       "margin-bottom: 0.1em;\n",
       "margin-top: 0.5em;\n",
       "color:#4a4a4a;\n",
       "}\n",
       ".reveal h2 {\n",
       "font-family: 'Titillium Web', sans-serif;\n",
       "/*font-size: 24pt;*/\n",
       "font-weight: bold;\n",
       "margin-bottom: 0.1em;\n",
       "margin-top: 0.5em;\n",
       "color:#595959;\n",
       "}\n",
       ".reveal h3 {\n",
       "font-family: 'Titillium Web', sans-serif;\n",
       "/*font-size: 24pt;*/\n",
       "font-weight: bold;\n",
       "margin-bottom: 0.1em;\n",
       "margin-top: 0.5em;\n",
       "color:#595959;\n",
       "}\n",
       ".reveal h4 {\n",
       "font-family: 'Titillium Web', sans-serif;\n",
       "font-weight: bold;\n",
       "margin-bottom: 0.1em;\n",
       "margin-top: 0.5em;\n",
       "color:#595959;\n",
       "}\n",
       ".reveal div.text_cell_render{\n",
       "line-height: 120%;\n",
       "font-size: 74%;\n",
       "font-weight: 400;\n",
       "text-align: justify;\n",
       "margin-left:0em;\n",
       "margin-right:0em;\n",
       "}\n",
       ".reveal .code_cell {\n",
       "    font-size: 92%;\n",
       "}\n",
       ".reveal code {\n",
       "font-family: 'Inconsolata', monospace;\n",
       "}\n",
       ".reveal pre {\n",
       "font-family: 'Inconsolata', monospace;\n",
       "}\n",
       "\n",
       ".CodeMirror{\n",
       "font-family: \"Inconsolata\", monospace;\n",
       "}\n",
       "\n",
       "</style>"
      ],
      "text/plain": [
       "<IPython.core.display.HTML object>"
      ]
     },
     "execution_count": 1,
     "metadata": {},
     "output_type": "execute_result"
    }
   ],
   "source": [
    "## Import required Python modules\n",
    "%matplotlib inline\n",
    "import matplotlib.pyplot as plt\n",
    "import numpy as np\n",
    "import scipy, scipy.stats\n",
    "import io\n",
    "import base64\n",
    "#from IPython.core.display import display\n",
    "from IPython.display import display, HTML, Image\n",
    "from urllib.request import urlopen\n",
    "\n",
    "try:\n",
    "    import astropy as apy\n",
    "    import astropy.table\n",
    "    _apy = True\n",
    "    #print('Loaded astropy')\n",
    "except:\n",
    "    _apy = False\n",
    "    #print('Could not load astropy')\n",
    "\n",
    "## Customising the font size of figures\n",
    "plt.rcParams.update({'font.size': 14})\n",
    "\n",
    "## Customising the look of the notebook\n",
    "display(HTML(\"<style>.container { width:95% !important; }</style>\"))\n",
    "## This custom file is adapted from https://github.com/lmarti/jupyter_custom/blob/master/custom.include\n",
    "HTML('custom.css')\n",
    "#HTML(urlopen('https://raw.githubusercontent.com/bretonr/intro_data_science/master/custom.css').read().decode('utf-8'))"
   ]
  },
  {
   "cell_type": "code",
   "execution_count": 2,
   "metadata": {},
   "outputs": [
    {
     "data": {
      "text/html": [
       "<script>\n",
       "code_show=true;\n",
       "function code_toggle() {\n",
       " if (code_show){\n",
       " $('div.input').hide();\n",
       " } else {\n",
       " $('div.input').show();\n",
       " }\n",
       " code_show = !code_show\n",
       "} \n",
       "$( document ).ready(code_toggle);\n",
       "</script>\n",
       "<form action=\"javascript:code_toggle()\"><input type=\"submit\" value=\"Click here to toggle on/off the Python code.\"></form>"
      ],
      "text/plain": [
       "<IPython.core.display.HTML object>"
      ]
     },
     "execution_count": 2,
     "metadata": {},
     "output_type": "execute_result"
    }
   ],
   "source": [
    "## Adding a button to hide the Python source code\n",
    "HTML('''<script>\n",
    "code_show=true;\n",
    "function code_toggle() {\n",
    " if (code_show){\n",
    " $('div.input').hide();\n",
    " } else {\n",
    " $('div.input').show();\n",
    " }\n",
    " code_show = !code_show\n",
    "} \n",
    "$( document ).ready(code_toggle);\n",
    "</script>\n",
    "<form action=\"javascript:code_toggle()\"><input type=\"submit\" value=\"Click here to toggle on/off the Python code.\"></form>''')"
   ]
  },
  {
   "cell_type": "markdown",
   "metadata": {},
   "source": [
    "<div class=\"container-fluid\">\n",
    "    <div class=\"row\">\n",
    "        <div class=\"col-md-8\" align=\"center\">\n",
    "            <h1>PHYS 10791: Introduction to Data Science</h1>\n",
    "            <!--<h3>2019-2020 Academic Year</h3><br>-->\n",
    "        </div>\n",
    "        <div class=\"col-md-3\">\n",
    "            <img align='center' style=\"border-width:0\" src=\"images/UoM_logo.png\"/>\n",
    "        </div>\n",
    "    </div>\n",
    "</div>\n",
    "\n",
    "<div class=\"container-fluid\">\n",
    "    <div class=\"row\">\n",
    "        <div class=\"col-md-2\" align=\"right\">\n",
    "            <b>Course instructors:&nbsp;&nbsp;</b>\n",
    "        </div>\n",
    "        <div class=\"col-md-9\" align=\"left\">\n",
    "            <a href=\"http://www.renebreton.org\">Prof. Rene Breton</a> - Twitter <a href=\"https://twitter.com/BretonRene\">@BretonRene</a><br>\n",
    "            <a href=\"http://www.hep.manchester.ac.uk/u/gersabec\">Dr. Marco Gersabeck</a> - Twitter <a href=\"https://twitter.com/MarcoGersabeck\">@MarcoGersabeck</a>\n",
    "        </div>\n",
    "    </div>\n",
    "</div>"
   ]
  },
  {
   "cell_type": "markdown",
   "metadata": {},
   "source": [
    "*Note: You are not expected to understand all the computer coding presented with the solutions. You should understand the mathematical concepts and be able to recover the results. We present the computer code so you can learn coding tricks (e.g. read data, compute useful values, fit and plot data) should you be interested.*"
   ]
  },
  {
   "cell_type": "markdown",
   "metadata": {},
   "source": [
    "# Chapter 1 - Problem Sheet"
   ]
  },
  {
   "cell_type": "markdown",
   "metadata": {},
   "source": [
    "## Problem 1\n",
    "\n",
    "### Case study: The importance of data visualisation\n",
    "\n",
    "Consider the data below formed of four datasets, each comprising 11 (x,y) pairs."
   ]
  },
  {
   "cell_type": "code",
   "execution_count": 3,
   "metadata": {
    "scrolled": false
   },
   "outputs": [
    {
     "name": "stdout",
     "output_type": "stream",
     "text": [
      " Ix    Iy  IIx  IIy  IIIx  IIIy IVx  IVy \n",
      "---- ----- ---- ---- ---- ----- ---- ----\n",
      "10.0  8.04 10.0 9.14 10.0  7.46  8.0 6.58\n",
      " 8.0  6.95  8.0 8.14  8.0  6.77  8.0 5.76\n",
      "13.0  7.58 13.0 8.74 13.0 12.74  8.0 7.71\n",
      " 9.0  8.81  9.0 8.77  9.0  7.11  8.0 8.84\n",
      "11.0  8.33 11.0 9.26 11.0  7.81  8.0 8.47\n",
      "14.0  9.96 14.0  8.1 14.0  8.84  8.0 7.04\n",
      " 6.0  7.24  6.0 6.13  6.0  6.08  8.0 5.25\n",
      " 4.0  4.26  4.0  3.1  4.0  5.39 19.0 12.5\n",
      "12.0 10.84 12.0 9.13 12.0  8.15  8.0 5.56\n",
      " 7.0  4.82  7.0 7.26  7.0  6.42  8.0 7.91\n",
      " 5.0  5.68  5.0 4.74  5.0  5.73  8.0 6.89\n"
     ]
    }
   ],
   "source": [
    "## Reading the Anscombe Quartet data an putting them in an array\n",
    "\n",
    "from io import StringIO\n",
    "c = StringIO(\"\"\"\n",
    "Ix  ,     Iy,   IIx,   IIy,  IIIx,   IIIy,   IVx,   IVy\n",
    "10.0,  8.04 ,  10.0,  9.14,  10.0,  7.46 ,  8.0 ,  6.58 \n",
    "8.0 ,  6.95 ,  8.0 ,  8.14,  8.0 ,  6.77 ,  8.0 ,  5.76 \n",
    "13.0,  7.58 ,  13.0,  8.74,  13.0,  12.74,  8.0 ,  7.71 \n",
    "9.0 ,  8.81 ,  9.0 ,  8.77,  9.0 ,  7.11 ,  8.0 ,  8.84 \n",
    "11.0,  8.33 ,  11.0,  9.26,  11.0,  7.81 ,  8.0 ,  8.47 \n",
    "14.0,  9.96 ,  14.0,  8.10,  14.0,  8.84 ,  8.0 ,  7.04 \n",
    "6.0 ,  7.24 ,  6.0 ,  6.13,  6.0 ,  6.08 ,  8.0 ,  5.25 \n",
    "4.0 ,  4.26 ,  4.0 ,  3.10,  4.0 ,  5.39 ,  19.0,  12.50\n",
    "12.0,  10.84,  12.0,  9.13,  12.0,  8.15 ,  8.0 ,  5.56 \n",
    "7.0 ,  4.82 ,  7.0 ,  7.26,  7.0 ,  6.42 ,  8.0 ,  7.91 \n",
    "5.0 ,  5.68 ,  5.0 ,  4.74,  5.0 ,  5.73 ,  8.0 ,  6.89\n",
    "\"\"\")\n",
    "data = np.genfromtxt(c, delimiter=',', names=True)\n",
    "\n",
    "apy.table.Table(data).pprint()"
   ]
  },
  {
   "cell_type": "markdown",
   "metadata": {},
   "source": [
    "#### Tasks\n",
    "\n",
    "1. Calculate the arithmetic mean for each column.\n",
    "2. Calculate the uncorrected sample standard deviation for each column.\n",
    "3. Calculate the correlation coefficient between x and y for each dataset.\n",
    "4. Make a plot of each dataset. Bonus: try and fit a straight line (e.g. $y = mx + b$ through the data)\n",
    "5. What is special about these datasets?"
   ]
  },
  {
   "cell_type": "markdown",
   "metadata": {},
   "source": [
    "## Solution 1\n",
    "\n",
    "The data presented in this problem constitute what is known as Anscombe's Quartet.\n",
    "\n",
    "```\n",
    "Anscombe's quartet comprises four datasets that have nearly identical simple descriptive statistics, yet appear very different when graphed. Each dataset consists of eleven (x,y) points. They were constructed in 1973 by the statistician Francis Anscombe to demonstrate both the importance of graphing data before analyzing it and the effect of outliers on statistical properties. He described the article as being intended to attack the impression among statisticians that \"numerical calculations are exact, but graphs are rough.\n",
    "```\n",
    "\n",
    "[Anscombe Quartet (Wikipedia)](https://en.wikipedia.org/wiki/Anscombe%27s_quartet)"
   ]
  },
  {
   "cell_type": "markdown",
   "metadata": {},
   "source": [
    "### Tasks 1, 2 and 3\n",
    "\n",
    "#### Example calculations\n",
    "Here is a sample calculation for the firsst dataset:\n",
    "\n",
    "Arithmetic mean:\n",
    "\\begin{eqnarray}\n",
    "  \\langle I_x \\rangle &=& \\frac{1}{N} \\sum_{i=1}^{N} I_{x,i} \\\\\n",
    "                      &=& \\frac{1}{11} \\left( 10.0 + 8.0 + 13.0 + \\dots + 5.0 \\right) = 9.00\n",
    "\\end{eqnarray}\n",
    "\n",
    "Uncorrected standard deviation:\n",
    "\\begin{eqnarray}\n",
    "  \\sigma_{I_x, {\\rm uncorr}} &=& \\left[ \\frac{1}{N} \\sum_{i=1}^N (I_{x,i} - \\langle x \\rangle)^2 \\right]^{1/2} \\\\\n",
    "                        &=& \\left[ \\frac{1}{11} \\left( (10.0-9.0)^2 + (8.0-9.0)^2 + (13.0-9.0)^2 + \\dots + (5.0-9.0)^2 \\right) \\right]^{1/2} = 3.16\n",
    "\\end{eqnarray}\n",
    "\n",
    "The correlation coefficient requires us to determine the covariance, given as:\n",
    "\\begin{eqnarray}\n",
    "  \\operatorname{cov}(I_x,I_y) &=& \\frac{1}{N} \\sum_{i=1}^N (I_{x,i} - \\langle I_x \\rangle)(I_{y,i} - \\langle I_y \\rangle) \\\\\n",
    "                              &=& \\frac{1}{11} \\left( (10.0-9.0) (8.04-9.0) + (8.0-9.0) (6.95-9.0) + \\dots (5.0-9.0) (5.68-9.0) \\right) = 5.0\n",
    "\\end{eqnarray}\n",
    "\n",
    "*Note that above we use the uncorrected version of the covariance as we will use the uncorrected standard deviation and the denominator as well.*\n",
    "\n",
    "Therefore, the correlation coefficient is:\n",
    "\\begin{eqnarray}\n",
    "  \\rho_{(x,y)} &=& \\frac{\\operatorname{cov}(I_x,I_y)}{\\sigma_{I_x, {\\rm uncorr}} \\sigma_{I_y, {\\rm uncorr}}} \\\\\n",
    "               &=& \\frac{5.0}{3.16 \\cdot 1.94} = 0.82\n",
    "\\end{eqnarray}"
   ]
  },
  {
   "cell_type": "markdown",
   "metadata": {},
   "source": [
    "#### Numerical answers"
   ]
  },
  {
   "cell_type": "code",
   "execution_count": 4,
   "metadata": {},
   "outputs": [
    {
     "name": "stdout",
     "output_type": "stream",
     "text": [
      "Mean of x:\n",
      "Ix: 9.00,  IIx: 9.00, IIIx: 9.00, IVx: 9.00\n",
      "\n",
      "Uncorrected sample standard deviation of x:\n",
      "Ix: 3.16,  IIx: 3.16, IIIx: 3.16, IVx: 3.16\n",
      "\n",
      "Mean of y:\n",
      "Iy: 7.50,  IIy: 7.50, IIIy: 7.50, IVy: 7.50\n",
      "\n",
      "Uncorrected sample standard deviation of y:\n",
      "Iy: 1.94,  IIy: 1.94, IIIy: 1.94, IVy: 1.94\n",
      "\n",
      "Correlation between x and y:\n",
      "I: 0.82,  II: 0.82, III: 0.82, IV: 0.82\n"
     ]
    }
   ],
   "source": [
    "print('Mean of x:')\n",
    "print('Ix: {:.2f},  IIx: {:.2f}, IIIx: {:.2f}, IVx: {:.2f}'.format(data['Ix'].mean(),data['IIx'].mean(),data['IIIx'].mean(),data['IVx'].mean()))\n",
    "print('')\n",
    "\n",
    "print('Uncorrected sample standard deviation of x:')\n",
    "print('Ix: {:.2f},  IIx: {:.2f}, IIIx: {:.2f}, IVx: {:.2f}'.format(data['Ix'].std(),data['IIx'].std(),data['IIIx'].std(),data['IVx'].std()))\n",
    "print('')\n",
    "\n",
    "print('Mean of y:')\n",
    "print('Iy: {:.2f},  IIy: {:.2f}, IIIy: {:.2f}, IVy: {:.2f}'.format(data['Iy'].mean(),data['IIy'].mean(),data['IIIy'].mean(),data['IVy'].mean()))\n",
    "print('')\n",
    "\n",
    "print('Uncorrected sample standard deviation of y:')\n",
    "print('Iy: {:.2f},  IIy: {:.2f}, IIIy: {:.2f}, IVy: {:.2f}'.format(data['Iy'].std(),data['IIy'].std(),data['IIIy'].std(),data['IVy'].std()))\n",
    "print('')\n",
    "\n",
    "print('Correlation between x and y:')\n",
    "print('I: {:.2f},  II: {:.2f}, III: {:.2f}, IV: {:.2f}'.format(np.corrcoef(data['Ix'],data['Iy'])[0,1], np.corrcoef(data['Ix'],data['Iy'])[0,1], np.corrcoef(data['Ix'],data['Iy'])[0,1], np.corrcoef(data['Ix'],data['Iy'])[0,1]))"
   ]
  },
  {
   "cell_type": "markdown",
   "metadata": {},
   "source": [
    "### Task 4"
   ]
  },
  {
   "cell_type": "markdown",
   "metadata": {},
   "source": [
    "#### Bonus: fitting a straight line\n",
    "\n",
    "We want to fit a line, $y = mx + b$, through the data. This can be done **analytically**! (see *Data Analysis, Semester 1*)\n",
    "\n",
    "We can rewrite this equation as $\\underline{y} = \\underline{\\underline{A}} \\cdot \\underline{p}$, where:\n",
    "\n",
    "$\\underline{y}$ is a n-element column vector with elements $y_i$,\n",
    "\n",
    "$\\underline{\\underline{A}}$ is a $n \\times 2$ matrix with elements defined as $A_{ij}= [[x_i \\quad 1]]$, and \n",
    "\n",
    "$\\underline{p}$ is a 2-element column vector with elements defined as $p_j = [m, b]$.\n",
    "\n",
    "*We can solve this system of linear equations using [_np.linalg.lstsq_](https://docs.scipy.org/doc/numpy/reference/generated/numpy.linalg.lstsq.html). Note that numpy offers other ways of fitting a straight line, especially if there are uncertainties, and it is also possible to use the analytical derivation and code it by hand.*"
   ]
  },
  {
   "cell_type": "code",
   "execution_count": 5,
   "metadata": {},
   "outputs": [
    {
     "name": "stdout",
     "output_type": "stream",
     "text": [
      "y(i):\n",
      "[ 8.04  6.95  7.58  8.81  8.33  9.96  7.24  4.26 10.84  4.82  5.68]\n",
      "\n",
      "A(i,j):\n",
      "[[10.  1.]\n",
      " [ 8.  1.]\n",
      " [13.  1.]\n",
      " [ 9.  1.]\n",
      " [11.  1.]\n",
      " [14.  1.]\n",
      " [ 6.  1.]\n",
      " [ 4.  1.]\n",
      " [12.  1.]\n",
      " [ 7.  1.]\n",
      " [ 5.  1.]]\n",
      "\n",
      "Fit result (set I):\n",
      "  m: 0.500, b: 3.000\n",
      "\n",
      "Fit result (set II):\n",
      "  m: 0.500, b: 3.000\n",
      "\n",
      "Fit result (set III):\n",
      "  m: 0.500, b: 3.000\n",
      "\n",
      "Fit result (set IV):\n",
      "  m: 0.500, b: 3.000\n",
      "\n"
     ]
    }
   ],
   "source": [
    "A = np.vstack([data['Ix'], np.ones(11)]).T\n",
    "y = data['Iy']\n",
    "print('y(i):')\n",
    "print(y)\n",
    "print('')\n",
    "\n",
    "print('A(i,j):')\n",
    "print(A)\n",
    "print('')\n",
    "\n",
    "m_1, b_1 = np.linalg.lstsq(A, y, rcond=None)[0]\n",
    "print('Fit result (set I):')\n",
    "print('  m: {:.3f}, b: {:.3f}'.format(m_1,b_1))\n",
    "print('')\n",
    "\n",
    "A = np.vstack([data['IIx'], np.ones(11)]).T\n",
    "y = data['IIy']\n",
    "m_2, b_2 = np.linalg.lstsq(A, y, rcond=None)[0]\n",
    "print('Fit result (set II):')\n",
    "print('  m: {:.3f}, b: {:.3f}'.format(m_1,b_1))\n",
    "print('')\n",
    "\n",
    "A = np.vstack([data['IIIx'], np.ones(11)]).T\n",
    "y = data['IIIy']\n",
    "m_3, b_3 = np.linalg.lstsq(A, y, rcond=None)[0]\n",
    "print('Fit result (set III):')\n",
    "print('  m: {:.3f}, b: {:.3f}'.format(m_1,b_1))\n",
    "print('')\n",
    "\n",
    "A = np.vstack([data['IVx'], np.ones(11)]).T\n",
    "y = data['IVy']\n",
    "m_4, b_4 = np.linalg.lstsq(A, y, rcond=None)[0]\n",
    "print('Fit result (set IV):')\n",
    "print('  m: {:.3f}, b: {:.3f}'.format(m_1,b_1))\n",
    "print('')"
   ]
  },
  {
   "cell_type": "markdown",
   "metadata": {},
   "source": [
    "#### Plot of the datasets"
   ]
  },
  {
   "cell_type": "code",
   "execution_count": 6,
   "metadata": {},
   "outputs": [
    {
     "data": {
      "image/png": "[encoded data removed]",
      "text/plain": [
       "<Figure size 1152x576 with 4 Axes>"
      ]
     },
     "metadata": {
      "needs_background": "light"
     },
     "output_type": "display_data"
    }
   ],
   "source": [
    "## Generating the subplots\n",
    "fig, ax = plt.subplots(2, 2, sharex=True, sharey=True, figsize=(16,8))\n",
    "\n",
    "## Picking the color at https://www.w3schools.com/colors/colors_picker.asp\n",
    "_ = ax[0,0].scatter(data['Ix']  , data['Iy']  , s=100, c='#ff9933', edgecolors='k')\n",
    "_ = ax[0,1].scatter(data['IIx'] , data['IIy'] , s=100, c='#ff9933', edgecolors='k')\n",
    "_ = ax[1,0].scatter(data['IIIx'], data['IIIy'], s=100, c='#ff9933', edgecolors='k')\n",
    "_ = ax[1,1].scatter(data['IVx'] , data['IVy'] , s=100, c='#ff9933', edgecolors='k')\n",
    "_ = ax[0,0].set_xlabel('x')\n",
    "_ = ax[0,1].set_xlabel('x')\n",
    "_ = ax[1,0].set_xlabel('x')\n",
    "_ = ax[1,1].set_xlabel('x')\n",
    "_ = ax[0,0].set_ylabel('y')\n",
    "_ = ax[0,1].set_ylabel('y')\n",
    "_ = ax[1,0].set_ylabel('y')\n",
    "_ = ax[1,1].set_ylabel('y')\n",
    "_ = ax[0,0].set_title('Set I'  )\n",
    "_ = ax[0,1].set_title('Set II' )\n",
    "_ = ax[1,0].set_title('Set III')\n",
    "_ = ax[1,1].set_title('Set IV' )\n",
    "\n",
    "## We add the best fit\n",
    "x = np.arange(21.)\n",
    "_ = ax[0,0].plot(x, m_1*x+b_1)\n",
    "_ = ax[0,1].plot(x, m_2*x+b_2)\n",
    "_ = ax[1,0].plot(x, m_3*x+b_3)\n",
    "_ = ax[1,1].plot(x, m_4*x+b_4)\n",
    "\n",
    "## We save the figure\n",
    "fig.savefig('./images/anscombe_plot.pdf')"
   ]
  },
  {
   "cell_type": "markdown",
   "metadata": {},
   "source": [
    "### Task 5\n",
    "\n",
    "The first lesson to learn is that while various types of measure to describe datasets might all agree with each other, the underlying data can be very different. There is no miracle solution to get around this issue but visualising with a plot can be very insightful. The task can get more tricky for very large datasets and/or large number of dimensions.\n",
    "\n",
    "The second lesson is that blindly fitting data with a model can be dangerous. Using the right underlying model (i.e. the right *physics* as is often our case) is crucial and can be guided by visualisation. For instance, a further calculation reveals that all of the above plots have the same chi-squared ($\\chi^2) value."
   ]
  },
  {
   "cell_type": "markdown",
   "metadata": {},
   "source": [
    "## Problem 2\n",
    "\n",
    "### Covariance matrix\n",
    "\n",
    "Using the data from Problem 1, write the covariance matrix (uncorrected) $\\Sigma_{I_x,I_y}$ for the dataset $(I_x, I_y)$."
   ]
  },
  {
   "cell_type": "markdown",
   "metadata": {},
   "source": [
    "## Solution 2\n",
    "\n",
    "Using the definition from the lecture note, we can use the computed quantities from earlier to write the covariance matrix:\n",
    "\\begin{eqnarray}\n",
    "  \\Sigma_{I_x,I_y} &=& \n",
    "  \\begin{bmatrix}\n",
    "     \\sigma_{I_x}^2 & \\operatorname{cov}(I_x,I_y) \\\\\n",
    "     \\operatorname{cov}(I_y,I_x) & \\sigma_{I_y}^2\n",
    "  \\end{bmatrix} \\\\\n",
    "   &=& \n",
    "  \\begin{bmatrix}\n",
    "     3.16^2 &  5.0 \\\\\n",
    "     5.0 &  1.94^2\n",
    "  \\end{bmatrix} \\\\\n",
    "   &=& \n",
    "  \\begin{bmatrix}\n",
    "     10.0 &  5.0 \\\\\n",
    "     5.0 &  3.75\n",
    "  \\end{bmatrix}\n",
    "\\end{eqnarray}"
   ]
  },
  {
   "cell_type": "markdown",
   "metadata": {},
   "source": [
    "## Problem 3\n",
    "\n",
    "### Measures of central tendency\n",
    "\n",
    "Using the data from Problem 1, calculate the harmonic mean of I$_x$ and IV$_x$."
   ]
  },
  {
   "cell_type": "markdown",
   "metadata": {},
   "source": [
    "## Solution 3\n",
    "\n",
    "\\begin{equation}\n",
    "  H_{{\\rm I}_x} = \\frac{11}{\\left( 1/10.0 + 1/8.0 + 1/13.0 \\dots + 1/5.0 \\right)} = 7.76\n",
    "\\end{equation}\n",
    "\n",
    "\\begin{equation}\n",
    "  H_{{\\rm IV}_x} = \\frac{11}{\\left( 1/8.0 + 1/8.0 + 1/8.0 \\dots + 1/8.0 \\right)} = 8.44\n",
    "\\end{equation}"
   ]
  },
  {
   "cell_type": "markdown",
   "metadata": {},
   "source": [
    "<div class=\"well\" align=\"center\">\n",
    "    <div class=\"container-fluid\">\n",
    "        <div class=\"row\">\n",
    "            <div class=\"col-md-3\" align=\"center\">\n",
    "                <img align=\"center\" alt=\"Creative Commons License\" style=\"border-width:0\" src=\"https://i.creativecommons.org/l/by-nc-sa/4.0/88x31.png\" width=\"60%\">\n",
    "            </div>\n",
    "            <div class=\"col-md-8\">\n",
    "            This work is licensed under a <a href=\"http://creativecommons.org/licenses/by-nc-sa/4.0/\">Creative Commons Attribution-NonCommercial-ShareAlike 4.0 International License</a>).\n",
    "            </div>\n",
    "        </div>\n",
    "    </div>\n",
    "    <br>\n",
    "    <br>\n",
    "    <i>Note: The content of this Jupyter Notebook is provided for educational purposes only.</i>\n",
    "</div>"
   ]
  }
 ],
 "metadata": {
  "celltoolbar": "Raw Cell Format",
  "kernelspec": {
   "display_name": "Python 3",
   "language": "python",
   "name": "python3"
  },
  "language_info": {
   "codemirror_mode": {
    "name": "ipython",
    "version": 3
   },
   "file_extension": ".py",
   "mimetype": "text/x-python",
   "name": "python",
   "nbconvert_exporter": "python",
   "pygments_lexer": "ipython3",
   "version": "3.8.3"
  },
  "latex_envs": {
   "LaTeX_envs_menu_present": true,
   "autocomplete": true,
   "bibliofile": "biblio.bib",
   "cite_by": "apalike",
   "current_citInitial": 1,
   "eqLabelWithNumbers": true,
   "eqNumInitial": 1,
   "hotkeys": {
    "equation": "Ctrl-E",
    "itemize": "Ctrl-I"
   },
   "labels_anchors": false,
   "latex_user_defs": false,
   "report_style_numbering": false,
   "user_envs_cfg": false
  }
 },
 "nbformat": 4,
 "nbformat_minor": 4
}
