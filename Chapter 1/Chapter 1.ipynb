{
 "cells": [
  {
   "cell_type": "code",
   "execution_count": 1,
   "metadata": {
    "scrolled": true
   },
   "outputs": [
    {
     "data": {
      "text/html": [
       "<style>.container { width:95% !important; }</style>"
      ],
      "text/plain": [
       "<IPython.core.display.HTML object>"
      ]
     },
     "metadata": {},
     "output_type": "display_data"
    },
    {
     "data": {
      "text/html": [
       "<link href=\"https://fonts.googleapis.com/css?family=Fira+Sans:300,300i,600,600i\" rel=\"stylesheet\">\n",
       "<link href=\"https://fonts.googleapis.com/css?family=Inconsolata\" rel=\"stylesheet\">\n",
       "<link href=\"https://fonts.googleapis.com/css?family=Titillium+Web:400,400i,700,700i\" rel=\"stylesheet\">\n",
       "\n",
       "\n",
       "<style>\n",
       "\n",
       ".text_cell_render p {\n",
       "font-style: regular;\n",
       "font-family: 'Fira Sans', sans-serif;\n",
       "display: block;\n",
       "text-align: justify;\n",
       "}\n",
       "/*font-weight: 200;*/\n",
       "/*text-align: left;\n",
       "line-height: 100%;\n",
       "display: block;\n",
       "}*/\n",
       "a {\n",
       "color:#377bb5;\n",
       "}\n",
       ".text_cell_render h1 {\n",
       "/*font-size: 24pt;*/\n",
       "font-family: 'Titillium Web', sans-serif;\n",
       "font-weight: bold;\n",
       "margin-bottom: 0.1em;\n",
       "margin-top: 0.5em;\n",
       "color:#4a4a4a;\n",
       "}\n",
       ".text_cell_render h2 {\n",
       "/*font-size: 21pt;*/\n",
       "    font-family: 'Titillium Web', sans-serif;\n",
       "margin-bottom: 0.1em;\n",
       "margin-top: 0.3em;\n",
       "color:#595959;\n",
       "}\n",
       ".text_cell_render h3 {\n",
       "    font-family: 'Titillium Web', sans-serif;\n",
       "/*font-size: 19pt;*/\n",
       "margin-bottom: 0.1em;\n",
       "margin-top: 0.3em;\n",
       "color:#595959;\n",
       "}\n",
       ".text_cell_render h4 {\n",
       "    font-family: 'Titillium Web', sans-serif;\n",
       "/*font-size: 17pt;*/\n",
       "margin-bottom: 0.1em;\n",
       "margin-top: 0.3em;\n",
       "color:#595959;\n",
       "}\n",
       ".text_cell_render h5 {\n",
       "    font-family: 'Titillium Web', sans-serif;\n",
       "/*font-size: 15pt;*/\n",
       "margin-bottom: 0.1em;\n",
       "margin-top: 0.3em;\n",
       "color:#595959;\n",
       "}\n",
       "div.text_cell_render{\n",
       "font-style: regular;\n",
       "font-family: 'Fira Sans', sans-serif;\n",
       "line-height: 120%;\n",
       "font-size: 100%;\n",
       "font-weight: 400;\n",
       "text-align: justify;\n",
       "margin-left:0em;\n",
       "margin-right:0em;\n",
       "}\n",
       "code {\n",
       "font-family: 'Inconsolata', monospace;\n",
       "}\n",
       "pre {\n",
       "font-family: 'Inconsolata', monospace;\n",
       "}\n",
       "\n",
       "div.example {\n",
       "    font-family: 'Titillium Web', sans-serif;\n",
       "/*font-size: 15pt;*/\n",
       "font-weight: bold;\n",
       "font-variant: small-caps;\n",
       "text-decoration: underline;\n",
       "margin-bottom: 0.1em;\n",
       "margin-top: 0.3em;\n",
       "color:#595959;\n",
       "}\n",
       "\n",
       "div.queue {\n",
       "font-size: x-large;\n",
       "font-variant: small-caps;\n",
       "font-family: 'Titillium Web', sans-serif;\n",
       "font-weight: bold;\n",
       "/*margin-bottom: 0.1em;*/\n",
       "/*margin-top: 0.5em;*/\n",
       "margin: 10px;\n",
       "padding: 10px;\n",
       "color:#cc0000;\n",
       "border-style: solid none solid none;\n",
       "border-width: 2px;\n",
       "border-color:#cc0000;\n",
       "border-spacing: 10px;\n",
       "}\n",
       "\n",
       ".reveal h1 {\n",
       "font-family: 'Titillium Web', sans-serif;\n",
       "/*font-size: 24pt;*/\n",
       "font-weight: bold;\n",
       "margin-bottom: 0.1em;\n",
       "margin-top: 0.5em;\n",
       "color:#4a4a4a;\n",
       "}\n",
       ".reveal h2 {\n",
       "font-family: 'Titillium Web', sans-serif;\n",
       "/*font-size: 24pt;*/\n",
       "font-weight: bold;\n",
       "margin-bottom: 0.1em;\n",
       "margin-top: 0.5em;\n",
       "color:#595959;\n",
       "}\n",
       ".reveal h3 {\n",
       "font-family: 'Titillium Web', sans-serif;\n",
       "/*font-size: 24pt;*/\n",
       "font-weight: bold;\n",
       "margin-bottom: 0.1em;\n",
       "margin-top: 0.5em;\n",
       "color:#595959;\n",
       "}\n",
       ".reveal h4 {\n",
       "font-family: 'Titillium Web', sans-serif;\n",
       "font-weight: bold;\n",
       "margin-bottom: 0.1em;\n",
       "margin-top: 0.5em;\n",
       "color:#595959;\n",
       "}\n",
       ".reveal div.text_cell_render{\n",
       "line-height: 120%;\n",
       "font-size: 74%;\n",
       "font-weight: 400;\n",
       "text-align: justify;\n",
       "margin-left:0em;\n",
       "margin-right:0em;\n",
       "}\n",
       ".reveal .code_cell {\n",
       "    font-size: 92%;\n",
       "}\n",
       ".reveal code {\n",
       "font-family: 'Inconsolata', monospace;\n",
       "}\n",
       ".reveal pre {\n",
       "font-family: 'Inconsolata', monospace;\n",
       "}\n",
       "\n",
       ".CodeMirror{\n",
       "font-family: \"Inconsolata\", monospace;\n",
       "}\n",
       "\n",
       "</style>"
      ],
      "text/plain": [
       "<IPython.core.display.HTML object>"
      ]
     },
     "execution_count": 1,
     "metadata": {},
     "output_type": "execute_result"
    }
   ],
   "source": [
    "## Import required Python modules\n",
    "%matplotlib inline\n",
    "import matplotlib.pyplot as plt\n",
    "import numpy as np\n",
    "import scipy, scipy.stats\n",
    "import io\n",
    "import base64\n",
    "#from IPython.core.display import display\n",
    "from IPython.display import display, HTML, Image\n",
    "from urllib.request import urlopen\n",
    "\n",
    "try:\n",
    "    import astropy as apy\n",
    "    import astropy.table\n",
    "    _apy = True\n",
    "    #print('Loaded astropy')\n",
    "except:\n",
    "    _apy = False\n",
    "    #print('Could not load astropy')\n",
    "\n",
    "## Customising the font size of figures\n",
    "plt.rcParams.update({'font.size': 14})\n",
    "\n",
    "## Customising the look of the notebook\n",
    "display(HTML(\"<style>.container { width:95% !important; }</style>\"))\n",
    "## This custom file is adapted from https://github.com/lmarti/jupyter_custom/blob/master/custom.include\n",
    "HTML('custom.css')\n",
    "#HTML(urlopen('https://raw.githubusercontent.com/bretonr/intro_data_science/master/custom.css').read().decode('utf-8'))"
   ]
  },
  {
   "cell_type": "code",
   "execution_count": 2,
   "metadata": {},
   "outputs": [
    {
     "data": {
      "text/html": [
       "<script>\n",
       "code_show=true;\n",
       "function code_toggle() {\n",
       " if (code_show){\n",
       " $('div.input').hide();\n",
       " } else {\n",
       " $('div.input').show();\n",
       " }\n",
       " code_show = !code_show\n",
       "} \n",
       "$( document ).ready(code_toggle);\n",
       "</script>\n",
       "<form action=\"javascript:code_toggle()\"><input type=\"submit\" value=\"Click here to toggle on/off the Python code.\"></form>"
      ],
      "text/plain": [
       "<IPython.core.display.HTML object>"
      ]
     },
     "execution_count": 2,
     "metadata": {},
     "output_type": "execute_result"
    }
   ],
   "source": [
    "## Adding a button to hide the Python source code\n",
    "HTML('''<script>\n",
    "code_show=true;\n",
    "function code_toggle() {\n",
    " if (code_show){\n",
    " $('div.input').hide();\n",
    " } else {\n",
    " $('div.input').show();\n",
    " }\n",
    " code_show = !code_show\n",
    "} \n",
    "$( document ).ready(code_toggle);\n",
    "</script>\n",
    "<form action=\"javascript:code_toggle()\"><input type=\"submit\" value=\"Click here to toggle on/off the Python code.\"></form>''')"
   ]
  },
  {
   "cell_type": "markdown",
   "metadata": {},
   "source": [
    "<div class=\"container-fluid\">\n",
    "    <div class=\"row\">\n",
    "        <div class=\"col-md-8\" align=\"center\">\n",
    "            <h1>PHYS 10791: Introduction to Data Science</h1>\n",
    "            <!--<h3>2019-2020 Academic Year</h3><br>-->\n",
    "        </div>\n",
    "        <div class=\"col-md-3\">\n",
    "            <img align='center' style=\"border-width:0\" src=\"images/UoM_logo.png\"/>\n",
    "        </div>\n",
    "    </div>\n",
    "</div>\n",
    "\n",
    "<div class=\"container-fluid\">\n",
    "    <div class=\"row\">\n",
    "        <div class=\"col-md-2\" align=\"right\">\n",
    "            <b>Course instructors:&nbsp;&nbsp;</b>\n",
    "        </div>\n",
    "        <div class=\"col-md-9\" align=\"left\">\n",
    "            <a href=\"http://www.renebreton.org\">Prof. Rene Breton</a> - Twitter <a href=\"https://twitter.com/BretonRene\">@BretonRene</a><br>\n",
    "            <a href=\"http://www.hep.manchester.ac.uk/u/gersabec\">Dr. Marco Gersabeck</a> - Twitter <a href=\"https://twitter.com/MarcoGersabeck\">@MarcoGersabeck</a>\n",
    "        </div>\n",
    "    </div>\n",
    "</div>"
   ]
  },
  {
   "cell_type": "markdown",
   "metadata": {},
   "source": [
    "## Syllabus\n",
    "\n",
    "1. **Probabilities and interpretations**\n",
    "2. Probability distributions\n",
    "3. Parameter estimation\n",
    "4. Maximum likelihood\n",
    "5. Least square, chi2, correlations\n",
    "6. Monte Carlo basics\n",
    "7. Goodness of fit tests\n",
    "8. Hypothesis testing\n",
    "9. Probability and confidence level\n",
    "10. Limit setting\n",
    "11. Introduction to multivariate analysis techniques"
   ]
  },
  {
   "cell_type": "markdown",
   "metadata": {},
   "source": [
    "# Chapter 1\n",
    "\n",
    "## Topics\n",
    "\n",
    "**[1.1 Probabilities and Interpretation](#1.1-Probabilities-and-Interpretation)**\n",
    "- 1.1.1 Statistics and probabilities\n",
    "- **Case study**: Cancer research breakthrough\n",
    "\n",
    "**[1.2 Basics of presentation of data](#1.2-Basics-of-presentation-of-data)**\n",
    "- 1.2.1 Data presentation\n",
    "- 1.2.2 Measures of central tendency\n",
    "    - Arithmetic mean\n",
    "    - Geometric mean\n",
    "    - Harmonic mean\n",
    "    - Root mean square\n",
    "    - Median\n",
    "    - Mode\n",
    "- 1.2.3 Measures of dispersion\n",
    "    - Variance and standard deviation\n",
    "    - Mean absolute deviation\n",
    "- 1.2.4 Other indicators\n",
    "    - Skewness\n",
    "    - Kurtosis\n",
    "- 1.2.5 Multiple variables\n",
    "    - Covariance\n",
    "    - Correlation\n",
    "    - Covariance matrix\n",
    "- **Case study**: Correlation does not imply causation"
   ]
  },
  {
   "cell_type": "markdown",
   "metadata": {},
   "source": [
    "## Further Reading Material\n",
    "\n",
    "- **Barlow**: Chapter 2 - *General introduction about types of data and measures to describe them*\n",
    "- [Kelleher & Wagener (2012)](https://doi.org/10.1016/j.envsoft.2010.12.006) - *Paper presenting key principle for effective data visualisation*\n",
    "- Wikipedia page on [Correlation and dependence](https://en.wikipedia.org/wiki/Correlation_and_dependence)\n",
    "- Wikipedia page on [Covariance matrix](https://en.wikipedia.org/wiki/Covariance_matrix)"
   ]
  },
  {
   "cell_type": "markdown",
   "metadata": {},
   "source": [
    "## 1.1 Probabilities and Interpretation"
   ]
  },
  {
   "cell_type": "markdown",
   "metadata": {},
   "source": [
    "### 1.1.1 Statistics and probabilities\n"
   ]
  },
  {
   "cell_type": "markdown",
   "metadata": {},
   "source": [
    "```\n",
    "\"There are three kinds of lies: lies, damned lies, and statistics.\"\n",
    "```\n",
    "<div style=\"text-align: right\">(Benjamin Disraeli, 1804–1881)</div>\n",
    "\n",
    "*Note: this phrase popularised by Mark Twain is most likely misattributed to former British Prime Minister Benjamin Disraeli, with the original source not known.*"
   ]
  },
  {
   "cell_type": "markdown",
   "metadata": {},
   "source": [
    "#### Context\n",
    "\n",
    "*Statistics is a tool*. [Barlow]\n",
    "\n",
    "Statistics is possibly the most useful and versatile tool that a physicist can master. In physics, or in any other field of experimental research for that matter, measurements are essentially always obtained with associated uncertainties. The interpretation of the results fundamentally depends on a proper statistical analysis of the data. Even outside of natural sciences statistics are crucial. Think about assessing the effectiveness of a new drug in medical sciences, or determining the best approach to dealing with health care deployment in social sciences. Computer scientists need to consider statistics, as numerical techniques bear inherent errors through, e.g., rounding off errors. If you are a pure 'theorist' you probably will not escape it either; remember Boltzmann's distribution?\n",
    "\n",
    "Statistics and data analysis form the building blocks of **data science**, which is at the heart of research but also the 'real world'.\n",
    "\n",
    "If Edison once said that that genius is 1% percent inspiration and 99% perspiration, then data science must be 1% data and 99% statistical analysis."
   ]
  },
  {
   "cell_type": "markdown",
   "metadata": {},
   "source": [
    "### Case study: Cancer research breakthrough\n",
    "\n",
    "New interesting development for the detection of cancer."
   ]
  },
  {
   "cell_type": "markdown",
   "metadata": {},
   "source": [
    "<div class=\"container-fluid\">\n",
    "    <div class=\"row\">\n",
    "        <div class=\"col-md-6\" align=\"center\">\n",
    "            <b>BBC Report</b>\n",
    "        </div>\n",
    "        <div class=\"col-md-6\" align=\"center\">\n",
    "            <b>Article in Science</b>\n",
    "        </div>\n",
    "    </div>\n",
    "</div>\n",
    "\n",
    "<br>\n",
    "\n",
    "<div class=\"container-fluid\">\n",
    "    <div class=\"row\">\n",
    "        <div class=\"col-md-6\" align=\"center\">\n",
    "            <img src=\"images/cancerBBC.screen.png\" width=\"75%\">\n",
    "        </div>\n",
    "        <div class=\"col-md-6\">\n",
    "            <img src=\"images/cancerScience.screen.png\" width=\"75%\"><br><br>\n",
    "            <img src=\"images/cancerBBC.qrcode.png\" width=\"30%\"><br><br><br>\n",
    "            <img src=\"images/cancerScience.qrcode.png\" width=\"30%\">\n",
    "        </div>\n",
    "    </div>\n",
    "</div>\n",
    "\n",
    "<br>\n",
    "\n",
    "<div class=\"container-fluid\">\n",
    "    <div class=\"row\">\n",
    "        <div class=\"col-md-6\" align=\"center\">\n",
    "            Source: <a href=\"http://www.bbc.co.uk/news/health-42736764\">BBC</a>\n",
    "        </div>\n",
    "        <div class=\"col-md-6\" align=\"center\">\n",
    "            Source: <a href=\"http://science.sciencemag.org/content/early/2018/01/17/science.aar3247\">Science</a>\n",
    "        </div>\n",
    "    </div>\n",
    "</div>"
   ]
  },
  {
   "cell_type": "markdown",
   "metadata": {},
   "source": [
    "This is a genuinely great development for cancer research: this new test can find one of eight types of difficult to detect cancers 70% of the time (sensitivity).\n",
    "\n",
    "There is however some caution to exercise here. What might be the issues with the reported news? Here are the most important points:\n",
    "1. From the article (main body) we learn that 70% success rate is the median success rate of the study. The success rate for Stage I, Stage II and Stage III cancers are 43%, 73% and 78%, respectively.\n",
    "2. From the article (abstract) we learn that the specificity (i.e. 1 - false positive rate) of the test is 99.14%.\n",
    "\n",
    "The latter implies that a healthy (non-cancerous) adult tested for most of their adult life (40 years) would have a 29% chance of being tested positive. How did we get this?\n",
    "\n",
    "> We want to calculate the chance of not getting a false positive in 40 years.\n",
    "\n",
    "> The chance of not being controlled as false positive in one year is $0.9914$. This means that the chance of not being controlled as false positive after 40 years is the product of the probabilities for each year: $0.9914^{40}$.\n",
    "\n",
    "> Finally, the chance of getting a false positive after 40 years is $1 - 0.9914^{40} = 0.29$.\n",
    "\n",
    "We can therefore see that if the entire population we subjected to systematic testing through this method, a lot of people would receive the bad news, while further testing would reveal they do not have cancer after all. This is not all bad news; this just means that before rolling out this test in such a way the specificity would need to be improved.\n",
    "\n",
    "```\n",
    "News outlets, for good and bad reasons, tend to truncate some of the details of a story.\n",
    "Always look at the original sources and check the maths.\n",
    "```"
   ]
  },
  {
   "cell_type": "markdown",
   "metadata": {},
   "source": [
    "## 1.2 Basics of presentation of data"
   ]
  },
  {
   "cell_type": "markdown",
   "metadata": {},
   "source": [
    "### 1.2.1 Data presentation\n",
    "\n",
    "_[This subsection follows from Barlow, Chapter 2.]_"
   ]
  },
  {
   "cell_type": "markdown",
   "metadata": {},
   "source": [
    "#### Description of data\n",
    "**Definition**: _Facts and statistics collected together for reference or analysis._ [Oxford Dictionary]\n",
    "\n",
    "There are two types of data:\n",
    "- Qualitative / non-numeric: colour, preference food, feeling toward service quality\n",
    "- Quantitative / numeric: length of an object, decay rate of a particle, flux from a star\n",
    "\n",
    "Quantitative data can be divided into two subtypes:\n",
    "- Discrete data: number of photons detected, number of persons\n",
    "- Continuous data: potential difference, mass of galaxies\n",
    "\n",
    "Qualitative data are often difficult to analyse in a way that is practical for data science. For this reason, they are often 'translated' into quantitative (approximation) in order to enable them to be processed. An 'absolute' (or independent) quantitative measure is however sometimes difficult to obtain: a colour can be converted to RGB fairly easily, but a customer feelings on a scale of 0-10 is more arbitrary. The translation of qualitative to quantitative is in itself an entire field of research.\n",
    "\n",
    "In this course, we will mostly focus on quantitative data."
   ]
  },
  {
   "cell_type": "markdown",
   "metadata": {},
   "source": [
    "#### Data visualisation\n",
    "Datasets, especially when large, are difficult to make sense in their raw format directly (i.e. a large collection of numbers). One way of organising and making sense of them is through data visualisation.\n",
    "\n",
    "```\n",
    "One should never use data blindly and try as much as possible to visualise data.\n",
    "```\n",
    "\n",
    "It is beyond the scope of this course to look in details into various visualisation methods. For modern ways of visualising data, we would recommend the following references:\n",
    "- [Matplotlib's Example Gallery](https://matplotlib.org/gallery/index.html): Matplotlib is the go-to plotting package for Python. It contains a rich gallery of examples which includes the source code and data to generate each plot.\n",
    "- [Seaborn's Example Gallery](https://seaborn.pydata.org/examples/index.html): Seaborn is a Python visualisation library based on matplotlib. It provides a high-level interface for drawing attractive statistical graphics.\n",
    "- [Ten Simple Rules for Better Figures](https://doi.org/10.1371/journal.pcbi.1003833): An article about good practices for data visualisation.\n",
    "- [Ten guidelines for effective data visualization in scientific publications](https://doi.org/10.1016/j.envsoft.2010.12.006): A great article by Christa Kelleher and Thorsten Wagener about the dos and don'ts of data visualisation.\n",
    "\n",
    "\n",
    "##### *Ten guidelines for effective data visualization in scientific publications*\n",
    "This subsection follows from the paper by [Kelleher & Wagener (2012)](https://doi.org/10.1016/j.envsoft.2010.12.006).\n",
    "\n",
    "1. Create the simplest graph that conveys the information you want to convey\n",
    "2. Consider the type of encoding object and attribute used to create a plot\n",
    "3. Focus on visualizing patterns or on visualizing details, depending on the purpose of the plot\n",
    "4. Select meaningful axis ranges\n",
    "5. Data transformations and carefully chosen graph aspect ratios can be used to emphasize rates of change for time-series data\n",
    "6. Plot overlapping points in a way that density differences become apparent in scatter plots\n",
    "7. Use lines when connecting sequential data in time-series plots\n",
    "8. Aggregate larger datasets in meaningful ways\n",
    "9. Keep axis ranges as similar as possible to compare variables\n",
    "10. Select an appropriate color scheme based on the type of data"
   ]
  },
  {
   "cell_type": "markdown",
   "metadata": {},
   "source": [
    "<div class=\"container-fluid\">\n",
    "    <div class=\"row\">\n",
    "        <div class=\"col-md-5\" align=\"center\">\n",
    "            <img src=\"images/1-s2.0-S1364815210003270-gr1a.jpg\" width=\"95%\">\n",
    "        </div>\n",
    "        <div class=\"col-md-5\" align=\"center\">\n",
    "            <img src=\"images/1-s2.0-S1364815210003270-gr1b.jpg\" width=\"95%\">\n",
    "        </div>\n",
    "    </div>\n",
    "</div>\n",
    "\n",
    "(Source of the figure: [Kelleher & Wagener (2012)](https://doi.org/10.1016/j.envsoft.2010.12.006))"
   ]
  },
  {
   "cell_type": "markdown",
   "metadata": {},
   "source": [
    "### 1.2.2 Measures of central tendency\n",
    "\n",
    "If one attempts to describe data with a single value, a central tendency measure is probably the most useful quantity to use. A variety of options are available. Some of the most common are described below.\n",
    "\n",
    "In these examples, we define a dataset containing N elements as:\n",
    "\n",
    "\\begin{equation}\n",
    "  S = \\{x_1, x_2, x_3,...,x_N\\}\n",
    "\\end{equation}"
   ]
  },
  {
   "cell_type": "code",
   "execution_count": 3,
   "metadata": {},
   "outputs": [
    {
     "name": "stdout",
     "output_type": "stream",
     "text": [
      "Example dataset\n",
      "x = {4, 1, 3, 9, 5, 4, 4, 6, 2, 4, 7, 7, 4, 3, 2}\n",
      "\n",
      "Binned data:\n",
      "value:  0, 1, 2, 3, 4, 5, 6, 7, 8, 9\n",
      "weight: 0, 1, 2, 2, 5, 1, 1, 2, 0, 1\n"
     ]
    },
    {
     "data": {
      "image/png": "[encoded data removed]",
      "text/plain": [
       "<Figure size 720x432 with 1 Axes>"
      ]
     },
     "metadata": {
      "needs_background": "light"
     },
     "output_type": "display_data"
    }
   ],
   "source": [
    "## Define a set of data\n",
    "#x = np.random.poisson(4, size=15)\n",
    "x = np.array([4, 1, 3, 9, 5, 4, 4, 6, 2, 4, 7, 7, 4, 3, 2])\n",
    "print('Example dataset')\n",
    "print('x = {' + ', '.join(['{}'.format(xi) for xi in x]) + '}')\n",
    "\n",
    "fig,ax = plt.subplots(figsize=[10,6])\n",
    "weights, bins, patches = ax.hist(x, range=[0,10], bins=10, align='left')\n",
    "weights = weights.astype(int)\n",
    "bins = bins[:-1].astype(int)\n",
    "ax.set_xlabel('Value')\n",
    "ax.set_ylabel('Count')\n",
    "ax.set_xlim([0,10]);\n",
    "\n",
    "print('')\n",
    "print('Binned data:')\n",
    "print('value:  ' + ', '.join(['{}'.format(b) for b in bins]))\n",
    "print('weight: ' + ', '.join(['{}'.format(w) for w in weights]))"
   ]
  },
  {
   "cell_type": "markdown",
   "metadata": {},
   "source": [
    "#### Arithmetic mean\n",
    "\n",
    "This is the simplest and most common central measure.\n",
    "\n",
    "The *arithmetic mean* is:\n",
    "\n",
    "\\begin{equation}\n",
    "  \\langle x \\rangle = \\frac{1}{N} \\sum_{i=1}^{N} x_i \\,.\n",
    "\\end{equation}\n",
    "\n",
    "Similarly, the mean of a function $f(x)$ is:\n",
    "\n",
    "\\begin{equation}\n",
    "  \\langle f(x) \\rangle = \\frac{1}{N} \\sum_{i=1}^{N} f(x_i) \\,.\n",
    "\\end{equation}\n",
    "\n",
    "In the case of a binned dataset containing $J$ bins each with value $x_j$ and containing $n_j$ elements, the means can be written:\n",
    "\n",
    "\\begin{equation}\n",
    "  \\langle x \\rangle = \\frac{1}{N} \\sum_{j=1}^{J} n_j x_j \\,,\n",
    "\\end{equation}\n",
    "\n",
    "\\begin{equation}\n",
    "  \\langle f(x) \\rangle = \\frac{1}{N} \\sum_{j=1}^{J} n_j f(x_j) \\,.\n",
    "\\end{equation}\n",
    "\n",
    "This definition for the binned data is nothing else than a weigthed mean. Be mindful about the fact that the exact way you bin the data can affect the value of the central tendency you calculate.\n",
    "\n",
    "In the continuous case, the summation turns into integrals:\n",
    "\n",
    "\\begin{equation}\n",
    "  \\langle x \\rangle = \\frac{ \\int_{x_{\\rm min}}^{x_{\\rm max}} n(x) x {\\rm d}x }{ \\int_{x_{\\rm min}}^{x_{\\rm max}} n(x) {\\rm d}x } \\,,\n",
    "\\end{equation}\n",
    "\n",
    "\\begin{equation}\n",
    "  \\langle f(x) \\rangle = \\frac{ \\int_{x_{\\rm min}}^{x_{\\rm max}} n(x) f(x) {\\rm d}x }{ \\int_{x_{\\rm min}}^{x_{\\rm max}} n(x) {\\rm d}x } \\,.\n",
    "\\end{equation}\n",
    "\n",
    "_We often refer to the arithmetic mean as the mean (i.e. dropping the \"arithmetic\" part) or average. These words are all synonyms. However, other central measures introduced below must be referred to with their full terminology (i.e. harmonic mean is not equal to mean)._"
   ]
  },
  {
   "cell_type": "markdown",
   "metadata": {},
   "source": [
    "<div class=\"example\">Example 1</div>\n",
    "\n",
    "With the above dataset. The unbinned arithmetic mean is:\n",
    "\n",
    "\\begin{equation}\n",
    "  \\langle x \\rangle = \\frac{1}{15} \\left( 4 + 1 + \\dots + 2 \\right) = 4.333\n",
    "\\end{equation}\n",
    "\n",
    "With the binned data:\n",
    "\n",
    "\\begin{equation}\n",
    "  \\langle x \\rangle = \\frac{1}{15} \\left( 0 \\cdot 0 + 1 \\cdot 1 + \\dots + 1 \\cdot 9  \\right) = 4.333\n",
    "\\end{equation}"
   ]
  },
  {
   "cell_type": "code",
   "execution_count": 4,
   "metadata": {},
   "outputs": [
    {
     "name": "stdout",
     "output_type": "stream",
     "text": [
      "Example calculation in Python\n",
      "\n",
      "Arithmetic mean (slow): 4.333\n",
      "Arithmetic mean (fast): 4.333\n",
      "Arithmetic mean for binned data: 4.333\n"
     ]
    }
   ],
   "source": [
    "print('Example calculation in Python\\n')\n",
    "\n",
    "## Calculate the arithmetic mean, the slow way\n",
    "m = 0.\n",
    "for xi in x:\n",
    "    m += xi\n",
    "\n",
    "m /= x.size\n",
    "print('Arithmetic mean (slow): {:.3f}'.format(m))\n",
    "\n",
    "## Calculate the arithmetic mean the fast way\n",
    "m = np.mean(x)\n",
    "print('Arithmetic mean (fast): {:.3f}'.format(m))\n",
    "\n",
    "## Binned average\n",
    "m = np.sum(bins*weights)/weights.sum()\n",
    "print('Arithmetic mean for binned data: {:.3f}'.format(m))"
   ]
  },
  {
   "cell_type": "markdown",
   "metadata": {},
   "source": [
    "#### Geometric mean\n",
    "\n",
    "The *geometric mean* is calculated as the N-th root of the product of the N elements in the dataset:\n",
    "\n",
    "\\begin{equation}\n",
    "  {\\rm GM} = \\left( \\prod_{i=1}^{N} x_i \\right)^{\\frac{1}{N}}\n",
    "\\end{equation}\n",
    "\n",
    "The geometric mean can be visualised as the side of an hypercube of hyper-area equal to the product of the elements.\n",
    "\n",
    "Occasionally, the geometric mean is also referred to as the log-average as, for positive real numbers it corresponds to the exponential value of the arithmetic mean of logarithms:\n",
    "\n",
    "\\begin{equation}\n",
    "  {\\rm GM} = \\left( \\prod_{i=1}^{N} x_i \\right)^{\\frac{1}{N}} = \\exp \\left[ \\frac{1}{N} \\sum_{i=1}^{N} \\ln x_i \\right]\n",
    "\\end{equation}\n",
    "\n",
    "_**Note: When the geometric mean of a large number of elements is to be calculated, it is generally more numerically stable to use the logarithmic expression.**_\n",
    "\n",
    "_Example application 1:_ As we shall see later in this course, this property is particularly useful in Bayesian statistics for computing likelihood and posterior probabilities.\n",
    "\n",
    "_Example application 2:_ Another implicit use of the geometric mean is if you fit a straight line to data in the log-log space (i.e. fitting a power-law relationship: $y = A x^\\beta$)."
   ]
  },
  {
   "cell_type": "markdown",
   "metadata": {},
   "source": [
    "<div class=\"example\">Example 1</div>\n",
    "\n",
    "With the above dataset. The geometric mean is:\n",
    "\n",
    "\\begin{equation}\n",
    "  {\\rm GM} = \\left( 4 \\cdot 1 \\cdot 3 \\dots \\cdot 2 \\right)^{1/15} = 3.795\n",
    "\\end{equation}"
   ]
  },
  {
   "cell_type": "code",
   "execution_count": 5,
   "metadata": {},
   "outputs": [
    {
     "name": "stdout",
     "output_type": "stream",
     "text": [
      "Example calculation in Python\n",
      "\n",
      "Geometric mean: 3.795\n"
     ]
    }
   ],
   "source": [
    "print('Example calculation in Python\\n')\n",
    "\n",
    "## Calculate the geometric mean\n",
    "m = np.product(x)**(1./x.size)\n",
    "\n",
    "print('Geometric mean: {:.3f}'.format(m))"
   ]
  },
  {
   "cell_type": "markdown",
   "metadata": {},
   "source": [
    "#### Harmonic mean\n",
    "\n",
    "The *harmonic mean* is the reciprocal of the arithmetic mean of the reciprocals:\n",
    "\n",
    "\\begin{equation}\n",
    "  H = \\frac{N}{\\sum_{i=1}^{N} \\frac{1}{x_i}}\n",
    "\\end{equation}\n",
    "\n",
    "The harmonic mean makes more sense for positive real numbers. By construction, the harmonic mean is dominated by the minimum of its arguments and is only little affected by changing some of the large values of the dataset. In fact, for positive real numbers the harmonic mean, H, is a Schur-concave function:\n",
    "\n",
    "\\begin{equation}\n",
    "  \\min(x_1,...,x_N) \\leq H \\leq N \\min(x_1,...,x_N) .\n",
    "\\end{equation}\n",
    "\n",
    "*Example application 1:* In physics the harmonic mean is particularly useful in situations involving rates and ratios. One example is that of a vehicle travelling a distance $d$ at a speed $v_1$ and then the same distance at a speed $v_2$. The true average speed of the vehicule can be found as the harmonic mean of $v_1$ and $v_2$. However, if the vehicule travel for a time $t$ at a speed $v_1$ and then the same time at a speed $v_2$, the true average is found using the arithmetic mean instead. (Source: [Wikipedia](https://en.wikipedia.org/wiki/Harmonic_mean))\n",
    "\n",
    "*Example application 2:* Similarly, the average resistance of a parallel circuit made of resistors is also found using the harmonic mean."
   ]
  },
  {
   "cell_type": "markdown",
   "metadata": {},
   "source": [
    "<div class=\"example\">Example 1</div>\n",
    "\n",
    "With the above dataset. The harmonic mean is:\n",
    "\n",
    "\\begin{equation}\n",
    "  H = \\frac{15}{\\left( 1/4 + 1/1 + 1/3 \\dots + 1/2 \\right)} = 3.205\n",
    "\\end{equation}"
   ]
  },
  {
   "cell_type": "code",
   "execution_count": 6,
   "metadata": {},
   "outputs": [
    {
     "name": "stdout",
     "output_type": "stream",
     "text": [
      "Example calculation in Python\n",
      "\n",
      "Harmonic mean: 3.205\n"
     ]
    }
   ],
   "source": [
    "print('Example calculation in Python\\n')\n",
    "\n",
    "## Calculate the harmonic mean\n",
    "m = x.size/np.sum(1./x)\n",
    "\n",
    "print('Harmonic mean: {:.3f}'.format(m))"
   ]
  },
  {
   "cell_type": "markdown",
   "metadata": {},
   "source": [
    "#### Root mean square\n",
    "\n",
    "The *root mean square* is the square root of the sum of the squares:\n",
    "\n",
    "\\begin{equation}\n",
    "  {\\rm RMS} = \\sqrt{\\frac{\\sum_{i=1}^{N} x_i^2}{N}}\n",
    "\\end{equation}\n",
    "\n",
    "*Example application 1:* The root mean square is useful to calculate the average value of quantities that oscillate over time, such as the average voltage of an AC circuit.\n",
    "\n",
    "*Example application 2:* In the same spirit as the previous example, the RMS would provide the average distance travelled by a particle subjected to Brownian motion."
   ]
  },
  {
   "cell_type": "markdown",
   "metadata": {},
   "source": [
    "<div class=\"example\">Example 1</div>\n",
    "\n",
    "With the above dataset. The root mean square is:\n",
    "\n",
    "\\begin{equation}\n",
    "  {\\rm RMS} = \\sqrt{\\frac{4^2 + 1^2 + 3^2 + \\dots + 2^2}{15}} = 0.949\n",
    "\\end{equation}"
   ]
  },
  {
   "cell_type": "code",
   "execution_count": 7,
   "metadata": {},
   "outputs": [
    {
     "name": "stdout",
     "output_type": "stream",
     "text": [
      "Example calculation in Python\n",
      "\n",
      "RMS: 4.810\n"
     ]
    }
   ],
   "source": [
    "print('Example calculation in Python\\n')\n",
    "\n",
    "## Calculate the RMS\n",
    "m = np.sqrt(np.sum(x**2)/x.size)\n",
    "\n",
    "print('RMS: {:.3f}'.format(m))"
   ]
  },
  {
   "cell_type": "markdown",
   "metadata": {},
   "source": [
    "#### Median\n",
    "\n",
    "The *median* is the value separating the upper half of a dataset from the lower half when it is ordered.\n",
    "\n",
    "- For a discrete dataset with an odd number of elements, the median is the middle value.\n",
    "- For a discrete dataset with an even number of elements, the median is defined as the average of the two middle values.\n",
    "- In a continuous distribution, the median is the value such that the probability of being above or below is equal.\n",
    "\n",
    "The median is an extremely useful quantity when analysing data containing outliers or extremes values (e.g. a heavy tail) as it is a much more robust (i.e. less biased) method of estimating the central value of a distribution.\n",
    "\n",
    "Computationally, using the median comes at a cost: it requires the ordering of elements in a dataset and as such can be much slower than the mean.\n",
    "\n",
    "*Example application:* The median household income is a much better indicator of the wealth of a population than the mean household income as there is a handful of extremely rich people but a lot of very poor people."
   ]
  },
  {
   "cell_type": "markdown",
   "metadata": {},
   "source": [
    "<div class=\"example\">Example 1</div>\n",
    "\n",
    "With the above dataset. The sorted dataset is:\n",
    "\n",
    "x = {1, 2, 2, 3, 3, 4, 4, 4, 4, 4, 5, 6, 7, 7, 9}\n",
    "\n",
    "There are 15 elements, so it is an odd number. The middle value is 4. So:\n",
    "\n",
    "median = 4"
   ]
  },
  {
   "cell_type": "code",
   "execution_count": 8,
   "metadata": {},
   "outputs": [
    {
     "name": "stdout",
     "output_type": "stream",
     "text": [
      "Example calculation in Python\n",
      "\n",
      "Median: 4.0\n"
     ]
    }
   ],
   "source": [
    "print('Example calculation in Python\\n')\n",
    "\n",
    "## Calculate the median\n",
    "m = np.median(x)\n",
    "\n",
    "print('Median: {}'.format(m))"
   ]
  },
  {
   "cell_type": "markdown",
   "metadata": {},
   "source": [
    "<div class=\"example\">Example 2</div>\n",
    "\n",
    "What would be the median of this sorted dataset?\n",
    "\n",
    "a = {1,3,4,5,7,8}\n",
    "\n",
    "Answer: 4.5 (i.e. the average of 4 and 5 due to the even number of elements in it)"
   ]
  },
  {
   "cell_type": "markdown",
   "metadata": {},
   "source": [
    "<div class=\"example\">Example 3</div>\n",
    "\n",
    "For a distribution given by $f(x) = \\sin x$ in the interval $x \\in [0,\\pi]$, the median would be found as following.\n",
    "\n",
    "Probability of $f(x)$ under the interval:\n",
    "\n",
    "\\begin{equation}\n",
    "    \\int_0^\\pi \\sin x \\, {\\rm d}x = -\\cos x \\, \\Big|_0^\\pi = 2\n",
    "\\end{equation}\n",
    "\n",
    "Therefore, the median is the value of $x_{\\rm med}$ such that:\n",
    "\n",
    "\\begin{eqnarray}\n",
    "    \\int_0^{x_{\\rm med}} \\sin x \\, {\\rm d}x &=& 2 / 2 \\\\\n",
    "    -\\cos x_{\\rm med} + 1 &=& 1 \\\\\n",
    "    x_{\\rm med} &=& \\pi/2\n",
    "\\end{eqnarray}\n",
    "\n"
   ]
  },
  {
   "cell_type": "markdown",
   "metadata": {},
   "source": [
    "#### Mode\n",
    "\n",
    "The *mode* of a discrete dataset is the value that appears most often. In other words, it is the value at which the probability distribution reaches a maximum. A dataset or distribution containing one mode is said unimodal, whereas one with multiple mode is called multimodal.\n",
    "\n",
    "- For an analytic distribution, one can find the mode(s) by finding the value at which the gradient of the function is equal to zero\n",
    "- For non-analytic distributions, the mode is not always easy to calcultate. It can be found by looking at an histogram, though the binning my influence the answer. In a continuous unimodal distribution the median often lies between the mode and arithmetic mean. Consequently, a good approximation for the mode was found by Karl Pearson: mode $\\approx$ 3 $\\times$ median - 2 $\\times$ mean. Note that this is not always the case.\n",
    "\n",
    "*Example application:* Given that the mode is the most likely value of a distribution, it is particularly useful in quantum mechanics as the figure of merit to describe, say, the most likely position of an electron around a nucleus."
   ]
  },
  {
   "cell_type": "markdown",
   "metadata": {},
   "source": [
    "<div class=\"example\">Example 1</div>\n",
    "\n",
    "With the above dataset. Looking at the histogram above, we can see that the distribution peaks at a value of 4.\n",
    "\n",
    "If, instead, we were to use Pearson's approximation, we would get:\n",
    "\n",
    "\\begin{equation}\n",
    "    3 \\cdot 4.0 - 2 \\cdot 4.33 = 3.33\n",
    "\\end{equation}"
   ]
  },
  {
   "cell_type": "code",
   "execution_count": 9,
   "metadata": {
    "scrolled": true
   },
   "outputs": [
    {
     "name": "stdout",
     "output_type": "stream",
     "text": [
      "Example calculation in Python\n",
      "\n",
      "Mode: 4\n"
     ]
    }
   ],
   "source": [
    "print('Example calculation in Python\\n')\n",
    "\n",
    "## Calculate the mode\n",
    "from scipy import stats\n",
    "m = stats.mode(x)\n",
    "print('Mode: {}'.format(m[0][0]))"
   ]
  },
  {
   "cell_type": "markdown",
   "metadata": {},
   "source": [
    "<div class=\"example\">Example 2</div>\n",
    "\n",
    "For a distribution given by $f(x) = \\sin x$ in the interval $x \\in [0,\\pi]$, the mode is the value of $x_{\\rm mod}$ such that:\n",
    "\n",
    "\\begin{eqnarray}\n",
    "    \\frac{\\partial \\sin x}{\\partial x} \\Big|_{x_{\\rm mod}} &=& 0 \\\\\n",
    "    x_{\\rm mod} = \\pi/2\n",
    "\\end{eqnarray}"
   ]
  },
  {
   "cell_type": "markdown",
   "metadata": {},
   "source": [
    "Below is a comparison of the arithmetic mean, median and mode for two distributions having the same median.\n",
    "\n",
    "<img src=\"images/Comparison_mean_median_mode.svg\" width=\"50%\">\n",
    "\n",
    "(Source: [Cmglee](https://commons.wikimedia.org/wiki/User:Cmglee), [Comparison mean median mode](https://commons.wikimedia.org/wiki/File:Comparison_mean_median_mode.svg), [CC BY-SA 3.0](https://creativecommons.org/licenses/by-sa/3.0/legalcode))"
   ]
  },
  {
   "cell_type": "markdown",
   "metadata": {},
   "source": [
    "### 1.2.3 Measures of dispersion\n",
    "\n",
    "Another extremely useful way to characterise a dataset or distribution is by using a measure of its dispersion (or spread)."
   ]
  },
  {
   "cell_type": "markdown",
   "metadata": {},
   "source": [
    "#### Variance and standard deviation\n",
    "\n",
    "The *variance* is probably the best known indicator of dispersion. It is defined as:\n",
    "\n",
    "\\begin{equation}\n",
    "  V(x) = \\frac{1}{N} \\sum_{i=1}^N (x_i - \\mu)^2 \\,,\n",
    "\\end{equation}\n",
    "\n",
    "where $\\mu$ is the true mean of the distribution.\n",
    "\n",
    "The variance characterises the spread in the distribution, however it has unit of $[x_i]^2$ which is not the most useful representation of the data. Instead, it is often more appropriate to use the *standard deviation*:\n",
    "\n",
    "\\begin{equation}\n",
    "  \\sigma = \\sqrt{V(x)} = \\sqrt{ \\frac{1}{N} \\sum_{i=1}^N (x_i - \\mu)^2 } \\,.\n",
    "\\end{equation}\n",
    "\n",
    "In many situations, the true mean of the distribution is unknown and so one needs to calculate the mean from the sample dataset itself using the arithmetic mean, $\\langle x \\rangle$. We therefore distinguish between the **population variance**, $V(x)$ (above), and the **sample variance**, $s^2$ (below), depending on how the mean is calculated. Therefore:\n",
    "\n",
    "\\begin{equation}\n",
    "  s^2_{\\rm uncorr} = \\frac{1}{N} \\sum_{i=1}^N (x_i - \\langle x \\rangle)^2 \\,.\n",
    "\\end{equation}\n",
    "\n",
    "Without going into the details at this point we shall note that when the mean is calculated from the sample dataset, it is more common to normalise by a factor $N-1$ instead of $N$ to account for the bias in calculating the mean from the sample. Hence:\n",
    "\n",
    "\\begin{equation}\n",
    "  s^2_{\\rm corr} = \\frac{1}{N-1} \\sum_{i=1}^N (x_i - \\langle x \\rangle)^2 \\,.\n",
    "\\end{equation}\n",
    "\n",
    "This previous definition with the $N-1$ factor is often called the **corrected/unbiased sample variance**, as opposed to the previous form with the $N$ factor which is called the **uncorrected/biased sample variance**. The same applies to the sample standard deviation, which is simply the square root of the sample variance, $s$.\n",
    "\n",
    "_**Note: In most practical cases it is impossible to determine the true mean of the population, which means that the sample variance is often the default choice. Always make sure that you know which definition someone or a computer programme uses.**_"
   ]
  },
  {
   "cell_type": "markdown",
   "metadata": {},
   "source": [
    "<div class=\"example\">Example 1</div>\n",
    "\n",
    "With the above dataset. Without showing the full details:\n",
    "\n",
    "\\begin{equation}\n",
    "    s^2_{\\rm uncorr} = 4.356\n",
    "\\end{equation}\n",
    "\n",
    "\\begin{equation}\n",
    "    s^2_{\\rm corr} = 4.667\n",
    "\\end{equation}"
   ]
  },
  {
   "cell_type": "code",
   "execution_count": 10,
   "metadata": {
    "scrolled": true
   },
   "outputs": [
    {
     "name": "stdout",
     "output_type": "stream",
     "text": [
      "Example calculation in Python\n",
      "\n",
      "Uncorrected sample variance (slow): 4.356\n",
      "Uncorrected sample variance (fast): 4.356\n",
      "\n",
      "Corrected sample variance (slow): 4.667\n",
      "\n",
      "Uncorrected sample standard deviation: 2.087\n"
     ]
    }
   ],
   "source": [
    "print('Example calculation in Python\\n')\n",
    "\n",
    "## Calculate the uncorrected variance, the slow way\n",
    "m = np.mean(x)\n",
    "var = np.sum((x-m)**2) / x.size\n",
    "print('Uncorrected sample variance (slow): {:.3f}'.format(var))\n",
    "\n",
    "## Calculate the uncorrected variance, the fast way\n",
    "var = np.var(x)\n",
    "print('Uncorrected sample variance (fast): {:.3f}'.format(var))\n",
    "print('')\n",
    "\n",
    "## Calculate the corrected variance, the slow way\n",
    "m = np.mean(x)\n",
    "var = np.sum((x-m)**2) / (x.size-1)\n",
    "print('Corrected sample variance (slow): {:.3f}'.format(var))\n",
    "print('')\n",
    "\n",
    "## Calculate the corrected standard deviation, the fast way\n",
    "std = np.std(x)\n",
    "print('Uncorrected sample standard deviation: {:.3f}'.format(std))"
   ]
  },
  {
   "cell_type": "markdown",
   "metadata": {},
   "source": [
    "#### Mean absolute deviation\n",
    "\n",
    "Another common measure of dispersion is the *mean absolute deviation*:\n",
    "\n",
    "\\begin{equation}\n",
    "  {\\rm MAD} = \\frac{1}{N} \\sum_{i=1}^N \\left| x_i - \\langle x \\rangle \\right|\n",
    "\\end{equation}\n",
    "\n",
    "This measure can be more robust to outliers than the standard deviation. On the other hand, analytical work involving absolute values (especially in differential calculus) is more complicated (as one needs to consider both the positive and negative scenario).\n",
    "\n",
    "A similar measure is the *median absolute deviation* (also known as MAD), which is the absolute difference from the median instead of the mean."
   ]
  },
  {
   "cell_type": "markdown",
   "metadata": {},
   "source": [
    "<div class=\"example\">Example 1</div>\n",
    "\n",
    "With the above dataset. The mean absolute deviation is:\n",
    "\n",
    "\\begin{equation}\n",
    "  {\\rm MAD} = \\frac{1}{15} \\left( \\left| 4 - 4.33 \\right| + \\left| 1 - 4.33 \\right| + \\dots + \\left| 2 - 4.33 \\right| \\right)\n",
    "\\end{equation}"
   ]
  },
  {
   "cell_type": "code",
   "execution_count": 11,
   "metadata": {},
   "outputs": [
    {
     "name": "stdout",
     "output_type": "stream",
     "text": [
      "Example calculation in Python\n",
      "\n",
      "Mean absolute deviation: 1.644\n"
     ]
    }
   ],
   "source": [
    "print('Example calculation in Python\\n')\n",
    "\n",
    "## Calculate the mean absolute deviation\n",
    "s = np.sum(np.abs(x - np.mean(x))) / x.size\n",
    "print('Mean absolute deviation: {:.3f}'.format(s))"
   ]
  },
  {
   "cell_type": "markdown",
   "metadata": {},
   "source": [
    "### 1.2.4 Other indicators\n",
    "\n",
    "There are other single value indicators that can help characterise a distribution or a dataset. The *skewness* and *kurtosis* (defined below) are often seen as not very useful. However, they can prove to be useful quantities in the field of machine learning, for instances, as 'features' that can enable to classify populations."
   ]
  },
  {
   "cell_type": "markdown",
   "metadata": {},
   "source": [
    "#### Skewness\n",
    "\n",
    "The *skewness* measures the asymmetry of a distribution. It is also known as the third standardised moment:\n",
    "\n",
    "\\begin{equation}\n",
    "  \\gamma = \\frac{1}{\\sigma^3} \\langle \\left(x_i - \\langle x \\rangle \\right)^3 \\rangle = \\frac{1}{N \\sigma^3} \\sum_{i=1}^N (x_i - \\langle x \\rangle)^3\n",
    "\\end{equation}\n",
    "\n",
    "For a unimodal distribution a negative skew implies that the tail to the left is longer than the tail to the right, whereas a positive skew displays the opposite behaviour as showed in the picture below.\n",
    "\n",
    "<img src=\"images/Negative_and_positive_skew_diagrams_(English).svg\" width=\"75%\">\n",
    "\n",
    "(Source: [Rodolfo Hermans (Godot)](https://en.wikipedia.org/wiki/User:Rodolfo_Hermans), [Negative and positive skew diagrams (English)](https://commons.wikimedia.org/wiki/File:Negative_and_positive_skew_diagrams_%28English%29.svg), [CC BY-SA 3.0](https://creativecommons.org/licenses/by-sa/3.0/legalcode))"
   ]
  },
  {
   "cell_type": "markdown",
   "metadata": {},
   "source": [
    "<div class=\"example\">Example 1</div>\n",
    "\n",
    "With the above dataset. Without showing the full details:\n",
    "\n",
    "\\begin{equation}\n",
    "    \\gamma = 0.566\n",
    "\\end{equation}"
   ]
  },
  {
   "cell_type": "code",
   "execution_count": 12,
   "metadata": {},
   "outputs": [
    {
     "name": "stdout",
     "output_type": "stream",
     "text": [
      "Example calculation in Python\n",
      "\n",
      "Skewness (slow): 0.566\n",
      "Skewness (fast): 0.566\n"
     ]
    }
   ],
   "source": [
    "print('Example calculation in Python\\n')\n",
    "\n",
    "## Calculate the skewness, the slow way\n",
    "m = np.mean(x)\n",
    "skew = np.sum((x-m)**3) / x.size / np.std(x)**3\n",
    "print('Skewness (slow): {:.3f}'.format(skew))\n",
    "\n",
    "## Calculate the skewness, the fast way\n",
    "skew = scipy.stats.skew(x)\n",
    "print('Skewness (fast): {:.3f}'.format(skew))"
   ]
  },
  {
   "cell_type": "markdown",
   "metadata": {},
   "source": [
    "#### Kurtosis\n",
    "\n",
    "The *kurtosis* measures the 'tailedness' of a distribution. It is derived from the fourth standardised moment:\n",
    "\n",
    "\\begin{equation}\n",
    "  \\kappa = \\frac{1}{\\sigma^4} \\langle \\left(x_i - \\langle x \\rangle \\right)^4 \\rangle - 3 = \\frac{1}{N \\sigma^4} \\sum_{i=1}^N (x_i - \\langle x \\rangle)^4 - 3\n",
    "\\end{equation}\n",
    "\n",
    "The minus three factor ensures that the kurtosis is defined as 0 for a Gaussian distribution. For a unimodal distribution resembling the Gaussian distribution, a positive kurtosis implies that the probability of the distribution is more concentrated around the mean. Conversely, a negative kurtosis implies that the probability is more spread in the tails.\n",
    "\n",
    "<img src=\"images/Standard_symmetric_pdfs.png\" width=\"50%\">\n",
    "\n",
    "(Source: [MarkSweep](https://commons.wikimedia.org/wiki/User:MarkSweep), [Standard symmetric pdfs](https://commons.wikimedia.org/wiki/File:Standard_symmetric_pdfs.png), [Wikimedia Commons](https://commons.wikimedia.org/wiki/Template:PD-self))"
   ]
  },
  {
   "cell_type": "markdown",
   "metadata": {},
   "source": [
    "<div class=\"example\">Example 1</div>\n",
    "\n",
    "With the above dataset. Without showing the full details:\n",
    "\n",
    "\\begin{equation}\n",
    "    \\kappa = -0.286\n",
    "\\end{equation}"
   ]
  },
  {
   "cell_type": "code",
   "execution_count": 13,
   "metadata": {},
   "outputs": [
    {
     "name": "stdout",
     "output_type": "stream",
     "text": [
      "Example calculation in Python\n",
      "\n",
      "Kurtosis: -0.286\n"
     ]
    }
   ],
   "source": [
    "print('Example calculation in Python\\n')\n",
    "\n",
    "## Calculate the kurtosis\n",
    "kurtosis = scipy.stats.kurtosis(x)\n",
    "print('Kurtosis: {:.3f}'.format(kurtosis))"
   ]
  },
  {
   "cell_type": "markdown",
   "metadata": {},
   "source": [
    "### 1.2.5 Multiple variables\n",
    "\n",
    "So far the quantities that we have considered are defined on a single dimension. In many data science applications, datasets will comprise more than one type of variable (i.e. it will be multi-dimensional). In which case, it is useful to look at how some key measures can be generalised."
   ]
  },
  {
   "cell_type": "code",
   "execution_count": 14,
   "metadata": {},
   "outputs": [
    {
     "name": "stdout",
     "output_type": "stream",
     "text": [
      "Example dataset\n",
      "x = { 0.0, -1.9, -0.4, -1.4, -2.0,  1.9, -1.7,  1.2, -1.5,  0.6, -1.3, -1.5, -0.1, -0.6,  0.1}\n",
      "y = {-2.0, -1.2, -0.2, -1.1, -1.5,  1.5, -1.2,  0.4, -1.7, -0.8, -0.3, -1.0,  0.3, -0.9,  0.0}\n",
      "z = { 1.1,  0.6, -0.1, -0.5,  1.7,  0.1,  0.5, -2.2,  1.6,  0.7,  0.5, -0.1,  1.0, -0.3, -0.4}\n"
     ]
    },
    {
     "data": {
      "image/png": "[encoded data removed]",
      "text/plain": [
       "<Figure size 1152x432 with 2 Axes>"
      ]
     },
     "metadata": {
      "needs_background": "light"
     },
     "output_type": "display_data"
    }
   ],
   "source": [
    "## Define a set of data\n",
    "#tmp = np.random.multivariate_normal([0.,0.], [[1.,0.7],[0.7,1.]], size=15)\n",
    "#x, y = np.round(tmp, 1).T\n",
    "#z = np.random.normal(size=15)\n",
    "#z = np.round(z, 1)\n",
    "x = np.array([ 0.0, -1.9, -0.4, -1.4, -2.0, 1.9, -1.7,  1.2, -1.5,  0.6, -1.3, -1.5, -0.1, -0.6, 0.1])\n",
    "y = np.array([-2.0, -1.2, -0.2, -1.1, -1.5, 1.5, -1.2,  0.4, -1.7, -0.8, -0.3, -1.0,  0.3, -0.9, 0.0])\n",
    "z = np.array([ 1.1,  0.6, -0.1, -0.5,  1.7, 0.1,  0.5, -2.2,  1.6,  0.7,  0.5, -0.1,  1.0, -0.3, -0.4])\n",
    "print('Example dataset')\n",
    "print('x = {' + ', '.join(['{: }'.format(xi) for xi in x]) + '}')\n",
    "print('y = {' + ', '.join(['{: }'.format(yi) for yi in y]) + '}')\n",
    "print('z = {' + ', '.join(['{: }'.format(zi) for zi in z]) + '}')\n",
    "\n",
    "fig,ax = plt.subplots(1, 2, figsize=[16,6])\n",
    "_ = ax[0].plot(x, y, '.')\n",
    "ax[0].set_xlabel('x')\n",
    "ax[0].set_ylabel('y')\n",
    "_ = ax[1].plot(x, z, '.')\n",
    "ax[1].set_xlabel('x')\n",
    "ax[1].set_ylabel('z');"
   ]
  },
  {
   "cell_type": "markdown",
   "metadata": {},
   "source": [
    "#### Covariance\n",
    "\n",
    "The *covariance* is the measure of the joint variability of two random variables. It is a extension of the concept of variance to two variables. Assuming the two random variables, $x$ and $y$, we defined the covariance as:\n",
    "\n",
    "\\begin{equation}\n",
    "  \\operatorname{cov}(x,y) = \\frac{1}{N} \\sum_{i=1}^N (x_i - \\langle x \\rangle)(y_i - \\langle y \\rangle)\n",
    "\\end{equation}\n",
    "\n",
    "_**Note: As for the variance, the covariance is also subjected to the same principle of population vs sample covariance depending on how the mean is calculated. Similarly, the sample covariance can use the uncorrected/biased ($1/N$) or the corrected/unbiased ($1/(N-1)$) definition of the pre-factor.**_"
   ]
  },
  {
   "cell_type": "markdown",
   "metadata": {},
   "source": [
    "<div class=\"example\">Example 1</div>\n",
    "\n",
    "For these datasets, we can calculate the following arithmetic means:\n",
    "\n",
    "\\begin{eqnarray}\n",
    "    && \\langle x \\rangle = -0.573 \\\\\n",
    "    && \\langle y \\rangle = -0.646 \\\\\n",
    "    && \\langle z \\rangle =  0.28\n",
    "\\end{eqnarray}\n",
    "\n",
    "Therefore:\n",
    "\n",
    "\\begin{eqnarray}\n",
    "  \\operatorname{cov}(x,y) &=& \\frac{1}{15} \\Big( (0+0.573)(-2+0.646) + (-1.9+0.573)(-1.2+0.646) + \\dots \\Big) \\\\\n",
    "  &=& 0.745\n",
    "\\end{eqnarray}\n",
    "\n",
    "\\begin{eqnarray}\n",
    "  \\operatorname{cov}(x,z) &=& -0.475\n",
    "\\end{eqnarray}\n",
    "\n",
    "\\begin{eqnarray}\n",
    "  \\operatorname{cov}(y,z) &=& -0.418\n",
    "\\end{eqnarray}"
   ]
  },
  {
   "cell_type": "code",
   "execution_count": 15,
   "metadata": {},
   "outputs": [
    {
     "name": "stdout",
     "output_type": "stream",
     "text": [
      "Example calculation in Python\n",
      "\n",
      "cov(x,y): 0.745\n",
      "cov(x,z): -0.475\n",
      "cov(y,z): -0.418\n"
     ]
    }
   ],
   "source": [
    "print('Example calculation in Python\\n')\n",
    "\n",
    "## Calculating the covariance\n",
    "cov = np.sum((x-np.mean(x))*(y-np.mean(y))) / x.size\n",
    "print('cov(x,y): {:.3f}'.format(cov))\n",
    "cov = np.sum((x-np.mean(x))*(z-np.mean(z))) / x.size\n",
    "print('cov(x,z): {:.3f}'.format(cov))\n",
    "cov = np.sum((y-np.mean(y))*(z-np.mean(z))) / x.size\n",
    "print('cov(y,z): {:.3f}'.format(cov))"
   ]
  },
  {
   "cell_type": "markdown",
   "metadata": {},
   "source": [
    "#### Correlation\n",
    "\n",
    "The covariance is a useful measure but has dimensions of $[x][y]$, which are not always easy to conceptualise. By normalising the covariance using the standard deviations of $x$ and $y$, we can obtain a dimensionless quantity, the *correlation*, which is often more practical:\n",
    "\n",
    "\\begin{equation}\n",
    "  \\rho_{(x,y)} = \\frac{\\operatorname{cov}(x,y)}{\\sigma_x \\sigma_y}\n",
    "\\end{equation}\n",
    "\n",
    "The correlation is therefore a number between -1 and +1. If $\\rho = 0$, there is no correlation between x and y; that is, the two variables are completely independent. If $\\rho > 0$, larger (i.e. more positive) values of $x$ imply a tendency for $y$ value to also be larger. If $\\rho < 0$, larger values of $x$ will tend to go with smaller (i.e. more negative) values of $y$.\n",
    "\n",
    "_**Note: One must use a consistent definition of the covariance and standard deviation to calculate the correlation (i.e. either 'population' or 'sample'). In the latter case, the choice of the pre-factor (corrected or uncorrected) is irrelevant as it cancels out at the denominator and numerator.**_\n",
    "\n",
    "Below are examples of distributions, with the associated correlation coefficient. It is important to note that\n",
    "1. The correlation is not affected by the mean value of data points (i.e. it is translation invariant).\n",
    "2. The correlation reflects the coupling between the two quantities, but is independent of the slope due to the normalisation by the standard deviations (i.e. it is scale invariant). (Note the the middle figure has an undefined correlation due to $\\sigma_y = 0$.)\n",
    "3. The correlation does not capture nonlinear coupling between the parameters.\n",
    "\n",
    "<img src=\"images/1024px-Correlation_examples2.svg.png\" width=\"75%\">\n",
    "\n",
    "(Source: [DenisBoigelot](https://commons.wikimedia.org/wiki/User:DenisBoigelot), [Correlation examples2](https://commons.wikimedia.org/wiki/File:Correlation_examples2.svg), [CC0 1.0](https://creativecommons.org/publicdomain/zero/1.0/legalcode))"
   ]
  },
  {
   "cell_type": "markdown",
   "metadata": {},
   "source": [
    "<div class=\"example\">Example 1</div>\n",
    "\n",
    "With the above datasets.\n",
    "\n",
    "\\begin{eqnarray}\n",
    "    && \\sigma_x = 1.145 \\\\\n",
    "    && \\sigma_y = 0.896 \\\\\n",
    "    && \\sigma_z = 0.938\n",
    "\\end{eqnarray}\n",
    "\n",
    "(here we used the uncorrected sample standard deviation)\n",
    "\n",
    "Using the above results:\n",
    "\n",
    "\\begin{eqnarray}\n",
    "  \\rho_{(x,y)} &=& \\frac{0.745}{1.145 \\cdot 0.896} = 0.726 \\\\\n",
    "  \\rho_{(x,z)} &=& -0.443 \\\\\n",
    "  \\rho_{(y,z)} &=& -0.498\n",
    "\\end{eqnarray}"
   ]
  },
  {
   "cell_type": "code",
   "execution_count": 16,
   "metadata": {
    "scrolled": true
   },
   "outputs": [
    {
     "name": "stdout",
     "output_type": "stream",
     "text": [
      "Example calculation in Python\n",
      "\n",
      "Correlation x-y: 0.726\n",
      "Correlation x-z: -0.443\n",
      "Correlation y-z: -0.498\n"
     ]
    }
   ],
   "source": [
    "print('Example calculation in Python\\n')\n",
    "\n",
    "## Calculating the correlation\n",
    "cor = np.sum((x-np.mean(x))*(y-np.mean(y))) / x.size / np.std(x) / np.std(y)\n",
    "print('Correlation x-y: {:.3f}'.format(cor))\n",
    "cor = np.sum((x-np.mean(x))*(z-np.mean(z))) / x.size / np.std(x) / np.std(z)\n",
    "print('Correlation x-z: {:.3f}'.format(cor))\n",
    "cor = np.sum((y-np.mean(y))*(z-np.mean(z))) / y.size / np.std(y) / np.std(z)\n",
    "print('Correlation y-z: {:.3f}'.format(cor))"
   ]
  },
  {
   "cell_type": "markdown",
   "metadata": {},
   "source": [
    "#### Covariance matrix\n",
    "\n",
    "In the case of more than two dimensions involving variables $X_1$, $X_2$, ..., $X_n$, one can represent all possible combination of covariance in a matrix.\n",
    "\n",
    "\\begin{equation}\n",
    "  \\Sigma = \n",
    "  \\begin{bmatrix}\n",
    "    \\operatorname{cov}(X_1,X_1) & \\operatorname{cov}(X_1,X_2) & \\operatorname{cov}(X_1,X_3) & \\dots  & \\operatorname{cov}(X_1,X_n) \\\\\n",
    "    \\operatorname{cov}(X_2,X_1) & \\operatorname{cov}(X_2,X_2) & \\operatorname{cov}(X_2,X_3) & \\dots  & \\operatorname{cov}(X_2,X_n) \\\\\n",
    "    \\vdots       & \\vdots & \\vdots & \\ddots & \\vdots \\\\\n",
    "    \\operatorname{cov}(X_n,X_1) & \\operatorname{cov}(X_n,X_2) & \\operatorname{cov}(X_n,X_3) & \\dots  & \\operatorname{cov}(X_n,X_n)\n",
    "  \\end{bmatrix}\n",
    "\\end{equation}\n",
    "\n",
    "It is relevant to note that this matrix is always symmetric and positive-semidefinite."
   ]
  },
  {
   "cell_type": "markdown",
   "metadata": {},
   "source": [
    "<div class=\"example\">Example 1</div>\n",
    "\n",
    "With the above datasets {x, y, z}. We can simply write the covariance matrix using the previous calculations:\n",
    "\n",
    "\\begin{eqnarray}\n",
    "  \\Sigma &=& \n",
    "  \\begin{bmatrix}\n",
    "     \\sigma_x^2 & \\operatorname{cov}(x,y) & \\operatorname{cov}(x,z) \\\\\n",
    "     \\operatorname{cov}(y,x) & \\sigma_y^2 & \\operatorname{cov}(y,z) \\\\\n",
    "    \\operatorname{cov}(z,x) & \\operatorname{cov}(z,y) & \\sigma_z^2 \\\\\n",
    "  \\end{bmatrix} \\\\\n",
    "   &=& \n",
    "  \\begin{bmatrix}\n",
    "     1.311 &  0.745 & -0.475 \\\\\n",
    "     0.745 &  0.802 & -0.418 \\\\\n",
    "    -0.475 & -0.418 &  0.880 \\\\\n",
    "  \\end{bmatrix}\n",
    "\\end{eqnarray}"
   ]
  },
  {
   "cell_type": "code",
   "execution_count": 17,
   "metadata": {},
   "outputs": [
    {
     "name": "stdout",
     "output_type": "stream",
     "text": [
      "Example calculation in Python\n",
      "\n",
      "Covariance matrix: [[ 1.31128889  0.74524444 -0.47546667]\n",
      " [ 0.74524444  0.80248889 -0.41826667]\n",
      " [-0.47546667 -0.41826667  0.88026667]]\n"
     ]
    }
   ],
   "source": [
    "print('Example calculation in Python\\n')\n",
    "\n",
    "## Calculating the covariance matrix\n",
    "cov = np.cov([x, y, z], ddof=0)\n",
    "print('Covariance matrix: {}'.format(cov))"
   ]
  },
  {
   "cell_type": "markdown",
   "metadata": {},
   "source": [
    "### Case study: Correlation does not imply causation"
   ]
  },
  {
   "cell_type": "markdown",
   "metadata": {},
   "source": [
    "```\n",
    "In statistics, many statistical tests calculate correlations between variables and when two variables are found to be correlated, it is tempting to assume that this shows that one variable causes the other.\n",
    "```\n",
    "<div style=\"text-align: right\">(Source: <a href=\"https://en.wikipedia.org/wiki/Correlation_does_not_imply_causation\">Wikipedia</a>)</div>\n",
    "\n"
   ]
  },
  {
   "cell_type": "markdown",
   "metadata": {},
   "source": [
    "#### The ice cream and drowning classic\n",
    "\n",
    "*As ice cream sales increase, the rate of drowning deaths increases sharply.*\n",
    "\n",
    "*Therefore, ice cream consumption causes drowning.*\n",
    "\n",
    "<img src=\"images/Ice_Cream_and_Drowning_nolabels.png\" width=\"65%\">\n",
    "\n",
    "Of course, eating ice cream does not causes a higher risk of drowning. The example fails to recognise that more people are exposed to water-related activities in the hot summer months when they are also likely to eat ice cream. Here, the _two variables are correlated because they share a common cause_.\n",
    "\n",
    "The figure below provides crucial information about the hidden underlying link.\n",
    "\n",
    "<img src=\"images/Ice_Cream_and_Drowning_labels.png\" width=\"65%\">"
   ]
  },
  {
   "cell_type": "markdown",
   "metadata": {},
   "source": [
    "#### Predicting your course mark\n",
    "\n",
    "Here are data from the 2018 edition of PHYS 10792 Introduction to Data Science. There is a stricking correlation between the overall grade and the coursework grade.\n",
    "\n",
    "<img src=\"images/Assign_Exam.png\" width=\"50%\">\n",
    "\n",
    "Is there a causation between these two quantities? One could claim that this has to do with how 'good' your are academically. However...\n",
    "\n",
    "<img src=\"images/Grade_Missed.png\" width=\"50%\">\n",
    "\n",
    "The figure above shows a clear link between the overall grade and the number of missed assignments. It appears that how much you engage with the course has a strong influence on how well you do. This is a very important distinction as it has nothing to do, at least to first order, with your 'academic proficiency'."
   ]
  },
  {
   "cell_type": "markdown",
   "metadata": {},
   "source": [
    "Examples like the ice cream and drowning are everywhere and are a leading cause of 'bad science'. This is partly why we keep hearing about contradictory results in medical sciences (e.g. red wine makes you live longer vs wine reduces your life expectancy).\n",
    "\n",
    "For more information about the topic, please read:\n",
    "\n",
    "[Correlation does not imply causation](https://en.wikipedia.org/wiki/Correlation_does_not_imply_causation)\n",
    "\n",
    "[Adrian Thinnyun's Blog on Medium](https://medium.com/@athinnyun/lies-damned-lies-and-statistics-week-four-of-satellite-bootcamp-30661e77b8b8)"
   ]
  },
  {
   "cell_type": "markdown",
   "metadata": {},
   "source": [
    "<div class=\"well\" align=\"center\">\n",
    "    <div class=\"container-fluid\">\n",
    "        <div class=\"row\">\n",
    "            <div class=\"col-md-3\" align=\"center\">\n",
    "                <img align=\"center\" alt=\"Creative Commons License\" style=\"border-width:0\" src=\"https://i.creativecommons.org/l/by-nc-sa/4.0/88x31.png\" width=\"60%\">\n",
    "            </div>\n",
    "            <div class=\"col-md-8\">\n",
    "            This work is licensed under a <a href=\"http://creativecommons.org/licenses/by-nc-sa/4.0/\">Creative Commons Attribution-NonCommercial-ShareAlike 4.0 International License</a>).\n",
    "            </div>\n",
    "        </div>\n",
    "    </div>\n",
    "    <br>\n",
    "    <br>\n",
    "    <i>Note: The content of this Jupyter Notebook is provided for educational purposes only.</i>\n",
    "</div>"
   ]
  }
 ],
 "metadata": {
  "celltoolbar": "Raw Cell Format",
  "kernelspec": {
   "display_name": "Python 3",
   "language": "python",
   "name": "python3"
  },
  "language_info": {
   "codemirror_mode": {
    "name": "ipython",
    "version": 3
   },
   "file_extension": ".py",
   "mimetype": "text/x-python",
   "name": "python",
   "nbconvert_exporter": "python",
   "pygments_lexer": "ipython3",
   "version": "3.8.5"
  },
  "latex_envs": {
   "LaTeX_envs_menu_present": true,
   "autocomplete": true,
   "bibliofile": "biblio.bib",
   "cite_by": "apalike",
   "current_citInitial": 1,
   "eqLabelWithNumbers": true,
   "eqNumInitial": 1,
   "hotkeys": {
    "equation": "Ctrl-E",
    "itemize": "Ctrl-I"
   },
   "labels_anchors": false,
   "latex_user_defs": false,
   "report_style_numbering": false,
   "user_envs_cfg": false
  }
 },
 "nbformat": 4,
 "nbformat_minor": 4
}
